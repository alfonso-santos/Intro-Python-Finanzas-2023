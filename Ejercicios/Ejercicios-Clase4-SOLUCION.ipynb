{
 "cells": [
  {
   "cell_type": "markdown",
   "id": "d36e5411",
   "metadata": {},
   "source": [
    "# Ejercicios - Clase 4"
   ]
  },
  {
   "cell_type": "markdown",
   "id": "cba93d75",
   "metadata": {},
   "source": [
    "Ejercicios de los bloques de introducción a python. Bucles y condicionales\n",
    "\n",
    "**Versión**: 1.0\n",
    "\n",
    "**Fecha**: 13/10/2023"
   ]
  },
  {
   "cell_type": "markdown",
   "id": "60e4fe87",
   "metadata": {},
   "source": [
    "## Ejercicio 1"
   ]
  },
  {
   "cell_type": "markdown",
   "id": "63af7a99",
   "metadata": {},
   "source": [
    "Vamos a comprobar si un número `n` es primo o no."
   ]
  },
  {
   "cell_type": "code",
   "execution_count": 23,
   "id": "5baecdba",
   "metadata": {},
   "outputs": [
    {
     "name": "stdout",
     "output_type": "stream",
     "text": [
      " El número 8 no es primo\n"
     ]
    }
   ],
   "source": [
    "n = 8\n",
    "\n",
    "# TO-DO comprueba si un número es primo o no rellenando la variable es_primo\n",
    "es_primo = True\n",
    "for d in range(2, n//2):\n",
    "    if n%d == 0:\n",
    "        es_primo = False\n",
    "\n",
    "if es_primo:\n",
    "    print(\" El número {} es primo\".format(n))\n",
    "else:\n",
    "    print(\" El número {} no es primo\".format(n))"
   ]
  },
  {
   "cell_type": "markdown",
   "id": "06ddd099",
   "metadata": {},
   "source": [
    "Posibles respuestas:\n",
    "\n",
    "- El número 21 no es primo\n",
    "- El número 5 es primo\n",
    "- El número 2 es primo\n",
    "- El número 8 no es primo"
   ]
  },
  {
   "cell_type": "markdown",
   "id": "28d17416",
   "metadata": {},
   "source": [
    "## Ejercicio 2"
   ]
  },
  {
   "cell_type": "markdown",
   "id": "cd23195c",
   "metadata": {},
   "source": [
    "Vamos a calcular la `media` y la `desviación estándar` de un conjunto de números. Los números van a ser generados con una media y una desviación estándar conocidos, por lo que tiene que dar el mismo valor. Recordad las ecuaciones de la media y std:"
   ]
  },
  {
   "cell_type": "markdown",
   "id": "c3998ca8",
   "metadata": {},
   "source": [
    "$$\\mu = \\frac{\\sum_i^Nx_i}{N}$$\n",
    "\n",
    "$$\\sigma = \\sqrt{\\frac{\\sum_i^N(x_i - \\mu)^2}{N}}$$"
   ]
  },
  {
   "cell_type": "code",
   "execution_count": 17,
   "id": "1020e95c",
   "metadata": {},
   "outputs": [
    {
     "name": "stdout",
     "output_type": "stream",
     "text": [
      "Media esperada: 4.00\t\tStd esperada: 2.00\n",
      "Media real: 4.01\t\tStd real: 2.00\n"
     ]
    }
   ],
   "source": [
    "import random\n",
    "import math\n",
    "\n",
    "# Puedes cambiar estos valores para generar nuevas distribuciones\n",
    "media_teorica = 4.0\n",
    "desviacion_teorica = 2.0\n",
    "N = 10000\n",
    "\n",
    "# ¿Cómo funciona esta línea para generar números aleatorios con distribución normal?\n",
    "datos = [random.gauss(media_teorica, desviacion_teorica) for _ in range(N)]\n",
    "\n",
    "# TO-DO calcula la media y la std\n",
    "media = sum(datos) / N\n",
    "numerador = [(datos[i] - media)**2 for i in range(N)]\n",
    "std = math.sqrt(sum(numerador)/N)\n",
    "\n",
    "print(\"Media esperada: {:.2f}\\t\\tStd esperada: {:.2f}\".format(media_teorica, desviacion_teorica))\n",
    "print(\"Media real: {:.2f}\\t\\tStd real: {:.2f}\".format(media, std))"
   ]
  },
  {
   "cell_type": "markdown",
   "id": "cececcd7",
   "metadata": {},
   "source": [
    "## Ejercicio 3"
   ]
  },
  {
   "cell_type": "markdown",
   "id": "591f28f7",
   "metadata": {},
   "source": [
    "Vamos a crear el juego de la ruleta en un casino. Vamos a utilizar un diccionario para guardar las `apuestas`, donde la clave será el número al que apostamos y el valor será el dinero que apostamos. Además, permitiremos apostar todas las veces que queramos hasta que digamos que no. En el caso en que apostemos dos veces al mismo número, las apuestas deben sumarse.\n",
    "\n",
    "Una vez se hayan definido las apuestas, se mostrará por pantalla el listado de apuestas y el total apostado. Después se lanzará la bola de la ruleta y comprobaremos qué ha pasado. Recuerda que si has acertado, ganas 36 veces lo apostado por el número.\n",
    "\n"
   ]
  },
  {
   "cell_type": "code",
   "execution_count": 28,
   "id": "656eaa3e",
   "metadata": {},
   "outputs": [
    {
     "name": "stdout",
     "output_type": "stream",
     "text": [
      "Introduce el valor de tu apuesta: 10\n",
      "Introduce el número al que apuestas 10.00: 8\n",
      "Apuesta registrada. 10.00 al número 8\n",
      "¿Quieres seguir apostando? (S/N): S\n",
      "Introduce el valor de tu apuesta: 5\n",
      "Introduce el número al que apuestas 5.00: 4\n",
      "Apuesta registrada. 5.00 al número 4\n",
      "¿Quieres seguir apostando? (S/N): S\n",
      "Introduce el valor de tu apuesta: 5\n",
      "Introduce el número al que apuestas 5.00: 22\n",
      "Apuesta registrada. 5.00 al número 22\n",
      "¿Quieres seguir apostando? (S/N): S\n",
      "Introduce el valor de tu apuesta: 5\n",
      "Introduce el número al que apuestas 5.00: 8\n",
      "Apuesta registrada. 5.00 al número 8\n",
      "¿Quieres seguir apostando? (S/N): N\n",
      "\n",
      "No va más\n",
      "\n",
      "Listado de apuestas:\n",
      "{8: 15.0, 4: 5.0, 22: 5.0}\n",
      "Has apostado un total de 25.00\n",
      "\n",
      "La ruleta empieza a girar...\n",
      "Ha salido el número 6.\n",
      "ACIERTO! Has ganado 540.00. Por tanto, has recuperado 515.00\n",
      "Gracias por jugar. Hasta la próxima.\n"
     ]
    }
   ],
   "source": [
    "import random\n",
    "\n",
    "# TO-DO Define tus variables para guardar las apuestas\n",
    "apuestas = {}\n",
    "\n",
    "# TO-DO Construye el bucle para seguir apostando\n",
    "seguir_apostando = True\n",
    "while seguir_apostando:\n",
    "    # TO-DO pide el valor de la apuesta\n",
    "    apuesta = float(input(\"Introduce el valor de tu apuesta: \"))\n",
    "    \n",
    "    # TO-DO pide el valor del número al que apuestas\n",
    "    numero = int(input(\"Introduce el número al que apuestas {:.2f}: \".format(apuesta)))\n",
    "    \n",
    "    # TO-DO comprueba si ya has apostado a ese número antes y gestiónalo según el enunciado\n",
    "    if numero not in apuestas:\n",
    "        apuestas[numero] = apuesta\n",
    "    else:\n",
    "        apuestas[numero] += apuesta\n",
    "        \n",
    "    print(\"Apuesta registrada. {:.2f} al número {}\".format(apuesta, numero))\n",
    "    \n",
    "    # TO-DO pide la condición de salida para seguir apostando o no\n",
    "    respuesta = input(\"¿Quieres seguir apostando? (S/N): \")\n",
    "    if respuesta != \"S\":\n",
    "        seguir_apostando = False\n",
    "        print(\"\\nNo va más\")\n",
    "     \n",
    "print(\"\\nListado de apuestas:\")\n",
    "print(apuestas)\n",
    "\n",
    "# TO-DO calcula el total que se ha apostado\n",
    "total = sum([apuestas[n] for n in apuestas])\n",
    "print(\"Has apostado un total de {:.2f}\".format(total))\n",
    "\n",
    "print(\"\\nLa ruleta empieza a girar...\")\n",
    "\n",
    "# TO-DO calcula el valor de la ruleta\n",
    "ruleta = random.randint(0, 36)\n",
    "print(\"Ha salido el número {}.\".format(ruleta))\n",
    "\n",
    "# TO-DO gestiona si has acertado o no\n",
    "if ruleta in apuestas:\n",
    "    retorno = apuestas[ruleta] * 36\n",
    "    print(\"ACIERTO! Has ganado {:.2f}. Por tanto, has recuperado {:.2f}\".format(retorno, retorno - total))\n",
    "else:\n",
    "    print(\"FALLO! Has perdido {:.2f}\".format(total))\n",
    "\n",
    "print(\"Gracias por jugar. Hasta la próxima.\")"
   ]
  },
  {
   "cell_type": "markdown",
   "id": "c0479b4b",
   "metadata": {},
   "source": [
    "**Ejemplo de partida**\n",
    "\n",
    "```\n",
    "Introduce el valor de tu apuesta: 10\n",
    "Introduce el número al que apuestas 10.00: 8\n",
    "Apuesta registrada. 10.00 al número 8\n",
    "¿Quieres seguir apostando? (S/N): S\n",
    "Introduce el valor de tu apuesta: 5\n",
    "Introduce el número al que apuestas 5.00: 4\n",
    "Apuesta registrada. 5.00 al número 4\n",
    "¿Quieres seguir apostando? (S/N): S\n",
    "Introduce el valor de tu apuesta: 5\n",
    "Introduce el número al que apuestas 5.00: 22\n",
    "Apuesta registrada. 5.00 al número 22\n",
    "¿Quieres seguir apostando? (S/N): S\n",
    "Introduce el valor de tu apuesta: 5\n",
    "Introduce el número al que apuestas 5.00: 8\n",
    "Apuesta registrada. 5.00 al número 8\n",
    "¿Quieres seguir apostando? (S/N): N\n",
    "\n",
    "No va más\n",
    "\n",
    "Listado de apuestas:\n",
    "{8: 15.0, 4: 5.0, 22: 5.0}\n",
    "Has apostado un total de 25.00\n",
    "\n",
    "La ruleta empieza a girar...\n",
    "Ha salido el número 8.\n",
    "ACIERTO! Has ganado 540.00. Por tanto, has recuperado 515.00\n",
    "Gracias por jugar. Hasta la próxima.\n",
    "```"
   ]
  },
  {
   "cell_type": "code",
   "execution_count": null,
   "id": "adfc5ef8",
   "metadata": {},
   "outputs": [],
   "source": []
  }
 ],
 "metadata": {
  "kernelspec": {
   "display_name": "Python 3 (ipykernel)",
   "language": "python",
   "name": "python3"
  },
  "language_info": {
   "codemirror_mode": {
    "name": "ipython",
    "version": 3
   },
   "file_extension": ".py",
   "mimetype": "text/x-python",
   "name": "python",
   "nbconvert_exporter": "python",
   "pygments_lexer": "ipython3",
   "version": "3.11.4"
  }
 },
 "nbformat": 4,
 "nbformat_minor": 5
}
