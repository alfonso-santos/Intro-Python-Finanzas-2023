{
 "cells": [
  {
   "cell_type": "markdown",
   "id": "92fea1c6",
   "metadata": {},
   "source": [
    "# Desafíos de programación"
   ]
  },
  {
   "cell_type": "markdown",
   "id": "21eed5bd",
   "metadata": {},
   "source": [
    "Desafíos de programación en python.\n",
    "\n",
    "**Última versión**: 1.0\n",
    "\n",
    "**Fecha última versión**: 09/11/2023\n",
    "\n",
    "**Actualización 1.0** Desafíos de programación de diferente dificultad. Fecha: 09/11/2023"
   ]
  },
  {
   "cell_type": "markdown",
   "id": "cfb7a6bd",
   "metadata": {},
   "source": [
    "## Desafío 1: Juego de adivinación"
   ]
  },
  {
   "cell_type": "markdown",
   "id": "f950c1be",
   "metadata": {},
   "source": [
    "Vamos a programar un juego de adivinación. El programa recibirá un número entre 0 y 100 y el programa tendrá que adivinarlo en el menor número de pasos posible. Para ello, además de devolver el número tendrá que devolver también el número de pasos que ha necesitado para encontrarlo.\n",
    "\n",
    "Debes saber que este programa necesita como máximo $log_2(100) = 6.6439 \\rightarrow 6$ pasos. Si tu algoritmo tarda más, algo podrías mejorar. ¡Inténtalo!\n",
    "\n",
    "La función tendrá la siguiente cabecera: `adivina(n)`.\n",
    "\n",
    "**Nota**: Sed legales, si hacéis que vuestra función siempre devuelva 0 pasos el test pasará pero no tendrá gracia."
   ]
  },
  {
   "cell_type": "code",
   "execution_count": 2,
   "id": "90877912",
   "metadata": {},
   "outputs": [],
   "source": [
    "def adivina(n):\n",
    "    pass"
   ]
  },
  {
   "cell_type": "code",
   "execution_count": 2,
   "id": "e35811f8",
   "metadata": {},
   "outputs": [],
   "source": [
    "# Celda de test. Puedes añadir lo que quieras adicionalmente\n",
    "pasos_all = [6, 5, 6, 4, 5, 6, 3, 5, 6, 4, 5, 6, 2, 5, 6, 4, 5, 6, 3, 5, 6, 4, 6, 5, 6, 1, 5, 6, 4, 5, 6, 3, 5, 6, 4, 5, 6, 2, 5, 6, 4, 5, 6, 3, 5, 6, 4, 6, 5, 6, 0, 5, 6, 4, 5, 6, 3, 5, 6, 4, 5, 6, 2, 5, 6, 4, 5, 6, 3, 5, 6, 4, 6, 5, 6, 1, 5, 6, 4, 5, 6, 3, 5, 6, 4, 6, 5, 6, 2, 5, 6, 4, 5, 6, 3, 5, 6, 4, 6, 5, 6]\n",
    "for i in range(101):\n",
    "    numero, pasos = adivina(i)\n",
    "    assert numero == i, \"Error al adivinar el número \" + str(i)\n",
    "    assert pasos <= pasos_all[i], \"Error. Estás tardando más de lo esperado con el número \" + str(i)"
   ]
  },
  {
   "cell_type": "markdown",
   "id": "bf118b93",
   "metadata": {},
   "source": [
    "## Desafío 2: Saliendo de la crisis"
   ]
  },
  {
   "cell_type": "markdown",
   "id": "15e03b81",
   "metadata": {},
   "source": [
    "La abeja reina dijo hace unos cuantos meses que la colmena estaba por fin saliendo de la crisis. Ahora Maya quiere comprobar cómo de ciertas eran aquellas declaraciones, así que ha recopilado el histórico de distintos indicadores económicos desde el día de la declaración hasta hoy para ver si, efectivamente, todos ellos han ido creciendo día a día desde entonces.\n",
    "\n",
    "La entrada estará compuesta de distintos indicadores económicos en una lista que contiene N números positivos con los valores económicos medidos desde el día de la declaración de la abeja reina hasta el día de hoy. Por cada caso de prueba se dirá si según ese indicador la abeja reina tenía razón (True) o las cosas no están tan bien como ella cree (False).\n",
    "\n",
    "Define una función con la siguiente cabecera `saliendo_de_la_crisis(indicadores)` para que resuelva el problema."
   ]
  },
  {
   "cell_type": "code",
   "execution_count": 4,
   "id": "e0df4efe",
   "metadata": {},
   "outputs": [],
   "source": [
    "def saliendo_de_la_crisis(indicadores):\n",
    "    pass"
   ]
  },
  {
   "cell_type": "code",
   "execution_count": 5,
   "id": "7a3efd9c",
   "metadata": {},
   "outputs": [],
   "source": [
    "assert saliendo_de_la_crisis([1, 3, 6]) == True, \"Error en el test 1\"\n",
    "assert saliendo_de_la_crisis([1, 3, 2, 5]) == False, \"Error en el test 2\"\n",
    "assert saliendo_de_la_crisis([6, 6, 6]) == False, \"Error en el test 3\""
   ]
  },
  {
   "cell_type": "markdown",
   "id": "f39f4694",
   "metadata": {},
   "source": [
    "## Desafío 3: La máquina calculadora"
   ]
  },
  {
   "cell_type": "markdown",
   "id": "8ee794ff",
   "metadata": {},
   "source": [
    "A Javier le gusta la electrónica y cacharrear para construir máquinas que tengan cierto propósito. Ahora que su hijo Luis está aprendiendo a calcular le ha construido una máquina con un marcador, en el que aparecen cuatro dígitos y tres botones marcados con etiquetas +1, ∗2 y ÷3, que al ser pulsados actualizan el marcador realizando la operación correspondiente (sumar uno, multiplicar por dos o dividir entre tres). Como el marcador solamente tiene cuatro dígitos, las operaciones se realizan módulo 10.000 y la división es entera.\n",
    "\n",
    "<img src=\"https://aceptaelreto.com/pub/problems/v003/19/st/statements/images/maquina.jpg\" width=\"20%\">\n",
    "\n",
    "Luis ha entendido perfectamente el funcionamiento de la máquina y la utiliza para comprobar que los cálculos que hace mentalmente antes de pulsar un botón son correctos. Ahora Javier le ha retado con un juego: él configura el marcador para que aparezca un número concreto y le pide a Luis que consiga llegar a otro número pulsando los botones el menor número de veces.\n",
    "\n",
    "¿Puedes ayudarles calculando cuál es el menor número de pulsaciones que hay que realizar para conseguir que aparezca el número final a partir del original?\n",
    "\n",
    "Define la función `cuenta_operaciones(ini, fin)` que cuente el número de operaciones necesarias para llegar desde `ini` hasta `fin`."
   ]
  },
  {
   "cell_type": "code",
   "execution_count": 25,
   "id": "1e196ce8",
   "metadata": {},
   "outputs": [],
   "source": [
    "def cuenta_operaciones(ini, fin):\n",
    "    pass"
   ]
  },
  {
   "cell_type": "code",
   "execution_count": 29,
   "id": "a1922687",
   "metadata": {},
   "outputs": [],
   "source": [
    "assert cuenta_operaciones(0, 1024) == 11, \"Error en el test 1\"\n",
    "assert cuenta_operaciones(5000, 0) == 1, \"Error en el test 2\"\n",
    "assert cuenta_operaciones(9999, 6666) == 2, \"Error en el test 3\"\n",
    "assert cuenta_operaciones(235, 4566) == 14, \"Error en el test 4\""
   ]
  },
  {
   "cell_type": "markdown",
   "id": "cf6e474f",
   "metadata": {},
   "source": [
    "## Desafío 4: Fin de mes"
   ]
  },
  {
   "cell_type": "markdown",
   "id": "b9767423",
   "metadata": {},
   "source": [
    "A mí no me asusta el fin del mundo; me asusta el fin de mes, porque no siempre consigo que mis ingresos lleguen conmigo. Los gastos se acumulan, y no sé qué más hacer para estirar mi triste sueldo.\n",
    "\n",
    "Creo que el primer paso para mejorar mi situación es hacer una estimación de lo bien o lo mal que me va a ir un mes, en función de los ingresos y los gastos previstos. Sé cuánto dinero tengo en el banco al principio, y sé cuánto va a variar. ¿Me ayudas a saber si llegaré a fin de mes con dinero en el banco?\n",
    "\n",
    "Define la función `fin_de_mes(saldo, cambio)`. La entrada contiene dos números, −10.000 ≤ s,c ≤ 10.000 indicando, respectivamente, el saldo en mi cuenta bancaria el primer día del mes, y el cambio estimado (ingresos menos gastos) durante el mes.\n",
    "\n",
    "La función devolverá `True` si llego a fin de mes con saldo mayor o igual que cero, y `False` en otro caso."
   ]
  },
  {
   "cell_type": "code",
   "execution_count": 30,
   "id": "f559b63b",
   "metadata": {},
   "outputs": [],
   "source": [
    "def fin_de_mes(saldo, cambio):\n",
    "    pass"
   ]
  },
  {
   "cell_type": "code",
   "execution_count": 31,
   "id": "b52ce247",
   "metadata": {},
   "outputs": [],
   "source": [
    "assert fin_de_mes(100, -10) == True, \"Error en el test 1\"\n",
    "assert fin_de_mes(-10, -100) == False, \"Error en el test 2\"\n",
    "assert fin_de_mes(-10, 100) == True, \"Error en el test 3\"\n",
    "assert fin_de_mes(100, -1000) == False, \"Error en el test 4\"\n",
    "assert fin_de_mes(100, 100) == True, \"Error en el test 5\""
   ]
  },
  {
   "cell_type": "markdown",
   "id": "8e510b7c",
   "metadata": {},
   "source": [
    "## Desafío 5: Temperaturas extremas"
   ]
  },
  {
   "cell_type": "markdown",
   "id": "3cfb6178",
   "metadata": {},
   "source": [
    "La Agencia Estatal de Meteorología (AEMET) actualiza diariamente el Banco Nacional de Datos Climatológicos, en el que se almacenan las observaciones climatológicas (precipitación y temperatura) realizadas en España desde hace unos 150 años.\n",
    "\n",
    "<img src=\"https://aceptaelreto.com/pub/problems/v003/14/st/statements/images/temperaturas.png\" width=\"40%\">\n",
    "\n",
    "Nuria está estudiando la relación entre la variabilidad de la temperatura y el estado hídrico del suelo en una región de secano en España. Para ello, acude al Banco y solicita los registros de temperaturas en dicha zona año a año desde que existen registros.\n",
    "\n",
    "En la primera fase de su estudio pretende determinar el número de picos y valles en las temperaturas en un determinado periodo de tiempo. Una temperatura se considera pico (resp. valle) en una secuencia cuando la anterior y la siguiente en la secuencia son estrictamente menores (resp. mayores).\n",
    "\n",
    "Cada caso de prueba se compone de la secuencia de temperaturas (números enteros entre −50 y 60 grados centígrados). Para cada caso de prueba, la función devolverá el número de picos y de valles.\n",
    "\n",
    "La cabecera de la función debe ser la siguiente: `temperaturas_extremas(temperaturas)`."
   ]
  },
  {
   "cell_type": "code",
   "execution_count": 34,
   "id": "cd7b92a8",
   "metadata": {},
   "outputs": [],
   "source": [
    "def temperaturas_extremas(temperaturas):\n",
    "    pass"
   ]
  },
  {
   "cell_type": "code",
   "execution_count": 38,
   "id": "f2b5e7a3",
   "metadata": {},
   "outputs": [],
   "source": [
    "assert temperaturas_extremas([7, 5, 3, 8, 9]) == (0, 1), \"Error en el test 1\"\n",
    "assert temperaturas_extremas([8, 9, 7, 6, 5, 3, 4, 2]) == (2, 1), \"Error en el test 2\"\n",
    "assert temperaturas_extremas([3, -5]) == (0, 0), \"Error en el test 3\"\n",
    "assert temperaturas_extremas([4, -1, 5, 3, 7, 7, 6, 8]) == (1, 3), \"Error en el test 4\"\n",
    "assert temperaturas_extremas([4, -1, 5, 3, 7, 7, 6, 6, 8, 5, 5]) == (2, 2), \"Error en el test 5\""
   ]
  },
  {
   "cell_type": "code",
   "execution_count": null,
   "id": "0f2c5016",
   "metadata": {},
   "outputs": [],
   "source": []
  }
 ],
 "metadata": {
  "kernelspec": {
   "display_name": "Python 3 (ipykernel)",
   "language": "python",
   "name": "python3"
  },
  "language_info": {
   "codemirror_mode": {
    "name": "ipython",
    "version": 3
   },
   "file_extension": ".py",
   "mimetype": "text/x-python",
   "name": "python",
   "nbconvert_exporter": "python",
   "pygments_lexer": "ipython3",
   "version": "3.11.5"
  }
 },
 "nbformat": 4,
 "nbformat_minor": 5
}
