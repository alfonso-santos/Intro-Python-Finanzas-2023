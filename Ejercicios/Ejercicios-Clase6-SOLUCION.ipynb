{
 "cells": [
  {
   "cell_type": "markdown",
   "id": "d36e5411",
   "metadata": {},
   "source": [
    "# Ejercicios - Clase 6"
   ]
  },
  {
   "cell_type": "markdown",
   "id": "cba93d75",
   "metadata": {},
   "source": [
    "Ejercicios de los bloques de introducción a python. Numpy\n",
    "\n",
    "**Versión**: 1.0\n",
    "\n",
    "**Fecha**: 21/10/2023"
   ]
  },
  {
   "cell_type": "markdown",
   "id": "47399824",
   "metadata": {},
   "source": [
    "En este notebook vamos a trabajar con dos conjuntos de datos (datasets), que han sido creado artificialmente para los ejercicios. Por ahora no debéis saber qué es Pandas, pero lo utilizaremos para leer el fichero en formato CSV, visualizarlo y luego pasarlo a Numpy, librería que sí conocemos. A fin de cuentas, leer un fichero CSV es lo mismo que gestionar una matriz de datos.\n",
    "\n",
    "El primer dataset define las ventas de los productos de una empresa. Incluye la fecha de venta, el ID del producto, el número de productos vendidos y el precio del producto vendido."
   ]
  },
  {
   "cell_type": "code",
   "execution_count": 1,
   "id": "972baf64",
   "metadata": {},
   "outputs": [],
   "source": [
    "import pandas as pd\n",
    "import numpy as np"
   ]
  },
  {
   "cell_type": "code",
   "execution_count": 2,
   "id": "5354da9a",
   "metadata": {},
   "outputs": [
    {
     "data": {
      "text/html": [
       "<div>\n",
       "<style scoped>\n",
       "    .dataframe tbody tr th:only-of-type {\n",
       "        vertical-align: middle;\n",
       "    }\n",
       "\n",
       "    .dataframe tbody tr th {\n",
       "        vertical-align: top;\n",
       "    }\n",
       "\n",
       "    .dataframe thead th {\n",
       "        text-align: right;\n",
       "    }\n",
       "</style>\n",
       "<table border=\"1\" class=\"dataframe\">\n",
       "  <thead>\n",
       "    <tr style=\"text-align: right;\">\n",
       "      <th></th>\n",
       "      <th>fecha</th>\n",
       "      <th>producto</th>\n",
       "      <th>productos_vendidos</th>\n",
       "      <th>precio_producto</th>\n",
       "    </tr>\n",
       "  </thead>\n",
       "  <tbody>\n",
       "    <tr>\n",
       "      <th>0</th>\n",
       "      <td>2006-01-18</td>\n",
       "      <td>15</td>\n",
       "      <td>4</td>\n",
       "      <td>13.53</td>\n",
       "    </tr>\n",
       "    <tr>\n",
       "      <th>1</th>\n",
       "      <td>2023-05-31</td>\n",
       "      <td>2</td>\n",
       "      <td>4</td>\n",
       "      <td>3.57</td>\n",
       "    </tr>\n",
       "    <tr>\n",
       "      <th>2</th>\n",
       "      <td>2007-08-01</td>\n",
       "      <td>13</td>\n",
       "      <td>2</td>\n",
       "      <td>1.78</td>\n",
       "    </tr>\n",
       "    <tr>\n",
       "      <th>3</th>\n",
       "      <td>2013-11-17</td>\n",
       "      <td>8</td>\n",
       "      <td>3</td>\n",
       "      <td>2.11</td>\n",
       "    </tr>\n",
       "    <tr>\n",
       "      <th>4</th>\n",
       "      <td>2010-12-01</td>\n",
       "      <td>18</td>\n",
       "      <td>3</td>\n",
       "      <td>26.59</td>\n",
       "    </tr>\n",
       "    <tr>\n",
       "      <th>...</th>\n",
       "      <td>...</td>\n",
       "      <td>...</td>\n",
       "      <td>...</td>\n",
       "      <td>...</td>\n",
       "    </tr>\n",
       "    <tr>\n",
       "      <th>99995</th>\n",
       "      <td>2003-12-23</td>\n",
       "      <td>17</td>\n",
       "      <td>2</td>\n",
       "      <td>23.49</td>\n",
       "    </tr>\n",
       "    <tr>\n",
       "      <th>99996</th>\n",
       "      <td>2008-04-01</td>\n",
       "      <td>15</td>\n",
       "      <td>1</td>\n",
       "      <td>13.53</td>\n",
       "    </tr>\n",
       "    <tr>\n",
       "      <th>99997</th>\n",
       "      <td>2004-06-09</td>\n",
       "      <td>8</td>\n",
       "      <td>4</td>\n",
       "      <td>2.11</td>\n",
       "    </tr>\n",
       "    <tr>\n",
       "      <th>99998</th>\n",
       "      <td>2017-10-09</td>\n",
       "      <td>13</td>\n",
       "      <td>2</td>\n",
       "      <td>1.78</td>\n",
       "    </tr>\n",
       "    <tr>\n",
       "      <th>99999</th>\n",
       "      <td>2012-06-27</td>\n",
       "      <td>10</td>\n",
       "      <td>1</td>\n",
       "      <td>3.35</td>\n",
       "    </tr>\n",
       "  </tbody>\n",
       "</table>\n",
       "<p>100000 rows × 4 columns</p>\n",
       "</div>"
      ],
      "text/plain": [
       "            fecha  producto  productos_vendidos  precio_producto\n",
       "0      2006-01-18        15                   4            13.53\n",
       "1      2023-05-31         2                   4             3.57\n",
       "2      2007-08-01        13                   2             1.78\n",
       "3      2013-11-17         8                   3             2.11\n",
       "4      2010-12-01        18                   3            26.59\n",
       "...           ...       ...                 ...              ...\n",
       "99995  2003-12-23        17                   2            23.49\n",
       "99996  2008-04-01        15                   1            13.53\n",
       "99997  2004-06-09         8                   4             2.11\n",
       "99998  2017-10-09        13                   2             1.78\n",
       "99999  2012-06-27        10                   1             3.35\n",
       "\n",
       "[100000 rows x 4 columns]"
      ]
     },
     "execution_count": 2,
     "metadata": {},
     "output_type": "execute_result"
    }
   ],
   "source": [
    "df = pd.read_csv('https://raw.githubusercontent.com/alfonso-santos/Intro-Python-Finanzas-2023/main/Ejercicios/datos/ventas_generadas.csv', index_col='Unnamed: 0')\n",
    "df"
   ]
  },
  {
   "cell_type": "code",
   "execution_count": 3,
   "id": "e8968437",
   "metadata": {},
   "outputs": [
    {
     "data": {
      "text/plain": [
       "(100000, 4)"
      ]
     },
     "execution_count": 3,
     "metadata": {},
     "output_type": "execute_result"
    }
   ],
   "source": [
    "datos = df.to_numpy()\n",
    "datos.shape"
   ]
  },
  {
   "cell_type": "markdown",
   "id": "60e4fe87",
   "metadata": {},
   "source": [
    "## Ejercicio 1"
   ]
  },
  {
   "cell_type": "markdown",
   "id": "351f76d1",
   "metadata": {},
   "source": [
    "Obtén el total de ventas del producto con ID 16 en el año 2008."
   ]
  },
  {
   "cell_type": "code",
   "execution_count": 4,
   "id": "b6ed08db",
   "metadata": {},
   "outputs": [
    {
     "data": {
      "text/html": [
       "<div>\n",
       "<style scoped>\n",
       "    .dataframe tbody tr th:only-of-type {\n",
       "        vertical-align: middle;\n",
       "    }\n",
       "\n",
       "    .dataframe tbody tr th {\n",
       "        vertical-align: top;\n",
       "    }\n",
       "\n",
       "    .dataframe thead th {\n",
       "        text-align: right;\n",
       "    }\n",
       "</style>\n",
       "<table border=\"1\" class=\"dataframe\">\n",
       "  <thead>\n",
       "    <tr style=\"text-align: right;\">\n",
       "      <th></th>\n",
       "      <th>fecha</th>\n",
       "      <th>producto</th>\n",
       "      <th>productos_vendidos</th>\n",
       "      <th>precio_producto</th>\n",
       "    </tr>\n",
       "  </thead>\n",
       "  <tbody>\n",
       "    <tr>\n",
       "      <th>66</th>\n",
       "      <td>2008-11-28</td>\n",
       "      <td>16</td>\n",
       "      <td>1</td>\n",
       "      <td>3.75</td>\n",
       "    </tr>\n",
       "    <tr>\n",
       "      <th>426</th>\n",
       "      <td>2008-10-23</td>\n",
       "      <td>16</td>\n",
       "      <td>3</td>\n",
       "      <td>3.75</td>\n",
       "    </tr>\n",
       "    <tr>\n",
       "      <th>486</th>\n",
       "      <td>2008-08-30</td>\n",
       "      <td>16</td>\n",
       "      <td>4</td>\n",
       "      <td>3.75</td>\n",
       "    </tr>\n",
       "    <tr>\n",
       "      <th>3234</th>\n",
       "      <td>2008-05-06</td>\n",
       "      <td>16</td>\n",
       "      <td>2</td>\n",
       "      <td>3.75</td>\n",
       "    </tr>\n",
       "    <tr>\n",
       "      <th>3726</th>\n",
       "      <td>2008-11-19</td>\n",
       "      <td>16</td>\n",
       "      <td>4</td>\n",
       "      <td>3.75</td>\n",
       "    </tr>\n",
       "    <tr>\n",
       "      <th>...</th>\n",
       "      <td>...</td>\n",
       "      <td>...</td>\n",
       "      <td>...</td>\n",
       "      <td>...</td>\n",
       "    </tr>\n",
       "    <tr>\n",
       "      <th>98751</th>\n",
       "      <td>2008-12-12</td>\n",
       "      <td>16</td>\n",
       "      <td>3</td>\n",
       "      <td>3.75</td>\n",
       "    </tr>\n",
       "    <tr>\n",
       "      <th>98925</th>\n",
       "      <td>2008-01-15</td>\n",
       "      <td>16</td>\n",
       "      <td>4</td>\n",
       "      <td>3.75</td>\n",
       "    </tr>\n",
       "    <tr>\n",
       "      <th>99051</th>\n",
       "      <td>2008-10-08</td>\n",
       "      <td>16</td>\n",
       "      <td>4</td>\n",
       "      <td>3.75</td>\n",
       "    </tr>\n",
       "    <tr>\n",
       "      <th>99075</th>\n",
       "      <td>2008-05-30</td>\n",
       "      <td>16</td>\n",
       "      <td>4</td>\n",
       "      <td>3.75</td>\n",
       "    </tr>\n",
       "    <tr>\n",
       "      <th>99501</th>\n",
       "      <td>2008-02-07</td>\n",
       "      <td>16</td>\n",
       "      <td>4</td>\n",
       "      <td>3.75</td>\n",
       "    </tr>\n",
       "  </tbody>\n",
       "</table>\n",
       "<p>209 rows × 4 columns</p>\n",
       "</div>"
      ],
      "text/plain": [
       "            fecha  producto  productos_vendidos  precio_producto\n",
       "66     2008-11-28        16                   1             3.75\n",
       "426    2008-10-23        16                   3             3.75\n",
       "486    2008-08-30        16                   4             3.75\n",
       "3234   2008-05-06        16                   2             3.75\n",
       "3726   2008-11-19        16                   4             3.75\n",
       "...           ...       ...                 ...              ...\n",
       "98751  2008-12-12        16                   3             3.75\n",
       "98925  2008-01-15        16                   4             3.75\n",
       "99051  2008-10-08        16                   4             3.75\n",
       "99075  2008-05-30        16                   4             3.75\n",
       "99501  2008-02-07        16                   4             3.75\n",
       "\n",
       "[209 rows x 4 columns]"
      ]
     },
     "execution_count": 4,
     "metadata": {},
     "output_type": "execute_result"
    }
   ],
   "source": [
    "id_producto = 16\n",
    "\n",
    "# TO-DO Primero, define los índices que quieres obtener\n",
    "# 1. Guarda en la variable indices_producto los índices del id_producto 16\n",
    "indices_producto = (datos[:, 1] == id_producto)\n",
    "# 2. Guarda en la variable indices_anno los índices del año 2008\n",
    "indices_anno = (datos[:, 0].astype(\"datetime64[Y]\") == np.datetime64(\"2008\"))\n",
    "# 3. Combina los índices entre booleanos.\n",
    "indices = indices_producto * indices_anno\n",
    "\n",
    "\n",
    "# Visualizamos los datos con pandas\n",
    "df[indices]"
   ]
  },
  {
   "cell_type": "code",
   "execution_count": 5,
   "id": "f716d0f8",
   "metadata": {},
   "outputs": [
    {
     "name": "stdout",
     "output_type": "stream",
     "text": [
      "(209, 4)\n",
      "El total de ventas del producto con ID 16 en 2008 es 542\n"
     ]
    }
   ],
   "source": [
    "# A partir de aquí, datos_ej1 contiene tu matriz con las filas que quieres procesar\n",
    "\n",
    "datos_ej1 = datos[indices]\n",
    "print(datos_ej1.shape)\n",
    "\n",
    "# TO-DO termina el resto del programa calculando el precio total de ventas\n",
    "ventas = datos_ej1[:, 2]\n",
    "ventas_total = ventas.sum()\n",
    "\n",
    "print(\"El total de ventas del producto con ID 16 en 2008 es {}\".format(ventas_total))"
   ]
  },
  {
   "cell_type": "markdown",
   "id": "93f3c938",
   "metadata": {},
   "source": [
    "Respuesta esperada:\n",
    "\n",
    "- El total de ventas del producto con ID 16 en 2008 es 542"
   ]
  },
  {
   "cell_type": "markdown",
   "id": "3a122700",
   "metadata": {},
   "source": [
    "## Ejercicio 2"
   ]
  },
  {
   "cell_type": "markdown",
   "id": "c8bf241d",
   "metadata": {},
   "source": [
    "Define una función que haga todo el proceso anterior de calcular el total de ventas de un producto determinado en un año específico. Completa la siguiente función:"
   ]
  },
  {
   "cell_type": "code",
   "execution_count": 6,
   "id": "aab72c5f",
   "metadata": {},
   "outputs": [],
   "source": [
    "def obtiene_total_ventas(datos, id_producto, anno):\n",
    "    # TO-DO completa la función\n",
    "    indices_producto = (datos[:, 1] == id_producto)\n",
    "    indices_anno = (datos[:, 0].astype(\"datetime64[Y]\") == np.datetime64(str(anno)))\n",
    "    indices = indices_producto * indices_anno\n",
    "    \n",
    "    datos = datos[indices]\n",
    "    ventas = datos[:, 2]\n",
    "    return ventas.sum()"
   ]
  },
  {
   "cell_type": "markdown",
   "id": "f3c78e5e",
   "metadata": {},
   "source": [
    "Imprime el ID del producto que más se ha vendido en cada año."
   ]
  },
  {
   "cell_type": "code",
   "execution_count": 7,
   "id": "0d20f757",
   "metadata": {},
   "outputs": [
    {
     "name": "stdout",
     "output_type": "stream",
     "text": [
      "En el año 2000 el producto con más ventas es 14\n",
      "En el año 2001 el producto con más ventas es 7\n",
      "En el año 2002 el producto con más ventas es 9\n",
      "En el año 2003 el producto con más ventas es 9\n",
      "En el año 2004 el producto con más ventas es 8\n",
      "En el año 2005 el producto con más ventas es 10\n",
      "En el año 2006 el producto con más ventas es 6\n",
      "En el año 2007 el producto con más ventas es 17\n",
      "En el año 2008 el producto con más ventas es 8\n",
      "En el año 2009 el producto con más ventas es 18\n",
      "En el año 2010 el producto con más ventas es 19\n",
      "En el año 2011 el producto con más ventas es 17\n",
      "En el año 2012 el producto con más ventas es 15\n",
      "En el año 2013 el producto con más ventas es 13\n",
      "En el año 2014 el producto con más ventas es 15\n",
      "En el año 2015 el producto con más ventas es 18\n",
      "En el año 2016 el producto con más ventas es 12\n",
      "En el año 2017 el producto con más ventas es 10\n",
      "En el año 2018 el producto con más ventas es 6\n",
      "En el año 2019 el producto con más ventas es 17\n",
      "En el año 2020 el producto con más ventas es 19\n",
      "En el año 2021 el producto con más ventas es 7\n",
      "En el año 2022 el producto con más ventas es 1\n",
      "En el año 2023 el producto con más ventas es 18\n"
     ]
    }
   ],
   "source": [
    "# Para que el código funcione, necesitas definir estas 2 variables:\n",
    "#   anno: El año que se está procesando en el bucle\n",
    "#   best_producto: El producto más vendido en el año correspondiente\n",
    "\n",
    "# TO-DO Para cada año, tienes que buscar el mayor número de ventas de cada producto\n",
    "for anno in np.unique(datos[:, 0].astype(\"datetime64[Y]\")):\n",
    "    best_ventas = 0\n",
    "    best_producto = -1\n",
    "    for id_producto in np.unique(datos[:, 1]):\n",
    "        ventas = obtiene_total_ventas(datos, id_producto, anno)\n",
    "        if best_ventas < ventas:\n",
    "            best_ventas = ventas\n",
    "            best_producto = id_producto\n",
    "    print(\"En el año {} el producto con más ventas es {}\".format(anno, best_producto))"
   ]
  },
  {
   "cell_type": "markdown",
   "id": "ff39931e",
   "metadata": {},
   "source": [
    "Respuesta esperada:\n",
    "\n",
    "```\n",
    "En el año 2000 el producto con más ventas es 14\n",
    "En el año 2001 el producto con más ventas es 7\n",
    "En el año 2002 el producto con más ventas es 9\n",
    "En el año 2003 el producto con más ventas es 9\n",
    "En el año 2004 el producto con más ventas es 8\n",
    "En el año 2005 el producto con más ventas es 10\n",
    "En el año 2006 el producto con más ventas es 6\n",
    "En el año 2007 el producto con más ventas es 17\n",
    "En el año 2008 el producto con más ventas es 8\n",
    "En el año 2009 el producto con más ventas es 18\n",
    "En el año 2010 el producto con más ventas es 19\n",
    "En el año 2011 el producto con más ventas es 17\n",
    "En el año 2012 el producto con más ventas es 15\n",
    "En el año 2013 el producto con más ventas es 13\n",
    "En el año 2014 el producto con más ventas es 15\n",
    "En el año 2015 el producto con más ventas es 18\n",
    "En el año 2016 el producto con más ventas es 12\n",
    "En el año 2017 el producto con más ventas es 10\n",
    "En el año 2018 el producto con más ventas es 6\n",
    "En el año 2019 el producto con más ventas es 17\n",
    "En el año 2020 el producto con más ventas es 19\n",
    "En el año 2021 el producto con más ventas es 7\n",
    "En el año 2022 el producto con más ventas es 1\n",
    "En el año 2023 el producto con más ventas es 18\n",
    "```"
   ]
  },
  {
   "cell_type": "markdown",
   "id": "6f14c83e",
   "metadata": {},
   "source": [
    "## Ejercicio 3"
   ]
  },
  {
   "cell_type": "markdown",
   "id": "af234ab0",
   "metadata": {},
   "source": [
    "Además del producto con más ventas, ahora tienes que calcular cuánto se ha ganado cada año con la venta del producto más vendido."
   ]
  },
  {
   "cell_type": "code",
   "execution_count": 8,
   "id": "dc5a443b",
   "metadata": {},
   "outputs": [
    {
     "name": "stdout",
     "output_type": "stream",
     "text": [
      "En el año 2000 el producto con más ventas es 14. Se han ganado 1567.98€\n",
      "En el año 2001 el producto con más ventas es 7. Se han ganado 15370.88€\n",
      "En el año 2002 el producto con más ventas es 9. Se han ganado 12753.00€\n",
      "En el año 2003 el producto con más ventas es 9. Se han ganado 12687.60€\n",
      "En el año 2004 el producto con más ventas es 8. Se han ganado 1297.65€\n",
      "En el año 2005 el producto con más ventas es 10. Se han ganado 2003.30€\n",
      "En el año 2006 el producto con más ventas es 6. Se han ganado 9329.92€\n",
      "En el año 2007 el producto con más ventas es 17. Se han ganado 13906.08€\n",
      "En el año 2008 el producto con más ventas es 8. Se han ganado 1314.53€\n",
      "En el año 2009 el producto con más ventas es 18. Se han ganado 15555.15€\n",
      "En el año 2010 el producto con más ventas es 19. Se han ganado 4527.09€\n",
      "En el año 2011 el producto con más ventas es 17. Se han ganado 14986.62€\n",
      "En el año 2012 el producto con más ventas es 15. Se han ganado 8483.31€\n",
      "En el año 2013 el producto con más ventas es 13. Se han ganado 1071.56€\n",
      "En el año 2014 el producto con más ventas es 15. Se han ganado 8090.94€\n",
      "En el año 2015 el producto con más ventas es 18. Se han ganado 15262.66€\n",
      "En el año 2016 el producto con más ventas es 12. Se han ganado 306.87€\n",
      "En el año 2017 el producto con más ventas es 10. Se han ganado 2103.80€\n",
      "En el año 2018 el producto con más ventas es 6. Se han ganado 9314.16€\n",
      "En el año 2019 el producto con más ventas es 17. Se han ganado 13083.93€\n",
      "En el año 2020 el producto con más ventas es 19. Se han ganado 4483.35€\n",
      "En el año 2021 el producto con más ventas es 7. Se han ganado 15607.76€\n",
      "En el año 2022 el producto con más ventas es 1. Se han ganado 13028.90€\n",
      "En el año 2023 el producto con más ventas es 18. Se han ganado 16166.72€\n"
     ]
    }
   ],
   "source": [
    "# Para que el código funcione, necesitas definir estas 3 variables:\n",
    "#   anno: El año que se está procesando en el bucle\n",
    "#   best_producto: El producto más vendido en el año correspondiente\n",
    "#   ganancia: El valor de vender ese producto N veces\n",
    "\n",
    "\n",
    "# TO-DO Construye un diccionario con el que puedas guardar el precio de cada producto\n",
    "precio_producto = {}\n",
    "for id_producto in np.unique(datos[:, 1]):\n",
    "    indices_producto = (datos[:, 1] == id_producto)\n",
    "    precio_producto[id_producto] = np.unique(datos[indices_producto, 3])[0]\n",
    "\n",
    "# TO-DO Para cada año, tienes que buscar el mayor número de ventas de cada producto\n",
    "#       Además, ahora tendrás que calcular el precio ganado por el mejor\n",
    "for anno in np.unique(datos[:, 0].astype(\"datetime64[Y]\")):\n",
    "    best_ventas = 0\n",
    "    best_producto = -1\n",
    "    for id_producto in np.unique(datos[:, 1]):\n",
    "        ventas = obtiene_total_ventas(datos, id_producto, anno)\n",
    "        if best_ventas < ventas:\n",
    "            best_ventas = ventas\n",
    "            best_producto = id_producto\n",
    "    ganancia = precio_producto[best_producto] * best_ventas\n",
    "    print(\"En el año {} el producto con más ventas es {}. Se han ganado {:.2f}€\".format(anno, best_producto, ganancia))"
   ]
  },
  {
   "cell_type": "markdown",
   "id": "7ea6fdb9",
   "metadata": {},
   "source": [
    "Respuesta esperada:\n",
    "\n",
    "```\n",
    "En el año 2000 el producto con más ventas es 14. Se han ganado 1567.98€\n",
    "En el año 2001 el producto con más ventas es 7. Se han ganado 15370.88€\n",
    "En el año 2002 el producto con más ventas es 9. Se han ganado 12753.00€\n",
    "En el año 2003 el producto con más ventas es 9. Se han ganado 12687.60€\n",
    "En el año 2004 el producto con más ventas es 8. Se han ganado 1297.65€\n",
    "En el año 2005 el producto con más ventas es 10. Se han ganado 2003.30€\n",
    "En el año 2006 el producto con más ventas es 6. Se han ganado 9329.92€\n",
    "En el año 2007 el producto con más ventas es 17. Se han ganado 13906.08€\n",
    "En el año 2008 el producto con más ventas es 8. Se han ganado 1314.53€\n",
    "En el año 2009 el producto con más ventas es 18. Se han ganado 15555.15€\n",
    "En el año 2010 el producto con más ventas es 19. Se han ganado 4527.09€\n",
    "En el año 2011 el producto con más ventas es 17. Se han ganado 14986.62€\n",
    "En el año 2012 el producto con más ventas es 15. Se han ganado 8483.31€\n",
    "En el año 2013 el producto con más ventas es 13. Se han ganado 1071.56€\n",
    "En el año 2014 el producto con más ventas es 15. Se han ganado 8090.94€\n",
    "En el año 2015 el producto con más ventas es 18. Se han ganado 15262.66€\n",
    "En el año 2016 el producto con más ventas es 12. Se han ganado 306.87€\n",
    "En el año 2017 el producto con más ventas es 10. Se han ganado 2103.80€\n",
    "En el año 2018 el producto con más ventas es 6. Se han ganado 9314.16€\n",
    "En el año 2019 el producto con más ventas es 17. Se han ganado 13083.93€\n",
    "En el año 2020 el producto con más ventas es 19. Se han ganado 4483.35€\n",
    "En el año 2021 el producto con más ventas es 7. Se han ganado 15607.76€\n",
    "En el año 2022 el producto con más ventas es 1. Se han ganado 13028.90€\n",
    "En el año 2023 el producto con más ventas es 18. Se han ganado 16166.72€\n",
    "```"
   ]
  },
  {
   "cell_type": "markdown",
   "id": "7d4d99a1",
   "metadata": {},
   "source": [
    "## Ejercicio 4"
   ]
  },
  {
   "cell_type": "markdown",
   "id": "a72492e7",
   "metadata": {},
   "source": [
    "Para este último ejercicio vamos a utilizar un segundo dataset, también creado artificialmente, que guarda los retornos de 10 activos a lo largo de 1000 días."
   ]
  },
  {
   "cell_type": "code",
   "execution_count": 9,
   "id": "bebfe73a",
   "metadata": {},
   "outputs": [
    {
     "data": {
      "text/plain": [
       "(1000, 10)"
      ]
     },
     "execution_count": 9,
     "metadata": {},
     "output_type": "execute_result"
    }
   ],
   "source": [
    "retornos = np.loadtxt('https://raw.githubusercontent.com/alfonso-santos/Intro-Python-Finanzas-2023/main/Ejercicios/datos/retornos_generados.csv', delimiter=',', skiprows=1)\n",
    "retornos.shape"
   ]
  },
  {
   "cell_type": "markdown",
   "id": "47038b87",
   "metadata": {},
   "source": [
    "El objetivo de este ejercicio consiste en definir de forma aleatoria los pesos de los activos de vuestra cartera. Luego, calcular el retorno global de la cartera y su volatilidad."
   ]
  },
  {
   "cell_type": "code",
   "execution_count": 10,
   "id": "24f710b5",
   "metadata": {},
   "outputs": [
    {
     "name": "stdout",
     "output_type": "stream",
     "text": [
      "[0.11142631 0.03403402 0.11809956 0.13836895 0.13935067 0.06496852\n",
      " 0.08726134 0.11111456 0.09192797 0.10344809]\n"
     ]
    }
   ],
   "source": [
    "n_activos = 10\n",
    "\n",
    "# Fijamos una semilla a un valor fijo para siempre obtener los mismos resultados\n",
    "np.random.seed(13)\n",
    "\n",
    "# TO-DO Utiliza np.random.rand para generar los pesos aleatorios de los activos. No te olvides de normalizarlos\n",
    "pesos = np.random.rand(n_activos)\n",
    "pesos /= pesos.sum()\n",
    "\n",
    "print(pesos)"
   ]
  },
  {
   "cell_type": "code",
   "execution_count": 11,
   "id": "e2703182",
   "metadata": {},
   "outputs": [
    {
     "name": "stdout",
     "output_type": "stream",
     "text": [
      "0.03411248935042933\n"
     ]
    }
   ],
   "source": [
    "# TO-DO Calcula el promedio de los retornos de cada activo\n",
    "retornos_medio = retornos.mean(axis=0) # (5)\n",
    "\n",
    "# TO-DO Calcula el retorno de la cartera.\n",
    "retorno_cartera = retornos_medio @ pesos.T * 252\n",
    "\n",
    "print(retorno_cartera)"
   ]
  },
  {
   "cell_type": "code",
   "execution_count": 12,
   "id": "813a0ca5",
   "metadata": {},
   "outputs": [
    {
     "name": "stdout",
     "output_type": "stream",
     "text": [
      "La rentabilidad de la cartera es 3.41% y la volatilidad es 2.90%\n"
     ]
    }
   ],
   "source": [
    "# TO-DO Utiliza np.cov para calcular la matriz de covarianzas, la necesitas para calcular la volatilidad\n",
    "covarianzas = np.cov(retornos.T)\n",
    "\n",
    "# TO-DO Calcula la varianza de tu cartera\n",
    "varianza = pesos.T @ covarianzas @ pesos\n",
    "\n",
    "# TO-DO Calcula la volatilidad de tu cartera\n",
    "volatilidad = np.sqrt(varianza)\n",
    "\n",
    "print(f\"La rentabilidad de la cartera es {retorno_cartera*100:.2f}% y la volatilidad es {volatilidad*np.sqrt(252)*100:.2f}%\")"
   ]
  },
  {
   "cell_type": "markdown",
   "id": "b841befd",
   "metadata": {},
   "source": [
    "Respuesta esperada fijando la semilla a 13:\n",
    "\n",
    "- La rentabilidad de la cartera es 3.41% y la volatilidad es 2.90%"
   ]
  },
  {
   "cell_type": "code",
   "execution_count": null,
   "id": "52e16124",
   "metadata": {},
   "outputs": [],
   "source": []
  }
 ],
 "metadata": {
  "kernelspec": {
   "display_name": "Python 3 (ipykernel)",
   "language": "python",
   "name": "python3"
  },
  "language_info": {
   "codemirror_mode": {
    "name": "ipython",
    "version": 3
   },
   "file_extension": ".py",
   "mimetype": "text/x-python",
   "name": "python",
   "nbconvert_exporter": "python",
   "pygments_lexer": "ipython3",
   "version": "3.11.5"
  }
 },
 "nbformat": 4,
 "nbformat_minor": 5
}
