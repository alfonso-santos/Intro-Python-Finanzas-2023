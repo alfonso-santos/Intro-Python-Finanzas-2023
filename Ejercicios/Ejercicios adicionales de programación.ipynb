{
 "cells": [
  {
   "cell_type": "markdown",
   "id": "47c9cacf",
   "metadata": {},
   "source": [
    "# Ejercicios adicionales de programación"
   ]
  },
  {
   "cell_type": "markdown",
   "id": "95c43c1a",
   "metadata": {},
   "source": [
    "Ejercicios adicionales del bloque de introducción a python.\n",
    "\n",
    "**Versión**: 1.0\n",
    "\n",
    "**Fecha**: 04/11/2023"
   ]
  },
  {
   "cell_type": "markdown",
   "id": "df352462",
   "metadata": {},
   "source": [
    "**IMPORTANTE**: No es válido añadir más imports de los que os damos en la siguiente celda. Esto es así ya que queremos que penséis como programar, no que utilicéis una librería específica que resuelva el problema."
   ]
  },
  {
   "cell_type": "code",
   "execution_count": null,
   "id": "107caf9b",
   "metadata": {},
   "outputs": [],
   "source": [
    "import math"
   ]
  },
  {
   "cell_type": "markdown",
   "id": "42d2edd2",
   "metadata": {},
   "source": [
    "## Ejercicio 1"
   ]
  },
  {
   "cell_type": "markdown",
   "id": "c80f1b5b",
   "metadata": {},
   "source": [
    "Crea una función que lea los coeficientes de una ecuación de segundo grado $ax^2 + bx + c = 0$ y calcule sus dos soluciones. Asume que la ecuación tiene soluciones reales. En el caso de ser una única solución doble, deberá devolver un único valor. Asegúrate de que redondeas el resultado a 4 decimales para evitar errores de precisión cuando los coeficientes `a`, `b`, o `c` son fracciones.\n",
    "\n",
    "La cabecera de la función será la siguiente: `resuelve_ecuacion_grado_2(a, b, c)`."
   ]
  },
  {
   "cell_type": "code",
   "execution_count": null,
   "id": "c5e492a7",
   "metadata": {},
   "outputs": [],
   "source": [
    "# TO-DO Completa la función\n",
    "def resuelve_ecuacion_grado_2(a, b, c):\n",
    "    pass"
   ]
  },
  {
   "cell_type": "code",
   "execution_count": null,
   "id": "f1bab4e6",
   "metadata": {},
   "outputs": [],
   "source": [
    "# Celda de test. Puedes añadir los que tu quieras adicionalmente\n",
    "assert resuelve_ecuacion_grado_2(1, -5, 6) == (3.0, 2.0), \"Error en el test 1\"\n",
    "assert resuelve_ecuacion_grado_2(2, -7, 3) == (3.0, 0.5), \"Error en el test 2\"\n",
    "assert resuelve_ecuacion_grado_2(-1, 7, -10) == (2.0, 5.0), \"Error en el test 3\"\n",
    "assert resuelve_ecuacion_grado_2(1, -2, 1) == 1.0, \"Error en el test 4\"\n",
    "assert resuelve_ecuacion_grado_2(1, -4, 4) == 2.0, \"Error en el test 5\"\n",
    "assert resuelve_ecuacion_grado_2(1, -7/6, 1/3) == (0.6667, 0.5), \"Error en el test 6\""
   ]
  },
  {
   "cell_type": "markdown",
   "id": "10814eca",
   "metadata": {},
   "source": [
    "## Ejercicio 2"
   ]
  },
  {
   "cell_type": "markdown",
   "id": "87720514",
   "metadata": {},
   "source": [
    "Crea una función que lea los coeficientes de un sistema de dos ecuaciones lineales con dos incógnitas y calcule su solución. Se supone que el sistema de ecuaciones es compatible determinado. Puedes resolverlo con el método que quieras (sustitución, igualación o reducción).\n",
    "\n",
    "$$ ax + by = c $$\n",
    "$$ dx + ey = f $$\n",
    "\n",
    "La cabecera de la función será la siguiente: `resuelve_sistema_ecuaciones(a, b, c, d, e, f)`."
   ]
  },
  {
   "cell_type": "code",
   "execution_count": null,
   "id": "c67106ca",
   "metadata": {},
   "outputs": [],
   "source": [
    "# TO-DO Completa la función\n",
    "def resuelve_sistema_ecuaciones(a, b, c, d, e, f):\n",
    "    pass"
   ]
  },
  {
   "cell_type": "code",
   "execution_count": null,
   "id": "a2577c47",
   "metadata": {},
   "outputs": [],
   "source": [
    "# Celda de test. Puedes añadir los que tu quieras adicionalmente\n",
    "assert resuelve_sistema_ecuaciones(5, 2, 1, -3, 3, 5) == (-0.3333, 1.3333), \"Error en el test 1\"\n",
    "assert resuelve_sistema_ecuaciones(2, 1, 6, 4, 3, 14) == (2, 2), \"Error en el test 2\"\n",
    "assert resuelve_sistema_ecuaciones(5, -2, 2, 1, 2, 2) == (0.6667, 0.6667), \"Error en el test 3\"\n",
    "assert resuelve_sistema_ecuaciones(5, -1, 3, -2, 4, -12) == (0, -3), \"Error en el test 4\"\n",
    "assert resuelve_sistema_ecuaciones(3, 5, 15, 2, -3, -9) == (0, 3), \"Error en el test 5\""
   ]
  },
  {
   "cell_type": "markdown",
   "id": "50165045",
   "metadata": {},
   "source": [
    "## Ejercicio 3"
   ]
  },
  {
   "cell_type": "markdown",
   "id": "1d5112fb",
   "metadata": {},
   "source": [
    "Define una función que nos calcule el cambio que debe dar la caja de un supermercado dado un precio y una cantidad de dinero pagada. La función nos dirá cuántas monedas deben darse como cambio de tal forma que el número total de monedas sea mínimo. Asegúrate de redondear siempre a 2 decimales para no entrar en posibles errores de precisión.\n",
    "\n",
    "La cabecera de la función será la siguiente: `calcula_cambio(precio, dinero)`."
   ]
  },
  {
   "cell_type": "code",
   "execution_count": null,
   "id": "4616c76d",
   "metadata": {},
   "outputs": [],
   "source": [
    "# TO-DO Completa la función\n",
    "def calcula_cambio(precio, dinero):\n",
    "    monedas = [2.0, 1.0, 0.5, 0.2, 0.1, 0.05, 0.02, 0.01]\n",
    "    cambio = {}\n",
    "    \n",
    "    pass"
   ]
  },
  {
   "cell_type": "code",
   "execution_count": null,
   "id": "78158d61",
   "metadata": {},
   "outputs": [],
   "source": [
    "# Celda de test. Puedes añadir los que tu quieras adicionalmente\n",
    "assert calcula_cambio(10.42, 15.0) == {2.0: 2, 0.5: 1, 0.05: 1, 0.02: 1, 0.01: 1}, \"Error en el test 1\"\n",
    "assert calcula_cambio(204.99, 210.0) == {2.0: 2, 1.0: 1, 0.01: 1}, \"Error en el test 2\"\n",
    "assert calcula_cambio(14.67, 20.0) == {2.0: 2, 1.0: 1, 0.2: 1, 0.1: 1, 0.02: 1, 0.01: 1}, \"Error en el test 3\""
   ]
  },
  {
   "cell_type": "markdown",
   "id": "6c676fe2",
   "metadata": {},
   "source": [
    "## Ejercicio 5"
   ]
  },
  {
   "cell_type": "markdown",
   "id": "197255a5",
   "metadata": {},
   "source": [
    "Define una función que calcule el máximo común divisor (MCD) entre dos números enteros.\n",
    "\n",
    "La cabecera de la función será la siguiente: `MCD(n1, n2)`."
   ]
  },
  {
   "cell_type": "code",
   "execution_count": null,
   "id": "beea2818",
   "metadata": {},
   "outputs": [],
   "source": [
    "# TO-DO Completa la función\n",
    "def MCD(n1, n2):\n",
    "    pass"
   ]
  },
  {
   "cell_type": "code",
   "execution_count": null,
   "id": "b1d82870",
   "metadata": {},
   "outputs": [],
   "source": [
    "# Celda de test. Puedes añadir los que tu quieras adicionalmente\n",
    "assert MCD(2, 4) == 2, \"Error en el test 1\"\n",
    "assert MCD(1342, 3454) == 22, \"Error en el test 2\"\n",
    "assert MCD(29, 71) == 1, \"Error en el test 3\"\n",
    "assert MCD(124552, 1438512) == 8, \"Error en el test 4\""
   ]
  },
  {
   "cell_type": "markdown",
   "id": "98581ff0",
   "metadata": {},
   "source": [
    "## Ejercicio 6"
   ]
  },
  {
   "cell_type": "markdown",
   "id": "8f6fe356",
   "metadata": {},
   "source": [
    "Escribe un programa que invierta números enteros positivos. Se entiende por invertir el dar la vuelta a los dígitos que componen el número (hallar su imagen especular), es decir, el inverso de 3952 es 2593.\n",
    "\n",
    "La cabecera de la función será la siguiente: `invertir(n)`."
   ]
  },
  {
   "cell_type": "code",
   "execution_count": null,
   "id": "457cde09",
   "metadata": {},
   "outputs": [],
   "source": [
    "# TO-DO Completa la función\n",
    "def invertir(n):\n",
    "    pass"
   ]
  },
  {
   "cell_type": "code",
   "execution_count": null,
   "id": "f650ee0a",
   "metadata": {},
   "outputs": [],
   "source": [
    "# Celda de test. Puedes añadir los que tu quieras adicionalmente\n",
    "assert invertir(42345) == 54324, \"Error en el test 1\"\n",
    "assert invertir(532) == 235, \"Error en el test 2\"\n",
    "assert invertir(11) == 11, \"Error en el test 3\"\n",
    "assert invertir(1324349) == 9434231, \"Error en el test 4\""
   ]
  },
  {
   "cell_type": "markdown",
   "id": "30c3276a",
   "metadata": {},
   "source": [
    "## Ejercicio 7"
   ]
  },
  {
   "cell_type": "markdown",
   "id": "77803908",
   "metadata": {},
   "source": [
    "Escribe una función que simplifique una fracción. Es recomendable haber resuelto el **ejercicio 5** y tener la función **MCD(n1, n2)** implementada. En el caso en que ya no tenga sentido seguir definiendo la fracción como tal, la función deberá devolver solamente el número real.\n",
    "\n",
    "La cabecera de la función será la siguiente: `simplifica_fraccion(numerador, denominador)`."
   ]
  },
  {
   "cell_type": "code",
   "execution_count": null,
   "id": "9f63963b",
   "metadata": {},
   "outputs": [],
   "source": [
    "# TO-DO Completa la función\n",
    "def simplifica_fraccion(numerador, denominador):\n",
    "    pass"
   ]
  },
  {
   "cell_type": "code",
   "execution_count": null,
   "id": "0a446e79",
   "metadata": {},
   "outputs": [],
   "source": [
    "# Celda de test. Puedes añadir los que tu quieras adicionalmente\n",
    "assert simplifica_fraccion(4, 10) == (2, 5), \"Error en el test 1\"\n",
    "assert simplifica_fraccion(3, 7) == (3, 7), \"Error en el test 2\"\n",
    "assert simplifica_fraccion(20, 5) == 4, \"Error en el test 3\"\n",
    "assert simplifica_fraccion(1234, 32) == (617, 16), \"Error en el test 4\""
   ]
  },
  {
   "cell_type": "markdown",
   "id": "e4c576ad",
   "metadata": {},
   "source": [
    "## Ejercicio 8"
   ]
  },
  {
   "cell_type": "markdown",
   "id": "9cf4374d",
   "metadata": {},
   "source": [
    "Habrás oído hablar de la historia de un poderoso sultán que deseaba recompensar a un siervo que le había prestado un gran servicio. Cuando el sultán le preguntó qué recompensa deseaba, el humilde siervo le señaló un tablero de ajedrez y solicitó simplemente 1 grano de trigo por la primera casilla, 2 por la segunda, 4 por la tercera, 8 por la siguiente y así sucesivamente. El sultán quedó sorprendido por la modesta petición. ¿Cuántos granos de trigo tuvo que entregar el sultán? Define una función que lo calcule.\n",
    "\n",
    "La cabecera de la función será la siguiente: `calcula_granos_trigo()`."
   ]
  },
  {
   "cell_type": "code",
   "execution_count": null,
   "id": "23888f17",
   "metadata": {},
   "outputs": [],
   "source": [
    "def calcula_granos_trigo():\n",
    "    pass"
   ]
  },
  {
   "cell_type": "code",
   "execution_count": null,
   "id": "bf3ce088",
   "metadata": {},
   "outputs": [],
   "source": [
    "assert calcula_granos_trigo() == 18446744073709551615, \"Error en el test 1\""
   ]
  },
  {
   "cell_type": "markdown",
   "id": "e3b4bdbb",
   "metadata": {},
   "source": [
    "La cosecha mundial de granos de trigo en un año es, aproximadamente, $4 · 10^{15}$. ¿Cuánto pidió el humilde siervo respecto a la estimación de la producción anual mundial expresada en granos? Define una función que lo calcule.\n",
    "\n",
    "La cabecera de la función será la siguiente: `relacion_produccion_anual()`."
   ]
  },
  {
   "cell_type": "code",
   "execution_count": null,
   "id": "cc31061d",
   "metadata": {},
   "outputs": [],
   "source": [
    "def relacion_produccion_anual():\n",
    "    pass"
   ]
  },
  {
   "cell_type": "code",
   "execution_count": null,
   "id": "1bfa81a4",
   "metadata": {},
   "outputs": [],
   "source": [
    "assert relacion_produccion_anual() == 4611.686018427388, \"Error en el test 1\""
   ]
  },
  {
   "cell_type": "markdown",
   "id": "96df69ff",
   "metadata": {},
   "source": [
    "Al final, no era tan humilde el siervo, ¿verdad?"
   ]
  }
 ],
 "metadata": {
  "kernelspec": {
   "display_name": "Python 3 (ipykernel)",
   "language": "python",
   "name": "python3"
  },
  "language_info": {
   "codemirror_mode": {
    "name": "ipython",
    "version": 3
   },
   "file_extension": ".py",
   "mimetype": "text/x-python",
   "name": "python",
   "nbconvert_exporter": "python",
   "pygments_lexer": "ipython3",
   "version": "3.11.4"
  }
 },
 "nbformat": 4,
 "nbformat_minor": 5
}
