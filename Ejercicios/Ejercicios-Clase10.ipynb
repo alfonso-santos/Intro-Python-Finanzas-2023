{
 "cells": [
  {
   "cell_type": "markdown",
   "id": "d36e5411",
   "metadata": {},
   "source": [
    "# Ejercicios - Clase 10"
   ]
  },
  {
   "cell_type": "markdown",
   "id": "cba93d75",
   "metadata": {},
   "source": [
    "Ejercicios de los bloques de introducción a python. Pandas III\n",
    "\n",
    "**Versión**: 1.0\n",
    "\n",
    "**Fecha**: 28/10/2023"
   ]
  },
  {
   "cell_type": "markdown",
   "id": "47399824",
   "metadata": {},
   "source": [
    "En este notebook vamos a trabajar con un dataset que vamos a generar en el propio notebook. Es un dataset sencillo donde entender los conceptos más complejos de Pandas."
   ]
  },
  {
   "cell_type": "code",
   "execution_count": null,
   "id": "972baf64",
   "metadata": {},
   "outputs": [],
   "source": [
    "import pandas as pd\n",
    "import numpy as np\n",
    "import matplotlib.pyplot as plt"
   ]
  },
  {
   "cell_type": "markdown",
   "id": "234c279f",
   "metadata": {},
   "source": [
    "## Generación del Dataset"
   ]
  },
  {
   "cell_type": "markdown",
   "id": "dd0f3668",
   "metadata": {},
   "source": [
    "En el dataset vamos a representar cuántas frutas de cada tipo se venden en una lista de ciudades. Para ello vamos a definir dos listas, `nombre_frutas` y `nombre_ciudades` con varias opciones para generar una tabla."
   ]
  },
  {
   "cell_type": "code",
   "execution_count": null,
   "id": "ab2dff68",
   "metadata": {},
   "outputs": [],
   "source": [
    "nombre_frutas = [\"Peras\", \"Manzanas\", \"Naranjas\", \"Platanos\", \"Kiwis\", \"Aguacates\", \"Melocotones\", \"Piñas\", \"Papayas\", \"Fresas\"]\n",
    "nombre_ciudades = [\"Madrid\", \"Barcelona\", \"Sevilla\", \"Burgos\", \"Segovia\", \"Cádiz\"]"
   ]
  },
  {
   "cell_type": "markdown",
   "id": "806bc6cc",
   "metadata": {},
   "source": [
    "Ahora, vamos a definir en otra lista, `habitantes`, el número de habitantes por ciudad (aproximado)."
   ]
  },
  {
   "cell_type": "code",
   "execution_count": null,
   "id": "9e13ac42",
   "metadata": {},
   "outputs": [],
   "source": [
    "habitantes = [3200000, 1600000, 700000, 200000, 50000, 120000]"
   ]
  },
  {
   "cell_type": "markdown",
   "id": "b0483b93",
   "metadata": {},
   "source": [
    "Nuestro dataset va a generar de forma aleatoria el número de frutas que comen por ciudad, considerando que un ciudadano solamente come un tipo de fruta."
   ]
  },
  {
   "cell_type": "code",
   "execution_count": null,
   "id": "ecda524e",
   "metadata": {},
   "outputs": [],
   "source": [
    "# Creamos el generador de números aleatorios\n",
    "rng = np.random.default_rng(42)\n",
    "\n",
    "# Creamos las probabilidades entre [0, 1) de que las frutas se coman en cada ciudad\n",
    "probs = rng.uniform(0, 1, size=(len(nombre_ciudades), len(nombre_frutas))) # (6,10)\n",
    "\n",
    "# Seleccionamos aleatoriamente las frutas que no se comen en cada ciudad\n",
    "i_zero = rng.choice(len(nombre_frutas), size=len(nombre_ciudades), replace=True) # (6,)\n",
    "probs[np.arange(len(nombre_ciudades)), i_zero] = 0 # (6,10)\n",
    "\n",
    "# Normalizamos las probabilidades para que sumen 1\n",
    "# keepdims=True => mantiene las dimensiones (6,1); keepdims=False => (6,)\n",
    "probs_normalizadas = probs / probs.sum(axis=1, keepdims=True) # (6,10) / (6,) = (6,10)\n",
    "\n",
    "# Las probabilidades normalizadas se pueden asumir como porcentajes\n",
    "consumo_frutas_por_ciudad = (probs_normalizadas * np.array(habitantes)[:, np.newaxis]).astype(int) # (6,10) * (6,1) = (6,10)\n",
    "\n",
    "# Sumamos los habitantes que no se han asignado por la conversión a int, a la última fruta\n",
    "consumo_frutas_por_ciudad[:, -1] += np.array(habitantes) - consumo_frutas_por_ciudad.sum(axis=1)"
   ]
  },
  {
   "cell_type": "markdown",
   "id": "04f21367",
   "metadata": {},
   "source": [
    "Para comprobar el cálculo anterior, hay que sumar por filas:"
   ]
  },
  {
   "cell_type": "code",
   "execution_count": null,
   "id": "cc4ca434",
   "metadata": {},
   "outputs": [],
   "source": [
    "np.all(consumo_frutas_por_ciudad.sum(axis=1) == habitantes)"
   ]
  },
  {
   "cell_type": "markdown",
   "id": "87f7848d",
   "metadata": {},
   "source": [
    "Por último, generamos el nuevo dataset con el consumo de cada tipo de fruta por ciudad."
   ]
  },
  {
   "cell_type": "code",
   "execution_count": null,
   "id": "e004bdd0",
   "metadata": {},
   "outputs": [],
   "source": [
    "pd.DataFrame(consumo_frutas_por_ciudad, index=nombre_ciudades, columns=nombre_frutas)"
   ]
  },
  {
   "cell_type": "code",
   "execution_count": null,
   "id": "304b5fd3",
   "metadata": {},
   "outputs": [],
   "source": [
    "dataframes = {}\n",
    "for i_ciudad, ciudad in enumerate(nombre_ciudades):\n",
    "    # 0, Madrid\n",
    "    # 1, Barcelona\n",
    "    # ...\n",
    "    df = pd.DataFrame(columns=[\"Fruta\", \"Consumo\"])\n",
    "    for i_fruta, fruta in enumerate(nombre_frutas):\n",
    "        # 0, Peras\n",
    "        # 1, Manzanas\n",
    "        # ...\n",
    "        if consumo_frutas_por_ciudad[i_ciudad, i_fruta] > 0:\n",
    "            # df.loc[0] = ['Peras', 421909]\n",
    "            # df.loc[1] = ['Manzanas', 239247]\n",
    "            # ...\n",
    "            df.loc[len(df)] = [fruta, consumo_frutas_por_ciudad[i_ciudad, i_fruta]]\n",
    "    dataframes[ciudad] = df"
   ]
  },
  {
   "cell_type": "markdown",
   "id": "16005a2d",
   "metadata": {},
   "source": [
    "Para obtener, por ejemplo, el consumo de la ciudad `Madrid`:"
   ]
  },
  {
   "cell_type": "code",
   "execution_count": null,
   "id": "1b75f6e3",
   "metadata": {},
   "outputs": [],
   "source": [
    "dataframes['Madrid']"
   ]
  },
  {
   "cell_type": "markdown",
   "id": "5b4be5c6",
   "metadata": {},
   "source": [
    "## Ejercicio 0"
   ]
  },
  {
   "cell_type": "markdown",
   "id": "225c8f82",
   "metadata": {},
   "source": [
    "Comprueba si es necesario realizar algún preprocesado de los tipos de datos del dataset."
   ]
  },
  {
   "cell_type": "code",
   "execution_count": null,
   "id": "df2fe133",
   "metadata": {},
   "outputs": [],
   "source": [
    "# TO-DO Realiza las comprobaciones necesarias\n"
   ]
  },
  {
   "cell_type": "markdown",
   "id": "dcb77ab3",
   "metadata": {},
   "source": [
    "## Ejercicio 1"
   ]
  },
  {
   "cell_type": "markdown",
   "id": "0ce3a1a6",
   "metadata": {},
   "source": [
    "Genera un único dataframe cuyas columnas sean `Ciudad`, `Fruta` y `Consumo` a partir de los dataframes originales."
   ]
  },
  {
   "cell_type": "code",
   "execution_count": null,
   "id": "6c4cc683",
   "metadata": {},
   "outputs": [],
   "source": [
    "# TO-DO Genera un dataframe nuevo que se llame df y procesa en un bucle cada uno de los dataframes de cada ciudad\n",
    "# para acabar con un dataset con 3 columnas: Ciudad, Fruta y Consumo\n",
    "# Para ello, probablemente vas a necesitar los métodos concat y el fillna\n",
    "df = pd.DataFrame()\n",
    "\n",
    "# TU CODIGO AQUI\n",
    "\n",
    "df.sample(5)"
   ]
  },
  {
   "cell_type": "markdown",
   "id": "6f34318a",
   "metadata": {},
   "source": [
    "## Ejercicio 2"
   ]
  },
  {
   "cell_type": "markdown",
   "id": "86471c97",
   "metadata": {},
   "source": [
    "Utilizando **pivotTable**, transforma el dataset que has generado en el ejercicio anterior para construir un dataset nuevo donde tengas como índice la ciudad y una columna por el consumo de cada fruta."
   ]
  },
  {
   "cell_type": "code",
   "execution_count": null,
   "id": "7678fec5",
   "metadata": {},
   "outputs": [],
   "source": [
    "# TO-DO Genera el dataframe df_pivot\n",
    "\n",
    "# TU CODIGO AQUi\n",
    "\n",
    "df_pivot"
   ]
  },
  {
   "cell_type": "markdown",
   "id": "9dd4cf20",
   "metadata": {},
   "source": [
    "Si el azar así lo ha querido, muy posiblemente tengas **NaN** en algunas celdas. Esto sucede por la manera en la que se han generado los valores de consumo de las tablas, ya que hemos forzado a que alguna fruta tenga un valor 0 en cada fila. Rellena los valores NaN con un valor coherente para este dataset."
   ]
  },
  {
   "cell_type": "code",
   "execution_count": null,
   "id": "796b8aed",
   "metadata": {},
   "outputs": [],
   "source": [
    "# TO-DO Rellena los valores NaN con un valor coherente para este dataset\n",
    "\n",
    "# TU CODIGO AQUI\n",
    "\n",
    "df_pivot"
   ]
  },
  {
   "cell_type": "markdown",
   "id": "1582c562",
   "metadata": {},
   "source": [
    "¿Por qué has tomado esa decisión?"
   ]
  },
  {
   "cell_type": "code",
   "execution_count": null,
   "id": "1f08364e",
   "metadata": {},
   "outputs": [],
   "source": [
    "# TO-DO Incluye tu respuesta en el comentario\n",
    "\"\"\"\n",
    "Lo lógico parece ser rellenar los NaN con 0 ya que no se ha generado ningún registro cuando no había consumo \n",
    "de esa fruta.\n",
    "\"\"\";"
   ]
  },
  {
   "cell_type": "markdown",
   "id": "5c8dc135",
   "metadata": {},
   "source": [
    "## Ejercicio 3"
   ]
  },
  {
   "cell_type": "markdown",
   "id": "1bc02aa0",
   "metadata": {},
   "source": [
    "Si volvemos a la forma en la que hemos generado los datos, vamos a visualizar de nuevo la matriz `consumo_frutas_por_ciudad`."
   ]
  },
  {
   "cell_type": "code",
   "execution_count": null,
   "id": "abd8614e",
   "metadata": {},
   "outputs": [],
   "source": [
    "consumo_frutas_por_ciudad"
   ]
  },
  {
   "cell_type": "markdown",
   "id": "334b5db9",
   "metadata": {},
   "source": [
    "Se parece a la pivotTable que hemos gneerado en el ejercicio anterior. De hecho, deben tener exactamente la misma información ya que representan lo mismo. Genera directamente un dataframe con la matriz `consumo_frutas_por_ciudad`."
   ]
  },
  {
   "cell_type": "code",
   "execution_count": null,
   "id": "e99a3996",
   "metadata": {},
   "outputs": [],
   "source": [
    "# TO-DO Genera un nuevo dataframe df a partir de la matriz consumo_frutas_por_ciudad\n",
    "\n",
    "# TU CODIGO AQUI\n",
    "\n",
    "df"
   ]
  },
  {
   "cell_type": "markdown",
   "id": "e85e823d",
   "metadata": {},
   "source": [
    "## Ejercicio 4"
   ]
  },
  {
   "cell_type": "markdown",
   "id": "c4add822",
   "metadata": {},
   "source": [
    "Obtén cierta información a partir del dataset:"
   ]
  },
  {
   "cell_type": "markdown",
   "id": "5292ebcd",
   "metadata": {},
   "source": [
    "**4.1** Las tres ciudades que más naranjas consumen respecto al total de su población."
   ]
  },
  {
   "cell_type": "code",
   "execution_count": null,
   "id": "d6002a3e",
   "metadata": {},
   "outputs": [],
   "source": [
    "# TO-DO Rellena esta celda para realizar el ejercicio\n",
    "\n",
    "# TU CODIGO AQUI"
   ]
  },
  {
   "cell_type": "markdown",
   "id": "7f3013fd",
   "metadata": {},
   "source": [
    "**4.2** Las tres ciudades con más equilibrio en el consumo de frutas. Para ello, podemos asumir que una ciudad con un consumo equilibrado es aquella que tiene una desviación estándar pequeña en comparación con el resto. En el caso extremo donde `std = 0` estaríamos hablando de que todas las frutas se consumen por igual."
   ]
  },
  {
   "cell_type": "code",
   "execution_count": null,
   "id": "cff41d1b",
   "metadata": {},
   "outputs": [],
   "source": [
    "# TO-DO Rellena esta celda para realizar el ejercicio\n",
    "\n",
    "# TU CODIGO AQUI"
   ]
  },
  {
   "cell_type": "markdown",
   "id": "fdf41ec7",
   "metadata": {},
   "source": [
    "Incluye el código para visualizar este mismo resultado con una figura de barras. En la figura se debe ver que las ciudades con menor std en la celda anterior son aquellas donde el consumo tiene menos \"picos\", es decir, es más uniforme en la población."
   ]
  },
  {
   "cell_type": "code",
   "execution_count": null,
   "id": "3175c7a8",
   "metadata": {},
   "outputs": [],
   "source": [
    "# TO-DO Rellena esta celda con un plot.bar() para visualizar el resultado\n",
    "\n",
    "# TU CODIGO AQUI"
   ]
  },
  {
   "cell_type": "code",
   "execution_count": null,
   "id": "5963aeb7",
   "metadata": {},
   "outputs": [],
   "source": []
  }
 ],
 "metadata": {
  "kernelspec": {
   "display_name": "Python 3 (ipykernel)",
   "language": "python",
   "name": "python3"
  },
  "language_info": {
   "codemirror_mode": {
    "name": "ipython",
    "version": 3
   },
   "file_extension": ".py",
   "mimetype": "text/x-python",
   "name": "python",
   "nbconvert_exporter": "python",
   "pygments_lexer": "ipython3",
   "version": "3.11.4"
  }
 },
 "nbformat": 4,
 "nbformat_minor": 5
}
