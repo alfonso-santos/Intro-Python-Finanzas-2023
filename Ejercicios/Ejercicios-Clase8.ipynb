{
 "cells": [
  {
   "cell_type": "markdown",
   "id": "d36e5411",
   "metadata": {},
   "source": [
    "# Ejercicios - Clase 8"
   ]
  },
  {
   "cell_type": "markdown",
   "id": "cba93d75",
   "metadata": {},
   "source": [
    "Ejercicios de los bloques de introducción a python. Pandas\n",
    "\n",
    "**Versión**: 1.0\n",
    "\n",
    "**Fecha**: 21/10/2023"
   ]
  },
  {
   "cell_type": "markdown",
   "id": "47399824",
   "metadata": {},
   "source": [
    "En este notebook vamos a seguir trabajando con el mismo conjunto de datos (dataset) creado artificialmente para los ejercicios. Los ejercicios de esta semana consisten en repetir el proceso de análisis que hicimos en la clase 6 con numpy, pero esta vez con Pandas."
   ]
  },
  {
   "cell_type": "code",
   "execution_count": null,
   "id": "972baf64",
   "metadata": {},
   "outputs": [],
   "source": [
    "import pandas as pd\n",
    "import numpy as np"
   ]
  },
  {
   "cell_type": "code",
   "execution_count": null,
   "id": "5354da9a",
   "metadata": {},
   "outputs": [],
   "source": [
    "df = pd.read_csv('https://raw.githubusercontent.com/alfonso-santos/Intro-Python-Finanzas-2023/main/Ejercicios/datos/ventas_generadas.csv', index_col='Unnamed: 0')\n",
    "df"
   ]
  },
  {
   "cell_type": "markdown",
   "id": "ce4c979d",
   "metadata": {},
   "source": [
    "Vamos a hacer un preprocesado adicional para indicar los tipos de las columnas."
   ]
  },
  {
   "cell_type": "code",
   "execution_count": null,
   "id": "b3108d82",
   "metadata": {},
   "outputs": [],
   "source": [
    "# Como podemos ver, fecha no es de tipo Datetime, sino object. Hay que cambiarlo antes de empezar\n",
    "df.info()"
   ]
  },
  {
   "cell_type": "code",
   "execution_count": null,
   "id": "c7a0368d",
   "metadata": {},
   "outputs": [],
   "source": [
    "# Con esta celda estamos indicando que la columna fecha tenga formato datetime\n",
    "df['fecha'] = pd.to_datetime(df['fecha'])"
   ]
  },
  {
   "cell_type": "code",
   "execution_count": null,
   "id": "f6554b05",
   "metadata": {},
   "outputs": [],
   "source": [
    "# Ahora sí, fecha tiene dtype datetime64\n",
    "df.info()"
   ]
  },
  {
   "cell_type": "code",
   "execution_count": null,
   "id": "5ef00140",
   "metadata": {},
   "outputs": [],
   "source": [
    "# Si volvemos a ver el dataframe, vemos que en aspecto no ha cambiado nada.\n",
    "df"
   ]
  },
  {
   "cell_type": "code",
   "execution_count": null,
   "id": "d2479f87",
   "metadata": {},
   "outputs": [],
   "source": [
    "# ¿Y si ahora separo la fecha en tres columnas: year, month y day para simplificar las cosas?\n",
    "df['year'] = df['fecha'].dt.strftime('%Y').astype(int)\n",
    "df['month'] = df['fecha'].dt.strftime(\"%m\").astype(int)\n",
    "df['day'] = df['fecha'].dt.strftime(\"%d\").astype(int)"
   ]
  },
  {
   "cell_type": "code",
   "execution_count": null,
   "id": "e13426e6",
   "metadata": {},
   "outputs": [],
   "source": [
    "# Veamos el aspecto del dataframe\n",
    "df"
   ]
  },
  {
   "cell_type": "markdown",
   "id": "60e4fe87",
   "metadata": {},
   "source": [
    "## Ejercicio 1"
   ]
  },
  {
   "cell_type": "markdown",
   "id": "351f76d1",
   "metadata": {},
   "source": [
    "Obtén el total de ventas del producto con ID 16 en el año 2008."
   ]
  },
  {
   "cell_type": "code",
   "execution_count": null,
   "id": "b6ed08db",
   "metadata": {},
   "outputs": [],
   "source": [
    "id_producto = 16\n",
    "\n",
    "# TO-DO filtra el dataframe original df para quedarte solamente con el id_producto = 16\n",
    "df_producto = # TO-DO\n",
    "\n",
    "# TO-DO filtra el dataframe previo df_producto para quedarte solamente con el año 2008\n",
    "df_filtrado = # TO-DO\n",
    "\n",
    "# Vemos el aspecto que tiene ahora el dataframe\n",
    "df_filtrado"
   ]
  },
  {
   "cell_type": "code",
   "execution_count": null,
   "id": "f716d0f8",
   "metadata": {},
   "outputs": [],
   "source": [
    "# A partir de aquí, df_filtrado contiene tu matriz con las filas que quieres procesar\n",
    "\n",
    "# TO-DO termina el resto del programa calculando el precio total de ventas\n",
    "ventas_total = # TO-DO\n",
    "\n",
    "print(\"El total de ventas del producto con ID 16 en 2008 es {}\".format(ventas_total))"
   ]
  },
  {
   "cell_type": "markdown",
   "id": "93f3c938",
   "metadata": {},
   "source": [
    "Respuesta esperada:\n",
    "\n",
    "- El total de ventas del producto con ID 16 en 2008 es 542"
   ]
  },
  {
   "cell_type": "markdown",
   "id": "3a122700",
   "metadata": {},
   "source": [
    "## Ejercicio 2"
   ]
  },
  {
   "cell_type": "markdown",
   "id": "c8bf241d",
   "metadata": {},
   "source": [
    "Define una función que haga todo el proceso anterior de calcular el total de ventas de un producto determinado en un año específico. Completa la siguiente función:"
   ]
  },
  {
   "cell_type": "code",
   "execution_count": null,
   "id": "aab72c5f",
   "metadata": {},
   "outputs": [],
   "source": [
    "def obtiene_total_ventas(datos, id_producto, anno):\n",
    "    # TO-DO completa la función\n",
    "    pass"
   ]
  },
  {
   "cell_type": "markdown",
   "id": "f3c78e5e",
   "metadata": {},
   "source": [
    "Imprime el ID del producto que más se ha vendido en cada año."
   ]
  },
  {
   "cell_type": "code",
   "execution_count": null,
   "id": "0d20f757",
   "metadata": {},
   "outputs": [],
   "source": [
    "# Para que el código funcione, necesitas definir estas 2 variables:\n",
    "#   anno: El año que se está procesando en el bucle\n",
    "#   best_producto: El producto más vendido en el año correspondiente\n",
    "\n",
    "# TO-DO Para cada año, tienes que buscar el mayor número de ventas de cada producto\n",
    "for anno in df['year'].sort_values().unique():\n",
    "    # TO-DO\n",
    "    pass"
   ]
  },
  {
   "cell_type": "markdown",
   "id": "ff39931e",
   "metadata": {},
   "source": [
    "Respuesta esperada:\n",
    "\n",
    "```\n",
    "En el año 2000 el producto con más ventas es 14\n",
    "En el año 2001 el producto con más ventas es 7\n",
    "En el año 2002 el producto con más ventas es 9\n",
    "En el año 2003 el producto con más ventas es 9\n",
    "En el año 2004 el producto con más ventas es 8\n",
    "En el año 2005 el producto con más ventas es 10\n",
    "En el año 2006 el producto con más ventas es 6\n",
    "En el año 2007 el producto con más ventas es 17\n",
    "En el año 2008 el producto con más ventas es 8\n",
    "En el año 2009 el producto con más ventas es 18\n",
    "En el año 2010 el producto con más ventas es 19\n",
    "En el año 2011 el producto con más ventas es 17\n",
    "En el año 2012 el producto con más ventas es 15\n",
    "En el año 2013 el producto con más ventas es 13\n",
    "En el año 2014 el producto con más ventas es 15\n",
    "En el año 2015 el producto con más ventas es 18\n",
    "En el año 2016 el producto con más ventas es 12\n",
    "En el año 2017 el producto con más ventas es 10\n",
    "En el año 2018 el producto con más ventas es 6\n",
    "En el año 2019 el producto con más ventas es 17\n",
    "En el año 2020 el producto con más ventas es 19\n",
    "En el año 2021 el producto con más ventas es 7\n",
    "En el año 2022 el producto con más ventas es 1\n",
    "En el año 2023 el producto con más ventas es 18\n",
    "```"
   ]
  },
  {
   "cell_type": "markdown",
   "id": "6f14c83e",
   "metadata": {},
   "source": [
    "## Ejercicio 3"
   ]
  },
  {
   "cell_type": "markdown",
   "id": "af234ab0",
   "metadata": {},
   "source": [
    "Además del producto con más ventas, ahora tienes que calcular cuánto se ha ganado cada año con la venta del producto más vendido."
   ]
  },
  {
   "cell_type": "code",
   "execution_count": null,
   "id": "dc5a443b",
   "metadata": {},
   "outputs": [],
   "source": [
    "# Para que el código funcione, necesitas definir estas 3 variables:\n",
    "#   anno: El año que se está procesando en el bucle\n",
    "#   best_producto: El producto más vendido en el año correspondiente\n",
    "#   ganancia: El valor de vender ese producto N veces\n",
    "\n",
    "\n",
    "# TO-DO Construye un diccionario con el que puedas guardar el precio de cada producto\n",
    "precio_producto = {}\n",
    "# TO-DO rellena el diccionario\n",
    "\n",
    "# TO-DO Para cada año, tienes que buscar el mayor número de ventas de cada producto\n",
    "#       Además, ahora tendrás que calcular el precio ganado por el mejor\n",
    "for anno in df['year'].sort_values().unique():\n",
    "    # TO-DO completa el bucle\n",
    "    \n",
    "    print(\"En el año {} el producto con más ventas es {}. Se han ganado {:.2f}€\".format(anno, best_producto, ganancia))"
   ]
  },
  {
   "cell_type": "markdown",
   "id": "7ea6fdb9",
   "metadata": {},
   "source": [
    "Respuesta esperada:\n",
    "\n",
    "```\n",
    "En el año 2000 el producto con más ventas es 14. Se han ganado 1567.98€\n",
    "En el año 2001 el producto con más ventas es 7. Se han ganado 15370.88€\n",
    "En el año 2002 el producto con más ventas es 9. Se han ganado 12753.00€\n",
    "En el año 2003 el producto con más ventas es 9. Se han ganado 12687.60€\n",
    "En el año 2004 el producto con más ventas es 8. Se han ganado 1297.65€\n",
    "En el año 2005 el producto con más ventas es 10. Se han ganado 2003.30€\n",
    "En el año 2006 el producto con más ventas es 6. Se han ganado 9329.92€\n",
    "En el año 2007 el producto con más ventas es 17. Se han ganado 13906.08€\n",
    "En el año 2008 el producto con más ventas es 8. Se han ganado 1314.53€\n",
    "En el año 2009 el producto con más ventas es 18. Se han ganado 15555.15€\n",
    "En el año 2010 el producto con más ventas es 19. Se han ganado 4527.09€\n",
    "En el año 2011 el producto con más ventas es 17. Se han ganado 14986.62€\n",
    "En el año 2012 el producto con más ventas es 15. Se han ganado 8483.31€\n",
    "En el año 2013 el producto con más ventas es 13. Se han ganado 1071.56€\n",
    "En el año 2014 el producto con más ventas es 15. Se han ganado 8090.94€\n",
    "En el año 2015 el producto con más ventas es 18. Se han ganado 15262.66€\n",
    "En el año 2016 el producto con más ventas es 12. Se han ganado 306.87€\n",
    "En el año 2017 el producto con más ventas es 10. Se han ganado 2103.80€\n",
    "En el año 2018 el producto con más ventas es 6. Se han ganado 9314.16€\n",
    "En el año 2019 el producto con más ventas es 17. Se han ganado 13083.93€\n",
    "En el año 2020 el producto con más ventas es 19. Se han ganado 4483.35€\n",
    "En el año 2021 el producto con más ventas es 7. Se han ganado 15607.76€\n",
    "En el año 2022 el producto con más ventas es 1. Se han ganado 13028.90€\n",
    "En el año 2023 el producto con más ventas es 18. Se han ganado 16166.72€\n",
    "```"
   ]
  },
  {
   "cell_type": "code",
   "execution_count": null,
   "id": "52e16124",
   "metadata": {},
   "outputs": [],
   "source": []
  }
 ],
 "metadata": {
  "kernelspec": {
   "display_name": "Python 3 (ipykernel)",
   "language": "python",
   "name": "python3"
  },
  "language_info": {
   "codemirror_mode": {
    "name": "ipython",
    "version": 3
   },
   "file_extension": ".py",
   "mimetype": "text/x-python",
   "name": "python",
   "nbconvert_exporter": "python",
   "pygments_lexer": "ipython3",
   "version": "3.11.4"
  }
 },
 "nbformat": 4,
 "nbformat_minor": 5
}
