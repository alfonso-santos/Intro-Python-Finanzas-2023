{
 "cells": [
  {
   "cell_type": "markdown",
   "id": "14883d40",
   "metadata": {},
   "source": [
    "# Ejercicios adicionales de programación"
   ]
  },
  {
   "cell_type": "markdown",
   "id": "168ec496",
   "metadata": {},
   "source": [
    "Ejercicios adicionales del bloque de Numpy y Pandas.\n",
    "\n",
    "**Última versión**: 1.0\n",
    "\n",
    "**Fecha última versión**: 18/11/2023\n",
    "\n",
    "**Actualización 1.0** 10 ejercicios de Numpy y Pandas. Fecha: 18/11/2023"
   ]
  },
  {
   "cell_type": "markdown",
   "id": "0a5eaa67",
   "metadata": {},
   "source": [
    "**IMPORTANTE**: No es válido añadir más imports de los que os damos en la siguiente celda. Esto es así ya que queremos que penséis como programar, no que utilicéis una librería específica que resuelva el problema."
   ]
  },
  {
   "cell_type": "code",
   "execution_count": 1,
   "id": "87b2f892",
   "metadata": {},
   "outputs": [],
   "source": [
    "import numpy as np\n",
    "import pandas as pd\n",
    "import matplotlib.pyplot as plt"
   ]
  },
  {
   "cell_type": "markdown",
   "id": "c4f126d1",
   "metadata": {},
   "source": [
    "## Ejercicio 1"
   ]
  },
  {
   "cell_type": "markdown",
   "id": "0eb2da19",
   "metadata": {},
   "source": [
    "Define una función que, dado un rango de valores `[a, b]` y una función `f(x)`, dibuje la función en una figura de matplotlib.\n",
    "\n",
    "La cabecera de la función debe ser la siguiente: `pinta_funcion(a, b, f)`"
   ]
  },
  {
   "cell_type": "code",
   "execution_count": 2,
   "id": "0468faeb",
   "metadata": {},
   "outputs": [],
   "source": [
    "def f(x):\n",
    "    return x**3\n",
    "\n",
    "def pinta_funcion(a, b, f):\n",
    "    puntos = np.linspace(a, b, 100)\n",
    "    plt.figure(figsize=(4, 2))\n",
    "    plt.plot(puntos, f(puntos))\n",
    "    plt.show()"
   ]
  },
  {
   "cell_type": "code",
   "execution_count": 3,
   "id": "2475f385",
   "metadata": {},
   "outputs": [
    {
     "data": {
      "image/png": "[encoded data removed]",
      "text/plain": [
       "<Figure size 400x200 with 1 Axes>"
      ]
     },
     "metadata": {},
     "output_type": "display_data"
    }
   ],
   "source": [
    "pinta_funcion(-10, 10, f) # Debe pintar la función x^3"
   ]
  },
  {
   "cell_type": "markdown",
   "id": "75be8d9e",
   "metadata": {},
   "source": [
    "Ahora, quiero pintar la función seno en el rango $[0, 2\\pi]$."
   ]
  },
  {
   "cell_type": "code",
   "execution_count": 4,
   "id": "0d5866b4",
   "metadata": {},
   "outputs": [
    {
     "data": {
      "image/png": "[encoded data removed]",
      "text/plain": [
       "<Figure size 400x200 with 1 Axes>"
      ]
     },
     "metadata": {},
     "output_type": "display_data"
    }
   ],
   "source": [
    "pinta_funcion(0, 2*np.pi, np.sin)"
   ]
  },
  {
   "cell_type": "markdown",
   "id": "764fa3a7",
   "metadata": {},
   "source": [
    "Como habéis visto, podéis dibujar cualquier función matemática $f(x)$, incluidas todas las funciones de numpy."
   ]
  },
  {
   "cell_type": "markdown",
   "id": "9a8adfd6",
   "metadata": {},
   "source": [
    "## Ejercicio 2"
   ]
  },
  {
   "cell_type": "markdown",
   "id": "ae2d36cf",
   "metadata": {},
   "source": [
    "Define una función que, dados dos vectores en numpy, calcule la siguiente operación:\n",
    "\n",
    "$$s = \\prod_{i=0}^N v_i + 2q_i$$\n",
    "\n",
    "donde $v_i$ es la componente i del vector $v$, y $q_i$ es la componente i del vector $q$. Si los vectores no tienen la misma dimensión, la función deberá devolver `None`.\n",
    "\n",
    "La cabecera de la función debe ser la siguiente: `prod_vectores(v, q)`"
   ]
  },
  {
   "cell_type": "code",
   "execution_count": 5,
   "id": "047d3377",
   "metadata": {},
   "outputs": [],
   "source": [
    "# TO-DO Completa la función\n",
    "def prod_vectores(v, q):\n",
    "    if v.shape != q.shape:\n",
    "        return None\n",
    "    dentro_prod = v + 2*q\n",
    "    return dentro_prod.prod()"
   ]
  },
  {
   "cell_type": "code",
   "execution_count": 6,
   "id": "dff43f64",
   "metadata": {},
   "outputs": [],
   "source": [
    "# Celda de test. Añade las que quieras aquí\n",
    "assert prod_vectores(np.array([2, 3]), np.array([1, 1])) == 20, \"Error en el test 1\"\n",
    "assert prod_vectores(np.array([4, 3, -2]), np.array([2, 1, 2])) == 80, \"Error en el test 2\"\n",
    "assert prod_vectores(np.array([4, 1]), np.array([1, 2, 3])) is None, \"Error en el test 3\""
   ]
  },
  {
   "cell_type": "markdown",
   "id": "4d45d73a",
   "metadata": {},
   "source": [
    "## Ejercicio 3"
   ]
  },
  {
   "cell_type": "markdown",
   "id": "f723cd72",
   "metadata": {},
   "source": [
    "Define una función que, dada una matriz cuadrada en numpy, calcule la siguiente operación:\n",
    "    \n",
    "$$s_{i, j} = m_{i, j} + cos(m_{j, i})$$\n",
    "\n",
    "donde $m_{i, j}$ es el valor que hay en la fila $i$ y en la columna $j$, y $cos$ es la función coseno. Si la matriz de entrada no es una matriz cuadrada, la función deberá devolver `None`. Redondea cada componente de la matriz a 4 decimales para evitar errores de precisión. Para ello, utiliza la función np.around(m, decimals), que funciona igual que el `round()` que habéis utilizado, pero con numpy.\n",
    "\n",
    "La cabecera de la función debe ser la siguiente: `operacion(m)`"
   ]
  },
  {
   "cell_type": "code",
   "execution_count": 7,
   "id": "ad65da79",
   "metadata": {},
   "outputs": [],
   "source": [
    "# TO-DO Completa la función\n",
    "def operacion(m):\n",
    "    if m.shape[0] != m.shape[1]:\n",
    "        return None\n",
    "    return np.around(m + np.cos(m.T), 4)"
   ]
  },
  {
   "cell_type": "code",
   "execution_count": 8,
   "id": "ae4b316f",
   "metadata": {},
   "outputs": [],
   "source": [
    "# Celda de test. Añade las que quieras aquí\n",
    "assert (operacion(np.arange(9).reshape(3,3)) == np.array([[1.    , 0.01  , 2.9602],\n",
    "                                                          [3.5403, 3.3464, 5.7539],\n",
    "                                                          [5.5839, 7.2837, 7.8545]])).all(), \"Error en el test 1\"\n",
    "assert (operacion((np.ones(4)*7+np.arange(4)).reshape(2,2)) == np.array([[7.7539, 7.0889],\n",
    "                                                                         [8.8545, 9.1609]])).all(), \"Error en el test 2\"\n",
    "assert operacion(np.arange(6).reshape(2,3)) is None, \"Error en el test 3\""
   ]
  },
  {
   "cell_type": "markdown",
   "id": "9b08244d",
   "metadata": {},
   "source": [
    "## Ejercicio 4"
   ]
  },
  {
   "cell_type": "markdown",
   "id": "2c42c131",
   "metadata": {},
   "source": [
    "Dada una matriz, comprueba si se cumple la siguiente condición:\n",
    "\n",
    "$$AA^{−1}=I$$\n",
    "\n",
    "Recuerda, una matriz tiene inversa si su determinante es distinto de 0. Por tanto, antes de comprobar nada, si la matriz no tiene inversa, tu función debe devolver `False`. Además, si la matriz no es cuadrada, tampoco tiene inversa.\n",
    "\n",
    "La cabecera de la función debe ser la siguiente: `check_inversa(A)`"
   ]
  },
  {
   "cell_type": "code",
   "execution_count": 9,
   "id": "5c6b1dfa",
   "metadata": {},
   "outputs": [],
   "source": [
    "# TO-DO Completa la función\n",
    "def check_inversa(A):\n",
    "    if A.shape[0] != A.shape[1]:\n",
    "        return False\n",
    "    \n",
    "    if np.linalg.det(A) == 0:\n",
    "        return False\n",
    "    \n",
    "    return (A @ np.linalg.inv(A) == np.eye(A.shape[0])).all()"
   ]
  },
  {
   "cell_type": "code",
   "execution_count": 10,
   "id": "b93139f9",
   "metadata": {},
   "outputs": [],
   "source": [
    "# Celda de test. Añade las que quieras aquí\n",
    "assert check_inversa(np.arange(4).reshape(2,2)) == True, \"Error en el test 1\"\n",
    "assert check_inversa(np.array([[2, 2], [4, 4]])) == False, \"Error en el test 2\""
   ]
  },
  {
   "cell_type": "markdown",
   "id": "7727da86",
   "metadata": {},
   "source": [
    "## Ejercicio 5"
   ]
  },
  {
   "cell_type": "markdown",
   "id": "d4d7670c",
   "metadata": {},
   "source": [
    "Dadas una matriz $M$ con shape $(D, c)$ y un vector $v$ con shape $(c,)$, quiero aplicar la siguiente operación:\n",
    "\n",
    "$$s_{i, j} = m_{i, j} + v_{j}$$\n",
    "\n",
    "Este cálculo se puede realizar con un doble bucle anidado como el siguiente:\n",
    "\n",
    "```\n",
    "for i in range(D):\n",
    "  for j in range(c):\n",
    "    s[i, j] = m[i, j] + v[j]\n",
    "```\n",
    "\n",
    "donde, literalmente, estoy aplicando la fórmula en el código. Sin embargo, este doble bucle anidado es muy poco eficiente. Esta operación se puede realizar en una sola línea como una operación matricial de numpy con broadcasting. Define una función que lo calcule utilizando el broadcasting.\n",
    "\n",
    "La cabecera de la función será la siguiente: `calculo_bueno(M, v)`"
   ]
  },
  {
   "cell_type": "code",
   "execution_count": 11,
   "id": "62fefc7c",
   "metadata": {},
   "outputs": [],
   "source": [
    "def calculo_malo(M, v):\n",
    "    N = np.zeros_like(M)\n",
    "    D, c = M.shape\n",
    "    for i in range(D):\n",
    "        for j in range(c):\n",
    "            N[i, j] = M[i, j] + v[j]\n",
    "    return N"
   ]
  },
  {
   "cell_type": "code",
   "execution_count": 12,
   "id": "868df974",
   "metadata": {},
   "outputs": [],
   "source": [
    "# TO-DO Completa la función\n",
    "def calculo_bueno(M, v):\n",
    "    return M + v[None, :]"
   ]
  },
  {
   "cell_type": "code",
   "execution_count": 13,
   "id": "b8743ef6",
   "metadata": {},
   "outputs": [],
   "source": [
    "# Celda de test, puedes añadir lo que quieras\n",
    "matriz = np.random.randn(10, 5)\n",
    "v = np.random.randn(5)\n",
    "assert (calculo_malo(matriz, v) == calculo_bueno(matriz, v)).all(), \"Error en el test 1\""
   ]
  },
  {
   "cell_type": "markdown",
   "id": "98873cf3",
   "metadata": {},
   "source": [
    "## Ejercicio 6"
   ]
  },
  {
   "cell_type": "markdown",
   "id": "27d427ee",
   "metadata": {},
   "source": [
    "Dados dos vectores $a$ con shape $(c1, )$ y $b$ con shape $(c2, )$, quiero calcular su producto cartesiano, es decir, calcular una matriz $S$ con shape $(c1, c2)$. Puedes aplicar la siguiente ecuación:\n",
    "\n",
    "$$s_{i,j} = a_i * b_j$$\n",
    "\n",
    "Este cálculo se puede realizar con un doble bucle anidado como el siguiente:\n",
    "\n",
    "```\n",
    "for i in range(c1):\n",
    "  for j in range(c2):\n",
    "    s[i, j] = a[i] * b[j]\n",
    "```\n",
    "\n",
    "donde, literalmente, estamos aplicando la fórmula en el código. Igual que antes, esto es muy poco eficiente. Define una función `prod_cartesiano(a, b)` que haga la misma operación usando el broadcasting de numpy."
   ]
  },
  {
   "cell_type": "code",
   "execution_count": 14,
   "id": "b58c3aaf",
   "metadata": {},
   "outputs": [],
   "source": [
    "def prod_cartesiano_malo(a, b):\n",
    "    c1 = a.shape[0]\n",
    "    c2 = b.shape[0]\n",
    "    S = np.zeros((c1, c2))\n",
    "    for i in range(c1):\n",
    "        for j in range(c2):\n",
    "            S[i, j] = a[i] * b[j]\n",
    "    return S\n",
    "\n",
    "# TO-DO Completa la función\n",
    "def prod_cartesiano(a, b):\n",
    "    return a[:, None] * b[None, :]"
   ]
  },
  {
   "cell_type": "code",
   "execution_count": 15,
   "id": "3fd9cb11",
   "metadata": {},
   "outputs": [],
   "source": [
    "# Celda de test, podéis añadir lo que queráis\n",
    "a = np.random.randn(5)\n",
    "b = np.random.randn(7)\n",
    "assert (prod_cartesiano_malo(a, b) == prod_cartesiano(a, b)).all() == True, \"Error en el test 1\""
   ]
  },
  {
   "cell_type": "markdown",
   "id": "dae1046c",
   "metadata": {},
   "source": [
    "## Ejercicio 7"
   ]
  },
  {
   "cell_type": "markdown",
   "id": "8b8efd5a",
   "metadata": {},
   "source": [
    "Vamos a generar una matriz con shape $(D, c)$ donde `D=1000` y `c=5`, cuyas columnas sigan una distribución Normal con diferentes medias y desviaciones típicas.\n",
    "\n",
    "Por tanto, si `c=5`, necesitamos realizar este proceso 5 veces. Crea una función que genere `D` puntos aleatorios con media `media` y desviación `std`. La cabecera de la función debe ser `genera_puntos(D, media, std)`.\n",
    "\n",
    "Cuando tengas esta función, crea otra función, `genera_matriz(D, medias, stds)` que llame a la anterior tantas veces como necesites y concatene las columnas para acabar generando una matriz con shape $(D, c)$."
   ]
  },
  {
   "cell_type": "code",
   "execution_count": 16,
   "id": "4efe3e2f",
   "metadata": {},
   "outputs": [],
   "source": [
    "# TO-DO Completa la función\n",
    "def genera_puntos(D, media, std):\n",
    "    return np.random.randn(D) * std + media\n",
    "\n",
    "# TO-DO Completa la función\n",
    "def genera_matriz(D, medias, stds):\n",
    "    c = len(medias)\n",
    "    M = np.zeros((D, c))\n",
    "    for i, (media, std) in enumerate(zip(medias, stds)):\n",
    "        M[:, i] = genera_puntos(D, media, std)\n",
    "    return M"
   ]
  },
  {
   "cell_type": "code",
   "execution_count": 17,
   "id": "99087845",
   "metadata": {},
   "outputs": [],
   "source": [
    "# Celda de test, añade lo que quieras\n",
    "D = 1000\n",
    "medias = np.array([0.1, 0.8, -1.5])\n",
    "stds = np.array([0.05, 0.01, 0.03])\n",
    "\n",
    "assert (np.abs(genera_matriz(D, medias, stds).mean(axis=0) - medias) < 1e-2).all(), \"Error en el test 1\"\n",
    "assert (np.abs(genera_matriz(D, medias, stds).std(axis=0) - stds) < 1e-2).all(), \"Error en el test 2\""
   ]
  },
  {
   "cell_type": "markdown",
   "id": "93330f83",
   "metadata": {},
   "source": [
    "Esta opción era la única antes de existir el generador de números aleatorios de la nueva versión de numpy. Sin embargo, ahora tenemos una opción mucho más cómoda con `rng.normal(medias, stds, size)`. Define una función `genera_matriz_con_generator(D, medias, stds)` que use el Generator anterior."
   ]
  },
  {
   "cell_type": "code",
   "execution_count": 18,
   "id": "e862497f",
   "metadata": {},
   "outputs": [],
   "source": [
    "# TO-DO Completa la función\n",
    "def genera_matriz_con_generator(D, medias, stds):\n",
    "    rng = np.random.default_rng()\n",
    "    return rng.normal(loc=medias, scale=stds, size=(D, len(medias)))"
   ]
  },
  {
   "cell_type": "code",
   "execution_count": 19,
   "id": "10dcf162",
   "metadata": {},
   "outputs": [],
   "source": [
    "# Celda de test, añade lo que quieras\n",
    "D = 1000\n",
    "medias = np.array([0.1, 0.8, -1.5])\n",
    "stds = np.array([0.05, 0.01, 0.03])\n",
    "\n",
    "assert (np.abs(genera_matriz_con_generator(D, medias, stds).mean(axis=0) - medias) < 1e-2).all(), \"Error en el test 3\"\n",
    "assert (np.abs(genera_matriz_con_generator(D, medias, stds).std(axis=0) - stds) < 1e-2).all(), \"Error en el test 4\""
   ]
  },
  {
   "cell_type": "markdown",
   "id": "46abed1f",
   "metadata": {},
   "source": [
    "Ya sea con la función `genera_matriz` o `genera_matriz_con_generator`, genera una matriz $M$ con shape $(D, c)$ con las medias y desviaciones definidas previamente y normaliza las columnas para que sumen 1. Para normalizar por columnas, puedes seguir la siguiente ecuación:\n",
    "\n",
    "$$\\hat{m}_{i,j} = {m_{i, j} \\over \\sum_{k=0}^cm_{k,j}}$$\n",
    "\n",
    "Es recomendable seguir esta ecuación en dos pasos, primero puedes calcular el sumatorio del denominador y luego realizar la operación.\n",
    "\n",
    "La cabecera de la función debe ser la siguiente: `normaliza_sum(M)`"
   ]
  },
  {
   "cell_type": "code",
   "execution_count": 36,
   "id": "f5639fbb",
   "metadata": {},
   "outputs": [],
   "source": [
    "# TO-DO Completa la función\n",
    "def normaliza_sum(M):\n",
    "    denominador = M.sum(axis=0) # shape (c,)\n",
    "    return M / denominador[None, :] # shape (D, c)"
   ]
  },
  {
   "cell_type": "code",
   "execution_count": 37,
   "id": "dbff071e",
   "metadata": {},
   "outputs": [],
   "source": [
    "# Celda de test, puedes añadir lo que quieras\n",
    "M = genera_matriz(D, medias, stds)\n",
    "M = normaliza_sum(M)\n",
    "assert (np.around(M.sum(axis=0), decimals=6) == 1).all() == True, \"Error al normalizar\""
   ]
  },
  {
   "cell_type": "markdown",
   "id": "8e4c077d",
   "metadata": {},
   "source": [
    "## Ejercicio 8"
   ]
  },
  {
   "cell_type": "markdown",
   "id": "d27c6706",
   "metadata": {},
   "source": [
    "Supongamos que tienes un DataFrame con información de ventas por categoría. Quieres obtener la suma total de ventas por categoría. Define una función `suma_total_ventas(df)` que lo calcule. En la siguiente celda se generan unos datos a mano."
   ]
  },
  {
   "cell_type": "code",
   "execution_count": 90,
   "id": "1275745f",
   "metadata": {},
   "outputs": [
    {
     "data": {
      "text/html": [
       "<div>\n",
       "<style scoped>\n",
       "    .dataframe tbody tr th:only-of-type {\n",
       "        vertical-align: middle;\n",
       "    }\n",
       "\n",
       "    .dataframe tbody tr th {\n",
       "        vertical-align: top;\n",
       "    }\n",
       "\n",
       "    .dataframe thead th {\n",
       "        text-align: right;\n",
       "    }\n",
       "</style>\n",
       "<table border=\"1\" class=\"dataframe\">\n",
       "  <thead>\n",
       "    <tr style=\"text-align: right;\">\n",
       "      <th></th>\n",
       "      <th>Categoria</th>\n",
       "      <th>Ventas</th>\n",
       "    </tr>\n",
       "  </thead>\n",
       "  <tbody>\n",
       "    <tr>\n",
       "      <th>0</th>\n",
       "      <td>A</td>\n",
       "      <td>100</td>\n",
       "    </tr>\n",
       "    <tr>\n",
       "      <th>1</th>\n",
       "      <td>B</td>\n",
       "      <td>150</td>\n",
       "    </tr>\n",
       "    <tr>\n",
       "      <th>2</th>\n",
       "      <td>A</td>\n",
       "      <td>200</td>\n",
       "    </tr>\n",
       "    <tr>\n",
       "      <th>3</th>\n",
       "      <td>B</td>\n",
       "      <td>120</td>\n",
       "    </tr>\n",
       "    <tr>\n",
       "      <th>4</th>\n",
       "      <td>A</td>\n",
       "      <td>180</td>\n",
       "    </tr>\n",
       "    <tr>\n",
       "      <th>5</th>\n",
       "      <td>B</td>\n",
       "      <td>220</td>\n",
       "    </tr>\n",
       "  </tbody>\n",
       "</table>\n",
       "</div>"
      ],
      "text/plain": [
       "  Categoria  Ventas\n",
       "0         A     100\n",
       "1         B     150\n",
       "2         A     200\n",
       "3         B     120\n",
       "4         A     180\n",
       "5         B     220"
      ]
     },
     "execution_count": 90,
     "metadata": {},
     "output_type": "execute_result"
    }
   ],
   "source": [
    "data = {'Categoria': ['A', 'B', 'A', 'B', 'A', 'B'],\n",
    "        'Ventas': [100, 150, 200, 120, 180, 220]\n",
    "       }\n",
    "\n",
    "df = pd.DataFrame(data)\n",
    "df"
   ]
  },
  {
   "cell_type": "code",
   "execution_count": 41,
   "id": "480c814f",
   "metadata": {},
   "outputs": [],
   "source": [
    "# TO-DO Completa la función\n",
    "def suma_total_ventas(df):\n",
    "    return df.groupby(\"Categoria\").sum()"
   ]
  },
  {
   "cell_type": "code",
   "execution_count": 44,
   "id": "f8d51053",
   "metadata": {},
   "outputs": [
    {
     "data": {
      "text/html": [
       "<div>\n",
       "<style scoped>\n",
       "    .dataframe tbody tr th:only-of-type {\n",
       "        vertical-align: middle;\n",
       "    }\n",
       "\n",
       "    .dataframe tbody tr th {\n",
       "        vertical-align: top;\n",
       "    }\n",
       "\n",
       "    .dataframe thead th {\n",
       "        text-align: right;\n",
       "    }\n",
       "</style>\n",
       "<table border=\"1\" class=\"dataframe\">\n",
       "  <thead>\n",
       "    <tr style=\"text-align: right;\">\n",
       "      <th></th>\n",
       "      <th>Ventas</th>\n",
       "    </tr>\n",
       "    <tr>\n",
       "      <th>Categoria</th>\n",
       "      <th></th>\n",
       "    </tr>\n",
       "  </thead>\n",
       "  <tbody>\n",
       "    <tr>\n",
       "      <th>A</th>\n",
       "      <td>480</td>\n",
       "    </tr>\n",
       "    <tr>\n",
       "      <th>B</th>\n",
       "      <td>490</td>\n",
       "    </tr>\n",
       "  </tbody>\n",
       "</table>\n",
       "</div>"
      ],
      "text/plain": [
       "           Ventas\n",
       "Categoria        \n",
       "A             480\n",
       "B             490"
      ]
     },
     "execution_count": 44,
     "metadata": {},
     "output_type": "execute_result"
    }
   ],
   "source": [
    "# Celda de test, añade lo que consideres\n",
    "ventas_por_categoria = suma_total_ventas(df)\n",
    "ventas_por_categoria"
   ]
  },
  {
   "cell_type": "markdown",
   "id": "a0479540",
   "metadata": {},
   "source": [
    "## Ejercicio 9"
   ]
  },
  {
   "cell_type": "markdown",
   "id": "450ee33d",
   "metadata": {},
   "source": [
    "Tienes datos de ventas por día y quieres calcular la media semanal de las ventas. Define una función `media_semanal(df)` que lo calcule. En la siguiente celda se generan los datos siguiendo una distribución uniforme."
   ]
  },
  {
   "cell_type": "code",
   "execution_count": 94,
   "id": "128645e1",
   "metadata": {},
   "outputs": [
    {
     "data": {
      "text/html": [
       "<div>\n",
       "<style scoped>\n",
       "    .dataframe tbody tr th:only-of-type {\n",
       "        vertical-align: middle;\n",
       "    }\n",
       "\n",
       "    .dataframe tbody tr th {\n",
       "        vertical-align: top;\n",
       "    }\n",
       "\n",
       "    .dataframe thead th {\n",
       "        text-align: right;\n",
       "    }\n",
       "</style>\n",
       "<table border=\"1\" class=\"dataframe\">\n",
       "  <thead>\n",
       "    <tr style=\"text-align: right;\">\n",
       "      <th></th>\n",
       "      <th>Ventas</th>\n",
       "    </tr>\n",
       "    <tr>\n",
       "      <th>Fecha</th>\n",
       "      <th></th>\n",
       "    </tr>\n",
       "  </thead>\n",
       "  <tbody>\n",
       "    <tr>\n",
       "      <th>2023-01-01</th>\n",
       "      <td>202</td>\n",
       "    </tr>\n",
       "    <tr>\n",
       "      <th>2023-01-02</th>\n",
       "      <td>535</td>\n",
       "    </tr>\n",
       "    <tr>\n",
       "      <th>2023-01-03</th>\n",
       "      <td>960</td>\n",
       "    </tr>\n",
       "    <tr>\n",
       "      <th>2023-01-04</th>\n",
       "      <td>370</td>\n",
       "    </tr>\n",
       "    <tr>\n",
       "      <th>2023-01-05</th>\n",
       "      <td>206</td>\n",
       "    </tr>\n",
       "  </tbody>\n",
       "</table>\n",
       "</div>"
      ],
      "text/plain": [
       "            Ventas\n",
       "Fecha             \n",
       "2023-01-01     202\n",
       "2023-01-02     535\n",
       "2023-01-03     960\n",
       "2023-01-04     370\n",
       "2023-01-05     206"
      ]
     },
     "execution_count": 94,
     "metadata": {},
     "output_type": "execute_result"
    }
   ],
   "source": [
    "# Primero genera un rango de fechas de 50 dias\n",
    "rango_fechas = pd.date_range('2023-01-01', periods=50, freq='D')\n",
    "# Luego generas 50 valores entre 100 y 1000. Fijamos la semilla\n",
    "np.random.seed(42)\n",
    "ventas = np.random.randint(100, 1000, size=(50,))\n",
    "# Creamos el dataframe a partir de un diccionario\n",
    "data = {'Fecha': rango_fechas, 'Ventas': ventas}\n",
    "df = pd.DataFrame(data)\n",
    "df.set_index('Fecha', inplace=True)\n",
    "df.head()"
   ]
  },
  {
   "cell_type": "code",
   "execution_count": 95,
   "id": "1a4493ab",
   "metadata": {},
   "outputs": [],
   "source": [
    "def media_semanal(df):\n",
    "    # return df.resample(\"7D\").mean() # esto está mal ya que 7D parte en trozos de 7 días desde que comienzas\n",
    "    return df.resample(\"W\").mean() # esto es correcto ya que corta cada lunes"
   ]
  },
  {
   "cell_type": "code",
   "execution_count": 101,
   "id": "d5b0dcfe",
   "metadata": {},
   "outputs": [],
   "source": [
    "# Celda de test, añade aquí lo que quieras\n",
    "assert (np.around(media_semanal(df).values, decimals=4) == np.array([[202.    ],\n",
    "                                                                     [451.7143],\n",
    "                                                                     [427.1429],\n",
    "                                                                     [543.4286],\n",
    "                                                                     [585.2857],\n",
    "                                                                     [418.2857],\n",
    "                                                                     [616.2857],\n",
    "                                                                     [722.7143]])).all() == True, \"Error en el test 1\""
   ]
  },
  {
   "cell_type": "markdown",
   "id": "60c05f4c",
   "metadata": {},
   "source": [
    "## Ejercicio 10"
   ]
  },
  {
   "cell_type": "markdown",
   "id": "6d3dc8f7",
   "metadata": {},
   "source": [
    "Busca el valor máximo en un dataframe. Eso significa, encuentra en qué fila y columna se encuentra el valor máximo del dataframe. En la siguiente celda se genera un dataset donde hay que buscar el máximo valor.\n",
    "\n",
    "La cabecera de la función debe ser la siguiente: `busca_maximo(df)`"
   ]
  },
  {
   "cell_type": "code",
   "execution_count": 108,
   "id": "ff4e4a7a",
   "metadata": {},
   "outputs": [
    {
     "data": {
      "text/html": [
       "<div>\n",
       "<style scoped>\n",
       "    .dataframe tbody tr th:only-of-type {\n",
       "        vertical-align: middle;\n",
       "    }\n",
       "\n",
       "    .dataframe tbody tr th {\n",
       "        vertical-align: top;\n",
       "    }\n",
       "\n",
       "    .dataframe thead th {\n",
       "        text-align: right;\n",
       "    }\n",
       "</style>\n",
       "<table border=\"1\" class=\"dataframe\">\n",
       "  <thead>\n",
       "    <tr style=\"text-align: right;\">\n",
       "      <th></th>\n",
       "      <th>A</th>\n",
       "      <th>B</th>\n",
       "      <th>C</th>\n",
       "      <th>D</th>\n",
       "      <th>E</th>\n",
       "    </tr>\n",
       "  </thead>\n",
       "  <tbody>\n",
       "    <tr>\n",
       "      <th>2023-01-01</th>\n",
       "      <td>0.513943</td>\n",
       "      <td>0.773165</td>\n",
       "      <td>0.870428</td>\n",
       "      <td>0.008047</td>\n",
       "      <td>0.309736</td>\n",
       "    </tr>\n",
       "    <tr>\n",
       "      <th>2023-01-02</th>\n",
       "      <td>0.957604</td>\n",
       "      <td>0.513117</td>\n",
       "      <td>0.318284</td>\n",
       "      <td>0.539200</td>\n",
       "      <td>0.221255</td>\n",
       "    </tr>\n",
       "    <tr>\n",
       "      <th>2023-01-03</th>\n",
       "      <td>0.806481</td>\n",
       "      <td>0.342255</td>\n",
       "      <td>0.538889</td>\n",
       "      <td>0.005874</td>\n",
       "      <td>0.673152</td>\n",
       "    </tr>\n",
       "    <tr>\n",
       "      <th>2023-01-04</th>\n",
       "      <td>0.210024</td>\n",
       "      <td>0.932558</td>\n",
       "      <td>0.374245</td>\n",
       "      <td>0.752419</td>\n",
       "      <td>0.763139</td>\n",
       "    </tr>\n",
       "    <tr>\n",
       "      <th>2023-01-05</th>\n",
       "      <td>0.870499</td>\n",
       "      <td>0.110111</td>\n",
       "      <td>0.300092</td>\n",
       "      <td>0.474906</td>\n",
       "      <td>0.672937</td>\n",
       "    </tr>\n",
       "  </tbody>\n",
       "</table>\n",
       "</div>"
      ],
      "text/plain": [
       "                   A         B         C         D         E\n",
       "2023-01-01  0.513943  0.773165  0.870428  0.008047  0.309736\n",
       "2023-01-02  0.957604  0.513117  0.318284  0.539200  0.221255\n",
       "2023-01-03  0.806481  0.342255  0.538889  0.005874  0.673152\n",
       "2023-01-04  0.210024  0.932558  0.374245  0.752419  0.763139\n",
       "2023-01-05  0.870499  0.110111  0.300092  0.474906  0.672937"
      ]
     },
     "execution_count": 108,
     "metadata": {},
     "output_type": "execute_result"
    }
   ],
   "source": [
    "rango_fechas = pd.date_range('2023-01-01', periods=100, freq='D')\n",
    "np.random.seed(14)\n",
    "df = pd.DataFrame(np.random.rand(100, 5), index=rango_fechas, columns=[\"A\", \"B\", \"C\", \"D\", \"E\"])\n",
    "df.head()"
   ]
  },
  {
   "cell_type": "code",
   "execution_count": 109,
   "id": "99e961ee",
   "metadata": {},
   "outputs": [],
   "source": [
    "# TO-DO Completa la función\n",
    "def busca_maximo(df):\n",
    "    valor_maximo = df.values.max()\n",
    "    return df.iloc[np.where(df.values == valor_maximo)]"
   ]
  },
  {
   "cell_type": "code",
   "execution_count": 115,
   "id": "d7cff38f",
   "metadata": {},
   "outputs": [
    {
     "data": {
      "text/html": [
       "<div>\n",
       "<style scoped>\n",
       "    .dataframe tbody tr th:only-of-type {\n",
       "        vertical-align: middle;\n",
       "    }\n",
       "\n",
       "    .dataframe tbody tr th {\n",
       "        vertical-align: top;\n",
       "    }\n",
       "\n",
       "    .dataframe thead th {\n",
       "        text-align: right;\n",
       "    }\n",
       "</style>\n",
       "<table border=\"1\" class=\"dataframe\">\n",
       "  <thead>\n",
       "    <tr style=\"text-align: right;\">\n",
       "      <th></th>\n",
       "      <th>E</th>\n",
       "    </tr>\n",
       "  </thead>\n",
       "  <tbody>\n",
       "    <tr>\n",
       "      <th>2023-03-17</th>\n",
       "      <td>0.998958</td>\n",
       "    </tr>\n",
       "  </tbody>\n",
       "</table>\n",
       "</div>"
      ],
      "text/plain": [
       "                   E\n",
       "2023-03-17  0.998958"
      ]
     },
     "execution_count": 115,
     "metadata": {},
     "output_type": "execute_result"
    }
   ],
   "source": [
    "busca_maximo(df)"
   ]
  },
  {
   "cell_type": "markdown",
   "id": "8a04c7da",
   "metadata": {},
   "source": [
    "Otra opción es utilizar las funciones `idxmax()` y `max()`, guardando los resultados en dos columnas. Veamos la alternativa:"
   ]
  },
  {
   "cell_type": "code",
   "execution_count": 111,
   "id": "6b2be9e1",
   "metadata": {},
   "outputs": [
    {
     "data": {
      "text/html": [
       "<div>\n",
       "<style scoped>\n",
       "    .dataframe tbody tr th:only-of-type {\n",
       "        vertical-align: middle;\n",
       "    }\n",
       "\n",
       "    .dataframe tbody tr th {\n",
       "        vertical-align: top;\n",
       "    }\n",
       "\n",
       "    .dataframe thead th {\n",
       "        text-align: right;\n",
       "    }\n",
       "</style>\n",
       "<table border=\"1\" class=\"dataframe\">\n",
       "  <thead>\n",
       "    <tr style=\"text-align: right;\">\n",
       "      <th></th>\n",
       "      <th>Fecha</th>\n",
       "      <th>Valor</th>\n",
       "    </tr>\n",
       "  </thead>\n",
       "  <tbody>\n",
       "    <tr>\n",
       "      <th>A</th>\n",
       "      <td>2023-01-10</td>\n",
       "      <td>0.998805</td>\n",
       "    </tr>\n",
       "    <tr>\n",
       "      <th>B</th>\n",
       "      <td>2023-01-19</td>\n",
       "      <td>0.995050</td>\n",
       "    </tr>\n",
       "    <tr>\n",
       "      <th>C</th>\n",
       "      <td>2023-02-28</td>\n",
       "      <td>0.992768</td>\n",
       "    </tr>\n",
       "    <tr>\n",
       "      <th>D</th>\n",
       "      <td>2023-03-23</td>\n",
       "      <td>0.996323</td>\n",
       "    </tr>\n",
       "    <tr>\n",
       "      <th>E</th>\n",
       "      <td>2023-03-17</td>\n",
       "      <td>0.998958</td>\n",
       "    </tr>\n",
       "  </tbody>\n",
       "</table>\n",
       "</div>"
      ],
      "text/plain": [
       "       Fecha     Valor\n",
       "A 2023-01-10  0.998805\n",
       "B 2023-01-19  0.995050\n",
       "C 2023-02-28  0.992768\n",
       "D 2023-03-23  0.996323\n",
       "E 2023-03-17  0.998958"
      ]
     },
     "execution_count": 111,
     "metadata": {},
     "output_type": "execute_result"
    }
   ],
   "source": [
    "df2 = pd.DataFrame()\n",
    "df2[\"Fecha\"] = df.idxmax()\n",
    "df2[\"Valor\"] = df.max()\n",
    "df2"
   ]
  },
  {
   "cell_type": "code",
   "execution_count": 112,
   "id": "0905b4e4",
   "metadata": {},
   "outputs": [
    {
     "data": {
      "text/html": [
       "<div>\n",
       "<style scoped>\n",
       "    .dataframe tbody tr th:only-of-type {\n",
       "        vertical-align: middle;\n",
       "    }\n",
       "\n",
       "    .dataframe tbody tr th {\n",
       "        vertical-align: top;\n",
       "    }\n",
       "\n",
       "    .dataframe thead th {\n",
       "        text-align: right;\n",
       "    }\n",
       "</style>\n",
       "<table border=\"1\" class=\"dataframe\">\n",
       "  <thead>\n",
       "    <tr style=\"text-align: right;\">\n",
       "      <th></th>\n",
       "      <th>Fecha</th>\n",
       "      <th>Valor</th>\n",
       "    </tr>\n",
       "  </thead>\n",
       "  <tbody>\n",
       "    <tr>\n",
       "      <th>E</th>\n",
       "      <td>2023-03-17</td>\n",
       "      <td>0.998958</td>\n",
       "    </tr>\n",
       "  </tbody>\n",
       "</table>\n",
       "</div>"
      ],
      "text/plain": [
       "       Fecha     Valor\n",
       "E 2023-03-17  0.998958"
      ]
     },
     "execution_count": 112,
     "metadata": {},
     "output_type": "execute_result"
    }
   ],
   "source": [
    "# Esta segunda opción almacena la misma información pero cambiando la distribución de la información\n",
    "mask = df2[\"Valor\"] == df2[\"Valor\"].max()\n",
    "df2[mask]"
   ]
  },
  {
   "cell_type": "code",
   "execution_count": null,
   "id": "365fd04a",
   "metadata": {},
   "outputs": [],
   "source": []
  }
 ],
 "metadata": {
  "kernelspec": {
   "display_name": "Python 3 (ipykernel)",
   "language": "python",
   "name": "python3"
  },
  "language_info": {
   "codemirror_mode": {
    "name": "ipython",
    "version": 3
   },
   "file_extension": ".py",
   "mimetype": "text/x-python",
   "name": "python",
   "nbconvert_exporter": "python",
   "pygments_lexer": "ipython3",
   "version": "3.11.5"
  }
 },
 "nbformat": 4,
 "nbformat_minor": 5
}
