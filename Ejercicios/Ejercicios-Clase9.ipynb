{
 "cells": [
  {
   "cell_type": "markdown",
   "id": "d36e5411",
   "metadata": {},
   "source": [
    "# Ejercicios - Clase 9"
   ]
  },
  {
   "cell_type": "markdown",
   "id": "cba93d75",
   "metadata": {},
   "source": [
    "Ejercicios de los bloques de introducción a python. Pandas 2\n",
    "\n",
    "**Versión**: 1.0\n",
    "\n",
    "**Fecha**: 28/10/2023"
   ]
  },
  {
   "cell_type": "markdown",
   "id": "47399824",
   "metadata": {},
   "source": [
    "En este notebook vamos a trabajar con un dataset de consumo eléctrico. Lo primero, cargaremos el fichero de datos del CSV correspondiente y analizaremos el dataset."
   ]
  },
  {
   "cell_type": "code",
   "execution_count": null,
   "id": "972baf64",
   "metadata": {},
   "outputs": [],
   "source": [
    "import pandas as pd\n",
    "import numpy as np\n",
    "import matplotlib.pyplot as plt"
   ]
  },
  {
   "cell_type": "code",
   "execution_count": null,
   "id": "5354da9a",
   "metadata": {},
   "outputs": [],
   "source": [
    "df = pd.read_csv(\"https://raw.githubusercontent.com/alfonso-santos/Intro-Python-Finanzas-2023/main/5_series_temporales/data/Power_consumption.csv\")\n",
    "df.drop(['Time', 'Solar'], axis=1, inplace=True) # Borramos las columnas que no vamos a necesitar para los ejercicios\n",
    "df"
   ]
  },
  {
   "cell_type": "markdown",
   "id": "ce4c979d",
   "metadata": {},
   "source": [
    "Vamos a hacer un preprocesado adicional para indicar los tipos de las columnas."
   ]
  },
  {
   "cell_type": "code",
   "execution_count": null,
   "id": "b3108d82",
   "metadata": {},
   "outputs": [],
   "source": [
    "# Como podemos ver, Date no es de tipo Datetime, sino object. Hay que cambiarlo antes de empezar\n",
    "df.info()"
   ]
  },
  {
   "cell_type": "code",
   "execution_count": null,
   "id": "c7a0368d",
   "metadata": {},
   "outputs": [],
   "source": [
    "# Con esta celda estamos indicando que la columna fecha tenga formato datetime\n",
    "df.Date = pd.to_datetime(df.Date)"
   ]
  },
  {
   "cell_type": "code",
   "execution_count": null,
   "id": "f6554b05",
   "metadata": {},
   "outputs": [],
   "source": [
    "# Ahora sí, fecha tiene dtype datetime64\n",
    "df.info()"
   ]
  },
  {
   "cell_type": "code",
   "execution_count": null,
   "id": "5ef00140",
   "metadata": {},
   "outputs": [],
   "source": [
    "# Si volvemos a ver el dataframe, vemos que en aspecto no ha cambiado nada.\n",
    "df"
   ]
  },
  {
   "cell_type": "code",
   "execution_count": null,
   "id": "d2479f87",
   "metadata": {},
   "outputs": [],
   "source": [
    "# ¿Y si ahora separo la fecha en tres columnas: year, month y day para simplificar las cosas?\n",
    "df['year'] = df.Date.dt.year.astype(int)\n",
    "df['month'] = df.Date.dt.month.astype(int)\n",
    "df['day'] = df.Date.dt.day.astype(int)"
   ]
  },
  {
   "cell_type": "code",
   "execution_count": null,
   "id": "e13426e6",
   "metadata": {},
   "outputs": [],
   "source": [
    "# Veamos el aspecto del dataframe\n",
    "df"
   ]
  },
  {
   "cell_type": "code",
   "execution_count": null,
   "id": "4d4a1dd8",
   "metadata": {},
   "outputs": [],
   "source": [
    "# Por último, vamos a indexar por la fecha para trabajar con datos temporales\n",
    "df = df.set_index(\"Date\")\n",
    "df"
   ]
  },
  {
   "cell_type": "markdown",
   "id": "306e5175",
   "metadata": {},
   "source": [
    "## Ejercicio 1"
   ]
  },
  {
   "cell_type": "markdown",
   "id": "d68e373d",
   "metadata": {},
   "source": [
    "Siempre que podamos, intentemos visualizar cómo son los datos con los que estamos trabajando. Genera una figura donde el eje X sea la fecha y el eje Y sea el valor de las variables `Consumption` y `Wind`."
   ]
  },
  {
   "cell_type": "code",
   "execution_count": null,
   "id": "52e16124",
   "metadata": {},
   "outputs": [],
   "source": [
    "# TO-DO Genera la figura utilizando PLOT\n"
   ]
  },
  {
   "cell_type": "markdown",
   "id": "f8e68806",
   "metadata": {},
   "source": [
    "La figura da mucha información, pero tendría más sentido evaluar el consumo y lo que aporta la energía eólica en rango mensual. Genera de nuevo la figura pero agrupando por meses. No es válido utilizar la función `resample()`."
   ]
  },
  {
   "cell_type": "code",
   "execution_count": null,
   "id": "69ab943f",
   "metadata": {},
   "outputs": [],
   "source": [
    "# TO-DO Calcula el consumo por mes sin utilizar resample\n",
    "\n",
    "\n",
    "df_mensual"
   ]
  },
  {
   "cell_type": "code",
   "execution_count": null,
   "id": "7282ce0f",
   "metadata": {},
   "outputs": [],
   "source": [
    "# TO-DO Ahora sí, dibuja el consumo por mes\n"
   ]
  },
  {
   "cell_type": "markdown",
   "id": "66f9fa70",
   "metadata": {},
   "source": [
    "## Ejercicio 2"
   ]
  },
  {
   "cell_type": "markdown",
   "id": "e6674ad0",
   "metadata": {},
   "source": [
    "Calcula el valor real de consumo, considerando que la energía generada por el viento es utilizada al 100%. Luego dibuja las tres series en el mismo gráfico."
   ]
  },
  {
   "cell_type": "code",
   "execution_count": null,
   "id": "b53ca349",
   "metadata": {},
   "outputs": [],
   "source": [
    "# TO-DO Crea una nueva columna en el dataframe que guarde el consumo real\n",
    "\n",
    "\n",
    "df_mensual"
   ]
  },
  {
   "cell_type": "code",
   "execution_count": null,
   "id": "0811926f",
   "metadata": {},
   "outputs": [],
   "source": [
    "# TO-DO Dibuja el consumo real por mes\n"
   ]
  },
  {
   "cell_type": "markdown",
   "id": "4b75af24",
   "metadata": {},
   "source": [
    "## Ejercicio 3"
   ]
  },
  {
   "cell_type": "markdown",
   "id": "5ffb6475",
   "metadata": {},
   "source": [
    "Parece razonable pensar que debería haber cierta estacionalidad en la cantidad de energía generada `Wind`. Vamos a intentar encontrar esa estacionalidad a partir de los datos."
   ]
  },
  {
   "cell_type": "markdown",
   "id": "3273f2e3",
   "metadata": {},
   "source": [
    "Antes de nada, eliminemos del dataframe los datos donde no tenemos generación de energía eólica."
   ]
  },
  {
   "cell_type": "code",
   "execution_count": null,
   "id": "0732fbb6",
   "metadata": {},
   "outputs": [],
   "source": [
    "# TO-DO No consideres las filas donde no haya generación de energía\n",
    "\n",
    "\n",
    "df_wind"
   ]
  },
  {
   "cell_type": "markdown",
   "id": "1bb5b3e6",
   "metadata": {},
   "source": [
    "Ahora sí, dibuja en una gráfica la generación de energía eólica por año."
   ]
  },
  {
   "cell_type": "code",
   "execution_count": null,
   "id": "0acfa1d1",
   "metadata": {},
   "outputs": [],
   "source": [
    "# TO-DO Dibuja en una gráfica la generación de energía eólica por año\n"
   ]
  },
  {
   "cell_type": "code",
   "execution_count": null,
   "id": "4df12f91",
   "metadata": {},
   "outputs": [],
   "source": [
    "# TO-DO Calcula la cantidad promedio generada en cada mes\n",
    "\n",
    "\n",
    "wind_mensual"
   ]
  },
  {
   "cell_type": "code",
   "execution_count": null,
   "id": "72ffbc4d",
   "metadata": {},
   "outputs": [],
   "source": [
    "# # TO-DO Dibuja en una gráfica la cantidad promedio generada en cada mes\n",
    "# Añade también de fondo las curvas de cada año\n"
   ]
  },
  {
   "cell_type": "code",
   "execution_count": null,
   "id": "cff41d1b",
   "metadata": {},
   "outputs": [],
   "source": []
  }
 ],
 "metadata": {
  "kernelspec": {
   "display_name": "Python 3 (ipykernel)",
   "language": "python",
   "name": "python3"
  },
  "language_info": {
   "codemirror_mode": {
    "name": "ipython",
    "version": 3
   },
   "file_extension": ".py",
   "mimetype": "text/x-python",
   "name": "python",
   "nbconvert_exporter": "python",
   "pygments_lexer": "ipython3",
   "version": "3.11.4"
  }
 },
 "nbformat": 4,
 "nbformat_minor": 5
}
