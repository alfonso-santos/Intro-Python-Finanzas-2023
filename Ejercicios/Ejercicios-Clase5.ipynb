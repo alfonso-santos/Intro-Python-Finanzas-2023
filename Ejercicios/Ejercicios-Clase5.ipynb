{
 "cells": [
  {
   "cell_type": "markdown",
   "id": "d36e5411",
   "metadata": {},
   "source": [
    "# Ejercicios - Clase 5"
   ]
  },
  {
   "cell_type": "markdown",
   "id": "cba93d75",
   "metadata": {},
   "source": [
    "Ejercicios de los bloques de introducción a python. Funciones\n",
    "\n",
    "**Versión**: 1.0\n",
    "\n",
    "**Fecha**: 13/10/2023"
   ]
  },
  {
   "cell_type": "markdown",
   "id": "60e4fe87",
   "metadata": {},
   "source": [
    "## Ejercicio 1"
   ]
  },
  {
   "cell_type": "markdown",
   "id": "63af7a99",
   "metadata": {},
   "source": [
    "Vamos a comprobar si un número `n` es primo o no, como en la clase pasada, pero utilizando funciones. Define una función `es_primo(n)` que devuelva `True` si `n` es primo o `False` en caso contrario."
   ]
  },
  {
   "cell_type": "code",
   "execution_count": null,
   "id": "4a7b35d9",
   "metadata": {},
   "outputs": [],
   "source": [
    "# TO-DO define la función es primo\n",
    "def es_primo(n):\n",
    "    pass"
   ]
  },
  {
   "cell_type": "code",
   "execution_count": null,
   "id": "66f43edc",
   "metadata": {},
   "outputs": [],
   "source": [
    "print(\"8 es primo:\", es_primo(8))\n",
    "print(\"21 es primo:\", es_primo(21))\n",
    "print(\"23 es primo:\", es_primo(23))"
   ]
  },
  {
   "cell_type": "markdown",
   "id": "28d17416",
   "metadata": {},
   "source": [
    "## Ejercicio 2"
   ]
  },
  {
   "cell_type": "markdown",
   "id": "cd23195c",
   "metadata": {},
   "source": [
    "A partir de una lista de números aleatoria, vamos a quedarnos exclusivamente con los números que sean primos. Para ello, utiliza la función del ejercicio anterior `es_primo(n)`."
   ]
  },
  {
   "cell_type": "code",
   "execution_count": null,
   "id": "1020e95c",
   "metadata": {},
   "outputs": [],
   "source": [
    "import random\n",
    "\n",
    "N = 20\n",
    "max_value = 1000\n",
    "numeros = [random.randint(1, max_value) for _ in range(N)]\n",
    "print(\"Lista de números aleatorios:\")\n",
    "print(numeros)\n",
    "\n",
    "# TO-DO quédate con solamente los números primos\n",
    "\n",
    "        \n",
    "print(\"Lista con sólo los números primos:\")\n",
    "print(numeros_primos)"
   ]
  },
  {
   "cell_type": "markdown",
   "id": "6eea66be",
   "metadata": {},
   "source": [
    "Ejemplos de ejecución:\n",
    "\n",
    "Ejemplo 1:\n",
    "```\n",
    "Lista de números aleatorios:\n",
    "[152, 823, 855, 674, 874, 327, 899, 980, 790, 792, 24, 515, 381, 160, 178, 696, 765, 850, 820, 448]\n",
    "Lista con sólo los números primos:\n",
    "[823]\n",
    "```\n",
    "\n",
    "Ejemplo 2:\n",
    "```\n",
    "Lista de números aleatorios:\n",
    "[943, 248, 217, 36, 989, 407, 887, 958, 789, 772, 918, 898, 652, 135, 636, 773, 829, 695, 607, 234]\n",
    "Lista con sólo los números primos:\n",
    "[887, 773, 829, 607]\n",
    "```\n",
    "\n",
    "Ejemplo 3:\n",
    "```\n",
    "Lista de números aleatorios:\n",
    "[273, 930, 174, 978, 456, 324, 681, 776, 700, 800, 531, 573, 25, 440, 396, 628, 207, 344, 75, 688]\n",
    "Lista con sólo los números primos:\n",
    "[]\n",
    "```"
   ]
  },
  {
   "cell_type": "markdown",
   "id": "cececcd7",
   "metadata": {},
   "source": [
    "## Ejercicio 3"
   ]
  },
  {
   "cell_type": "markdown",
   "id": "591f28f7",
   "metadata": {},
   "source": [
    "Vamos a simular el cálculo del precio de un producto después de aplicarle un descuento utilizando funciones.\n",
    "\n",
    "- La función `calcula_precio_producto(precio, unidades)` calcula el precio base de `unidades` productos.\n",
    "\n",
    "- La función `aplica_descuento_producto(precio, descuento)` calcula el precio resultante después de aplicar el porcentaje `descuento` (definido como decimal entre 0.0 y 1.0).\n",
    "\n",
    "- La función `aplica_impuesto(precio, impuesto)` calcula el precio resultante después de aplicar el porcentaje `impuesto` (definido como decimal entre 0.0 y 1.0).\n",
    "\n",
    "- La función `calcula_precio_total(precio, unidades, descuento, impuesto)` engloba toda la operación y devuelve el precio final después de calcular el precio de `unidades` productos, aplicando el `descuento` y su `impuesto` correspondiente."
   ]
  },
  {
   "cell_type": "code",
   "execution_count": null,
   "id": "656eaa3e",
   "metadata": {},
   "outputs": [],
   "source": [
    "def calcula_precio_producto(precio, unidades):\n",
    "    pass\n",
    "\n",
    "def aplica_descuento_producto(precio, descuento):\n",
    "    pass\n",
    "\n",
    "def aplica_impuesto(precio, impuesto):\n",
    "    pass\n",
    "\n",
    "def calcula_precio_total(precio, unidades, descuento, impuesto):\n",
    "    pass"
   ]
  },
  {
   "cell_type": "code",
   "execution_count": null,
   "id": "adfc5ef8",
   "metadata": {},
   "outputs": [],
   "source": [
    "# Prueba a cambiar estas variables para calcular lo que necesitéis\n",
    "precio_producto = 10.0\n",
    "cantidad = 2\n",
    "descuento = 0.05\n",
    "iva = 0.21\n",
    "\n",
    "precio_final = calcula_precio_total(precio_producto, cantidad, descuento, iva)\n",
    "print(\"El precio final es {:.2f}\".format(precio_final))"
   ]
  },
  {
   "cell_type": "markdown",
   "id": "a56480c5",
   "metadata": {},
   "source": [
    "Respuesta esperada con los valores base:\n",
    "\n",
    "- El precio final es 22.99"
   ]
  },
  {
   "cell_type": "code",
   "execution_count": null,
   "id": "972baf64",
   "metadata": {},
   "outputs": [],
   "source": []
  }
 ],
 "metadata": {
  "kernelspec": {
   "display_name": "Python 3 (ipykernel)",
   "language": "python",
   "name": "python3"
  },
  "language_info": {
   "codemirror_mode": {
    "name": "ipython",
    "version": 3
   },
   "file_extension": ".py",
   "mimetype": "text/x-python",
   "name": "python",
   "nbconvert_exporter": "python",
   "pygments_lexer": "ipython3",
   "version": "3.11.4"
  }
 },
 "nbformat": 4,
 "nbformat_minor": 5
}
