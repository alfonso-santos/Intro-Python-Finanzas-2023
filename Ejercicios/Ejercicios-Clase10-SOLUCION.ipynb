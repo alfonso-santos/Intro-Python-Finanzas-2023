{
 "cells": [
  {
   "cell_type": "markdown",
   "id": "d36e5411",
   "metadata": {},
   "source": [
    "# Ejercicios - Clase 10"
   ]
  },
  {
   "cell_type": "markdown",
   "id": "cba93d75",
   "metadata": {},
   "source": [
    "Ejercicios de los bloques de introducción a python. Pandas III\n",
    "\n",
    "**Versión**: 1.0\n",
    "\n",
    "**Fecha**: 28/10/2023"
   ]
  },
  {
   "cell_type": "markdown",
   "id": "47399824",
   "metadata": {},
   "source": [
    "En este notebook vamos a trabajar con un dataset que vamos a generar en el propio notebook. Es un dataset sencillo donde entender los conceptos más complejos de Pandas."
   ]
  },
  {
   "cell_type": "code",
   "execution_count": 1,
   "id": "972baf64",
   "metadata": {},
   "outputs": [],
   "source": [
    "import pandas as pd\n",
    "import numpy as np\n",
    "import matplotlib.pyplot as plt"
   ]
  },
  {
   "cell_type": "markdown",
   "id": "234c279f",
   "metadata": {},
   "source": [
    "## Generación del Dataset"
   ]
  },
  {
   "cell_type": "markdown",
   "id": "dd0f3668",
   "metadata": {},
   "source": [
    "En el dataset vamos a representar cuántas frutas de cada tipo se venden en una lista de ciudades. Para ello vamos a definir dos listas, `nombre_frutas` y `nombre_ciudades` con varias opciones para generar una tabla."
   ]
  },
  {
   "cell_type": "code",
   "execution_count": 197,
   "id": "ab2dff68",
   "metadata": {},
   "outputs": [],
   "source": [
    "nombre_frutas = [\"Peras\", \"Manzanas\", \"Naranjas\", \"Platanos\", \"Kiwis\", \"Aguacates\", \"Melocotones\", \"Piñas\", \"Papayas\", \"Fresas\"]\n",
    "nombre_ciudades = [\"Madrid\", \"Barcelona\", \"Sevilla\", \"Burgos\", \"Segovia\", \"Cádiz\"]"
   ]
  },
  {
   "cell_type": "markdown",
   "id": "806bc6cc",
   "metadata": {},
   "source": [
    "Ahora, vamos a definir en otra lista, `habitantes`, el número de habitantes por ciudad (aproximado)."
   ]
  },
  {
   "cell_type": "code",
   "execution_count": 198,
   "id": "9e13ac42",
   "metadata": {},
   "outputs": [],
   "source": [
    "habitantes = [3200000, 1600000, 700000, 200000, 50000, 120000]"
   ]
  },
  {
   "cell_type": "markdown",
   "id": "b0483b93",
   "metadata": {},
   "source": [
    "Nuestro dataset va a generar de forma aleatoria el número de frutas que comen por ciudad, considerando que un ciudadano solamente come un tipo de fruta."
   ]
  },
  {
   "cell_type": "code",
   "execution_count": 199,
   "id": "ecda524e",
   "metadata": {},
   "outputs": [],
   "source": [
    "probs = np.random.rand(len(nombre_ciudades), len(nombre_frutas))\n",
    "i_zero = np.random.choice(len(nombre_frutas), len(nombre_ciudades))\n",
    "probs[np.arange(len(nombre_ciudades)), i_zero] = 0\n",
    "probs_normalizadas = probs / probs.sum(axis=1, keepdims=True)\n",
    "consumo_frutas_por_ciudad = (probs_normalizadas * np.array(habitantes)[:, None]).astype(int)\n",
    "consumo_frutas_por_ciudad[:, -1] += np.array(habitantes) - consumo_frutas_por_ciudad.sum(axis=1)"
   ]
  },
  {
   "cell_type": "markdown",
   "id": "04f21367",
   "metadata": {},
   "source": [
    "Para comprobar el cálculo anterior, hay que sumar por filas:"
   ]
  },
  {
   "cell_type": "code",
   "execution_count": 200,
   "id": "cc4ca434",
   "metadata": {},
   "outputs": [
    {
     "data": {
      "text/plain": [
       "array([3200000, 1600000,  700000,  200000,   50000,  120000])"
      ]
     },
     "execution_count": 200,
     "metadata": {},
     "output_type": "execute_result"
    }
   ],
   "source": [
    "consumo_frutas_por_ciudad.sum(axis=1)"
   ]
  },
  {
   "cell_type": "markdown",
   "id": "87f7848d",
   "metadata": {},
   "source": [
    "Por último, generamos el nuevo dataset con el consumo de cada tipo de fruta por ciudad."
   ]
  },
  {
   "cell_type": "code",
   "execution_count": 201,
   "id": "304b5fd3",
   "metadata": {},
   "outputs": [],
   "source": [
    "dataframes = {}\n",
    "for i_ciudad, ciudad in enumerate(nombre_ciudades):\n",
    "    df = pd.DataFrame(columns=[\"Fruta\", \"Consumo\"])\n",
    "    for i_fruta, fruta in enumerate(nombre_frutas):\n",
    "        if consumo_frutas_por_ciudad[i_ciudad, i_fruta] > 0:\n",
    "            df.loc[len(df)] = [fruta, consumo_frutas_por_ciudad[i_ciudad, i_fruta]]\n",
    "    dataframes[ciudad] = df"
   ]
  },
  {
   "cell_type": "markdown",
   "id": "16005a2d",
   "metadata": {},
   "source": [
    "Para obtener, por ejemplo, el consumo de la ciudad `Madrid`:"
   ]
  },
  {
   "cell_type": "code",
   "execution_count": 202,
   "id": "1b75f6e3",
   "metadata": {},
   "outputs": [
    {
     "data": {
      "text/html": [
       "<div>\n",
       "<style scoped>\n",
       "    .dataframe tbody tr th:only-of-type {\n",
       "        vertical-align: middle;\n",
       "    }\n",
       "\n",
       "    .dataframe tbody tr th {\n",
       "        vertical-align: top;\n",
       "    }\n",
       "\n",
       "    .dataframe thead th {\n",
       "        text-align: right;\n",
       "    }\n",
       "</style>\n",
       "<table border=\"1\" class=\"dataframe\">\n",
       "  <thead>\n",
       "    <tr style=\"text-align: right;\">\n",
       "      <th></th>\n",
       "      <th>Fruta</th>\n",
       "      <th>Consumo</th>\n",
       "    </tr>\n",
       "  </thead>\n",
       "  <tbody>\n",
       "    <tr>\n",
       "      <th>0</th>\n",
       "      <td>Peras</td>\n",
       "      <td>430902</td>\n",
       "    </tr>\n",
       "    <tr>\n",
       "      <th>1</th>\n",
       "      <td>Manzanas</td>\n",
       "      <td>44395</td>\n",
       "    </tr>\n",
       "    <tr>\n",
       "      <th>2</th>\n",
       "      <td>Naranjas</td>\n",
       "      <td>91042</td>\n",
       "    </tr>\n",
       "    <tr>\n",
       "      <th>3</th>\n",
       "      <td>Kiwis</td>\n",
       "      <td>440725</td>\n",
       "    </tr>\n",
       "    <tr>\n",
       "      <th>4</th>\n",
       "      <td>Aguacates</td>\n",
       "      <td>551382</td>\n",
       "    </tr>\n",
       "    <tr>\n",
       "      <th>5</th>\n",
       "      <td>Melocotones</td>\n",
       "      <td>218051</td>\n",
       "    </tr>\n",
       "    <tr>\n",
       "      <th>6</th>\n",
       "      <td>Piñas</td>\n",
       "      <td>623968</td>\n",
       "    </tr>\n",
       "    <tr>\n",
       "      <th>7</th>\n",
       "      <td>Papayas</td>\n",
       "      <td>618793</td>\n",
       "    </tr>\n",
       "    <tr>\n",
       "      <th>8</th>\n",
       "      <td>Fresas</td>\n",
       "      <td>180742</td>\n",
       "    </tr>\n",
       "  </tbody>\n",
       "</table>\n",
       "</div>"
      ],
      "text/plain": [
       "         Fruta  Consumo\n",
       "0        Peras   430902\n",
       "1     Manzanas    44395\n",
       "2     Naranjas    91042\n",
       "3        Kiwis   440725\n",
       "4    Aguacates   551382\n",
       "5  Melocotones   218051\n",
       "6        Piñas   623968\n",
       "7      Papayas   618793\n",
       "8       Fresas   180742"
      ]
     },
     "execution_count": 202,
     "metadata": {},
     "output_type": "execute_result"
    }
   ],
   "source": [
    "dataframes['Madrid']"
   ]
  },
  {
   "cell_type": "markdown",
   "id": "5b4be5c6",
   "metadata": {},
   "source": [
    "## Ejercicio 0"
   ]
  },
  {
   "cell_type": "markdown",
   "id": "225c8f82",
   "metadata": {},
   "source": [
    "Comprueba si es necesario realizar algún preprocesado de los tipos de datos del dataset."
   ]
  },
  {
   "cell_type": "code",
   "execution_count": 203,
   "id": "df2fe133",
   "metadata": {},
   "outputs": [
    {
     "name": "stdout",
     "output_type": "stream",
     "text": [
      "<class 'pandas.core.frame.DataFrame'>\n",
      "Int64Index: 9 entries, 0 to 8\n",
      "Data columns (total 2 columns):\n",
      " #   Column   Non-Null Count  Dtype \n",
      "---  ------   --------------  ----- \n",
      " 0   Fruta    9 non-null      object\n",
      " 1   Consumo  9 non-null      int64 \n",
      "dtypes: int64(1), object(1)\n",
      "memory usage: 216.0+ bytes\n"
     ]
    }
   ],
   "source": [
    "# TO-DO Realiza las comprobaciones necesarias\n",
    "df.info()\n",
    "\n",
    "# No es necesario realizar ningún preprocesado ya que Ciudad y Fruta son strings"
   ]
  },
  {
   "cell_type": "markdown",
   "id": "dcb77ab3",
   "metadata": {},
   "source": [
    "## Ejercicio 1"
   ]
  },
  {
   "cell_type": "markdown",
   "id": "0ce3a1a6",
   "metadata": {},
   "source": [
    "Genera un único dataframe cuyas columnas sean `Ciudad`, `Fruta` y `Consumo` a partir de los dataframes originales."
   ]
  },
  {
   "cell_type": "code",
   "execution_count": 223,
   "id": "6c4cc683",
   "metadata": {},
   "outputs": [
    {
     "data": {
      "text/html": [
       "<div>\n",
       "<style scoped>\n",
       "    .dataframe tbody tr th:only-of-type {\n",
       "        vertical-align: middle;\n",
       "    }\n",
       "\n",
       "    .dataframe tbody tr th {\n",
       "        vertical-align: top;\n",
       "    }\n",
       "\n",
       "    .dataframe thead th {\n",
       "        text-align: right;\n",
       "    }\n",
       "</style>\n",
       "<table border=\"1\" class=\"dataframe\">\n",
       "  <thead>\n",
       "    <tr style=\"text-align: right;\">\n",
       "      <th></th>\n",
       "      <th>Ciudad</th>\n",
       "      <th>Fruta</th>\n",
       "      <th>Consumo</th>\n",
       "    </tr>\n",
       "  </thead>\n",
       "  <tbody>\n",
       "    <tr>\n",
       "      <th>0</th>\n",
       "      <td>Barcelona</td>\n",
       "      <td>Manzanas</td>\n",
       "      <td>189368</td>\n",
       "    </tr>\n",
       "    <tr>\n",
       "      <th>5</th>\n",
       "      <td>Cádiz</td>\n",
       "      <td>Aguacates</td>\n",
       "      <td>20715</td>\n",
       "    </tr>\n",
       "    <tr>\n",
       "      <th>1</th>\n",
       "      <td>Segovia</td>\n",
       "      <td>Manzanas</td>\n",
       "      <td>1720</td>\n",
       "    </tr>\n",
       "    <tr>\n",
       "      <th>5</th>\n",
       "      <td>Barcelona</td>\n",
       "      <td>Melocotones</td>\n",
       "      <td>133413</td>\n",
       "    </tr>\n",
       "    <tr>\n",
       "      <th>1</th>\n",
       "      <td>Sevilla</td>\n",
       "      <td>Manzanas</td>\n",
       "      <td>114257</td>\n",
       "    </tr>\n",
       "  </tbody>\n",
       "</table>\n",
       "</div>"
      ],
      "text/plain": [
       "      Ciudad        Fruta  Consumo\n",
       "0  Barcelona     Manzanas   189368\n",
       "5      Cádiz    Aguacates    20715\n",
       "1    Segovia     Manzanas     1720\n",
       "5  Barcelona  Melocotones   133413\n",
       "1    Sevilla     Manzanas   114257"
      ]
     },
     "execution_count": 223,
     "metadata": {},
     "output_type": "execute_result"
    }
   ],
   "source": [
    "# TO-DO Genera un dataframe nuevo que se llame df y procesa en un bucle cada uno de los dataframes de cada ciudad\n",
    "# para acabar con un dataset con 3 columnas: Ciudad, Fruta y Consumo\n",
    "# Para ello, probablemente vas a necesitar los métodos concat y el fillna\n",
    "df = pd.DataFrame()\n",
    "for ciudad in nombre_ciudades:\n",
    "    df_ciudad = dataframes[ciudad]\n",
    "    df_ciudad = pd.concat([pd.Series([ciudad]), df_ciudad], axis=1).fillna(method=\"ffill\")\n",
    "    df = pd.concat([df, df_ciudad])\n",
    "df.columns = [\"Ciudad\", \"Fruta\", \"Consumo\"]\n",
    "df.sample(5)"
   ]
  },
  {
   "cell_type": "markdown",
   "id": "6f34318a",
   "metadata": {},
   "source": [
    "## Ejercicio 2"
   ]
  },
  {
   "cell_type": "markdown",
   "id": "86471c97",
   "metadata": {},
   "source": [
    "Utilizando **pivotTable**, transforma el dataset que has generado en el ejercicio anterior para construir un dataset nuevo donde tengas como índice la ciudad y una columna por el consumo de cada fruta."
   ]
  },
  {
   "cell_type": "code",
   "execution_count": 205,
   "id": "7678fec5",
   "metadata": {},
   "outputs": [
    {
     "data": {
      "text/html": [
       "<div>\n",
       "<style scoped>\n",
       "    .dataframe tbody tr th:only-of-type {\n",
       "        vertical-align: middle;\n",
       "    }\n",
       "\n",
       "    .dataframe tbody tr th {\n",
       "        vertical-align: top;\n",
       "    }\n",
       "\n",
       "    .dataframe thead th {\n",
       "        text-align: right;\n",
       "    }\n",
       "</style>\n",
       "<table border=\"1\" class=\"dataframe\">\n",
       "  <thead>\n",
       "    <tr style=\"text-align: right;\">\n",
       "      <th>Fruta</th>\n",
       "      <th>Aguacates</th>\n",
       "      <th>Fresas</th>\n",
       "      <th>Kiwis</th>\n",
       "      <th>Manzanas</th>\n",
       "      <th>Melocotones</th>\n",
       "      <th>Naranjas</th>\n",
       "      <th>Papayas</th>\n",
       "      <th>Peras</th>\n",
       "      <th>Piñas</th>\n",
       "      <th>Platanos</th>\n",
       "    </tr>\n",
       "    <tr>\n",
       "      <th>Ciudad</th>\n",
       "      <th></th>\n",
       "      <th></th>\n",
       "      <th></th>\n",
       "      <th></th>\n",
       "      <th></th>\n",
       "      <th></th>\n",
       "      <th></th>\n",
       "      <th></th>\n",
       "      <th></th>\n",
       "      <th></th>\n",
       "    </tr>\n",
       "  </thead>\n",
       "  <tbody>\n",
       "    <tr>\n",
       "      <th>Barcelona</th>\n",
       "      <td>180355.0</td>\n",
       "      <td>75092.0</td>\n",
       "      <td>189099.0</td>\n",
       "      <td>189368.0</td>\n",
       "      <td>133413.0</td>\n",
       "      <td>156008.0</td>\n",
       "      <td>197533.0</td>\n",
       "      <td>NaN</td>\n",
       "      <td>210967.0</td>\n",
       "      <td>268165.0</td>\n",
       "    </tr>\n",
       "    <tr>\n",
       "      <th>Burgos</th>\n",
       "      <td>39345.0</td>\n",
       "      <td>43789.0</td>\n",
       "      <td>9780.0</td>\n",
       "      <td>20444.0</td>\n",
       "      <td>NaN</td>\n",
       "      <td>18093.0</td>\n",
       "      <td>232.0</td>\n",
       "      <td>5069.0</td>\n",
       "      <td>29352.0</td>\n",
       "      <td>33896.0</td>\n",
       "    </tr>\n",
       "    <tr>\n",
       "      <th>Cádiz</th>\n",
       "      <td>20715.0</td>\n",
       "      <td>17585.0</td>\n",
       "      <td>13017.0</td>\n",
       "      <td>9312.0</td>\n",
       "      <td>NaN</td>\n",
       "      <td>13437.0</td>\n",
       "      <td>11334.0</td>\n",
       "      <td>6777.0</td>\n",
       "      <td>12579.0</td>\n",
       "      <td>15244.0</td>\n",
       "    </tr>\n",
       "    <tr>\n",
       "      <th>Madrid</th>\n",
       "      <td>551382.0</td>\n",
       "      <td>180742.0</td>\n",
       "      <td>440725.0</td>\n",
       "      <td>44395.0</td>\n",
       "      <td>218051.0</td>\n",
       "      <td>91042.0</td>\n",
       "      <td>618793.0</td>\n",
       "      <td>430902.0</td>\n",
       "      <td>623968.0</td>\n",
       "      <td>NaN</td>\n",
       "    </tr>\n",
       "    <tr>\n",
       "      <th>Segovia</th>\n",
       "      <td>127.0</td>\n",
       "      <td>11476.0</td>\n",
       "      <td>1295.0</td>\n",
       "      <td>1720.0</td>\n",
       "      <td>NaN</td>\n",
       "      <td>12074.0</td>\n",
       "      <td>5268.0</td>\n",
       "      <td>6684.0</td>\n",
       "      <td>5517.0</td>\n",
       "      <td>5839.0</td>\n",
       "    </tr>\n",
       "    <tr>\n",
       "      <th>Sevilla</th>\n",
       "      <td>130458.0</td>\n",
       "      <td>82485.0</td>\n",
       "      <td>89780.0</td>\n",
       "      <td>114257.0</td>\n",
       "      <td>60884.0</td>\n",
       "      <td>54076.0</td>\n",
       "      <td>110195.0</td>\n",
       "      <td>21345.0</td>\n",
       "      <td>36520.0</td>\n",
       "      <td>NaN</td>\n",
       "    </tr>\n",
       "  </tbody>\n",
       "</table>\n",
       "</div>"
      ],
      "text/plain": [
       "Fruta      Aguacates    Fresas     Kiwis  Manzanas  Melocotones  Naranjas  \\\n",
       "Ciudad                                                                      \n",
       "Barcelona   180355.0   75092.0  189099.0  189368.0     133413.0  156008.0   \n",
       "Burgos       39345.0   43789.0    9780.0   20444.0          NaN   18093.0   \n",
       "Cádiz        20715.0   17585.0   13017.0    9312.0          NaN   13437.0   \n",
       "Madrid      551382.0  180742.0  440725.0   44395.0     218051.0   91042.0   \n",
       "Segovia        127.0   11476.0    1295.0    1720.0          NaN   12074.0   \n",
       "Sevilla     130458.0   82485.0   89780.0  114257.0      60884.0   54076.0   \n",
       "\n",
       "Fruta       Papayas     Peras     Piñas  Platanos  \n",
       "Ciudad                                             \n",
       "Barcelona  197533.0       NaN  210967.0  268165.0  \n",
       "Burgos        232.0    5069.0   29352.0   33896.0  \n",
       "Cádiz       11334.0    6777.0   12579.0   15244.0  \n",
       "Madrid     618793.0  430902.0  623968.0       NaN  \n",
       "Segovia      5268.0    6684.0    5517.0    5839.0  \n",
       "Sevilla    110195.0   21345.0   36520.0       NaN  "
      ]
     },
     "execution_count": 205,
     "metadata": {},
     "output_type": "execute_result"
    }
   ],
   "source": [
    "# TO-DO Genera el dataframe df_pivot\n",
    "df_pivot = df.pivot_table(index=\"Ciudad\", columns=\"Fruta\", values=\"Consumo\")\n",
    "df_pivot"
   ]
  },
  {
   "cell_type": "markdown",
   "id": "9dd4cf20",
   "metadata": {},
   "source": [
    "Si el azar así lo ha querido, muy posiblemente tengas **NaN** en algunas celdas. Esto sucede por la manera en la que se han generado los valores de consumo de las tablas, ya que hemos forzado a que alguna fruta tenga un valor 0 en cada fila. Rellena los valores NaN con un valor coherente para este dataset."
   ]
  },
  {
   "cell_type": "code",
   "execution_count": 206,
   "id": "796b8aed",
   "metadata": {},
   "outputs": [
    {
     "data": {
      "text/html": [
       "<div>\n",
       "<style scoped>\n",
       "    .dataframe tbody tr th:only-of-type {\n",
       "        vertical-align: middle;\n",
       "    }\n",
       "\n",
       "    .dataframe tbody tr th {\n",
       "        vertical-align: top;\n",
       "    }\n",
       "\n",
       "    .dataframe thead th {\n",
       "        text-align: right;\n",
       "    }\n",
       "</style>\n",
       "<table border=\"1\" class=\"dataframe\">\n",
       "  <thead>\n",
       "    <tr style=\"text-align: right;\">\n",
       "      <th>Fruta</th>\n",
       "      <th>Aguacates</th>\n",
       "      <th>Fresas</th>\n",
       "      <th>Kiwis</th>\n",
       "      <th>Manzanas</th>\n",
       "      <th>Melocotones</th>\n",
       "      <th>Naranjas</th>\n",
       "      <th>Papayas</th>\n",
       "      <th>Peras</th>\n",
       "      <th>Piñas</th>\n",
       "      <th>Platanos</th>\n",
       "    </tr>\n",
       "    <tr>\n",
       "      <th>Ciudad</th>\n",
       "      <th></th>\n",
       "      <th></th>\n",
       "      <th></th>\n",
       "      <th></th>\n",
       "      <th></th>\n",
       "      <th></th>\n",
       "      <th></th>\n",
       "      <th></th>\n",
       "      <th></th>\n",
       "      <th></th>\n",
       "    </tr>\n",
       "  </thead>\n",
       "  <tbody>\n",
       "    <tr>\n",
       "      <th>Barcelona</th>\n",
       "      <td>180355.0</td>\n",
       "      <td>75092.0</td>\n",
       "      <td>189099.0</td>\n",
       "      <td>189368.0</td>\n",
       "      <td>133413.0</td>\n",
       "      <td>156008.0</td>\n",
       "      <td>197533.0</td>\n",
       "      <td>0.0</td>\n",
       "      <td>210967.0</td>\n",
       "      <td>268165.0</td>\n",
       "    </tr>\n",
       "    <tr>\n",
       "      <th>Burgos</th>\n",
       "      <td>39345.0</td>\n",
       "      <td>43789.0</td>\n",
       "      <td>9780.0</td>\n",
       "      <td>20444.0</td>\n",
       "      <td>0.0</td>\n",
       "      <td>18093.0</td>\n",
       "      <td>232.0</td>\n",
       "      <td>5069.0</td>\n",
       "      <td>29352.0</td>\n",
       "      <td>33896.0</td>\n",
       "    </tr>\n",
       "    <tr>\n",
       "      <th>Cádiz</th>\n",
       "      <td>20715.0</td>\n",
       "      <td>17585.0</td>\n",
       "      <td>13017.0</td>\n",
       "      <td>9312.0</td>\n",
       "      <td>0.0</td>\n",
       "      <td>13437.0</td>\n",
       "      <td>11334.0</td>\n",
       "      <td>6777.0</td>\n",
       "      <td>12579.0</td>\n",
       "      <td>15244.0</td>\n",
       "    </tr>\n",
       "    <tr>\n",
       "      <th>Madrid</th>\n",
       "      <td>551382.0</td>\n",
       "      <td>180742.0</td>\n",
       "      <td>440725.0</td>\n",
       "      <td>44395.0</td>\n",
       "      <td>218051.0</td>\n",
       "      <td>91042.0</td>\n",
       "      <td>618793.0</td>\n",
       "      <td>430902.0</td>\n",
       "      <td>623968.0</td>\n",
       "      <td>0.0</td>\n",
       "    </tr>\n",
       "    <tr>\n",
       "      <th>Segovia</th>\n",
       "      <td>127.0</td>\n",
       "      <td>11476.0</td>\n",
       "      <td>1295.0</td>\n",
       "      <td>1720.0</td>\n",
       "      <td>0.0</td>\n",
       "      <td>12074.0</td>\n",
       "      <td>5268.0</td>\n",
       "      <td>6684.0</td>\n",
       "      <td>5517.0</td>\n",
       "      <td>5839.0</td>\n",
       "    </tr>\n",
       "    <tr>\n",
       "      <th>Sevilla</th>\n",
       "      <td>130458.0</td>\n",
       "      <td>82485.0</td>\n",
       "      <td>89780.0</td>\n",
       "      <td>114257.0</td>\n",
       "      <td>60884.0</td>\n",
       "      <td>54076.0</td>\n",
       "      <td>110195.0</td>\n",
       "      <td>21345.0</td>\n",
       "      <td>36520.0</td>\n",
       "      <td>0.0</td>\n",
       "    </tr>\n",
       "  </tbody>\n",
       "</table>\n",
       "</div>"
      ],
      "text/plain": [
       "Fruta      Aguacates    Fresas     Kiwis  Manzanas  Melocotones  Naranjas  \\\n",
       "Ciudad                                                                      \n",
       "Barcelona   180355.0   75092.0  189099.0  189368.0     133413.0  156008.0   \n",
       "Burgos       39345.0   43789.0    9780.0   20444.0          0.0   18093.0   \n",
       "Cádiz        20715.0   17585.0   13017.0    9312.0          0.0   13437.0   \n",
       "Madrid      551382.0  180742.0  440725.0   44395.0     218051.0   91042.0   \n",
       "Segovia        127.0   11476.0    1295.0    1720.0          0.0   12074.0   \n",
       "Sevilla     130458.0   82485.0   89780.0  114257.0      60884.0   54076.0   \n",
       "\n",
       "Fruta       Papayas     Peras     Piñas  Platanos  \n",
       "Ciudad                                             \n",
       "Barcelona  197533.0       0.0  210967.0  268165.0  \n",
       "Burgos        232.0    5069.0   29352.0   33896.0  \n",
       "Cádiz       11334.0    6777.0   12579.0   15244.0  \n",
       "Madrid     618793.0  430902.0  623968.0       0.0  \n",
       "Segovia      5268.0    6684.0    5517.0    5839.0  \n",
       "Sevilla    110195.0   21345.0   36520.0       0.0  "
      ]
     },
     "execution_count": 206,
     "metadata": {},
     "output_type": "execute_result"
    }
   ],
   "source": [
    "# TO-DO Rellena los valores NaN con un valor coherente para este dataset\n",
    "df_pivot.fillna(0, inplace=True)\n",
    "df_pivot"
   ]
  },
  {
   "cell_type": "markdown",
   "id": "1582c562",
   "metadata": {},
   "source": [
    "¿Por qué has tomado esa decisión?"
   ]
  },
  {
   "cell_type": "code",
   "execution_count": 207,
   "id": "1f08364e",
   "metadata": {},
   "outputs": [],
   "source": [
    "# TO-DO Incluye tu respuesta en el comentario\n",
    "\"\"\"\n",
    "Lo lógico parece ser rellenar los NaN con 0 ya que no se ha generado ningún registro cuando no había consumo \n",
    "de esa fruta.\n",
    "\"\"\";"
   ]
  },
  {
   "cell_type": "markdown",
   "id": "5c8dc135",
   "metadata": {},
   "source": [
    "## Ejercicio 3"
   ]
  },
  {
   "cell_type": "markdown",
   "id": "1bc02aa0",
   "metadata": {},
   "source": [
    "Si volvemos a la forma en la que hemos generado los datos, vamos a visualizar de nuevo la matriz `consumo_frutas_por_ciudad`."
   ]
  },
  {
   "cell_type": "code",
   "execution_count": 208,
   "id": "abd8614e",
   "metadata": {},
   "outputs": [
    {
     "data": {
      "text/plain": [
       "array([[430902,  44395,  91042,      0, 440725, 551382, 218051, 623968,\n",
       "        618793, 180742],\n",
       "       [     0, 189368, 156008, 268165, 189099, 180355, 133413, 210967,\n",
       "        197533,  75092],\n",
       "       [ 21345, 114257,  54076,      0,  89780, 130458,  60884,  36520,\n",
       "        110195,  82485],\n",
       "       [  5069,  20444,  18093,  33896,   9780,  39345,      0,  29352,\n",
       "           232,  43789],\n",
       "       [  6684,   1720,  12074,   5839,   1295,    127,      0,   5517,\n",
       "          5268,  11476],\n",
       "       [  6777,   9312,  13437,  15244,  13017,  20715,      0,  12579,\n",
       "         11334,  17585]])"
      ]
     },
     "execution_count": 208,
     "metadata": {},
     "output_type": "execute_result"
    }
   ],
   "source": [
    "consumo_frutas_por_ciudad"
   ]
  },
  {
   "cell_type": "markdown",
   "id": "334b5db9",
   "metadata": {},
   "source": [
    "Se parece a la pivotTable que hemos gneerado en el ejercicio anterior. De hecho, deben tener exactamente la misma información ya que representan lo mismo. Genera directamente un dataframe con la matriz `consumo_frutas_por_ciudad`."
   ]
  },
  {
   "cell_type": "code",
   "execution_count": 209,
   "id": "e99a3996",
   "metadata": {},
   "outputs": [
    {
     "data": {
      "text/html": [
       "<div>\n",
       "<style scoped>\n",
       "    .dataframe tbody tr th:only-of-type {\n",
       "        vertical-align: middle;\n",
       "    }\n",
       "\n",
       "    .dataframe tbody tr th {\n",
       "        vertical-align: top;\n",
       "    }\n",
       "\n",
       "    .dataframe thead th {\n",
       "        text-align: right;\n",
       "    }\n",
       "</style>\n",
       "<table border=\"1\" class=\"dataframe\">\n",
       "  <thead>\n",
       "    <tr style=\"text-align: right;\">\n",
       "      <th></th>\n",
       "      <th>Aguacates</th>\n",
       "      <th>Fresas</th>\n",
       "      <th>Kiwis</th>\n",
       "      <th>Manzanas</th>\n",
       "      <th>Melocotones</th>\n",
       "      <th>Naranjas</th>\n",
       "      <th>Papayas</th>\n",
       "      <th>Peras</th>\n",
       "      <th>Piñas</th>\n",
       "      <th>Platanos</th>\n",
       "    </tr>\n",
       "  </thead>\n",
       "  <tbody>\n",
       "    <tr>\n",
       "      <th>Barcelona</th>\n",
       "      <td>180355</td>\n",
       "      <td>75092</td>\n",
       "      <td>189099</td>\n",
       "      <td>189368</td>\n",
       "      <td>133413</td>\n",
       "      <td>156008</td>\n",
       "      <td>197533</td>\n",
       "      <td>0</td>\n",
       "      <td>210967</td>\n",
       "      <td>268165</td>\n",
       "    </tr>\n",
       "    <tr>\n",
       "      <th>Burgos</th>\n",
       "      <td>39345</td>\n",
       "      <td>43789</td>\n",
       "      <td>9780</td>\n",
       "      <td>20444</td>\n",
       "      <td>0</td>\n",
       "      <td>18093</td>\n",
       "      <td>232</td>\n",
       "      <td>5069</td>\n",
       "      <td>29352</td>\n",
       "      <td>33896</td>\n",
       "    </tr>\n",
       "    <tr>\n",
       "      <th>Cádiz</th>\n",
       "      <td>20715</td>\n",
       "      <td>17585</td>\n",
       "      <td>13017</td>\n",
       "      <td>9312</td>\n",
       "      <td>0</td>\n",
       "      <td>13437</td>\n",
       "      <td>11334</td>\n",
       "      <td>6777</td>\n",
       "      <td>12579</td>\n",
       "      <td>15244</td>\n",
       "    </tr>\n",
       "    <tr>\n",
       "      <th>Madrid</th>\n",
       "      <td>551382</td>\n",
       "      <td>180742</td>\n",
       "      <td>440725</td>\n",
       "      <td>44395</td>\n",
       "      <td>218051</td>\n",
       "      <td>91042</td>\n",
       "      <td>618793</td>\n",
       "      <td>430902</td>\n",
       "      <td>623968</td>\n",
       "      <td>0</td>\n",
       "    </tr>\n",
       "    <tr>\n",
       "      <th>Segovia</th>\n",
       "      <td>127</td>\n",
       "      <td>11476</td>\n",
       "      <td>1295</td>\n",
       "      <td>1720</td>\n",
       "      <td>0</td>\n",
       "      <td>12074</td>\n",
       "      <td>5268</td>\n",
       "      <td>6684</td>\n",
       "      <td>5517</td>\n",
       "      <td>5839</td>\n",
       "    </tr>\n",
       "    <tr>\n",
       "      <th>Sevilla</th>\n",
       "      <td>130458</td>\n",
       "      <td>82485</td>\n",
       "      <td>89780</td>\n",
       "      <td>114257</td>\n",
       "      <td>60884</td>\n",
       "      <td>54076</td>\n",
       "      <td>110195</td>\n",
       "      <td>21345</td>\n",
       "      <td>36520</td>\n",
       "      <td>0</td>\n",
       "    </tr>\n",
       "  </tbody>\n",
       "</table>\n",
       "</div>"
      ],
      "text/plain": [
       "           Aguacates  Fresas   Kiwis  Manzanas  Melocotones  Naranjas  \\\n",
       "Barcelona     180355   75092  189099    189368       133413    156008   \n",
       "Burgos         39345   43789    9780     20444            0     18093   \n",
       "Cádiz          20715   17585   13017      9312            0     13437   \n",
       "Madrid        551382  180742  440725     44395       218051     91042   \n",
       "Segovia          127   11476    1295      1720            0     12074   \n",
       "Sevilla       130458   82485   89780    114257        60884     54076   \n",
       "\n",
       "           Papayas   Peras   Piñas  Platanos  \n",
       "Barcelona   197533       0  210967    268165  \n",
       "Burgos         232    5069   29352     33896  \n",
       "Cádiz        11334    6777   12579     15244  \n",
       "Madrid      618793  430902  623968         0  \n",
       "Segovia       5268    6684    5517      5839  \n",
       "Sevilla     110195   21345   36520         0  "
      ]
     },
     "execution_count": 209,
     "metadata": {},
     "output_type": "execute_result"
    }
   ],
   "source": [
    "# TO-DO Genera un nuevo dataframe df a partir de la matriz consumo_frutas_por_ciudad\n",
    "df = pd.DataFrame(consumo_frutas_por_ciudad, \n",
    "                  index=nombre_ciudades, \n",
    "                  columns=nombre_frutas).sort_index(axis=0).sort_index(axis=1)\n",
    "df"
   ]
  },
  {
   "cell_type": "markdown",
   "id": "e85e823d",
   "metadata": {},
   "source": [
    "## Ejercicio 4"
   ]
  },
  {
   "cell_type": "markdown",
   "id": "c4add822",
   "metadata": {},
   "source": [
    "Obtén cierta información a partir del dataset:"
   ]
  },
  {
   "cell_type": "markdown",
   "id": "5292ebcd",
   "metadata": {},
   "source": [
    "**4.1** Las tres ciudades que más naranjas consumen respecto al total de su población."
   ]
  },
  {
   "cell_type": "code",
   "execution_count": 210,
   "id": "d6002a3e",
   "metadata": {},
   "outputs": [
    {
     "data": {
      "text/html": [
       "<div>\n",
       "<style scoped>\n",
       "    .dataframe tbody tr th:only-of-type {\n",
       "        vertical-align: middle;\n",
       "    }\n",
       "\n",
       "    .dataframe tbody tr th {\n",
       "        vertical-align: top;\n",
       "    }\n",
       "\n",
       "    .dataframe thead th {\n",
       "        text-align: right;\n",
       "    }\n",
       "</style>\n",
       "<table border=\"1\" class=\"dataframe\">\n",
       "  <thead>\n",
       "    <tr style=\"text-align: right;\">\n",
       "      <th></th>\n",
       "      <th>Aguacates</th>\n",
       "      <th>Fresas</th>\n",
       "      <th>Kiwis</th>\n",
       "      <th>Manzanas</th>\n",
       "      <th>Melocotones</th>\n",
       "      <th>Naranjas</th>\n",
       "      <th>Papayas</th>\n",
       "      <th>Peras</th>\n",
       "      <th>Piñas</th>\n",
       "      <th>Platanos</th>\n",
       "      <th>Naranjas_pct</th>\n",
       "    </tr>\n",
       "  </thead>\n",
       "  <tbody>\n",
       "    <tr>\n",
       "      <th>Segovia</th>\n",
       "      <td>127</td>\n",
       "      <td>11476</td>\n",
       "      <td>1295</td>\n",
       "      <td>1720</td>\n",
       "      <td>0</td>\n",
       "      <td>12074</td>\n",
       "      <td>5268</td>\n",
       "      <td>6684</td>\n",
       "      <td>5517</td>\n",
       "      <td>5839</td>\n",
       "      <td>0.241480</td>\n",
       "    </tr>\n",
       "    <tr>\n",
       "      <th>Cádiz</th>\n",
       "      <td>20715</td>\n",
       "      <td>17585</td>\n",
       "      <td>13017</td>\n",
       "      <td>9312</td>\n",
       "      <td>0</td>\n",
       "      <td>13437</td>\n",
       "      <td>11334</td>\n",
       "      <td>6777</td>\n",
       "      <td>12579</td>\n",
       "      <td>15244</td>\n",
       "      <td>0.111975</td>\n",
       "    </tr>\n",
       "    <tr>\n",
       "      <th>Barcelona</th>\n",
       "      <td>180355</td>\n",
       "      <td>75092</td>\n",
       "      <td>189099</td>\n",
       "      <td>189368</td>\n",
       "      <td>133413</td>\n",
       "      <td>156008</td>\n",
       "      <td>197533</td>\n",
       "      <td>0</td>\n",
       "      <td>210967</td>\n",
       "      <td>268165</td>\n",
       "      <td>0.097505</td>\n",
       "    </tr>\n",
       "  </tbody>\n",
       "</table>\n",
       "</div>"
      ],
      "text/plain": [
       "           Aguacates  Fresas   Kiwis  Manzanas  Melocotones  Naranjas  \\\n",
       "Segovia          127   11476    1295      1720            0     12074   \n",
       "Cádiz          20715   17585   13017      9312            0     13437   \n",
       "Barcelona     180355   75092  189099    189368       133413    156008   \n",
       "\n",
       "           Papayas  Peras   Piñas  Platanos  Naranjas_pct  \n",
       "Segovia       5268   6684    5517      5839      0.241480  \n",
       "Cádiz        11334   6777   12579     15244      0.111975  \n",
       "Barcelona   197533      0  210967    268165      0.097505  "
      ]
     },
     "execution_count": 210,
     "metadata": {},
     "output_type": "execute_result"
    }
   ],
   "source": [
    "# TO-DO Rellena esta celda para realizar el ejercicio\n",
    "df[\"Naranjas_pct\"] = df[\"Naranjas\"] / df.sum(axis=1)\n",
    "df.sort_values(by=\"Naranjas_pct\", ascending=False)[:3]"
   ]
  },
  {
   "cell_type": "markdown",
   "id": "7f3013fd",
   "metadata": {},
   "source": [
    "**4.2** Las tres ciudades con más equilibrio en el consumo de frutas. Para ello, podemos asumir que una ciudad con un consumo equilibrado es aquella que tiene una desviación estándar pequeña en comparación con el resto. En el caso extremo donde `std = 0` estaríamos hablando de que todas las frutas se consumen por igual."
   ]
  },
  {
   "cell_type": "code",
   "execution_count": 211,
   "id": "cff41d1b",
   "metadata": {},
   "outputs": [
    {
     "data": {
      "text/html": [
       "<div>\n",
       "<style scoped>\n",
       "    .dataframe tbody tr th:only-of-type {\n",
       "        vertical-align: middle;\n",
       "    }\n",
       "\n",
       "    .dataframe tbody tr th {\n",
       "        vertical-align: top;\n",
       "    }\n",
       "\n",
       "    .dataframe thead th {\n",
       "        text-align: right;\n",
       "    }\n",
       "</style>\n",
       "<table border=\"1\" class=\"dataframe\">\n",
       "  <thead>\n",
       "    <tr style=\"text-align: right;\">\n",
       "      <th></th>\n",
       "      <th>Aguacates</th>\n",
       "      <th>Fresas</th>\n",
       "      <th>Kiwis</th>\n",
       "      <th>Manzanas</th>\n",
       "      <th>Melocotones</th>\n",
       "      <th>Naranjas</th>\n",
       "      <th>Papayas</th>\n",
       "      <th>Peras</th>\n",
       "      <th>Piñas</th>\n",
       "      <th>Platanos</th>\n",
       "      <th>...</th>\n",
       "      <th>Peras_pct</th>\n",
       "      <th>Manzanas_pct</th>\n",
       "      <th>Platanos_pct</th>\n",
       "      <th>Kiwis_pct</th>\n",
       "      <th>Aguacates_pct</th>\n",
       "      <th>Melocotones_pct</th>\n",
       "      <th>Piñas_pct</th>\n",
       "      <th>Papayas_pct</th>\n",
       "      <th>Fresas_pct</th>\n",
       "      <th>std</th>\n",
       "    </tr>\n",
       "  </thead>\n",
       "  <tbody>\n",
       "    <tr>\n",
       "      <th>Barcelona</th>\n",
       "      <td>180355</td>\n",
       "      <td>75092</td>\n",
       "      <td>189099</td>\n",
       "      <td>189368</td>\n",
       "      <td>133413</td>\n",
       "      <td>156008</td>\n",
       "      <td>197533</td>\n",
       "      <td>0</td>\n",
       "      <td>210967</td>\n",
       "      <td>268165</td>\n",
       "      <td>...</td>\n",
       "      <td>0.000000</td>\n",
       "      <td>0.118355</td>\n",
       "      <td>0.167603</td>\n",
       "      <td>0.118187</td>\n",
       "      <td>0.112722</td>\n",
       "      <td>0.083383</td>\n",
       "      <td>0.131854</td>\n",
       "      <td>0.123458</td>\n",
       "      <td>0.046932</td>\n",
       "      <td>0.047215</td>\n",
       "    </tr>\n",
       "    <tr>\n",
       "      <th>Cádiz</th>\n",
       "      <td>20715</td>\n",
       "      <td>17585</td>\n",
       "      <td>13017</td>\n",
       "      <td>9312</td>\n",
       "      <td>0</td>\n",
       "      <td>13437</td>\n",
       "      <td>11334</td>\n",
       "      <td>6777</td>\n",
       "      <td>12579</td>\n",
       "      <td>15244</td>\n",
       "      <td>...</td>\n",
       "      <td>0.056475</td>\n",
       "      <td>0.077600</td>\n",
       "      <td>0.127033</td>\n",
       "      <td>0.108475</td>\n",
       "      <td>0.172624</td>\n",
       "      <td>0.000000</td>\n",
       "      <td>0.104824</td>\n",
       "      <td>0.094449</td>\n",
       "      <td>0.146541</td>\n",
       "      <td>0.048116</td>\n",
       "    </tr>\n",
       "    <tr>\n",
       "      <th>Sevilla</th>\n",
       "      <td>130458</td>\n",
       "      <td>82485</td>\n",
       "      <td>89780</td>\n",
       "      <td>114257</td>\n",
       "      <td>60884</td>\n",
       "      <td>54076</td>\n",
       "      <td>110195</td>\n",
       "      <td>21345</td>\n",
       "      <td>36520</td>\n",
       "      <td>0</td>\n",
       "      <td>...</td>\n",
       "      <td>0.030493</td>\n",
       "      <td>0.163224</td>\n",
       "      <td>0.000000</td>\n",
       "      <td>0.128257</td>\n",
       "      <td>0.186368</td>\n",
       "      <td>0.086977</td>\n",
       "      <td>0.052171</td>\n",
       "      <td>0.157421</td>\n",
       "      <td>0.117836</td>\n",
       "      <td>0.061171</td>\n",
       "    </tr>\n",
       "  </tbody>\n",
       "</table>\n",
       "<p>3 rows × 21 columns</p>\n",
       "</div>"
      ],
      "text/plain": [
       "           Aguacates  Fresas   Kiwis  Manzanas  Melocotones  Naranjas  \\\n",
       "Barcelona     180355   75092  189099    189368       133413    156008   \n",
       "Cádiz          20715   17585   13017      9312            0     13437   \n",
       "Sevilla       130458   82485   89780    114257        60884     54076   \n",
       "\n",
       "           Papayas  Peras   Piñas  Platanos  ...  Peras_pct  Manzanas_pct  \\\n",
       "Barcelona   197533      0  210967    268165  ...   0.000000      0.118355   \n",
       "Cádiz        11334   6777   12579     15244  ...   0.056475      0.077600   \n",
       "Sevilla     110195  21345   36520         0  ...   0.030493      0.163224   \n",
       "\n",
       "           Platanos_pct  Kiwis_pct  Aguacates_pct  Melocotones_pct  Piñas_pct  \\\n",
       "Barcelona      0.167603   0.118187       0.112722         0.083383   0.131854   \n",
       "Cádiz          0.127033   0.108475       0.172624         0.000000   0.104824   \n",
       "Sevilla        0.000000   0.128257       0.186368         0.086977   0.052171   \n",
       "\n",
       "           Papayas_pct  Fresas_pct       std  \n",
       "Barcelona     0.123458    0.046932  0.047215  \n",
       "Cádiz         0.094449    0.146541  0.048116  \n",
       "Sevilla       0.157421    0.117836  0.061171  \n",
       "\n",
       "[3 rows x 21 columns]"
      ]
     },
     "execution_count": 211,
     "metadata": {},
     "output_type": "execute_result"
    }
   ],
   "source": [
    "# TO-DO Rellena esta celda para realizar el ejercicio\n",
    "for fruta in nombre_frutas:\n",
    "    df[fruta+\"_pct\"] = df[fruta] / df.sum(axis=1)\n",
    "df[\"std\"] = df[[fruta+\"_pct\" for fruta in nombre_frutas]].std(axis=1)\n",
    "df.sort_values(by=\"std\")[:3]"
   ]
  },
  {
   "cell_type": "markdown",
   "id": "fdf41ec7",
   "metadata": {},
   "source": [
    "Incluye el código para visualizar este mismo resultado con una figura de barras. En la figura se debe ver que las ciudades con menor std en la celda anterior son aquellas donde el consumo tiene menos \"picos\", es decir, es más uniforme en la población."
   ]
  },
  {
   "cell_type": "code",
   "execution_count": 220,
   "id": "3175c7a8",
   "metadata": {},
   "outputs": [
    {
     "data": {
      "image/png": "[encoded data removed]",
      "text/plain": [
       "<Figure size 640x480 with 1 Axes>"
      ]
     },
     "metadata": {},
     "output_type": "display_data"
    }
   ],
   "source": [
    "# TO-DO Rellena esta celda con un plot.bar() para visualizar el resultado\n",
    "df[[fruta+\"_pct\" for fruta in nombre_frutas]].plot.bar()\n",
    "plt.legend([])\n",
    "plt.show()"
   ]
  },
  {
   "cell_type": "code",
   "execution_count": null,
   "id": "5963aeb7",
   "metadata": {},
   "outputs": [],
   "source": []
  }
 ],
 "metadata": {
  "kernelspec": {
   "display_name": "Python 3 (ipykernel)",
   "language": "python",
   "name": "python3"
  },
  "language_info": {
   "codemirror_mode": {
    "name": "ipython",
    "version": 3
   },
   "file_extension": ".py",
   "mimetype": "text/x-python",
   "name": "python",
   "nbconvert_exporter": "python",
   "pygments_lexer": "ipython3",
   "version": "3.11.4"
  }
 },
 "nbformat": 4,
 "nbformat_minor": 5
}
