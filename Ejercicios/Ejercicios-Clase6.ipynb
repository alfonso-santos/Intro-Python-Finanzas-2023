{
 "cells": [
  {
   "cell_type": "markdown",
   "id": "d36e5411",
   "metadata": {},
   "source": [
    "# Ejercicios - Clase 6"
   ]
  },
  {
   "cell_type": "markdown",
   "id": "cba93d75",
   "metadata": {},
   "source": [
    "Ejercicios de los bloques de introducción a python. Numpy\n",
    "\n",
    "**Versión**: 1.0\n",
    "\n",
    "**Fecha**: 21/10/2023"
   ]
  },
  {
   "cell_type": "markdown",
   "id": "47399824",
   "metadata": {},
   "source": [
    "En este notebook vamos a trabajar con dos conjuntos de datos (datasets), que han sido creado artificialmente para los ejercicios. Por ahora no debéis saber qué es Pandas, pero lo utilizaremos para leer el fichero en formato CSV, visualizarlo y luego pasarlo a Numpy, librería que sí conocemos. A fin de cuentas, leer un fichero CSV es lo mismo que gestionar una matriz de datos.\n",
    "\n",
    "El primer dataset define las ventas de los productos de una empresa. Incluye la fecha de venta, el ID del producto, el número de productos vendidos y el precio del producto vendido."
   ]
  },
  {
   "cell_type": "code",
   "execution_count": null,
   "id": "972baf64",
   "metadata": {},
   "outputs": [],
   "source": [
    "import pandas as pd\n",
    "import numpy as np"
   ]
  },
  {
   "cell_type": "code",
   "execution_count": null,
   "id": "3a7c1c1a",
   "metadata": {},
   "outputs": [],
   "source": [
    "!git clone \"https://github.com/alfonso-santos/Intro-Python-Finanzas-2023.git\"\n",
    "path = \"Intro-Python-Finanzas-2023/Ejercicios/datos/\""
   ]
  },
  {
   "cell_type": "code",
   "execution_count": null,
   "id": "eba737aa",
   "metadata": {},
   "outputs": [],
   "source": [
    "df = pd.read_csv(path + \"ventas_generadas.csv\", index_col=\"Unnamed: 0\")\n",
    "df"
   ]
  },
  {
   "cell_type": "code",
   "execution_count": null,
   "id": "e8968437",
   "metadata": {},
   "outputs": [],
   "source": [
    "datos = df.to_numpy()\n",
    "datos.shape"
   ]
  },
  {
   "cell_type": "markdown",
   "id": "60e4fe87",
   "metadata": {},
   "source": [
    "## Ejercicio 1"
   ]
  },
  {
   "cell_type": "markdown",
   "id": "351f76d1",
   "metadata": {},
   "source": [
    "Obtén el total de ventas del producto con ID 16 en el año 2008."
   ]
  },
  {
   "cell_type": "code",
   "execution_count": null,
   "id": "b6ed08db",
   "metadata": {},
   "outputs": [],
   "source": [
    "id_producto = 16\n",
    "\n",
    "# TO-DO Primero, define los índices que quieres obtener\n",
    "# 1. Guarda en la variable indices_producto los índices del id_producto 16\n",
    "indices_producto = # TO-DO\n",
    "\n",
    "# 2. Guarda en la variable indices_anno los índices del año 2008\n",
    "indices_anno = # TO-DO\n",
    "\n",
    "# 3. Combina los índices entre booleanos.\n",
    "indices = # TO-DO\n",
    "\n",
    "\n",
    "# Visualizamos los datos con pandas\n",
    "df[indices]"
   ]
  },
  {
   "cell_type": "code",
   "execution_count": null,
   "id": "f716d0f8",
   "metadata": {},
   "outputs": [],
   "source": [
    "# A partir de aquí, datos_ej1 contiene tu matriz con las filas que quieres procesar\n",
    "\n",
    "datos_ej1 = datos[indices]\n",
    "print(datos_ej1.shape)\n",
    "\n",
    "# TO-DO termina el resto del programa calculando el precio total de ventas\n",
    "ventas_total = # TO-DO\n",
    "\n",
    "print(\"El total de ventas del producto con ID 16 en 2008 es {}\".format(ventas_total))"
   ]
  },
  {
   "cell_type": "markdown",
   "id": "93f3c938",
   "metadata": {},
   "source": [
    "Respuesta esperada:\n",
    "\n",
    "- El total de ventas del producto con ID 16 en 2008 es 542"
   ]
  },
  {
   "cell_type": "markdown",
   "id": "3a122700",
   "metadata": {},
   "source": [
    "## Ejercicio 2"
   ]
  },
  {
   "cell_type": "markdown",
   "id": "c8bf241d",
   "metadata": {},
   "source": [
    "Define una función que haga todo el proceso anterior de calcular el total de ventas de un producto determinado en un año específico. Completa la siguiente función:"
   ]
  },
  {
   "cell_type": "code",
   "execution_count": null,
   "id": "aab72c5f",
   "metadata": {},
   "outputs": [],
   "source": [
    "def obtiene_total_ventas(datos, id_producto, anno):\n",
    "    # TO-DO completa la función\n",
    "    pass"
   ]
  },
  {
   "cell_type": "markdown",
   "id": "f3c78e5e",
   "metadata": {},
   "source": [
    "Imprime el ID del producto que más se ha vendido en cada año."
   ]
  },
  {
   "cell_type": "code",
   "execution_count": null,
   "id": "0d20f757",
   "metadata": {},
   "outputs": [],
   "source": [
    "# Para que el código funcione, necesitas definir estas 2 variables:\n",
    "#   anno: El año que se está procesando en el bucle\n",
    "#   best_producto: El producto más vendido en el año correspondiente\n",
    "\n",
    "# TO-DO Para cada año, tienes que buscar el mayor número de ventas de cada producto\n",
    "for anno in np.unique(datos[:, 0].astype(\"datetime64[Y]\")):\n",
    "    # TO-DO\n",
    "    \n",
    "    print(\"En el año {} el producto con más ventas es {}\".format(anno, best_producto))"
   ]
  },
  {
   "cell_type": "markdown",
   "id": "ff39931e",
   "metadata": {},
   "source": [
    "Respuesta esperada:\n",
    "\n",
    "```\n",
    "En el año 2000 el producto con más ventas es 14\n",
    "En el año 2001 el producto con más ventas es 7\n",
    "En el año 2002 el producto con más ventas es 9\n",
    "En el año 2003 el producto con más ventas es 9\n",
    "En el año 2004 el producto con más ventas es 8\n",
    "En el año 2005 el producto con más ventas es 10\n",
    "En el año 2006 el producto con más ventas es 6\n",
    "En el año 2007 el producto con más ventas es 17\n",
    "En el año 2008 el producto con más ventas es 8\n",
    "En el año 2009 el producto con más ventas es 18\n",
    "En el año 2010 el producto con más ventas es 19\n",
    "En el año 2011 el producto con más ventas es 17\n",
    "En el año 2012 el producto con más ventas es 15\n",
    "En el año 2013 el producto con más ventas es 13\n",
    "En el año 2014 el producto con más ventas es 15\n",
    "En el año 2015 el producto con más ventas es 18\n",
    "En el año 2016 el producto con más ventas es 12\n",
    "En el año 2017 el producto con más ventas es 10\n",
    "En el año 2018 el producto con más ventas es 6\n",
    "En el año 2019 el producto con más ventas es 17\n",
    "En el año 2020 el producto con más ventas es 19\n",
    "En el año 2021 el producto con más ventas es 7\n",
    "En el año 2022 el producto con más ventas es 1\n",
    "En el año 2023 el producto con más ventas es 18\n",
    "```"
   ]
  },
  {
   "cell_type": "markdown",
   "id": "6f14c83e",
   "metadata": {},
   "source": [
    "## Ejercicio 3"
   ]
  },
  {
   "cell_type": "markdown",
   "id": "af234ab0",
   "metadata": {},
   "source": [
    "Además del producto con más ventas, ahora tienes que calcular cuánto se ha ganado cada año con la venta del producto más vendido."
   ]
  },
  {
   "cell_type": "code",
   "execution_count": null,
   "id": "dc5a443b",
   "metadata": {},
   "outputs": [],
   "source": [
    "# Para que el código funcione, necesitas definir estas 3 variables:\n",
    "#   anno: El año que se está procesando en el bucle\n",
    "#   best_producto: El producto más vendido en el año correspondiente\n",
    "#   ganancia: El valor de vender ese producto N veces\n",
    "\n",
    "\n",
    "# TO-DO Construye un diccionario con el que puedas guardar el precio de cada producto\n",
    "precio_producto = {}\n",
    "# TO-DO Rellena el diccionario. NO LO HAGAS A MANO\n",
    "\n",
    "# TO-DO Para cada año, tienes que buscar el mayor número de ventas de cada producto\n",
    "#       Además, ahora tendrás que calcular el precio ganado por el mejor\n",
    "for anno in np.unique(datos[:, 0].astype(\"datetime64[Y]\")):\n",
    "    # TO-DO\n",
    "    \n",
    "    print(\"En el año {} el producto con más ventas es {}. Se han ganado {:.2f}€\".format(anno, best_producto, ganancia))"
   ]
  },
  {
   "cell_type": "markdown",
   "id": "7ea6fdb9",
   "metadata": {},
   "source": [
    "Respuesta esperada:\n",
    "\n",
    "```\n",
    "En el año 2000 el producto con más ventas es 14. Se han ganado 1567.98€\n",
    "En el año 2001 el producto con más ventas es 7. Se han ganado 15370.88€\n",
    "En el año 2002 el producto con más ventas es 9. Se han ganado 12753.00€\n",
    "En el año 2003 el producto con más ventas es 9. Se han ganado 12687.60€\n",
    "En el año 2004 el producto con más ventas es 8. Se han ganado 1297.65€\n",
    "En el año 2005 el producto con más ventas es 10. Se han ganado 2003.30€\n",
    "En el año 2006 el producto con más ventas es 6. Se han ganado 9329.92€\n",
    "En el año 2007 el producto con más ventas es 17. Se han ganado 13906.08€\n",
    "En el año 2008 el producto con más ventas es 8. Se han ganado 1314.53€\n",
    "En el año 2009 el producto con más ventas es 18. Se han ganado 15555.15€\n",
    "En el año 2010 el producto con más ventas es 19. Se han ganado 4527.09€\n",
    "En el año 2011 el producto con más ventas es 17. Se han ganado 14986.62€\n",
    "En el año 2012 el producto con más ventas es 15. Se han ganado 8483.31€\n",
    "En el año 2013 el producto con más ventas es 13. Se han ganado 1071.56€\n",
    "En el año 2014 el producto con más ventas es 15. Se han ganado 8090.94€\n",
    "En el año 2015 el producto con más ventas es 18. Se han ganado 15262.66€\n",
    "En el año 2016 el producto con más ventas es 12. Se han ganado 306.87€\n",
    "En el año 2017 el producto con más ventas es 10. Se han ganado 2103.80€\n",
    "En el año 2018 el producto con más ventas es 6. Se han ganado 9314.16€\n",
    "En el año 2019 el producto con más ventas es 17. Se han ganado 13083.93€\n",
    "En el año 2020 el producto con más ventas es 19. Se han ganado 4483.35€\n",
    "En el año 2021 el producto con más ventas es 7. Se han ganado 15607.76€\n",
    "En el año 2022 el producto con más ventas es 1. Se han ganado 13028.90€\n",
    "En el año 2023 el producto con más ventas es 18. Se han ganado 16166.72€\n",
    "```"
   ]
  },
  {
   "cell_type": "markdown",
   "id": "7d4d99a1",
   "metadata": {},
   "source": [
    "## Ejercicio 4"
   ]
  },
  {
   "cell_type": "markdown",
   "id": "a72492e7",
   "metadata": {},
   "source": [
    "Para este último ejercicio vamos a utilizar un segundo dataset, también creado artificialmente, que guarda los retornos de 10 activos a lo largo de 1000 días."
   ]
  },
  {
   "cell_type": "code",
   "execution_count": null,
   "id": "bebfe73a",
   "metadata": {},
   "outputs": [],
   "source": [
    "retornos = np.load(path + \"retornos_generados.npy\")\n",
    "retornos.shape"
   ]
  },
  {
   "cell_type": "markdown",
   "id": "47038b87",
   "metadata": {},
   "source": [
    "El objetivo de este ejercicio consiste en definir de forma aleatoria los pesos de los activos de vuestra cartera. Luego, calcular el retorno global de la cartera y su volatilidad."
   ]
  },
  {
   "cell_type": "code",
   "execution_count": null,
   "id": "24f710b5",
   "metadata": {},
   "outputs": [],
   "source": [
    "n_activos = 10\n",
    "\n",
    "# Fijamos una semilla a un valor fijo para siempre obtener los mismos resultados\n",
    "np.random.seed(13)\n",
    "\n",
    "# TO-DO Utiliza np.random.rand para generar los pesos aleatorios de los activos. No te olvides de normalizarlos\n",
    "pesos = # TO-DO\n",
    "\n",
    "print(pesos)"
   ]
  },
  {
   "cell_type": "code",
   "execution_count": null,
   "id": "e2703182",
   "metadata": {},
   "outputs": [],
   "source": [
    "# TO-DO Calcula el promedio de los retornos de cada activo\n",
    "retornos_medio = # TO-DO\n",
    "\n",
    "# TO-DO Calcula el retorno de la cartera.\n",
    "retorno_cartera = # TO-DO\n",
    "\n",
    "print(retorno_cartera)"
   ]
  },
  {
   "cell_type": "code",
   "execution_count": null,
   "id": "813a0ca5",
   "metadata": {},
   "outputs": [],
   "source": [
    "# TO-DO Utiliza np.cov para calcular la matriz de covarianzas, la necesitas para calcular la volatilidad\n",
    "covarianzas = # TO-DO\n",
    "\n",
    "# TO-DO Calcula la varianza de tu cartera\n",
    "varianza = # TO-DO\n",
    "\n",
    "# TO-DO Calcula la volatilidad de tu cartera\n",
    "volatilidad = # TO-DO\n",
    "\n",
    "print(f\"La rentabilidad de la cartera es {retorno_cartera*100:.2f}% y la volatilidad es {volatilidad*np.sqrt(252)*100:.2f}%\")"
   ]
  },
  {
   "cell_type": "markdown",
   "id": "b841befd",
   "metadata": {},
   "source": [
    "Respuesta esperada fijando la semilla a 13:\n",
    "\n",
    "- La rentabilidad de la cartera es 3.41% y la volatilidad es 2.90%"
   ]
  },
  {
   "cell_type": "code",
   "execution_count": null,
   "id": "52e16124",
   "metadata": {},
   "outputs": [],
   "source": []
  }
 ],
 "metadata": {
  "kernelspec": {
   "display_name": "Python 3 (ipykernel)",
   "language": "python",
   "name": "python3"
  },
  "language_info": {
   "codemirror_mode": {
    "name": "ipython",
    "version": 3
   },
   "file_extension": ".py",
   "mimetype": "text/x-python",
   "name": "python",
   "nbconvert_exporter": "python",
   "pygments_lexer": "ipython3",
   "version": "3.11.4"
  }
 },
 "nbformat": 4,
 "nbformat_minor": 5
}
