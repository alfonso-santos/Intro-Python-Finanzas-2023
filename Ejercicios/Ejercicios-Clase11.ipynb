{
 "cells": [
  {
   "cell_type": "markdown",
   "id": "d36e5411",
   "metadata": {},
   "source": [
    "# Ejercicios - Clase 11"
   ]
  },
  {
   "cell_type": "markdown",
   "id": "cba93d75",
   "metadata": {},
   "source": [
    "Ejercicios de los bloques de introducción a python. Series temporales\n",
    "\n",
    "**Versión**: 1.0\n",
    "\n",
    "**Fecha**: 04/11/2023"
   ]
  },
  {
   "cell_type": "markdown",
   "id": "47399824",
   "metadata": {},
   "source": [
    "En este notebook vamos a trabajar con datos reales OHCL utilizando la librería `yfinance`."
   ]
  },
  {
   "cell_type": "code",
   "execution_count": null,
   "id": "972baf64",
   "metadata": {},
   "outputs": [],
   "source": [
    "# !pip install yfinance # Es necesario instalar la librería en colab: descomenta el !pip install\n",
    "# !pip install mplfinance # Es necesario instalar la librería en colab: descomenta el !pip install\n",
    "import pandas as pd\n",
    "import numpy as np\n",
    "import yfinance as yf\n",
    "import mplfinance as mpf\n",
    "import matplotlib.pyplot as plt\n",
    "from datetime import datetime"
   ]
  },
  {
   "cell_type": "markdown",
   "id": "8c710cf1",
   "metadata": {},
   "source": [
    "Antes de nada, ¿qué representan los datos OHLC? \n",
    "\n",
    "- Open: Precio de apertura del activo financiero\n",
    "- High: Precio máximo del activo financiero\n",
    "- Low: Precio mínimo del activo financiero\n",
    "- Close: Precio de cierre del activo financiero\n",
    "\n",
    "Una vez sabemos esto, vamos a descargar los datos reales de Amazon desde el 1 de enero de 2010 hasta hoy mismo. Para ello, utilizaremos la librería `yfinance` utilizando el ticker `AMZN`. Para más información ver [Yahoo finance](https://finance.yahoo.com/lookup?s=+LIST)."
   ]
  },
  {
   "cell_type": "code",
   "execution_count": null,
   "id": "a2714254",
   "metadata": {},
   "outputs": [],
   "source": [
    "start_date = '2010-01-01'\n",
    "end_date = datetime.now()\n",
    "\n",
    "AMAZON_OHLC = yf.download(tickers=\"AMZN\", start = start_date, end = end_date)"
   ]
  },
  {
   "cell_type": "markdown",
   "id": "524081bd",
   "metadata": {},
   "source": [
    "Veamos el aspecto de lo que hemos descargado:"
   ]
  },
  {
   "cell_type": "code",
   "execution_count": null,
   "id": "8fe24005",
   "metadata": {},
   "outputs": [],
   "source": [
    "AMAZON_OHLC"
   ]
  },
  {
   "cell_type": "markdown",
   "id": "9eef4460",
   "metadata": {},
   "source": [
    "Visualicemos los datos, por ejemplo, el close ajustado a lo largo del tiempo:"
   ]
  },
  {
   "cell_type": "code",
   "execution_count": null,
   "id": "b2d21264",
   "metadata": {},
   "outputs": [],
   "source": [
    "AMAZON_OHLC[\"Adj Close\"].plot()\n",
    "plt.show()"
   ]
  },
  {
   "cell_type": "markdown",
   "id": "0e39e045",
   "metadata": {},
   "source": [
    "Sin embargo, es mucho más común y útil visualizar esta misma información con un gráfico de velas. Aquí es cuando utilizamos la librería `mplfinance`. Visualicemos los datos de Amazon del año 2018 utilizando esta librería."
   ]
  },
  {
   "cell_type": "code",
   "execution_count": null,
   "id": "99b6c325",
   "metadata": {},
   "outputs": [],
   "source": [
    "mpf.plot(AMAZON_OHLC.loc['2018'], #seleccionamos los datos de 2018\n",
    "         type='candle', #tipo de gráfico\n",
    "         style='charles', #estilo del gráfico\n",
    "         title='AMAZON, 2018',\n",
    "         ylabel='Price ($)',\n",
    "         figratio=(30, 8), #tamaño del gráfico\n",
    "         )"
   ]
  },
  {
   "cell_type": "markdown",
   "id": "ce06aa42",
   "metadata": {},
   "source": [
    "## Ejercicio 1"
   ]
  },
  {
   "cell_type": "markdown",
   "id": "48d4dfe3",
   "metadata": {},
   "source": [
    "Vamos a intentar definir un indicador de tendencia utilizando simplemente el promedio de los retornos en ventanas móviles de diferente amplitud. Supongamos la siguiente hipótesis:\n",
    "\n",
    "  *Si en los últimos N días tengo un retorno promedio positivo, tengo una tendencia positiva*\n",
    "\n",
    "Primero, calcula los retornos logarítmicos de Amazon. Luego, crea ventanas móviles de tamaño 5 y 30 y compara las tendencias. "
   ]
  },
  {
   "cell_type": "code",
   "execution_count": null,
   "id": "999fe702",
   "metadata": {},
   "outputs": [],
   "source": [
    "# Calcula los retornos logarítmicos de Amazon y guárdalos en la columna \"LogReturn\"\n"
   ]
  },
  {
   "cell_type": "code",
   "execution_count": null,
   "id": "7c4d556e",
   "metadata": {},
   "outputs": [],
   "source": [
    "# Calcula las ventanas móviles de 5 y 30 días y guárdalas en las variables \"LogRet@5\" y \"LogRet@30\"\n"
   ]
  },
  {
   "cell_type": "markdown",
   "id": "4b3270c2",
   "metadata": {},
   "source": [
    "Por último visualizamos el Close ajustado en el año 2012:"
   ]
  },
  {
   "cell_type": "code",
   "execution_count": null,
   "id": "a0580825",
   "metadata": {},
   "outputs": [],
   "source": [
    "AMAZON_OHLC[\"Adj Close\"].loc[\"2012\"].plot(figsize=(20, 5))\n",
    "plt.show()"
   ]
  },
  {
   "cell_type": "markdown",
   "id": "b1c0ffa9",
   "metadata": {},
   "source": [
    "Y comparamos con las métricas de tendencia que has calculado."
   ]
  },
  {
   "cell_type": "code",
   "execution_count": null,
   "id": "b1a044ee",
   "metadata": {},
   "outputs": [],
   "source": [
    "AMAZON_OHLC[[\"LogRet@5\", \"LogRet@30\"]].loc[\"2012\"].plot(figsize=(20, 5))\n",
    "plt.show()"
   ]
  },
  {
   "cell_type": "markdown",
   "id": "599a87e1",
   "metadata": {},
   "source": [
    "¿Qué puedes observar en las figuras?"
   ]
  },
  {
   "cell_type": "code",
   "execution_count": null,
   "id": "f9dbcf31",
   "metadata": {},
   "outputs": [],
   "source": [
    "# Añade tu respuesta aquí para comentarlas en clase\n",
    "\"\"\"\n",
    "\n",
    "\"\"\";"
   ]
  },
  {
   "cell_type": "markdown",
   "id": "9e1634b5",
   "metadata": {},
   "source": [
    "## Ejercicio 2"
   ]
  },
  {
   "cell_type": "markdown",
   "id": "8d782c5a",
   "metadata": {},
   "source": [
    "El indicador anterior es una aproximación casi equivalente al Momentum. El indicador Momentum refleja la tendencia y la estimación de la tasa de cambio de precio sobre la base de una comparación de los valores actuales y anteriores. Para calcularlo se aplica la fórmula:\n",
    "\n",
    "$$Momentum = {Close_t \\over Close_{t-N}}$$\n",
    "\n",
    "El indicador Momentum es uno de los más comprensibles entre todos los indicadores de tendencias, pues muestra si la tendencia se está acelerando o desacelerando y a su vez si mantiene o disminuye su velocidad. El valor del indicador puede ser positivo o negativo, de allí que, mientras más se aleje de 1.0, más claridad existe en las condiciones de sobreventa o de sobrecompra en el mercado.\n",
    "\n",
    "Si aplicamos el logaritmo, obtenemos lo siguiente:\n",
    "\n",
    "$$log(Momentum) = log(Close_t) - log(Close_{t-N})$$\n",
    "\n",
    "Además, podemos encontrar una equivalencia en términos de retornos en lugar del close. Vamos a definirlos formalmente:\n",
    "\n",
    "$$ret_t = log(Close_t) - log(Close_{t-1})$$\n",
    "\n",
    "$$ret_{t-1} = log(Close_{t-1}) - log(Close_{t-2})$$\n",
    "\n",
    "$$...$$\n",
    "\n",
    "$$ret_{t-N+1} = log(Close_{t-N+1}) - log(Close_{t-N})$$\n",
    "\n",
    "Podemos definir el logaritmo del Momentum como la suma de retornos desde `t` hasta `N` de la siguiente manera:\n",
    "\n",
    "$$log(Momentum) = \\sum_{i=0}^{N} ret_{t-i} = log(Close_t) - log(Close_{t-N})$$\n",
    "\n",
    "Es decir, calcular el logaritmo del momento es simplemente sumar los retornos en ese periodo en vez de hacer la media. ¡Vamos a implementarlo!"
   ]
  },
  {
   "cell_type": "code",
   "execution_count": null,
   "id": "9c4926e6",
   "metadata": {},
   "outputs": [],
   "source": [
    "# Calcula las ventanas móviles de 5 y 30 días y guárdalas en las variables \"Momentum@5\" y \"Momentum@30\"\n"
   ]
  },
  {
   "cell_type": "markdown",
   "id": "0ef56799",
   "metadata": {},
   "source": [
    "Vamos a visualizar de nuevo el Close ajustado en 2012."
   ]
  },
  {
   "cell_type": "code",
   "execution_count": null,
   "id": "76582cf7",
   "metadata": {},
   "outputs": [],
   "source": [
    "AMAZON_OHLC[\"Adj Close\"].loc[\"2012\"].plot(figsize=(20, 5))\n",
    "plt.show()"
   ]
  },
  {
   "cell_type": "markdown",
   "id": "9ce29325",
   "metadata": {},
   "source": [
    "Ahora compara con las métricas de Momentum que has calculado."
   ]
  },
  {
   "cell_type": "code",
   "execution_count": null,
   "id": "9e3e448a",
   "metadata": {},
   "outputs": [],
   "source": [
    "AMAZON_OHLC[[\"Momentum@5\", \"Momentum@30\"]].loc[\"2012\"].plot(figsize=(20, 5))\n",
    "plt.show()"
   ]
  },
  {
   "cell_type": "markdown",
   "id": "66e2cf8d",
   "metadata": {},
   "source": [
    "¿Qué puedes observar en esta nueva figura? Compárala con el cálculo de la media que hiciste en el ejercicio 1."
   ]
  },
  {
   "cell_type": "code",
   "execution_count": null,
   "id": "04a7f147",
   "metadata": {},
   "outputs": [],
   "source": [
    "# Añade tu respuesta aquí para comentarlas en clase\n",
    "\"\"\"\n",
    "\n",
    "\"\"\";"
   ]
  },
  {
   "cell_type": "code",
   "execution_count": null,
   "id": "6a4ed0aa",
   "metadata": {},
   "outputs": [],
   "source": []
  }
 ],
 "metadata": {
  "kernelspec": {
   "display_name": "Python 3 (ipykernel)",
   "language": "python",
   "name": "python3"
  },
  "language_info": {
   "codemirror_mode": {
    "name": "ipython",
    "version": 3
   },
   "file_extension": ".py",
   "mimetype": "text/x-python",
   "name": "python",
   "nbconvert_exporter": "python",
   "pygments_lexer": "ipython3",
   "version": "3.11.5"
  }
 },
 "nbformat": 4,
 "nbformat_minor": 5
}
