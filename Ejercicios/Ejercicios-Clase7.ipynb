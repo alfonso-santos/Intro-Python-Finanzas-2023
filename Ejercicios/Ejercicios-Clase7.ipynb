{
 "cells": [
  {
   "cell_type": "markdown",
   "id": "d36e5411",
   "metadata": {},
   "source": [
    "# Ejercicios - Clase 7"
   ]
  },
  {
   "cell_type": "markdown",
   "id": "cba93d75",
   "metadata": {},
   "source": [
    "Ejercicios de los bloques de introducción a python. Numpy 2\n",
    "\n",
    "**Versión**: 1.0\n",
    "\n",
    "**Fecha**: 23/10/2023"
   ]
  },
  {
   "cell_type": "markdown",
   "id": "47399824",
   "metadata": {},
   "source": [
    "En este notebook vamos a trabajar con un dataset creado artificialmente para los ejercicios. Por ahora no debéis saber qué es Pandas, pero lo utilizaremos para leer el fichero en formato CSV, visualizarlo y luego pasarlo a Numpy, librería que sí conocemos. A fin de cuentas, leer un fichero CSV es lo mismo que gestionar una matriz de datos.\n",
    "\n",
    "El primer dataset define las ventas de los productos de una empresa. Incluye la fecha de venta, el ID del producto, el número de productos vendidos y el precio del producto vendido."
   ]
  },
  {
   "cell_type": "code",
   "execution_count": null,
   "id": "972baf64",
   "metadata": {},
   "outputs": [],
   "source": [
    "import pandas as pd\n",
    "import numpy as np\n",
    "import matplotlib.pyplot as plt"
   ]
  },
  {
   "cell_type": "code",
   "execution_count": null,
   "id": "5354da9a",
   "metadata": {},
   "outputs": [],
   "source": [
    "df = pd.read_csv('https://raw.githubusercontent.com/alfonso-santos/Intro-Python-Finanzas-2023/main/Ejercicios/datos/ventas_generadas.csv', index_col='Unnamed: 0')\n",
    "df"
   ]
  },
  {
   "cell_type": "code",
   "execution_count": null,
   "id": "e8968437",
   "metadata": {},
   "outputs": [],
   "source": [
    "datos = df.to_numpy()\n",
    "datos.shape"
   ]
  },
  {
   "cell_type": "markdown",
   "id": "4cbc3576",
   "metadata": {},
   "source": [
    "En los ejercicios de la clase anterior (Clase 6) trabajamos sobre el dataset para obtener diferente información. En esta ocasión, los ejercicios consisten en realizar un proceso de ingeniería inversa, es decir, analizar los datos para responder a la siguiente pregunta. ¿Cómo se han generado los datos?"
   ]
  },
  {
   "cell_type": "markdown",
   "id": "0f6fd81a",
   "metadata": {},
   "source": [
    "## Ejercicio 1"
   ]
  },
  {
   "cell_type": "markdown",
   "id": "d77ac941",
   "metadata": {},
   "source": [
    "Calcula la frecuencia del número de ventas para cada producto."
   ]
  },
  {
   "cell_type": "code",
   "execution_count": null,
   "id": "767aebf5",
   "metadata": {},
   "outputs": [],
   "source": [
    "# Para calcularlo cómodamente, primero vamos a calcular qué valores pueden tomar las columnas \"producto\" \n",
    "# y \"productos_vendidos\"\n",
    "\n",
    "# TO-DO Obtén los posibles valores que puede tener la columna \"productos_vendidos\"\n",
    "valores_productos_vendidos = # TO-DO\n",
    "print(\"valores_productos:\", valores_productos_vendidos)\n",
    "\n",
    "# TO-DO Obtén los posibles valores que puede tener la columna \"producto\"\n",
    "valores_producto = # TO-DO\n",
    "print(\"producto:\", valores_producto)"
   ]
  },
  {
   "cell_type": "code",
   "execution_count": null,
   "id": "e4d21e5f",
   "metadata": {},
   "outputs": [],
   "source": [
    "# Ahora que sabemos qué valores pueden tomar las columnas, vamos a definir un array (matriz)\n",
    "# con shape (#Productos, #Valores_productos), es decir, (20, 4)\n",
    "\n",
    "# TO-DO Construye la matriz inicializada a 0s con el shape correcto SIN USAR NÚMEROS MAGICOS\n",
    "contadores = # TO-DO\n",
    "contadores.shape"
   ]
  },
  {
   "cell_type": "code",
   "execution_count": null,
   "id": "bb067d87",
   "metadata": {},
   "outputs": [],
   "source": [
    "# TO-DO Rellena la variable contadores\n",
    "# OPCION 1: Búsqueda por índices\n",
    "contadores1 = np.copy(contadores)\n",
    "# TO-DO Rellena contadores1\n",
    "\n",
    "# OPCION 2: Fila a fila\n",
    "contadores2 = np.copy(contadores)\n",
    "# TO-DO Rellena contadores2\n",
    "\n",
    "print(\"¿Los dos métodos dan el mismo resultado?\", (contadores1 == contadores2).all(), \"\\n\")\n",
    "contadores = contadores1\n",
    "print(contadores)"
   ]
  },
  {
   "cell_type": "markdown",
   "id": "0333384a",
   "metadata": {},
   "source": [
    "**Pregunta** ¿Qué información almacena la variable contadores?"
   ]
  },
  {
   "cell_type": "code",
   "execution_count": null,
   "id": "c77a85b1",
   "metadata": {},
   "outputs": [],
   "source": [
    "# Incluye tu respuesta aquí en el siguiente comentario:\n",
    "\n",
    "\"\"\"\n",
    "\n",
    "\"\"\";"
   ]
  },
  {
   "cell_type": "markdown",
   "id": "99319fd7",
   "metadata": {},
   "source": [
    "Ahora puedes calcular la frecuencia del número de ventas de cada producto."
   ]
  },
  {
   "cell_type": "code",
   "execution_count": null,
   "id": "1a3a2f30",
   "metadata": {},
   "outputs": [],
   "source": [
    "# TO-DO calcula la frecuencia de ventas de cada producto\n",
    "frecuencias = # TO-DO\n",
    "frecuencias"
   ]
  },
  {
   "cell_type": "markdown",
   "id": "32dc3c2d",
   "metadata": {},
   "source": [
    "**Pregunta** ¿Qué conclusiones sacas de estas frecuencias?"
   ]
  },
  {
   "cell_type": "code",
   "execution_count": null,
   "id": "0cb3a367",
   "metadata": {},
   "outputs": [],
   "source": [
    "# Incluye tu respuesta aquí en el siguiente comentario:\n",
    "\n",
    "\"\"\"\n",
    "\n",
    "\"\"\";"
   ]
  },
  {
   "cell_type": "code",
   "execution_count": null,
   "id": "68f11a6a",
   "metadata": {},
   "outputs": [],
   "source": [
    "# Esta celda te mostrará una representación gráfica de las frecuencias para visualizarlo cómodamente\n",
    "# con un diagrama de barras. Veremos más adelante cómo construir estas celdas.\n",
    "\n",
    "plt.figure(figsize=(10, 3))\n",
    "plt.bar(np.unique(datos[:, 1]), frecuencias)\n",
    "plt.xticks(np.arange(20), [str(x) for x in np.unique(datos[:, 1])])\n",
    "plt.xlabel(\"ID Producto\", size=14)\n",
    "plt.ylabel(\"Freq\", size=14)\n",
    "plt.show()"
   ]
  },
  {
   "cell_type": "markdown",
   "id": "662f6be0",
   "metadata": {},
   "source": [
    "## Ejercicio 2"
   ]
  },
  {
   "cell_type": "markdown",
   "id": "c355f2fd",
   "metadata": {},
   "source": [
    "A partir de la variable ```contadores``` del ejercicio 1, calcula la frecuencia del número de productos vendidos para el producto 4."
   ]
  },
  {
   "cell_type": "code",
   "execution_count": null,
   "id": "582e0144",
   "metadata": {},
   "outputs": [],
   "source": [
    "id_producto = 4\n",
    "# TO-DO Calcula la frecuencia de los productos vendidos para el producto 4. Es decir, la frecuencia de vender\n",
    "# 1, 2, 3 o 4 productos\n",
    "frecuencia_productos_vendidos_prod4 = # TO-DO\n",
    "frecuencia_productos_vendidos_prod4"
   ]
  },
  {
   "cell_type": "markdown",
   "id": "6c73aef1",
   "metadata": {},
   "source": [
    "## Ejercicio 3"
   ]
  },
  {
   "cell_type": "markdown",
   "id": "93edf3f6",
   "metadata": {},
   "source": [
    "A partir de la variable `contadores` del ejercicio 1, calcula la frecuencia del número de productos vendidos para cada producto."
   ]
  },
  {
   "cell_type": "code",
   "execution_count": null,
   "id": "4a172dfd",
   "metadata": {},
   "outputs": [],
   "source": [
    "# TO-DO Calcula la frecuencia de los productos vendidos para todos los productos\n",
    "# OPCION 1: Broadcasting\n",
    "frecuencia_productos_vendidos1 = # TO-DO\n",
    "\n",
    "# OPCION 2: Bucle\n",
    "frecuencia_productos_vendidos2 = # TO-DO\n",
    "    \n",
    "print(\"¿Los dos métodos dan el mismo resultado?\", (frecuencia_productos_vendidos1 == frecuencia_productos_vendidos2).all(), \"\\n\")\n",
    "frecuencia_productos_vendidos = frecuencia_productos_vendidos1\n",
    "print(frecuencia_productos_vendidos)"
   ]
  },
  {
   "cell_type": "markdown",
   "id": "26d713dc",
   "metadata": {},
   "source": [
    "**Pregunta** ¿Qué conclusiones sacas de estas frecuencias?"
   ]
  },
  {
   "cell_type": "code",
   "execution_count": null,
   "id": "ec95c88b",
   "metadata": {},
   "outputs": [],
   "source": [
    "# Incluye tu respuesta aquí en el siguiente comentario:\n",
    "\n",
    "\"\"\"\n",
    "\n",
    "\"\"\";"
   ]
  },
  {
   "cell_type": "markdown",
   "id": "e3bb2093",
   "metadata": {},
   "source": [
    "## Ejercicio 4"
   ]
  },
  {
   "cell_type": "markdown",
   "id": "9eced51e",
   "metadata": {},
   "source": [
    "Con el análisis previo que hemos realizado, vamos a crear nuestro propio dataset (exceptuando las fechas y el precio de los productos)."
   ]
  },
  {
   "cell_type": "code",
   "execution_count": null,
   "id": "ffbec45c",
   "metadata": {},
   "outputs": [],
   "source": [
    "N = 100000\n",
    "n_productos = len(valores_producto)\n",
    "n_ventas = len(valores_productos_vendidos)\n",
    "\n",
    "# TO-DO Genera los datos siguiendo las conclusiones que hayas obtenido en los ejercicios anteriores\n",
    "productos = # TO-DO\n",
    "ventas = # TO-DO\n",
    "\n",
    "# Esta es una de las formas de crear un dataframe con Pandas para crear tablas.\n",
    "d = {\"producto\": productos, \"productos_vendidos\": ventas}\n",
    "new_dataframe = pd.DataFrame(data=d)\n",
    "new_dataframe"
   ]
  },
  {
   "cell_type": "code",
   "execution_count": null,
   "id": "41dc34cf",
   "metadata": {},
   "outputs": [],
   "source": [
    "# Con esta celda puedes comprobar si se ha calculado correctamente. Tiene que salir de forma similar a la \n",
    "# figura del ejercicio 1.\n",
    "\n",
    "# Esta celda te mostrará una representación gráfica de las frecuencias para visualizarlo cómodamente\n",
    "# con un diagrama de barras. Veremos más adelante cómo construir estas celdas.\n",
    "\n",
    "plt.figure(figsize=(10, 3))\n",
    "plt.bar(np.unique(datos[:, 1]), (new_dataframe.groupby(\"producto\").count() / len(new_dataframe))[\"productos_vendidos\"])\n",
    "plt.xticks(np.arange(20), [str(x) for x in np.unique(datos[:, 1])])\n",
    "plt.xlabel(\"ID Producto\", size=14)\n",
    "plt.ylabel(\"Freq\", size=14)\n",
    "plt.show()"
   ]
  },
  {
   "cell_type": "code",
   "execution_count": null,
   "id": "658df95f",
   "metadata": {},
   "outputs": [],
   "source": []
  }
 ],
 "metadata": {
  "kernelspec": {
   "display_name": "Python 3 (ipykernel)",
   "language": "python",
   "name": "python3"
  },
  "language_info": {
   "codemirror_mode": {
    "name": "ipython",
    "version": 3
   },
   "file_extension": ".py",
   "mimetype": "text/x-python",
   "name": "python",
   "nbconvert_exporter": "python",
   "pygments_lexer": "ipython3",
   "version": "3.11.4"
  }
 },
 "nbformat": 4,
 "nbformat_minor": 5
}
