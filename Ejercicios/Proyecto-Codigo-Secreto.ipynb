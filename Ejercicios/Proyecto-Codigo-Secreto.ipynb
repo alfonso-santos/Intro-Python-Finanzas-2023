{
 "cells": [
  {
   "cell_type": "markdown",
   "id": "5a93f471",
   "metadata": {},
   "source": [
    "# Proyecto Código Secreto"
   ]
  },
  {
   "cell_type": "markdown",
   "id": "2bd991d5",
   "metadata": {},
   "source": [
    "Proyecto adicional del bloque de introducción a python. Juego del Código secreto.\n",
    "\n",
    "**Versión**: 1.0\n",
    "\n",
    "**Fecha**: 04/11/2023"
   ]
  },
  {
   "cell_type": "markdown",
   "id": "f02b4854",
   "metadata": {},
   "source": [
    "**IMPORTANTE**: No es válido añadir más imports de los que os damos en la siguiente celda. Esto es así ya que queremos que penséis como programar, no que utilicéis una librería específica que resuelva el problema."
   ]
  },
  {
   "cell_type": "code",
   "execution_count": null,
   "id": "636eadb3",
   "metadata": {},
   "outputs": [],
   "source": [
    "import numpy as np"
   ]
  },
  {
   "cell_type": "markdown",
   "id": "98966b14",
   "metadata": {},
   "source": [
    "Vamos a diseñar el juego de código secreto. Es un juego de lógica y deducción en el que se genera un código secreto y otro jugador (o equipo) intenta adivinar ese código siguiendo las pistas proporcionadas. El juego a menudo se llama \"Mastermind\" o \"Bulls and Cows\" en diferentes variantes.\n",
    "\n",
    "El juego consiste en lo siguiente. Se genera un número aleatorio de longitud entre 4 y 6 dígitos según la dificultad y el jugador deberá adivinarlo en 10 turnos. ¿Cómo lo adivina?\n",
    "\n",
    "El jugador hace su primer intento. El maestro proporciona pistas basadas en la suposición del jugador. Las pistas son de dos tipos:\n",
    "\n",
    "- \"Bulls\" o \"Aciertos\": Indican cuántos elementos en la suposición del jugador adivinador son correctos tanto en valor como en posición.\n",
    "- \"Cows\" o \"Coincidencias\": Indican cuántos elementos en la suposición son correctos en valor, pero en una posición diferente.\n",
    "\n",
    "Con estas pistas, el jugador continúa haciendo suposiciones. El juego continúa hasta que el jugador adivine el código secreto o alcance un número máximo de intentos."
   ]
  },
  {
   "cell_type": "markdown",
   "id": "29534f39",
   "metadata": {},
   "source": [
    "### Material inicial"
   ]
  },
  {
   "cell_type": "code",
   "execution_count": null,
   "id": "e0385a68",
   "metadata": {},
   "outputs": [],
   "source": [
    "# Función que genera un número secreto en función de la dificultad y lo devuelve en formato lista de dígitos\n",
    "def crea_numero_secreto(dificultad):\n",
    "    if dificultad not in [\"FACIL\", \"MEDIO\", \"DIFICIL\"]:\n",
    "        raise Exception(\"ERROR: dificultad no contemplada\")\n",
    "    if dificultad == \"FACIL\":\n",
    "        return list(np.random.randint(1, 10, 4))\n",
    "    if dificultad == \"MEDIO\":\n",
    "        return list(np.random.randint(1, 10, 5))\n",
    "    if dificultad == \"DIFICIL\":\n",
    "        return list(np.random.randint(1, 10, 6))"
   ]
  },
  {
   "cell_type": "code",
   "execution_count": null,
   "id": "4f1b6651",
   "metadata": {},
   "outputs": [],
   "source": [
    "# Función que comprueba si has acertado el número secreto\n",
    "def has_ganado(numero_secreto, numero):\n",
    "    if numero_secreto == numero:\n",
    "        return True\n",
    "    return False"
   ]
  },
  {
   "cell_type": "code",
   "execution_count": null,
   "id": "7bf6c7cd",
   "metadata": {},
   "outputs": [],
   "source": [
    "# Función que solicita un número válido según la dificultad y lo devuelve en formato lista de dígitos\n",
    "def introduce_numero(dificultad):\n",
    "    while True:\n",
    "        numero_jugador_str = input(\"Introduce el número secreto: \")\n",
    "        try:\n",
    "            numero_jugador = int(numero_jugador_str)\n",
    "            if dificultad == \"FACIL\":\n",
    "                if numero_jugador >= 1e3 and numero_jugador < 1e4:\n",
    "                    break\n",
    "            if dificultad == \"MEDIO\":\n",
    "                if numero_jugador >= 1e4 and numero_jugador < 1e5:\n",
    "                    break\n",
    "            if dificultad == \"DIFICIL\":\n",
    "                if numero_jugador >= 1e5 and numero_jugador < 1e6:\n",
    "                    break\n",
    "        except:\n",
    "            print(\" > No es un número válido.\")\n",
    "    return [int(x) for x in list(numero_jugador_str)]"
   ]
  },
  {
   "cell_type": "markdown",
   "id": "9a620c64",
   "metadata": {},
   "source": [
    "### Funciones a implementar"
   ]
  },
  {
   "cell_type": "markdown",
   "id": "548a5e4f",
   "metadata": {},
   "source": [
    "Define la función `genera_pistas(numero_secreto, numero)` que devuelva el número de aciertos y el número de coincidencias que hay entre el número secreto y el número que ha proporcionado el jugador. \n",
    "\n",
    "Ten en cuenta que tanto `numero_secreto` como `numero` son listas de dígitos de la misma longitud."
   ]
  },
  {
   "cell_type": "code",
   "execution_count": null,
   "id": "14ab0fdb",
   "metadata": {},
   "outputs": [],
   "source": [
    "# Define la función genera_pistas que devuelva el número de aciertos y el número de coincidencias\n",
    "# entre el número secreto y el número del jugador\n",
    "def genera_pistas(numero_secreto, numero):\n",
    "    aciertos = 0\n",
    "    coincidencias = 0\n",
    "    \n",
    "    return aciertos, coincidencias"
   ]
  },
  {
   "cell_type": "markdown",
   "id": "e1cd9d11",
   "metadata": {},
   "source": [
    "### Código principal"
   ]
  },
  {
   "cell_type": "markdown",
   "id": "046f2371",
   "metadata": {},
   "source": [
    "Hemos definido las funciones necesarias para generar listas de dígitos válidos según la dificultad. También se ha definido la función que, a partir del número introducido y el número a adivinar, genera las pistas. Con todo ello, vamos a definir el código principal. El juego consiste en intentar adivinar el número completo en `TURNOS` turnos (por defecto 10). En cada vuelta, el jugador debe introducir un nuevo número y comprobar si ha acertado o no.\n",
    "\n",
    "Una posible receta sería la siguiente:\n",
    "\n",
    "- Crea el número secreto.\n",
    "- Mientras el juego no haya terminado (hasta llegar a `TURNOS`):\n",
    "  - Solicita un número al jugador.\n",
    "  - Comprueba si has ganado.\n",
    "  - Si no, genera pistas."
   ]
  },
  {
   "cell_type": "code",
   "execution_count": null,
   "id": "5ad57abc",
   "metadata": {},
   "outputs": [],
   "source": [
    "TURNOS = 10\n",
    "DIFICULTAD = \"FACIL\""
   ]
  },
  {
   "cell_type": "code",
   "execution_count": null,
   "id": "d755ba11",
   "metadata": {},
   "outputs": [],
   "source": [
    "# Crea el número secreto\n",
    "\n",
    "victoria = False\n",
    "# Mientras el juego n o haya terminado (hasta llegar a TURNOS)\n",
    "\n",
    "    print(\" > TURNO {}\".format(turno))\n",
    "    # Solicita un número al jugador\n",
    "    \n",
    "    # Comprueba si has ganado\n",
    "    \n",
    "    \n",
    "    # Si no, genera pistas\n",
    "    \n",
    "    print(\"   ACIERTOS: {}\".format(aciertos))\n",
    "    print(\"   COINCIDENCIAS: {}\".format(coincidencias))\n",
    "    \n",
    "if victoria:\n",
    "    print(\" > HAS GANADO!! ENHORABUENA!!\")\n",
    "else:\n",
    "    print(\" > No has conseguido adivinar el número {}\".format(numero_secreto))"
   ]
  },
  {
   "cell_type": "code",
   "execution_count": null,
   "id": "e25b336a",
   "metadata": {},
   "outputs": [],
   "source": []
  }
 ],
 "metadata": {
  "kernelspec": {
   "display_name": "Python 3 (ipykernel)",
   "language": "python",
   "name": "python3"
  },
  "language_info": {
   "codemirror_mode": {
    "name": "ipython",
    "version": 3
   },
   "file_extension": ".py",
   "mimetype": "text/x-python",
   "name": "python",
   "nbconvert_exporter": "python",
   "pygments_lexer": "ipython3",
   "version": "3.11.5"
  }
 },
 "nbformat": 4,
 "nbformat_minor": 5
}
