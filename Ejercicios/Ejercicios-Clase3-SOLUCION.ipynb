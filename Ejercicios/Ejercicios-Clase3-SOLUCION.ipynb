{
 "cells": [
  {
   "cell_type": "markdown",
   "id": "d36e5411",
   "metadata": {},
   "source": [
    "# Ejercicios - Clase 3"
   ]
  },
  {
   "cell_type": "markdown",
   "id": "cba93d75",
   "metadata": {},
   "source": [
    "Ejercicios de los bloques de introducción a python. Listas, tuplas y diccionarios.\n",
    "\n",
    "**Versión**: 1.0\n",
    "\n",
    "**Fecha**: 13/10/2023"
   ]
  },
  {
   "cell_type": "markdown",
   "id": "091ef654",
   "metadata": {},
   "source": [
    "## Ejercicio 1"
   ]
  },
  {
   "cell_type": "markdown",
   "id": "6bcc5f7f",
   "metadata": {},
   "source": [
    "Vamos a calcular la `distancia euclidea` de dos puntos `p` y `q` en un espacio de tres dimensiones `D=3` definidos como tuplas. Recordad que la distancia euclidea sigue la ecuación:"
   ]
  },
  {
   "cell_type": "markdown",
   "id": "629d8d48",
   "metadata": {},
   "source": [
    "$$d = \\sqrt{\\sum_{i=1}^{D=3} (p_i - q_i)^2}$$"
   ]
  },
  {
   "cell_type": "code",
   "execution_count": 5,
   "id": "11ac44a9",
   "metadata": {},
   "outputs": [],
   "source": [
    "import math\n",
    "\n",
    "p = (5.4, -2.1, 3.2)\n",
    "q = (3.2, 0.1, 0.9)\n",
    "\n",
    "# TO-DO rellena esta celda calculando la distancia euclidea\n",
    "s1 = (p[0] - q[0])**2\n",
    "s2 = (p[1] - q[1])**2\n",
    "s3 = (p[2] - q[2])**2\n",
    "suma = s1 + s2 + s3\n",
    "distancia = math.sqrt(suma)"
   ]
  },
  {
   "cell_type": "code",
   "execution_count": 6,
   "id": "50e960c9",
   "metadata": {},
   "outputs": [
    {
     "name": "stdout",
     "output_type": "stream",
     "text": [
      "La distancia euclidea entre (5.4, -2.1, 3.2) y (3.2, 0.1, 0.9) es 3.869108\n"
     ]
    }
   ],
   "source": [
    "print(\"La distancia euclidea entre {} y {} es {:.6f}\".format(p, q, distancia))"
   ]
  },
  {
   "cell_type": "markdown",
   "id": "1661e45e",
   "metadata": {},
   "source": [
    "Respuesta esperada:\n",
    "\n",
    "- La distancia euclidea entre (5.4, -2.1, 3.2) y (3.2, 0.1, 0.9) es 3.869108"
   ]
  },
  {
   "cell_type": "markdown",
   "id": "28d17416",
   "metadata": {},
   "source": [
    "## Ejercicio 2"
   ]
  },
  {
   "cell_type": "markdown",
   "id": "e70ec984",
   "metadata": {},
   "source": [
    "Podemos considerar una matriz como una lista de listas. Aquí tenéis un ejemplo para crear la siguiente matriz:"
   ]
  },
  {
   "cell_type": "markdown",
   "id": "e002422f",
   "metadata": {},
   "source": [
    "\\begin{bmatrix}\n",
    "    1 & -3 & 2\\\\\n",
    "    2 & 3 & 1\\\\\n",
    " \\end{bmatrix}"
   ]
  },
  {
   "cell_type": "code",
   "execution_count": 14,
   "id": "656eaa3e",
   "metadata": {},
   "outputs": [
    {
     "data": {
      "text/plain": [
       "[[1, -3, 2], [2, 3, 1]]"
      ]
     },
     "execution_count": 14,
     "metadata": {},
     "output_type": "execute_result"
    }
   ],
   "source": [
    "fila1 = [1, -3, 2]\n",
    "fila2 = [2, 3, 1]\n",
    "matriz = [fila1, fila2]\n",
    "matriz"
   ]
  },
  {
   "cell_type": "markdown",
   "id": "3c47258a",
   "metadata": {},
   "source": [
    "El ejercicio consiste en crear una matriz con los números impares en la primera fila y los pares en la segunda fila hasta un número arbitrario N, como en este ejemplo:"
   ]
  },
  {
   "cell_type": "markdown",
   "id": "c335d191",
   "metadata": {},
   "source": [
    "\\begin{bmatrix}\n",
    "    1 & 3 & 5 & 7 & 9 & ... & 17 & 19\\\\\n",
    "    2 & 4 & 6 & 8 & 10 & ... & 18 & 20\\\\\n",
    " \\end{bmatrix}"
   ]
  },
  {
   "cell_type": "code",
   "execution_count": 38,
   "id": "7845ab4e",
   "metadata": {},
   "outputs": [
    {
     "name": "stdout",
     "output_type": "stream",
     "text": [
      "Con N = 45, la matriz generada es la siguiente:\n",
      "   [1, 3, 5, 7, 9, 11, 13, 15, 17, 19, 21, 23, 25, 27, 29, 31, 33, 35, 37, 39, 41, 43, 45]\n",
      "   [2, 4, 6, 8, 10, 12, 14, 16, 18, 20, 22, 24, 26, 28, 30, 32, 34, 36, 38, 40, 42, 44]\n"
     ]
    }
   ],
   "source": [
    "N = 45\n",
    "\n",
    "# TO-DO crea la matriz\n",
    "fila_impares = list(range(1, N+1, 2))\n",
    "fila_pares = list(range(2, N+1, 2))\n",
    "matriz = [fila_impares, fila_pares]\n",
    "\n",
    "print(\"Con N = {}, la matriz generada es la siguiente:\".format(N))\n",
    "print(\"  \", matriz[0])\n",
    "print(\"  \", matriz[1])"
   ]
  },
  {
   "cell_type": "markdown",
   "id": "c84e0c00",
   "metadata": {},
   "source": [
    "Posibles respuestas:"
   ]
  },
  {
   "cell_type": "markdown",
   "id": "a0d42867",
   "metadata": {},
   "source": [
    "- Con N = 20, la matriz generada es la siguiente:\n",
    "\n",
    "   [1, 3, 5, 7, 9, 11, 13, 15, 17, 19]\n",
    "   \n",
    "   [2, 4, 6, 8, 10, 12, 14, 16, 18, 20]"
   ]
  },
  {
   "cell_type": "markdown",
   "id": "3a81600e",
   "metadata": {},
   "source": [
    "- Con N = 45, la matriz generada es la siguiente:\n",
    "\n",
    "   [1, 3, 5, 7, 9, 11, 13, 15, 17, 19, 21, 23, 25, 27, 29, 31, 33, 35, 37, 39, 41, 43, 45]\n",
    "   \n",
    "   [2, 4, 6, 8, 10, 12, 14, 16, 18, 20, 22, 24, 26, 28, 30, 32, 34, 36, 38, 40, 42, 44]"
   ]
  },
  {
   "cell_type": "markdown",
   "id": "627b5f3f",
   "metadata": {},
   "source": [
    "## Ejercicio 3"
   ]
  },
  {
   "cell_type": "markdown",
   "id": "4480bc0e",
   "metadata": {},
   "source": [
    "Vamos a leer un string que contiene una fecha con formato `Y-M-D`. Sin embargo, queremos imprimir el mes escrito con palabras con el siguiente formato `D de M de Y`. Utiliza un diccionario para ello:"
   ]
  },
  {
   "cell_type": "code",
   "execution_count": 42,
   "id": "97ce9f74",
   "metadata": {},
   "outputs": [
    {
     "name": "stdout",
     "output_type": "stream",
     "text": [
      "Hoy es 30 de septiembre de 2023\n"
     ]
    }
   ],
   "source": [
    "fecha = \"2023-09-30\"\n",
    "\n",
    "# TO-DO incluye aquí tu programa\n",
    "year_str, month_str, day_str = fecha.split(\"-\")\n",
    "year, month, day = int(year_str), int(month_str), int(day_str)\n",
    "\n",
    "month2string = {}\n",
    "month2string[1] = \"enero\"\n",
    "month2string[2] = \"febrero\"\n",
    "month2string[3] = \"marzo\"\n",
    "month2string[4] = \"abril\"\n",
    "month2string[5] = \"mayo\"\n",
    "month2string[6] = \"junio\"\n",
    "month2string[7] = \"julio\"\n",
    "month2string[8] = \"agosto\"\n",
    "month2string[9] = \"septiembre\"\n",
    "month2string[10] = \"octubre\"\n",
    "month2string[11] = \"noviembre\"\n",
    "month2string[12] = \"diciembre\"\n",
    "\n",
    "fecha_formateada = \"{} de {} de {}\".format(day, month2string[month], year)\n",
    "\n",
    "print(\"Hoy es \" + fecha_formateada)"
   ]
  },
  {
   "cell_type": "markdown",
   "id": "04c466d1",
   "metadata": {},
   "source": [
    "Posibles respuestas:"
   ]
  },
  {
   "cell_type": "markdown",
   "id": "3a4fbb9e",
   "metadata": {},
   "source": [
    "- Con input \"2023-04-12\":\n",
    "\n",
    "  Hoy es 12 de abril de 2023"
   ]
  },
  {
   "cell_type": "markdown",
   "id": "191c7abe",
   "metadata": {},
   "source": [
    "- Con input \"2023-09-30\":\n",
    "\n",
    "  Hoy es 30 de septiembre de 2023"
   ]
  },
  {
   "cell_type": "markdown",
   "id": "ca3530dc",
   "metadata": {},
   "source": [
    "## Ejercicio 4"
   ]
  },
  {
   "cell_type": "markdown",
   "id": "9f45eedc",
   "metadata": {},
   "source": [
    "Vamos a crear un generador de nombres aleatorio a partir de dos listas y la librería RANDOM."
   ]
  },
  {
   "cell_type": "code",
   "execution_count": 53,
   "id": "86791f89",
   "metadata": {},
   "outputs": [
    {
     "name": "stdout",
     "output_type": "stream",
     "text": [
      "Nombre generado: Christian Lorenzo Lorenzo\n"
     ]
    }
   ],
   "source": [
    "nombres = [\"Christian\", \"Mateo\", \"Sofía\", \"Alejandro\", \"Isabel\", \"Rocío\", \"Santiago\", \"Valentín\", \"Pedro\", \n",
    "           \"Adriana\", \"Aitana\", \"David\", \"Ana\", \"Andrea\", \"Eva\", \"Iván\", \"Julián\", \"Alfonso\", \"Salvador\",\n",
    "           \"Jesús\", \"Lucía\", \"Marta\", \"Gonzalo\"]\n",
    "apellidos = [\"Oliva\", \"García\", \"Rodríguez\", \"González\", \"López\", \"Martínez\", \"Pérez\", \"Guijarro\", \"Santos\",\n",
    "             \"Moya\", \"Lorenzo\", \"Benítez\", \"Ramos\", \"Caballero\", \"de los Monteros\", \"Rajoy\", \"Carrasco\",\n",
    "             \"Molina\", \"Delgado\", \"Suarez\"]\n",
    "\n",
    "# TO-DO incluye aquí tu programa\n",
    "nombre = random.choice(nombres)\n",
    "apellido1 = random.choice(apellidos)\n",
    "apellido2 = random.choice(apellidos)\n",
    "\n",
    "print(\"Nombre generado: {} {} {}\".format(nombre, apellido1, apellido2))"
   ]
  },
  {
   "cell_type": "markdown",
   "id": "b59e1dae",
   "metadata": {},
   "source": [
    "Posibles respuestas:\n",
    "\n",
    "- Nombre generado: Julián Rajoy Guijarro\n",
    "\n",
    "- Nombre generado: Rocío Ramos Pérez\n",
    "\n",
    "- Nombre generado: Ana Carrasco Oliva\n",
    "\n",
    "- Nombre generado: Aitana Guijarro Santos\n",
    "\n",
    "- Nombre generado: Marta Benítez Caballero\n",
    "\n",
    "- Nombre generado: Christian Lorenzo Lorenzo"
   ]
  },
  {
   "cell_type": "code",
   "execution_count": null,
   "id": "902247bb",
   "metadata": {},
   "outputs": [],
   "source": []
  }
 ],
 "metadata": {
  "kernelspec": {
   "display_name": "Python 3 (ipykernel)",
   "language": "python",
   "name": "python3"
  },
  "language_info": {
   "codemirror_mode": {
    "name": "ipython",
    "version": 3
   },
   "file_extension": ".py",
   "mimetype": "text/x-python",
   "name": "python",
   "nbconvert_exporter": "python",
   "pygments_lexer": "ipython3",
   "version": "3.11.4"
  }
 },
 "nbformat": 4,
 "nbformat_minor": 5
}
