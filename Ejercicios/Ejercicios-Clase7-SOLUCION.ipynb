{
 "cells": [
  {
   "cell_type": "markdown",
   "id": "d36e5411",
   "metadata": {},
   "source": [
    "# Ejercicios - Clase 7"
   ]
  },
  {
   "cell_type": "markdown",
   "id": "cba93d75",
   "metadata": {},
   "source": [
    "Ejercicios de los bloques de introducción a python. Numpy 2\n",
    "\n",
    "**Versión**: 1.0\n",
    "\n",
    "**Fecha**: 23/10/2023"
   ]
  },
  {
   "cell_type": "markdown",
   "id": "47399824",
   "metadata": {},
   "source": [
    "En este notebook vamos a trabajar con un dataset creado artificialmente para los ejercicios. Por ahora no debéis saber qué es Pandas, pero lo utilizaremos para leer el fichero en formato CSV, visualizarlo y luego pasarlo a Numpy, librería que sí conocemos. A fin de cuentas, leer un fichero CSV es lo mismo que gestionar una matriz de datos.\n",
    "\n",
    "El primer dataset define las ventas de los productos de una empresa. Incluye la fecha de venta, el ID del producto, el número de productos vendidos y el precio del producto vendido."
   ]
  },
  {
   "cell_type": "code",
   "execution_count": 17,
   "id": "972baf64",
   "metadata": {},
   "outputs": [],
   "source": [
    "import pandas as pd\n",
    "import numpy as np\n",
    "import matplotlib.pyplot as plt\n",
    "import time"
   ]
  },
  {
   "cell_type": "code",
   "execution_count": 18,
   "id": "5354da9a",
   "metadata": {},
   "outputs": [
    {
     "data": {
      "text/html": [
       "<div>\n",
       "<style scoped>\n",
       "    .dataframe tbody tr th:only-of-type {\n",
       "        vertical-align: middle;\n",
       "    }\n",
       "\n",
       "    .dataframe tbody tr th {\n",
       "        vertical-align: top;\n",
       "    }\n",
       "\n",
       "    .dataframe thead th {\n",
       "        text-align: right;\n",
       "    }\n",
       "</style>\n",
       "<table border=\"1\" class=\"dataframe\">\n",
       "  <thead>\n",
       "    <tr style=\"text-align: right;\">\n",
       "      <th></th>\n",
       "      <th>fecha</th>\n",
       "      <th>producto</th>\n",
       "      <th>productos_vendidos</th>\n",
       "      <th>precio_producto</th>\n",
       "    </tr>\n",
       "  </thead>\n",
       "  <tbody>\n",
       "    <tr>\n",
       "      <th>0</th>\n",
       "      <td>2006-01-18</td>\n",
       "      <td>15</td>\n",
       "      <td>4</td>\n",
       "      <td>13.53</td>\n",
       "    </tr>\n",
       "    <tr>\n",
       "      <th>1</th>\n",
       "      <td>2023-05-31</td>\n",
       "      <td>2</td>\n",
       "      <td>4</td>\n",
       "      <td>3.57</td>\n",
       "    </tr>\n",
       "    <tr>\n",
       "      <th>2</th>\n",
       "      <td>2007-08-01</td>\n",
       "      <td>13</td>\n",
       "      <td>2</td>\n",
       "      <td>1.78</td>\n",
       "    </tr>\n",
       "    <tr>\n",
       "      <th>3</th>\n",
       "      <td>2013-11-17</td>\n",
       "      <td>8</td>\n",
       "      <td>3</td>\n",
       "      <td>2.11</td>\n",
       "    </tr>\n",
       "    <tr>\n",
       "      <th>4</th>\n",
       "      <td>2010-12-01</td>\n",
       "      <td>18</td>\n",
       "      <td>3</td>\n",
       "      <td>26.59</td>\n",
       "    </tr>\n",
       "    <tr>\n",
       "      <th>...</th>\n",
       "      <td>...</td>\n",
       "      <td>...</td>\n",
       "      <td>...</td>\n",
       "      <td>...</td>\n",
       "    </tr>\n",
       "    <tr>\n",
       "      <th>99995</th>\n",
       "      <td>2003-12-23</td>\n",
       "      <td>17</td>\n",
       "      <td>2</td>\n",
       "      <td>23.49</td>\n",
       "    </tr>\n",
       "    <tr>\n",
       "      <th>99996</th>\n",
       "      <td>2008-04-01</td>\n",
       "      <td>15</td>\n",
       "      <td>1</td>\n",
       "      <td>13.53</td>\n",
       "    </tr>\n",
       "    <tr>\n",
       "      <th>99997</th>\n",
       "      <td>2004-06-09</td>\n",
       "      <td>8</td>\n",
       "      <td>4</td>\n",
       "      <td>2.11</td>\n",
       "    </tr>\n",
       "    <tr>\n",
       "      <th>99998</th>\n",
       "      <td>2017-10-09</td>\n",
       "      <td>13</td>\n",
       "      <td>2</td>\n",
       "      <td>1.78</td>\n",
       "    </tr>\n",
       "    <tr>\n",
       "      <th>99999</th>\n",
       "      <td>2012-06-27</td>\n",
       "      <td>10</td>\n",
       "      <td>1</td>\n",
       "      <td>3.35</td>\n",
       "    </tr>\n",
       "  </tbody>\n",
       "</table>\n",
       "<p>100000 rows × 4 columns</p>\n",
       "</div>"
      ],
      "text/plain": [
       "            fecha  producto  productos_vendidos  precio_producto\n",
       "0      2006-01-18        15                   4            13.53\n",
       "1      2023-05-31         2                   4             3.57\n",
       "2      2007-08-01        13                   2             1.78\n",
       "3      2013-11-17         8                   3             2.11\n",
       "4      2010-12-01        18                   3            26.59\n",
       "...           ...       ...                 ...              ...\n",
       "99995  2003-12-23        17                   2            23.49\n",
       "99996  2008-04-01        15                   1            13.53\n",
       "99997  2004-06-09         8                   4             2.11\n",
       "99998  2017-10-09        13                   2             1.78\n",
       "99999  2012-06-27        10                   1             3.35\n",
       "\n",
       "[100000 rows x 4 columns]"
      ]
     },
     "execution_count": 18,
     "metadata": {},
     "output_type": "execute_result"
    }
   ],
   "source": [
    "df = pd.read_csv('https://raw.githubusercontent.com/alfonso-santos/Intro-Python-Finanzas-2023/main/Ejercicios/datos/ventas_generadas.csv', index_col='Unnamed: 0')\n",
    "df"
   ]
  },
  {
   "cell_type": "code",
   "execution_count": 19,
   "id": "e8968437",
   "metadata": {},
   "outputs": [
    {
     "data": {
      "text/plain": [
       "(100000, 4)"
      ]
     },
     "execution_count": 19,
     "metadata": {},
     "output_type": "execute_result"
    }
   ],
   "source": [
    "datos = df.to_numpy()\n",
    "datos.shape"
   ]
  },
  {
   "cell_type": "markdown",
   "id": "4cbc3576",
   "metadata": {},
   "source": [
    "En los ejercicios de la clase anterior (Clase 6) trabajamos sobre el dataset para obtener diferente información. En esta ocasión, los ejercicios consisten en realizar un proceso de ingeniería inversa, es decir, analizar los datos para responder a la siguiente pregunta. ¿Cómo se han generado los datos?"
   ]
  },
  {
   "cell_type": "markdown",
   "id": "0f6fd81a",
   "metadata": {},
   "source": [
    "## Ejercicio 1"
   ]
  },
  {
   "cell_type": "markdown",
   "id": "d77ac941",
   "metadata": {},
   "source": [
    "Calcula la frecuencia del número de ventas para cada producto."
   ]
  },
  {
   "cell_type": "code",
   "execution_count": 20,
   "id": "767aebf5",
   "metadata": {},
   "outputs": [
    {
     "name": "stdout",
     "output_type": "stream",
     "text": [
      "valores_productos: [1 2 3 4]\n",
      "producto: [ 0  1  2  3  4  5  6  7  8  9 10 11 12 13 14 15 16 17 18 19]\n"
     ]
    }
   ],
   "source": [
    "# Para calcularlo cómodamente, primero vamos a calcular qué valores pueden tomar las columnas \"producto\" \n",
    "# y \"productos_vendidos\"\n",
    "\n",
    "# TO-DO Obtén los posibles valores que puede tener la columna \"productos_vendidos\"\n",
    "valores_productos_vendidos = np.unique(datos[:, 2]).astype(int)\n",
    "print(\"valores_productos:\", valores_productos_vendidos)\n",
    "\n",
    "# TO-DO Obtén los posibles valores que puede tener la columna \"producto\"\n",
    "valores_producto = np.unique(datos[:, 1]).astype(int)\n",
    "print(\"producto:\", valores_producto)"
   ]
  },
  {
   "cell_type": "code",
   "execution_count": 21,
   "id": "e4d21e5f",
   "metadata": {},
   "outputs": [
    {
     "data": {
      "text/plain": [
       "(20, 4)"
      ]
     },
     "execution_count": 21,
     "metadata": {},
     "output_type": "execute_result"
    }
   ],
   "source": [
    "# Ahora que sabemos qué valores pueden tomar las columnas, vamos a definir un array (matriz)\n",
    "# con shape (#Productos, #Valores_productos), es decir, (20, 4)\n",
    "\n",
    "# TO-DO Construye la matriz inicializada a 0s con el shape correcto SIN USAR NÚMEROS MAGICOS\n",
    "num_productos = len(valores_producto)\n",
    "num_valores_productos = len(valores_productos_vendidos)\n",
    "\n",
    "contadores = np.zeros((num_productos, num_valores_productos), dtype=int)\n",
    "contadores.shape"
   ]
  },
  {
   "cell_type": "code",
   "execution_count": 22,
   "id": "bb067d87",
   "metadata": {},
   "outputs": [
    {
     "name": "stdout",
     "output_type": "stream",
     "text": [
      "OPCION 1:  0.1403348445892334\n",
      "OPCION 2:  0.13245439529418945\n",
      "¿Los dos métodos dan el mismo resultado? True \n",
      "\n",
      "[[1226 1299 1197 1238]\n",
      " [1189 1246 1240 1209]\n",
      " [1307 1198 1268 1198]\n",
      " [1282 1234 1204 1222]\n",
      " [1216 1211 1300 1267]\n",
      " [1267 1253 1214 1246]\n",
      " [1212 1226 1237 1237]\n",
      " [1259 1263 1299 1285]\n",
      " [1274 1294 1256 1231]\n",
      " [1218 1261 1244 1243]\n",
      " [1268 1277 1236 1276]\n",
      " [1205 1275 1256 1227]\n",
      " [1313 1248 1210 1242]\n",
      " [1215 1247 1270 1193]\n",
      " [1249 1229 1241 1239]\n",
      " [1258 1233 1267 1238]\n",
      " [1309 1256 1224 1227]\n",
      " [1298 1242 1297 1266]\n",
      " [1277 1233 1287 1328]\n",
      " [1299 1199 1303 1273]]\n"
     ]
    }
   ],
   "source": [
    "# TO-DO Rellena la variable contadores\n",
    "# OPCION 1: Búsqueda por índices\n",
    "time_ini = time.time()\n",
    "contadores1 = np.copy(contadores)\n",
    "for id_producto in valores_producto:\n",
    "    indices_producto = (datos[:, 1] == id_producto)\n",
    "    for i, productos_vendidos in enumerate(valores_productos_vendidos):\n",
    "        indices_productos_vendidos = (datos[:, 2] == productos_vendidos)\n",
    "        indices = indices_producto & indices_productos_vendidos\n",
    "        contadores1[id_producto, i] = len(datos[indices])\n",
    "\n",
    "print(\"OPCION 1: \", time.time() - time_ini)\n",
    "        \n",
    "# OPCION 2: Fila a fila\n",
    "time_ini = time.time()\n",
    "contadores2 = np.copy(contadores)\n",
    "for fila in datos:\n",
    "    id_producto = fila[1]\n",
    "    productos_vendidos = fila[2]\n",
    "    i_productos_vendidos = list(valores_productos_vendidos).index(productos_vendidos)\n",
    "    contadores2[id_producto, i_productos_vendidos] += 1\n",
    "\n",
    "print(\"OPCION 2: \", time.time() - time_ini)    \n",
    "\n",
    "print(\"¿Los dos métodos dan el mismo resultado?\", (contadores1 == contadores2).all(), \"\\n\")\n",
    "contadores = contadores1\n",
    "print(contadores)"
   ]
  },
  {
   "cell_type": "markdown",
   "id": "0333384a",
   "metadata": {},
   "source": [
    "**Pregunta** ¿Qué información almacena la variable contadores?"
   ]
  },
  {
   "cell_type": "code",
   "execution_count": 42,
   "id": "c77a85b1",
   "metadata": {},
   "outputs": [],
   "source": [
    "# Incluye tu respuesta aquí en el siguiente comentario:\n",
    "\n",
    "\"\"\"\n",
    "Si tenemos cuantas veces se vende cada producto (filas) y cuantas veces aparece un número de productos vendidos\n",
    "determinado (columnas), podemos sacar mucha información de la distribución de los datos.\n",
    "\"\"\";"
   ]
  },
  {
   "cell_type": "markdown",
   "id": "99319fd7",
   "metadata": {},
   "source": [
    "Ahora puedes calcular la frecuencia del número de ventas de cada producto."
   ]
  },
  {
   "cell_type": "code",
   "execution_count": 107,
   "id": "1a3a2f30",
   "metadata": {},
   "outputs": [
    {
     "data": {
      "text/plain": [
       "array([0.0496 , 0.04884, 0.04971, 0.04942, 0.04994, 0.0498 , 0.04912,\n",
       "       0.05106, 0.05055, 0.04966, 0.05057, 0.04963, 0.05013, 0.04925,\n",
       "       0.04958, 0.04996, 0.05016, 0.05103, 0.05125, 0.05074])"
      ]
     },
     "execution_count": 107,
     "metadata": {},
     "output_type": "execute_result"
    }
   ],
   "source": [
    "# TO-DO calcula la frecuencia de ventas de cada producto\n",
    "frecuencias = contadores.sum(axis=1) / contadores.sum()\n",
    "frecuencias"
   ]
  },
  {
   "cell_type": "markdown",
   "id": "32dc3c2d",
   "metadata": {},
   "source": [
    "**Pregunta** ¿Qué conclusiones sacas de estas frecuencias?"
   ]
  },
  {
   "cell_type": "code",
   "execution_count": 108,
   "id": "0cb3a367",
   "metadata": {},
   "outputs": [],
   "source": [
    "# Incluye tu respuesta aquí en el siguiente comentario:\n",
    "\n",
    "\"\"\"\n",
    "Todos los productos tienen una frecuencia similar, por lo que han sido generados con una distribución uniforme\n",
    "\"\"\";"
   ]
  },
  {
   "cell_type": "code",
   "execution_count": 109,
   "id": "68f11a6a",
   "metadata": {},
   "outputs": [
    {
     "data": {
      "image/png": "[encoded data removed]",
      "text/plain": [
       "<Figure size 1000x300 with 1 Axes>"
      ]
     },
     "metadata": {},
     "output_type": "display_data"
    }
   ],
   "source": [
    "# Esta celda te mostrará una representación gráfica de las frecuencias para visualizarlo cómodamente\n",
    "# con un diagrama de barras. Veremos más adelante cómo construir estas celdas.\n",
    "\n",
    "plt.figure(figsize=(10, 3))\n",
    "plt.bar(np.unique(datos[:, 1]), frecuencias)\n",
    "plt.xticks(np.arange(20), [str(x) for x in np.unique(datos[:, 1])])\n",
    "plt.xlabel(\"ID Producto\", size=14)\n",
    "plt.ylabel(\"Freq\", size=14)\n",
    "plt.show()"
   ]
  },
  {
   "cell_type": "markdown",
   "id": "662f6be0",
   "metadata": {},
   "source": [
    "## Ejercicio 2"
   ]
  },
  {
   "cell_type": "markdown",
   "id": "c355f2fd",
   "metadata": {},
   "source": [
    "A partir de la variable ```contadores``` del ejercicio 1, calcula la frecuencia del número de productos vendidos para el producto 4."
   ]
  },
  {
   "cell_type": "code",
   "execution_count": 110,
   "id": "582e0144",
   "metadata": {},
   "outputs": [
    {
     "data": {
      "text/plain": [
       "array([0.24349219, 0.24249099, 0.26031237, 0.25370445])"
      ]
     },
     "execution_count": 110,
     "metadata": {},
     "output_type": "execute_result"
    }
   ],
   "source": [
    "id_producto = 4\n",
    "# TO-DO Calcula la frecuencia de los productos vendidos para el producto 4. Es decir, la frecuencia de vender\n",
    "# 1, 2, 3 o 4 productos\n",
    "frecuencia_productos_vendidos_prod4 = contadores[id_producto] / contadores[id_producto].sum()\n",
    "frecuencia_productos_vendidos_prod4"
   ]
  },
  {
   "cell_type": "markdown",
   "id": "6c73aef1",
   "metadata": {},
   "source": [
    "## Ejercicio 3"
   ]
  },
  {
   "cell_type": "markdown",
   "id": "93edf3f6",
   "metadata": {},
   "source": [
    "A partir de la variable `contadores` del ejercicio 1, calcula la frecuencia del número de productos vendidos para cada producto."
   ]
  },
  {
   "cell_type": "code",
   "execution_count": 129,
   "id": "4a172dfd",
   "metadata": {},
   "outputs": [
    {
     "name": "stdout",
     "output_type": "stream",
     "text": [
      "¿Los dos métodos dan el mismo resultado? True \n",
      "\n",
      "[[0.24717742 0.26189516 0.24133065 0.24959677]\n",
      " [0.24344799 0.25511876 0.25389025 0.247543  ]\n",
      " [0.26292496 0.24099779 0.25507946 0.24099779]\n",
      " [0.25940915 0.24969648 0.24362606 0.24726831]\n",
      " [0.24349219 0.24249099 0.26031237 0.25370445]\n",
      " [0.25441767 0.25160643 0.2437751  0.2502008 ]\n",
      " [0.24674267 0.24959283 0.25183225 0.25183225]\n",
      " [0.24657266 0.24735605 0.25440658 0.25166471]\n",
      " [0.2520277  0.25598417 0.24846686 0.24352127]\n",
      " [0.24526782 0.2539267  0.25050342 0.25030205]\n",
      " [0.25074155 0.25252126 0.24441368 0.25232351]\n",
      " [0.2427967  0.25690107 0.25307274 0.2472295 ]\n",
      " [0.26191901 0.24895272 0.24137243 0.24775583]\n",
      " [0.24670051 0.25319797 0.25786802 0.2422335 ]\n",
      " [0.2519161  0.24788221 0.25030254 0.24989915]\n",
      " [0.25180144 0.24679744 0.25360288 0.24779824]\n",
      " [0.26096491 0.25039872 0.24401914 0.24461722]\n",
      " [0.25436018 0.24338624 0.25416422 0.24808936]\n",
      " [0.24917073 0.24058537 0.25112195 0.25912195]\n",
      " [0.25601104 0.23630272 0.25679937 0.25088687]]\n"
     ]
    }
   ],
   "source": [
    "# TO-DO Calcula la frecuencia de los productos vendidos para todos los productos\n",
    "# OPCION 1: Broadcasting\n",
    "frecuencia_productos_vendidos1 = contadores / contadores.sum(axis=1, keepdims=True)\n",
    "\n",
    "# OPCION 2: Bucle\n",
    "frecuencia_productos_vendidos2 = np.zeros_like(contadores, dtype=float)\n",
    "for id_producto in valores_producto:\n",
    "    frecuencia_productos_vendidos2[id_producto] = contadores[id_producto] / contadores[id_producto].sum()\n",
    "    \n",
    "print(\"¿Los dos métodos dan el mismo resultado?\", (frecuencia_productos_vendidos1 == frecuencia_productos_vendidos2).all(), \"\\n\")\n",
    "frecuencia_productos_vendidos = frecuencia_productos_vendidos1\n",
    "print(frecuencia_productos_vendidos)"
   ]
  },
  {
   "cell_type": "markdown",
   "id": "26d713dc",
   "metadata": {},
   "source": [
    "**Pregunta** ¿Qué conclusiones sacas de estas frecuencias?"
   ]
  },
  {
   "cell_type": "code",
   "execution_count": 134,
   "id": "ec95c88b",
   "metadata": {},
   "outputs": [],
   "source": [
    "# Incluye tu respuesta aquí en el siguiente comentario:\n",
    "\n",
    "\"\"\"\n",
    "Todas las ventas de producto tienen una frecuencia similar, por lo que han sido generados con una distribución \n",
    "uniforme.\n",
    "\"\"\";"
   ]
  },
  {
   "cell_type": "markdown",
   "id": "e3bb2093",
   "metadata": {},
   "source": [
    "## Ejercicio 4"
   ]
  },
  {
   "cell_type": "markdown",
   "id": "9eced51e",
   "metadata": {},
   "source": [
    "Con el análisis previo que hemos realizado, vamos a crear nuestro propio dataset (exceptuando las fechas y el precio de los productos)."
   ]
  },
  {
   "cell_type": "code",
   "execution_count": 143,
   "id": "ffbec45c",
   "metadata": {},
   "outputs": [
    {
     "data": {
      "text/html": [
       "<div>\n",
       "<style scoped>\n",
       "    .dataframe tbody tr th:only-of-type {\n",
       "        vertical-align: middle;\n",
       "    }\n",
       "\n",
       "    .dataframe tbody tr th {\n",
       "        vertical-align: top;\n",
       "    }\n",
       "\n",
       "    .dataframe thead th {\n",
       "        text-align: right;\n",
       "    }\n",
       "</style>\n",
       "<table border=\"1\" class=\"dataframe\">\n",
       "  <thead>\n",
       "    <tr style=\"text-align: right;\">\n",
       "      <th></th>\n",
       "      <th>producto</th>\n",
       "      <th>productos_vendidos</th>\n",
       "    </tr>\n",
       "  </thead>\n",
       "  <tbody>\n",
       "    <tr>\n",
       "      <th>0</th>\n",
       "      <td>3</td>\n",
       "      <td>4</td>\n",
       "    </tr>\n",
       "    <tr>\n",
       "      <th>1</th>\n",
       "      <td>5</td>\n",
       "      <td>3</td>\n",
       "    </tr>\n",
       "    <tr>\n",
       "      <th>2</th>\n",
       "      <td>1</td>\n",
       "      <td>4</td>\n",
       "    </tr>\n",
       "    <tr>\n",
       "      <th>3</th>\n",
       "      <td>19</td>\n",
       "      <td>3</td>\n",
       "    </tr>\n",
       "    <tr>\n",
       "      <th>4</th>\n",
       "      <td>5</td>\n",
       "      <td>3</td>\n",
       "    </tr>\n",
       "    <tr>\n",
       "      <th>...</th>\n",
       "      <td>...</td>\n",
       "      <td>...</td>\n",
       "    </tr>\n",
       "    <tr>\n",
       "      <th>99995</th>\n",
       "      <td>4</td>\n",
       "      <td>2</td>\n",
       "    </tr>\n",
       "    <tr>\n",
       "      <th>99996</th>\n",
       "      <td>16</td>\n",
       "      <td>2</td>\n",
       "    </tr>\n",
       "    <tr>\n",
       "      <th>99997</th>\n",
       "      <td>6</td>\n",
       "      <td>3</td>\n",
       "    </tr>\n",
       "    <tr>\n",
       "      <th>99998</th>\n",
       "      <td>0</td>\n",
       "      <td>3</td>\n",
       "    </tr>\n",
       "    <tr>\n",
       "      <th>99999</th>\n",
       "      <td>4</td>\n",
       "      <td>1</td>\n",
       "    </tr>\n",
       "  </tbody>\n",
       "</table>\n",
       "<p>100000 rows × 2 columns</p>\n",
       "</div>"
      ],
      "text/plain": [
       "       producto  productos_vendidos\n",
       "0             3                   4\n",
       "1             5                   3\n",
       "2             1                   4\n",
       "3            19                   3\n",
       "4             5                   3\n",
       "...         ...                 ...\n",
       "99995         4                   2\n",
       "99996        16                   2\n",
       "99997         6                   3\n",
       "99998         0                   3\n",
       "99999         4                   1\n",
       "\n",
       "[100000 rows x 2 columns]"
      ]
     },
     "execution_count": 143,
     "metadata": {},
     "output_type": "execute_result"
    }
   ],
   "source": [
    "N = 100000\n",
    "n_productos = len(valores_producto)\n",
    "n_ventas = len(valores_productos_vendidos)\n",
    "\n",
    "productos = np.random.randint(n_productos, size=N)\n",
    "ventas = np.random.randint(n_ventas, size=N) + 1\n",
    "\n",
    "# Esta es una de las formas de crear un dataframe con Pandas. Os lo damos hecho.\n",
    "d = {\"producto\": productos, \"productos_vendidos\": ventas}\n",
    "new_dataframe = pd.DataFrame(data=d)\n",
    "new_dataframe"
   ]
  },
  {
   "cell_type": "code",
   "execution_count": 151,
   "id": "41dc34cf",
   "metadata": {},
   "outputs": [
    {
     "data": {
      "image/png": "[encoded data removed]",
      "text/plain": [
       "<Figure size 1000x300 with 1 Axes>"
      ]
     },
     "metadata": {},
     "output_type": "display_data"
    }
   ],
   "source": [
    "# Con esta celda puedes comprobar si se ha calculado correctamente. Tiene que salir de forma similar a la \n",
    "# figura del ejercicio 1.\n",
    "\n",
    "# Esta celda te mostrará una representación gráfica de las frecuencias para visualizarlo cómodamente\n",
    "# con un diagrama de barras. Veremos más adelante cómo construir estas celdas.\n",
    "\n",
    "plt.figure(figsize=(10, 3))\n",
    "plt.bar(np.unique(datos[:, 1]), (new_dataframe.groupby(\"producto\").count() / len(new_dataframe))[\"productos_vendidos\"])\n",
    "plt.xticks(np.arange(20), [str(x) for x in np.unique(datos[:, 1])])\n",
    "plt.xlabel(\"ID Producto\", size=14)\n",
    "plt.ylabel(\"Freq\", size=14)\n",
    "plt.show()"
   ]
  },
  {
   "cell_type": "code",
   "execution_count": null,
   "id": "658df95f",
   "metadata": {},
   "outputs": [],
   "source": []
  }
 ],
 "metadata": {
  "kernelspec": {
   "display_name": "Python 3 (ipykernel)",
   "language": "python",
   "name": "python3"
  },
  "language_info": {
   "codemirror_mode": {
    "name": "ipython",
    "version": 3
   },
   "file_extension": ".py",
   "mimetype": "text/x-python",
   "name": "python",
   "nbconvert_exporter": "python",
   "pygments_lexer": "ipython3",
   "version": "3.11.4"
  }
 },
 "nbformat": 4,
 "nbformat_minor": 5
}
