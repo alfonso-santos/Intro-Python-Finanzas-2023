{
 "cells": [
  {
   "cell_type": "markdown",
   "id": "47c9cacf",
   "metadata": {},
   "source": [
    "# Ejercicios adicionales de programación"
   ]
  },
  {
   "cell_type": "markdown",
   "id": "95c43c1a",
   "metadata": {},
   "source": [
    "Ejercicios adicionales del bloque de introducción a python.\n",
    "\n",
    "**Última versión**: 1.1\n",
    "\n",
    "**Fecha última versión**: 09/11/2023\n",
    "\n",
    "**Actualización 1.1** Añadidos unos 16 ejercicios adicionales de diferente dificultad. Fecha 9/11/2023\n",
    "\n",
    "**Actualización 1.0** 10 ejercicios de diferente dificultad. Fecha: 04/11/2023"
   ]
  },
  {
   "cell_type": "markdown",
   "id": "df352462",
   "metadata": {},
   "source": [
    "**IMPORTANTE**: No es válido añadir más imports de los que os damos en la siguiente celda. Esto es así ya que queremos que penséis como programar, no que utilicéis una librería específica que resuelva el problema."
   ]
  },
  {
   "cell_type": "code",
   "execution_count": 101,
   "id": "107caf9b",
   "metadata": {},
   "outputs": [],
   "source": [
    "import math\n",
    "import numpy as np\n",
    "from datetime import datetime"
   ]
  },
  {
   "cell_type": "markdown",
   "id": "42d2edd2",
   "metadata": {},
   "source": [
    "## Ejercicio 1"
   ]
  },
  {
   "cell_type": "markdown",
   "id": "c80f1b5b",
   "metadata": {},
   "source": [
    "Crea una función que lea los coeficientes de una ecuación de segundo grado $ax^2 + bx + c = 0$ y calcule sus dos soluciones. Asume que la ecuación tiene soluciones reales. En el caso de ser una única solución doble, deberá devolver un único valor. Asegúrate de que redondeas el resultado a 4 decimales para evitar errores de precisión cuando los coeficientes `a`, `b`, o `c` son fracciones.\n",
    "\n",
    "La cabecera de la función será la siguiente: `resuelve_ecuacion_grado_2(a, b, c)`."
   ]
  },
  {
   "cell_type": "code",
   "execution_count": 2,
   "id": "c5e492a7",
   "metadata": {},
   "outputs": [],
   "source": [
    "# TO-DO Completa la función\n",
    "def resuelve_ecuacion_grado_2(a, b, c):\n",
    "    raiz = math.sqrt(b**2-4*a*c)\n",
    "    solucion1 = (-b + raiz) / (2*a)\n",
    "    solucion2 = (-b - raiz) / (2*a)\n",
    "    if solucion1 == solucion2:\n",
    "        return round(solucion1, 4)\n",
    "    else:\n",
    "        return round(solucion1, 4), round(solucion2, 4)"
   ]
  },
  {
   "cell_type": "code",
   "execution_count": 3,
   "id": "f1bab4e6",
   "metadata": {},
   "outputs": [],
   "source": [
    "# Celda de test. Puedes añadir los que tu quieras adicionalmente\n",
    "assert resuelve_ecuacion_grado_2(1, -5, 6) == (3.0, 2.0), \"Error en el test 1\"\n",
    "assert resuelve_ecuacion_grado_2(2, -7, 3) == (3.0, 0.5), \"Error en el test 2\"\n",
    "assert resuelve_ecuacion_grado_2(-1, 7, -10) == (2.0, 5.0), \"Error en el test 3\"\n",
    "assert resuelve_ecuacion_grado_2(1, -2, 1) == 1.0, \"Error en el test 4\"\n",
    "assert resuelve_ecuacion_grado_2(1, -4, 4) == 2.0, \"Error en el test 5\"\n",
    "assert resuelve_ecuacion_grado_2(1, -7/6, 1/3) == (0.6667, 0.5), \"Error en el test 6\""
   ]
  },
  {
   "cell_type": "markdown",
   "id": "10814eca",
   "metadata": {},
   "source": [
    "## Ejercicio 2"
   ]
  },
  {
   "cell_type": "markdown",
   "id": "87720514",
   "metadata": {},
   "source": [
    "Crea una función que lea los coeficientes de un sistema de dos ecuaciones lineales con dos incógnitas y calcule su solución. Se supone que el sistema de ecuaciones es compatible determinado. Puedes resolverlo con el método que quieras (sustitución, igualación o reducción).\n",
    "\n",
    "$$ ax + by = c $$\n",
    "$$ dx + ey = f $$\n",
    "\n",
    "La cabecera de la función será la siguiente: `resuelve_sistema_ecuaciones(a, b, c, d, e, f)`."
   ]
  },
  {
   "cell_type": "code",
   "execution_count": 4,
   "id": "c67106ca",
   "metadata": {},
   "outputs": [],
   "source": [
    "# TO-DO Completa la función\n",
    "def resuelve_sistema_ecuaciones(a, b, c, d, e, f):\n",
    "    # Paso 0: Me hago una copia de los valores originales\n",
    "    aa, bb, cc = a, b, c\n",
    "    dd, ee, ff = d, e, f\n",
    "    \n",
    "    # Paso 1: Calculamos el factor para multiplicar la segunda ecuación y tener un coeficiente a == -d\n",
    "    n = -a / d\n",
    "    \n",
    "    # Paso 2: Multiplicamos la segunda ecuación por el factor n calculado previamente\n",
    "    d *= n\n",
    "    e *= n\n",
    "    f *= n\n",
    "    \n",
    "    # Paso 3: Sumamos coeficientes. Técnicamente se deben ir a y d\n",
    "    if a + d != 0:\n",
    "        raise Exception(\"ERROR: a + d no suman 0: {}\".format(a + d))\n",
    "    a += d\n",
    "    b += e\n",
    "    c += f\n",
    "    \n",
    "    # Paso 4: Calcula y despejando en la ecuación\n",
    "    y = c / b\n",
    "    \n",
    "    # Paso 5: Vuelve a la primera ecuación y calcula x\n",
    "    x = (cc - bb * y) / aa\n",
    "    \n",
    "    return round(x, 4), round(y, 4)"
   ]
  },
  {
   "cell_type": "code",
   "execution_count": 5,
   "id": "a2577c47",
   "metadata": {},
   "outputs": [],
   "source": [
    "# Celda de test. Puedes añadir los que tu quieras adicionalmente\n",
    "assert resuelve_sistema_ecuaciones(5, 2, 1, -3, 3, 5) == (-0.3333, 1.3333), \"Error en el test 1\"\n",
    "assert resuelve_sistema_ecuaciones(2, 1, 6, 4, 3, 14) == (2, 2), \"Error en el test 2\"\n",
    "assert resuelve_sistema_ecuaciones(5, -2, 2, 1, 2, 2) == (0.6667, 0.6667), \"Error en el test 3\"\n",
    "assert resuelve_sistema_ecuaciones(5, -1, 3, -2, 4, -12) == (0, -3), \"Error en el test 4\"\n",
    "assert resuelve_sistema_ecuaciones(3, 5, 15, 2, -3, -9) == (0, 3), \"Error en el test 5\""
   ]
  },
  {
   "cell_type": "markdown",
   "id": "50165045",
   "metadata": {},
   "source": [
    "## Ejercicio 3"
   ]
  },
  {
   "cell_type": "markdown",
   "id": "1d5112fb",
   "metadata": {},
   "source": [
    "Define una función que nos calcule el cambio que debe dar la caja de un supermercado dado un precio y una cantidad de dinero pagada. La función nos dirá cuántas monedas deben darse como cambio de tal forma que el número total de monedas sea mínimo. Asegúrate de redondear siempre a 2 decimales para no entrar en posibles errores de precisión.\n",
    "\n",
    "La cabecera de la función será la siguiente: `calcula_cambio(precio, dinero)`."
   ]
  },
  {
   "cell_type": "code",
   "execution_count": 6,
   "id": "4616c76d",
   "metadata": {},
   "outputs": [],
   "source": [
    "# TO-DO Completa la función\n",
    "def calcula_cambio(precio, dinero):\n",
    "    monedas = [2.0, 1.0, 0.5, 0.2, 0.1, 0.05, 0.02, 0.01]\n",
    "    cambio = {}\n",
    "    \n",
    "    if precio > dinero:\n",
    "        raise Exception(\"ERROR: No se ha dado suficiente dinero\")\n",
    "        \n",
    "    resto = round(dinero - precio, 2)\n",
    "\n",
    "    for moneda in monedas:\n",
    "        if resto // moneda > 0:\n",
    "            cambio[moneda] = int(resto // moneda)\n",
    "            resto = round(resto % moneda, 2)\n",
    "            \n",
    "    return cambio"
   ]
  },
  {
   "cell_type": "code",
   "execution_count": 7,
   "id": "78158d61",
   "metadata": {},
   "outputs": [],
   "source": [
    "# Celda de test. Puedes añadir los que tu quieras adicionalmente\n",
    "assert calcula_cambio(10.42, 15.0) == {2.0: 2, 0.5: 1, 0.05: 1, 0.02: 1, 0.01: 1}, \"Error en el test 1\"\n",
    "assert calcula_cambio(204.99, 210.0) == {2.0: 2, 1.0: 1, 0.01: 1}, \"Error en el test 2\"\n",
    "assert calcula_cambio(14.67, 20.0) == {2.0: 2, 1.0: 1, 0.2: 1, 0.1: 1, 0.02: 1, 0.01: 1}, \"Error en el test 3\""
   ]
  },
  {
   "cell_type": "markdown",
   "id": "258ee322",
   "metadata": {},
   "source": [
    "## Ejercicio 4"
   ]
  },
  {
   "cell_type": "markdown",
   "id": "85dd0801",
   "metadata": {},
   "source": [
    "Define una función que calcule el índice de masa corporal. La ecuación es la siguiente:\n",
    "\n",
    "$$IMC = {peso \\over altura^2}$$\n",
    "\n",
    "donde `peso` se mide en kilogramos y `altura` en metros.\n",
    "\n",
    "Luego, define una función que indique en que rango estás según la siguiente tabla:\n",
    "\n",
    "<table>\n",
    "    <tr>\n",
    "        <td><b>Valor IMC</b></td>\n",
    "        <td><b>Rango</b></td>\n",
    "    </tr>\n",
    "    <tr>\n",
    "        <td> < 16 </td>\n",
    "        <td>Delgadez severa</td>\n",
    "    </tr>\n",
    "    <tr>\n",
    "        <td>[16, 17)</td>\n",
    "        <td>Delgadez moderada</td>\n",
    "    </tr>\n",
    "    <tr>\n",
    "        <td>[17, 18.5)</td>\n",
    "        <td>Delgadez</td>\n",
    "    </tr>\n",
    "    <tr>\n",
    "        <td>[18.5, 25)</td>\n",
    "        <td>Peso normal</td>\n",
    "    </tr>\n",
    "    <tr>\n",
    "        <td>[25, 30)</td>\n",
    "        <td>Sobrepeso</td>\n",
    "    </tr>\n",
    "    <tr>\n",
    "        <td>[30, 35)</td>\n",
    "        <td>Obesidad grado I</td>\n",
    "    </tr>\n",
    "    <tr>\n",
    "        <td>[35, 40)</td>\n",
    "        <td>Obesidad grado II</td>\n",
    "    </tr>\n",
    "    <tr>\n",
    "        <td> > 40</td>\n",
    "        <td>Obesidad grado III</td>\n",
    "    </tr>\n",
    "</table>\n",
    "\n",
    "Esta segunda función deberá devolver un string con el rango en el que te encuentras según tu IMC.\n",
    "\n",
    "\n",
    "Las cabeceras de las funciones son las siguientes: `IMC(peso, altura_en_cm)` y `rango_IMC(peso, altura_en_cm)`.\n",
    "\n",
    "Recuerda redondear el resultado del IMC a 4 decimales para no tener errores de precisión en la corrección."
   ]
  },
  {
   "cell_type": "code",
   "execution_count": 8,
   "id": "0d70820e",
   "metadata": {},
   "outputs": [],
   "source": [
    "# TO-DO Completa la función\n",
    "def IMC(peso, altura_en_cm):\n",
    "    return round(peso / (altura_en_cm/100)**2, 4)\n",
    "\n",
    "# TO-DO Completa la función\n",
    "def rango_IMC(peso, altura_en_cm):\n",
    "    imc = IMC(peso, altura_en_cm)\n",
    "    if imc < 16:\n",
    "        return \"Delgadez severa\"\n",
    "    if 16 <= imc < 17:\n",
    "        return \"Delgadez moderada\"\n",
    "    if 17 <= imc < 18.5:\n",
    "        return \"Delgadez\"\n",
    "    if 18.5 <= imc < 25:\n",
    "        return \"Peso normal\"\n",
    "    if 25 <= imc < 30:\n",
    "        return \"Sobrepeso\"\n",
    "    if 30 <= imc < 35:\n",
    "        return \"Obesidad grado I\"\n",
    "    if 35 <= imc < 40:\n",
    "        return \"Obesidad grado II\"\n",
    "    return \"Obesidad grado III\""
   ]
  },
  {
   "cell_type": "code",
   "execution_count": 9,
   "id": "bc04b393",
   "metadata": {},
   "outputs": [],
   "source": [
    "# Celda de test. Puedes añadir los que tu quieras adicionalmente\n",
    "assert IMC(70, 175) == 22.8571, \"Error en el test 1\"\n",
    "assert rango_IMC(70, 175) == \"Peso normal\", \"Error en el test 1 - rango\"\n",
    "assert IMC(45, 162) == 17.1468, \"Error en el test 2\"\n",
    "assert rango_IMC(45, 162) == \"Delgadez\", \"Error en el test 2 - rango\"\n",
    "assert IMC(81, 169) == 28.3604, \"Error en el test 3\"\n",
    "assert rango_IMC(81, 169) == \"Sobrepeso\", \"Error en el test 3 - rango\""
   ]
  },
  {
   "cell_type": "markdown",
   "id": "6c676fe2",
   "metadata": {},
   "source": [
    "## Ejercicio 5"
   ]
  },
  {
   "cell_type": "markdown",
   "id": "197255a5",
   "metadata": {},
   "source": [
    "Define una función que calcule el máximo común divisor (MCD) entre dos números enteros.\n",
    "\n",
    "La cabecera de la función será la siguiente: `MCD(n1, n2)`."
   ]
  },
  {
   "cell_type": "code",
   "execution_count": 10,
   "id": "beea2818",
   "metadata": {},
   "outputs": [],
   "source": [
    "# TO-DO Completa la función\n",
    "def MCD(n1, n2):\n",
    "    menor = n1 if n1 < n2 else n2\n",
    "    max_divisor = 1\n",
    "    for d in range(1, menor+1):\n",
    "        if n1%d == 0 and n2%d == 0:\n",
    "            max_divisor = d\n",
    "    return max_divisor"
   ]
  },
  {
   "cell_type": "code",
   "execution_count": 11,
   "id": "b1d82870",
   "metadata": {},
   "outputs": [],
   "source": [
    "# Celda de test. Puedes añadir los que tu quieras adicionalmente\n",
    "assert MCD(2, 4) == 2, \"Error en el test 1\"\n",
    "assert MCD(1342, 3454) == 22, \"Error en el test 2\"\n",
    "assert MCD(29, 71) == 1, \"Error en el test 3\"\n",
    "assert MCD(124552, 1438512) == 8, \"Error en el test 4\""
   ]
  },
  {
   "cell_type": "markdown",
   "id": "98581ff0",
   "metadata": {},
   "source": [
    "## Ejercicio 6"
   ]
  },
  {
   "cell_type": "markdown",
   "id": "8f6fe356",
   "metadata": {},
   "source": [
    "Escribe un programa que invierta números enteros positivos. Se entiende por invertir el dar la vuelta a los dígitos que componen el número (hallar su imagen especular), es decir, el inverso de 3952 es 2593.\n",
    "\n",
    "La cabecera de la función será la siguiente: `invertir(n)`."
   ]
  },
  {
   "cell_type": "code",
   "execution_count": 12,
   "id": "457cde09",
   "metadata": {},
   "outputs": [],
   "source": [
    "# TO-DO Completa la función\n",
    "def invertir(n):\n",
    "    n_str = str(n)\n",
    "    n_str_inv = n_str[::-1]\n",
    "    n_inv = int(n_str_inv)\n",
    "    return n_inv"
   ]
  },
  {
   "cell_type": "code",
   "execution_count": 13,
   "id": "f650ee0a",
   "metadata": {},
   "outputs": [],
   "source": [
    "# Celda de test. Puedes añadir los que tu quieras adicionalmente\n",
    "assert invertir(42345) == 54324, \"Error en el test 1\"\n",
    "assert invertir(532) == 235, \"Error en el test 2\"\n",
    "assert invertir(11) == 11, \"Error en el test 3\"\n",
    "assert invertir(1324349) == 9434231, \"Error en el test 4\""
   ]
  },
  {
   "cell_type": "markdown",
   "id": "30c3276a",
   "metadata": {},
   "source": [
    "## Ejercicio 7"
   ]
  },
  {
   "cell_type": "markdown",
   "id": "77803908",
   "metadata": {},
   "source": [
    "Escribe una función que simplifique una fracción. Es recomendable haber resuelto el **ejercicio 5** y tener la función **MCD(n1, n2)** implementada. En el caso en que ya no tenga sentido seguir definiendo la fracción como tal, la función deberá devolver solamente el número real.\n",
    "\n",
    "La cabecera de la función será la siguiente: `simplifica_fraccion(numerador, denominador)`."
   ]
  },
  {
   "cell_type": "code",
   "execution_count": 14,
   "id": "9f63963b",
   "metadata": {},
   "outputs": [],
   "source": [
    "# TO-DO Completa la función\n",
    "def simplifica_fraccion(numerador, denominador):\n",
    "    mcd = MCD(numerador, denominador)\n",
    "    if denominador // mcd == 1:\n",
    "        return numerador // mcd\n",
    "    else:\n",
    "        return numerador // mcd, denominador // mcd"
   ]
  },
  {
   "cell_type": "code",
   "execution_count": 15,
   "id": "0a446e79",
   "metadata": {},
   "outputs": [],
   "source": [
    "# Celda de test. Puedes añadir los que tu quieras adicionalmente\n",
    "assert simplifica_fraccion(4, 10) == (2, 5), \"Error en el test 1\"\n",
    "assert simplifica_fraccion(3, 7) == (3, 7), \"Error en el test 2\"\n",
    "assert simplifica_fraccion(20, 5) == 4, \"Error en el test 3\"\n",
    "assert simplifica_fraccion(1234, 32) == (617, 16), \"Error en el test 4\""
   ]
  },
  {
   "cell_type": "markdown",
   "id": "e4c576ad",
   "metadata": {},
   "source": [
    "## Ejercicio 8"
   ]
  },
  {
   "cell_type": "markdown",
   "id": "9cf4374d",
   "metadata": {},
   "source": [
    "Habrás oído hablar de la historia de un poderoso sultán que deseaba recompensar a un siervo que le había prestado un gran servicio. Cuando el sultán le preguntó qué recompensa deseaba, el humilde siervo le señaló un tablero de ajedrez y solicitó simplemente 1 grano de trigo por la primera casilla, 2 por la segunda, 4 por la tercera, 8 por la siguiente y así sucesivamente. El sultán quedó sorprendido por la modesta petición. ¿Cuántos granos de trigo tuvo que entregar el sultán? Define una función que lo calcule.\n",
    "\n",
    "La cabecera de la función será la siguiente: `calcula_granos_trigo()`."
   ]
  },
  {
   "cell_type": "code",
   "execution_count": 16,
   "id": "23888f17",
   "metadata": {},
   "outputs": [],
   "source": [
    "def calcula_granos_trigo():\n",
    "    cuadrados = 64 # El ajedrez tiene 8*8 casillas\n",
    "    suma = 0\n",
    "    for i in range(cuadrados):\n",
    "        suma += 2**i\n",
    "    return suma"
   ]
  },
  {
   "cell_type": "code",
   "execution_count": 17,
   "id": "bf3ce088",
   "metadata": {},
   "outputs": [],
   "source": [
    "assert calcula_granos_trigo() == 18446744073709551615, \"Error en el test 1\""
   ]
  },
  {
   "cell_type": "markdown",
   "id": "e3b4bdbb",
   "metadata": {},
   "source": [
    "La cosecha mundial de granos de trigo en un año es, aproximadamente, $4 · 10^{15}$. ¿Cuánto pidió el humilde siervo respecto a la estimación de la producción anual mundial expresada en granos? Define una función que lo calcule.\n",
    "\n",
    "La cabecera de la función será la siguiente: `relacion_produccion_anual()`."
   ]
  },
  {
   "cell_type": "code",
   "execution_count": 18,
   "id": "cc31061d",
   "metadata": {},
   "outputs": [],
   "source": [
    "def relacion_produccion_anual():\n",
    "    granos = calcula_granos_trigo()\n",
    "    return granos / (4 * 1e15)"
   ]
  },
  {
   "cell_type": "code",
   "execution_count": 19,
   "id": "1bfa81a4",
   "metadata": {},
   "outputs": [],
   "source": [
    "assert relacion_produccion_anual() == 4611.686018427388, \"Error en el test 1\""
   ]
  },
  {
   "cell_type": "markdown",
   "id": "96df69ff",
   "metadata": {},
   "source": [
    "Al final, no era tan humilde el siervo, ¿verdad?"
   ]
  },
  {
   "cell_type": "markdown",
   "id": "b20dc824",
   "metadata": {},
   "source": [
    "## Ejercicio 9"
   ]
  },
  {
   "cell_type": "markdown",
   "id": "5cbef8ac",
   "metadata": {},
   "source": [
    "Hemos aprendido en clase que una lista en python se puede ordenar utilizando la función `sort()`. Sin embargo, ¿qué hace realmente este método de ordenación? Vamos a implementar el algoritmo **Select Sort**, un algoritmo de ordenación de listas. El algoritmo se basa en el siguiente pseudocódigo:\n",
    "\n",
    "<div style=\"display:flex\">\n",
    "<div>\n",
    "\n",
    "<br>\n",
    "    \n",
    "<ul>\n",
    "    <li> Buscas el mínimo elemento de la lista\n",
    "    <li> Lo intercambias con el primero\n",
    "    <li> Buscas el siguiente mínimo en el resto de la lista\n",
    "    <li> Lo intercambias con el segundo\n",
    "</ul>\n",
    "\n",
    "Y en general:\n",
    "\n",
    "<ul>\n",
    "    <li> Buscas el mínimo elemento entre una posición i y el final de la lista\n",
    "    <li> Intercambias el mínimo con el elemento de la posición i\n",
    "</ul>\n",
    "\n",
    "</div>\n",
    "\n",
    "<div style=\"margin:auto\">\n",
    "    <img src=\"https://upload.wikimedia.org/wikipedia/commons/9/94/Selection-Sort-Animation.gif\" width=\"60\" />\n",
    "</div>\n",
    "</div>\n",
    "    \n",
    "\n",
    "\n",
    "Este algoritmo es de orden $\\Theta(n^2)$, es decir, su coste computacional escala de forma cuadrática respecto al número de elementos de la lista. Eso sí, tiene la ventaja de que es el mismo coste independientemente del orden inicial de los elementos de la lista.\n",
    "\n",
    "Construye una función `select_sort(lista, inplace=False)` que ejecute el algoritmo de ordenación. Si inplace es True, actualiza la lista original además de devolverla."
   ]
  },
  {
   "cell_type": "code",
   "execution_count": 20,
   "id": "868bb301",
   "metadata": {},
   "outputs": [],
   "source": [
    "# TO-DO Completa la función\n",
    "def select_sort(lista, inplace=False):\n",
    "    if not inplace:\n",
    "        lista = lista.copy()\n",
    "    for i in range(len(lista)):\n",
    "        menor = lista[i]\n",
    "        i_menor = i\n",
    "        for j in range(i+1, len(lista)):\n",
    "            if lista[j] < menor:\n",
    "                menor = lista[j]\n",
    "                i_menor = j\n",
    "        lista[i], lista[i_menor] = lista[i_menor], lista[i]\n",
    "    return lista"
   ]
  },
  {
   "cell_type": "code",
   "execution_count": 21,
   "id": "aae43abd",
   "metadata": {},
   "outputs": [],
   "source": [
    "# Celda de test. Puedes añadir los que tu quieras adicionalmente\n",
    "lista = [4, 23, 8, 1, 6, 5]\n",
    "assert select_sort(lista) == [1, 4, 5, 6, 8, 23], \"Error en el test 1\"\n",
    "assert lista == [4, 23, 8, 1, 6, 5], \"Error en el test 1 - Lista original modificada con inplace=False\"\n",
    "assert select_sort(lista, inplace=True) == [1, 4, 5, 6, 8, 23], \"Error en el test 1\"\n",
    "assert lista == [1, 4, 5, 6, 8, 23], \"Error en el test 1 - Lista original no modificada con inplace=True\"\n",
    "lista = [2, -8, 3, 1, 7, 5, -4]\n",
    "assert select_sort(lista) == [-8, -4, 1, 2, 3, 5, 7], \"Error en el test 2\"\n",
    "assert lista == [2, -8, 3, 1, 7, 5, -4], \"Error en el test 2 - Lista original modificada con inplace=False\"\n",
    "assert select_sort(lista, inplace=True) == [-8, -4, 1, 2, 3, 5, 7], \"Error en el test 2\"\n",
    "assert lista == [-8, -4, 1, 2, 3, 5, 7], \"Error en el test 2 - Lista original no modificada con inplace=True\""
   ]
  },
  {
   "cell_type": "markdown",
   "id": "42ec7575",
   "metadata": {},
   "source": [
    "## Ejercicio 10"
   ]
  },
  {
   "cell_type": "markdown",
   "id": "ebfcea79",
   "metadata": {},
   "source": [
    "Nos encontramos en una ciudad, `Santiago de Compostela` por ejemplo, y nos gustaría calcular el trayecto más corto hasta otra ciudad, `Barcelona` por ejemplo. No vamos a tener en cuenta la velocidad del vehículo ni el tráfico en las carreteras. Este es un ejemplo ideal para utilizar el algoritmo de **Dijkstra**, que calcula el camino mínimo en un grafo ponderado donde los pesos se pueden almacenar en una matriz cuadrada.\n",
    "\n",
    "Primero, vamos a definir un par de funciones y la matriz de distancias."
   ]
  },
  {
   "cell_type": "code",
   "execution_count": 22,
   "id": "1f1c3e27",
   "metadata": {},
   "outputs": [],
   "source": [
    "# En este ejercicio en concreto, vamos a utilizar numpy para definir nuestra matriz de distancias\n",
    "import numpy as np"
   ]
  },
  {
   "cell_type": "code",
   "execution_count": 23,
   "id": "c7f3df31",
   "metadata": {},
   "outputs": [],
   "source": [
    "# En una matriz de distancias, las coordenadas i,j describen la distancia entre las ciudades i y j.\n",
    "# Pongamos un ejemplo: distancias[Madrid, Barcelona] es la distancia entre Madrid y Barcelona.\n",
    "# Esta función add_distancia añade esa distancia, teniendo en cuenta que distancias[Madrid, Barcelona]\n",
    "# es la misma distancia que distancias[Barcelona, Madrid]\n",
    "def add_distancia(matriz_distancias, ciudades, ciudad1, ciudad2, distancia):\n",
    "    matriz_distancias[ciudades.index(ciudad1), ciudades.index(ciudad2)] = distancia\n",
    "    matriz_distancias[ciudades.index(ciudad2), ciudades.index(ciudad1)] = distancia"
   ]
  },
  {
   "cell_type": "code",
   "execution_count": 24,
   "id": "a65c39dd",
   "metadata": {},
   "outputs": [],
   "source": [
    "# Esta función imprime el camino a partir del vector ciudad_de_donde_vengo, que almacena el camino\n",
    "# recorrido en sentido inverso. Pongamos un ejemplo: Si he viajado desde Santiago de Compostela\n",
    "# a Barcelona, el camino es el siguiente:\n",
    "# Santiago -> Lugo -> León -> Burgos -> Logroño -> Zaragoza -> Lleida -> Barcelona\n",
    "# Por tanto: \n",
    "# ciudad_de_donde_vengo[Barcelona] debe ser Lleida,\n",
    "# ciudad_de_donde_vengo[Lleida] debe ser Zaragoza, etc.\n",
    "# Entonces, empezando por la ciudad destino, se puede retroceder hasta la ciudad origen\n",
    "def procesa_camino(ciudades, ciudad_de_donde_vengo, origen, destino):\n",
    "    ciudad = destino\n",
    "    camino = []\n",
    "    while ciudad != origen:\n",
    "        camino.append(ciudad)\n",
    "        ciudad = ciudad_de_donde_vengo[ciudades.index(ciudad)]\n",
    "    camino.append(ciudad)\n",
    "    return camino[::-1]"
   ]
  },
  {
   "cell_type": "markdown",
   "id": "d7dbbfca",
   "metadata": {},
   "source": [
    "En la siguiente celda se va a generar la matriz de distancias, donde `distancias[0]` representa las distancias de la ciudad con índice 0, es decir, `Madrid`, a las ciudades a las que existe una conexión directa.\n",
    "\n",
    "Para que el algoritmo funcione correctamente, las distancias a las ciudades no conectadas (nodos del grafo no conectados) debe ser infinito. Sin embargo, para facilitar las cosas, utilizamos el valor `MAX` como valor máximo. Ningún camino tiene un valor mayor que esa longitud."
   ]
  },
  {
   "cell_type": "code",
   "execution_count": 25,
   "id": "4cf0539a",
   "metadata": {},
   "outputs": [],
   "source": [
    "ciudades = [\"Madrid\", \"A Coruña\", \"Santiago de Compostela\", \"Lugo\", \"Ourense\", \"Oviedo\", \n",
    "            \"León\", \"Valladolid\", \"Burgos\", \"Salamanca\", \"Zaragoza\", \"Toledo\",\n",
    "            \"Logroño\", \"Palencia\", \"Lleida\", \"Tarragona\", \"Cuenca\", \"Teruel\", \"Barcelona\"]\n",
    "\n",
    "MAX = 999999.0\n",
    "\n",
    "# Se inicializan todas las distancias al valor MAX\n",
    "distancias = np.ones((len(ciudades), len(ciudades))) * MAX\n",
    "\n",
    "# Se añaden una a una (por pares) las distancias conocidas\n",
    "add_distancia(distancias, ciudades, \"Madrid\", \"Valladolid\", 211.4)\n",
    "add_distancia(distancias, ciudades, \"Madrid\", \"Burgos\", 249.4)\n",
    "add_distancia(distancias, ciudades, \"Madrid\", \"Salamanca\", 214.3)\n",
    "add_distancia(distancias, ciudades, \"Madrid\", \"Zaragoza\", 320.2)\n",
    "add_distancia(distancias, ciudades, \"Madrid\", \"Toledo\", 72.5)\n",
    "add_distancia(distancias, ciudades, \"Madrid\", \"Cuenca\", 171.0)\n",
    "add_distancia(distancias, ciudades, \"A Coruña\", \"Santiago de Compostela\", 74.4)\n",
    "add_distancia(distancias, ciudades, \"A Coruña\", \"Lugo\", 94.8)\n",
    "add_distancia(distancias, ciudades, \"A Coruña\", \"Oviedo\", 285.8)\n",
    "add_distancia(distancias, ciudades, \"Santiago de Compostela\", \"Lugo\", 102.0)\n",
    "add_distancia(distancias, ciudades, \"Santiago de Compostela\", \"Ourense\", 104.5)\n",
    "add_distancia(distancias, ciudades, \"Lugo\", \"Ourense\", 111.6)\n",
    "add_distancia(distancias, ciudades, \"Lugo\", \"Oviedo\", 252.4)\n",
    "add_distancia(distancias, ciudades, \"Lugo\", \"León\", 222.4)\n",
    "add_distancia(distancias, ciudades, \"Lugo\", \"Valladolid\", 345.9)\n",
    "add_distancia(distancias, ciudades, \"Lugo\", \"Salamanca\", 367.7)\n",
    "add_distancia(distancias, ciudades, \"Ourense\", \"León\", 294.2)\n",
    "add_distancia(distancias, ciudades, \"Ourense\", \"Valladolid\", 345.4)\n",
    "add_distancia(distancias, ciudades, \"Ourense\", \"Salamanca\", 323.8)\n",
    "add_distancia(distancias, ciudades, \"Ourense\", \"Palencia\", 343.2)\n",
    "add_distancia(distancias, ciudades, \"Oviedo\", \"León\", 124.8)\n",
    "add_distancia(distancias, ciudades, \"León\", \"Valladolid\", 140.0)\n",
    "add_distancia(distancias, ciudades, \"León\", \"Burgos\", 180.7)\n",
    "add_distancia(distancias, ciudades, \"León\", \"Salamanca\", 207.5)\n",
    "add_distancia(distancias, ciudades, \"León\", \"Palencia\", 127.7)\n",
    "add_distancia(distancias, ciudades, \"Valladolid\", \"Palencia\", 51.5)\n",
    "add_distancia(distancias, ciudades, \"Valladolid\", \"Salamanca\", 122.0)\n",
    "add_distancia(distancias, ciudades, \"Valladolid\", \"Zaragoza\", 363.8)\n",
    "add_distancia(distancias, ciudades, \"Valladolid\", \"Teruel\", 421.6)\n",
    "add_distancia(distancias, ciudades, \"Burgos\", \"Logroño\", 133.3)\n",
    "add_distancia(distancias, ciudades, \"Burgos\", \"Palencia\", 89.6)\n",
    "add_distancia(distancias, ciudades, \"Burgos\", \"Teruel\", 377.5)\n",
    "add_distancia(distancias, ciudades, \"Salamanca\", \"Toledo\", 236.4)\n",
    "add_distancia(distancias, ciudades, \"Zaragoza\", \"Logroño\", 170.2)\n",
    "add_distancia(distancias, ciudades, \"Zaragoza\", \"Lleida\", 152.4)\n",
    "add_distancia(distancias, ciudades, \"Zaragoza\", \"Teruel\", 170.6)\n",
    "add_distancia(distancias, ciudades, \"Toledo\", \"Cuenca\", 181.9)\n",
    "add_distancia(distancias, ciudades, \"Lleida\", \"Tarragona\", 97.4)\n",
    "add_distancia(distancias, ciudades, \"Lleida\", \"Barcelona\", 158.0)\n",
    "add_distancia(distancias, ciudades, \"Tarragona\", \"Barcelona\", 95.1)\n",
    "add_distancia(distancias, ciudades, \"Cuenca\", \"Teruel\", 147.7)"
   ]
  },
  {
   "cell_type": "markdown",
   "id": "c12684c1",
   "metadata": {},
   "source": [
    "Una vez definida la matriz de distancias, encontrar el camino mínimo entre dos ciudades se puede calcular siguiendo el algoritmo de **Dijkstra**. Este es el pseudocódigo (la receta):\n",
    "\n",
    "- Inicializa un conjunto de ciudades no visitadas y un vector de distancias desde el origen.\n",
    "- Establece la distancia a la ciudad de origen como 0 y las distancias a todas las demás ciudades como infinito (MAX).\n",
    "- Mientras no hayas llegado a la ciudad destino y haya ciudades por visitar:\n",
    "  - Selecciona la ciudad no visitada con la distancia mínima desde el origen\n",
    "  - Revisa todas las ciudades desde esa ciudad y actualiza las distancias si se encuentra un camino más corto.\n",
    "\n",
    "El algoritmo de Dijkstra garantiza encontrar el camino mínimo en grafos con pesos no negativos. Sin embargo, no maneja bien los pesos negativos ya que podría quedar atrapado en un bucle infinito. Por tanto, cuidado a la hora de utilizar este algoritmo en otros problemas."
   ]
  },
  {
   "cell_type": "code",
   "execution_count": 26,
   "id": "4394fd39",
   "metadata": {},
   "outputs": [
    {
     "name": "stdout",
     "output_type": "stream",
     "text": [
      " > He llegado a la ciudad destino\n",
      " > El camino más corto es el siguiente:\n",
      " > El camino es ['Santiago de Compostela', 'Lugo', 'León', 'Burgos', 'Logroño', 'Zaragoza', 'Lleida', 'Barcelona']\n",
      " > Son 1119.0 kilómetros\n"
     ]
    }
   ],
   "source": [
    "ORIGEN = \"Santiago de Compostela\"\n",
    "DESTINO = \"Barcelona\"\n",
    "\n",
    "# Inicializa un conjunto de ciudades no visitadas\n",
    "ciudades_visitadas = np.zeros(len(ciudades), dtype=bool)\n",
    "# Inicializa un vector de distancias desde el origen con todas las ciudades con distancia MAX\n",
    "distancias_desde_origen = np.ones(len(ciudades)) * MAX\n",
    "# excepto la ciudad de origen, que se inicializa a 0.0\n",
    "distancias_desde_origen[ciudades.index(ORIGEN)] = 0.0\n",
    "# Además, definimos un vector adicional para guardar el camino realizado\n",
    "ciudad_de_donde_vengo = [\"?\"]*len(ciudades)\n",
    "\n",
    "# Mientras no hayas llegado a la ciudad destino\n",
    "he_llegado = False\n",
    "while not he_llegado:\n",
    "    # Encuentra la ciudad con distancia mínima C que no haya sido visitada aún\n",
    "    d_min = MAX\n",
    "    i_ciudad_min = None\n",
    "    ciudad_min = None\n",
    "    for i_ciudad, ciudad in enumerate(ciudades):\n",
    "        if ciudades_visitadas[i_ciudad] == False and distancias_desde_origen[i_ciudad] < d_min:\n",
    "            d_min = distancias_desde_origen[i_ciudad]\n",
    "            i_ciudad_min = i_ciudad\n",
    "            ciudad_min = ciudad\n",
    "            \n",
    "    # Revisa todas las ciudades C_nueva desde esa ciudad con distancia mínima C y \n",
    "    # actualiza las distancias si se encuentra un camino más corto.\n",
    "    # Ten cuidado a la hora de calcular la distancia a C_nueva, ya que hay que triangular,\n",
    "    # es decir, debes sumar las distancias ORIGEN->C + C->C_nueva y comprobar si es menor \n",
    "    # que ORIGEN->C_nueva\n",
    "    for i_ciudad, ciudad in enumerate(ciudades):\n",
    "        distancia_nueva = distancias_desde_origen[i_ciudad_min] + distancias[i_ciudad_min, i_ciudad]\n",
    "        if distancia_nueva < distancias_desde_origen[i_ciudad]:\n",
    "            # He encontrado un camino más corto\n",
    "            distancias_desde_origen[i_ciudad] = distancia_nueva\n",
    "            # Recuerda actualizar la ciudad de donde vienes\n",
    "            ciudad_de_donde_vengo[i_ciudad] = ciudad_min\n",
    "    \n",
    "    # Por último, la ciudad C ya ha sido visitada, actualiza ciudades_visitadas\n",
    "    ciudades_visitadas[i_ciudad_min] = True\n",
    "    if ciudad_min == DESTINO:\n",
    "        he_llegado = True\n",
    "        print(\" > He llegado a la ciudad destino\")\n",
    "        print(\" > El camino más corto es el siguiente:\")\n",
    "        camino = procesa_camino(ciudades, ciudad_de_donde_vengo, ORIGEN, DESTINO)\n",
    "        print(\" > El camino es {}\".format(camino))\n",
    "        print(\" > Son {} kilómetros\".format(distancias_desde_origen[ciudades.index(DESTINO)]))\n",
    "        \n",
    "    if not he_llegado and ciudades_visitadas.all():\n",
    "        print(\" > No he llegado a la ciudad destino\")\n",
    "        break"
   ]
  },
  {
   "cell_type": "markdown",
   "id": "cc1f9f97",
   "metadata": {},
   "source": [
    "## Ejercicio 11"
   ]
  },
  {
   "cell_type": "markdown",
   "id": "b79229c9",
   "metadata": {},
   "source": [
    "Define una función que calcule la tabla de multiplicar de un número positivo dado hasta N. Por ejemplo, `tabla_multiplicar(5, 8)` debe devolver la lista `[5, 10, 15, 20, 25, 30, 35, 40]`.\n",
    "\n",
    "La cabecera de la función será la siguiente: `tabla_multiplicar(numero, limite)`"
   ]
  },
  {
   "cell_type": "code",
   "execution_count": 27,
   "id": "c1f1fc2c",
   "metadata": {},
   "outputs": [],
   "source": [
    "# TO-DO Completa la función\n",
    "def tabla_multiplicar(numero, limite):\n",
    "    tabla = []\n",
    "    for i in range(1, limite+1):\n",
    "        tabla.append(numero * i)\n",
    "    return tabla"
   ]
  },
  {
   "cell_type": "code",
   "execution_count": 28,
   "id": "531f5f3a",
   "metadata": {},
   "outputs": [],
   "source": [
    "# Celda de test. Puedes añadir los que tu quieras adicionalmente\n",
    "assert tabla_multiplicar(8, 6) == [8, 16, 24, 32, 40, 48], \"Error en el test 1\"\n",
    "assert tabla_multiplicar(12, 4) == [12, 24, 36, 48], \"Error en el test 2\"\n",
    "assert tabla_multiplicar(3, 16) == [3, 6, 9, 12, 15, 18, 21, 24, 27, 30, 33, 36, 39, 42, 45, 48], \"Error en el test 3\""
   ]
  },
  {
   "cell_type": "markdown",
   "id": "9476614b",
   "metadata": {},
   "source": [
    "## Ejercicio 12"
   ]
  },
  {
   "cell_type": "markdown",
   "id": "b282a69d",
   "metadata": {},
   "source": [
    "Define una función que transforme una distancia en centímetros a pies. Considera que `1cm = 0.0328084 pies`.\n",
    "\n",
    "La cabecera de la función será: `cm_a_pies(cm)`.\n",
    "\n",
    "Recuerda redondear a 4 decimales para evitar errores de precisión en la corrección."
   ]
  },
  {
   "cell_type": "code",
   "execution_count": 29,
   "id": "6c9134f5",
   "metadata": {},
   "outputs": [],
   "source": [
    "# TO-DO Completa la función\n",
    "def cm_a_pies(cm):\n",
    "    return round(cm * 0.0328084, 4)"
   ]
  },
  {
   "cell_type": "code",
   "execution_count": 30,
   "id": "f3de4c88",
   "metadata": {},
   "outputs": [],
   "source": [
    "# Celda de test. Puedes añadir los que tu quieras adicionalmente\n",
    "assert cm_a_pies(1) == 0.0328, \"Error en el test 1\"\n",
    "assert cm_a_pies(140) == 4.5932, \"Error en el test 2\"\n",
    "assert cm_a_pies(24) == 0.7874, \"Error en el test 3\""
   ]
  },
  {
   "cell_type": "markdown",
   "id": "29f483ab",
   "metadata": {},
   "source": [
    "## Ejercicio 13"
   ]
  },
  {
   "cell_type": "markdown",
   "id": "8970d3c2",
   "metadata": {},
   "source": [
    "Define una función que reciba una fecha de nacimiento en formato `dd-mm-aaaa` y calcule cuántos años, meses y días llevas durmiendo. Si la función recibe una `fecha_fin`, habrá que calcular el tiempo durmiendo desde la `fecha_nacimiento` hasta la `fecha_fin`. Si no recibe una `fecha_fin` o es `None`, tendrá que calcularlo hasta el día de hoy.\n",
    "\n",
    "Asume que dormimos un promedio de 8 horas diarias y que cada mes tiene 30 días para simplificar los cálculos.\n",
    "\n",
    "La cabecera de la función será: `durmiendo(fecha_nacimiento, fecha_fin=None)`."
   ]
  },
  {
   "cell_type": "code",
   "execution_count": 31,
   "id": "b545fe8f",
   "metadata": {},
   "outputs": [],
   "source": [
    "# TO-DO Completa la función\n",
    "def durmiendo(fecha_nacimiento, fecha_fin=None):\n",
    "    date_nacimiento = datetime.strptime(fecha_nacimiento, \"%d-%m-%Y\")\n",
    "    date_fin = datetime.now() if fecha_fin is None else datetime.strptime(fecha_fin, \"%d-%m-%Y\")\n",
    "    dias = (date_fin - date_nacimiento).days\n",
    "    dias_durmiendo = dias//3 # Lo mismo que * 8 // 24\n",
    "    meses_durmiendo = dias_durmiendo//30\n",
    "    annos_durmiendo = meses_durmiendo//12\n",
    "    return annos_durmiendo, meses_durmiendo%12, dias_durmiendo%30"
   ]
  },
  {
   "cell_type": "code",
   "execution_count": 32,
   "id": "c7b933a7",
   "metadata": {},
   "outputs": [],
   "source": [
    "# Celda de test. Puedes añadir los que tu quieras adicionalmente\n",
    "assert durmiendo('20-01-1995', '8-11-2023') == (9, 8, 26), \"Error en test 1\"\n",
    "assert durmiendo('14-03-2004', '4-1-2015') == (3, 7, 26), \"Error en test 2\"\n",
    "assert durmiendo(datetime.now().strftime(\"%d-%m-%Y\")) == (0, 0, 0), \"Error en test 3\""
   ]
  },
  {
   "cell_type": "markdown",
   "id": "0bd034dd",
   "metadata": {},
   "source": [
    "## Ejercicio 14"
   ]
  },
  {
   "cell_type": "markdown",
   "id": "d2ca7304",
   "metadata": {},
   "source": [
    "Los números pueden representarse en diferente base. La base en la que se representa un número se refiere al sistema de numeración utilizado para expresar valores numéricos. En el sistema decimal, que es el más utilizado, los números se representan en base 10, lo que significa que hay diez dígitos diferentes `0, 1, 2, 3, 4, 5, 6, 7, 8, 9` que se utilizan para construir todos los números. Cada posición en un número decimal tiene un valor que es una potencia de 10. Por ejemplo: \n",
    "\n",
    "$$152_{10} = 1 * 10^2 + 5 * 10^1 + 2 * 10^0$$\n",
    "\n",
    "Sabiendo esto, podemos representar cualquier número en cualquier base. Concretamente, el ejercicio consiste en transformar un número en base decimal a su equivalente en hexadecimal (base 16). En esta nueva base, hay 16 dígitos diferentes `0, 1, 2, 3, 4, 5, 6, 7, 8, 9, A=10, B=11, C=12, D=13, E=14, F=15`. Cada posición en hexadecimal tiene un valor que es una potencia de 16. Por ejemplo: \n",
    "\n",
    "$$F8_{16} = F * 16^1 + 8 * 16^0 = 15 * 16^1 + 8 * 16^0 = 248_{10}$$\n",
    "\n",
    "Para calcularlo, hay que dividir entre la base (16) tantas veces como sea posible hasta que no podamos dividir más. En cada división, el resto es lo que define el valor del número en decimal. Veamos un ejemplo con números decimales:\n",
    "\n",
    "* $251 / 10 = 25$ y resto $1$, por tanto nos quedamos con el 1 en las unidades.\n",
    "* $25 / 10 = 2$ y resto $5$, por tanto nos quedamos con el 5 en las decenas.\n",
    "* $2 / 10 = 0$, ya no puedo dividir, por tanto nos quedamos con el 2 en las centenas.\n",
    "\n",
    "Veamos ahora un ejemplo con números en hexadecimal:\n",
    "\n",
    "* $251 / 16 = 15$ y resto $11$, por tanto nos quedamos con el 11 en la primera posición, es decir, B\n",
    "* $15 / 16 = 0$, ya no puedo dividir, por tanto nos quedamos con el 15 en la segunda posición, es decir, F\n",
    "\n",
    "$$251_{10} = FB_{16}$$\n",
    "\n",
    "La función tendrá la siguiente cabecera: `decimal_a_hexadecimal(numero)`.\n",
    "\n",
    "**NOTA:** En python existe la función `hex(n)` que ya lo calcula. No la utilices.\n",
    "\n",
    "**NOTA:** Es conveniente hacer el cálculo en papel para entender el algoritmo."
   ]
  },
  {
   "cell_type": "code",
   "execution_count": 33,
   "id": "36a21527",
   "metadata": {},
   "outputs": [],
   "source": [
    "# TO-DO Completa la función\n",
    "def decimal_a_hexadecimal(numero):\n",
    "    valores = {0:'0', 1:'1', 2:'2', 3:'3', 4:'4', 5:'5', 6:'6', 7:'7', 8:'8',\n",
    "               9:'9', 10:'A', 11:'B', 12:'C', 13:'D', 14:'E', 15:'F'}\n",
    "    \n",
    "    numero_hexa = \"\"\n",
    "    while numero // 16 > 0:\n",
    "        numero_hexa = valores[numero%16] + numero_hexa\n",
    "        numero //= 16\n",
    "    numero_hexa = valores[numero%16] + numero_hexa\n",
    "    return numero_hexa"
   ]
  },
  {
   "cell_type": "code",
   "execution_count": 34,
   "id": "cfd77227",
   "metadata": {},
   "outputs": [],
   "source": [
    "# Celda de test. Puedes añadir lo que quieras adicionalmente\n",
    "assert decimal_a_hexadecimal(251) == 'FB', \"Error en el test 1\"\n",
    "assert decimal_a_hexadecimal(255) == 'FF', \"Error en el test 2\"\n",
    "assert decimal_a_hexadecimal(21) == '15', \"Error en el test 3\"\n",
    "assert decimal_a_hexadecimal(12453) == '30A5', \"Error en el test 4\"\n",
    "assert decimal_a_hexadecimal(444) == '1BC', \"Error en el test 5\""
   ]
  },
  {
   "cell_type": "markdown",
   "id": "10ed086b",
   "metadata": {},
   "source": [
    "## Ejercicio 15"
   ]
  },
  {
   "cell_type": "markdown",
   "id": "cd5d6b8c",
   "metadata": {},
   "source": [
    "Define una función que reciba una lista de números y compruebe si está ordenada.\n",
    "\n",
    "La función tendrá la siguiente cabecera: `esta_ordenada(lista)`."
   ]
  },
  {
   "cell_type": "code",
   "execution_count": 35,
   "id": "58770fd5",
   "metadata": {},
   "outputs": [],
   "source": [
    "# TO-DO Completa la función\n",
    "# OPCION 1\n",
    "def esta_ordenada(lista):\n",
    "    for i in range(len(lista)-1):\n",
    "        if lista[i] > lista[i+1]:\n",
    "            return False\n",
    "    return True\n",
    "\n",
    "# OPCION 2\n",
    "def esta_ordenada(lista):\n",
    "    return all([lista[i] <= lista[i+1] for i in range(len(lista)-1)])\n",
    "    # return not all([lista[i] > lista[i+1] for i in range(len(lista)-1)])"
   ]
  },
  {
   "cell_type": "code",
   "execution_count": 36,
   "id": "87a7cd77",
   "metadata": {},
   "outputs": [],
   "source": [
    "# Celda de test. Puedes añadir lo que quieras adicionalmente\n",
    "assert esta_ordenada([1, 2, 3, 4, 5]) == True, \"Error en el test 1\"\n",
    "assert esta_ordenada([1, 1, 2, 2, 2, 2, 3, 4]) == True, \"Error en el test 2\"\n",
    "assert esta_ordenada([1, 2, 3, 4, 1]) == False, \"Error en el test 3\""
   ]
  },
  {
   "cell_type": "markdown",
   "id": "16226feb",
   "metadata": {},
   "source": [
    "## Ejercicio 16"
   ]
  },
  {
   "cell_type": "markdown",
   "id": "175692c6",
   "metadata": {},
   "source": [
    "Define una función que reciba una lista de números enteros y compruebe que todos son impares.\n",
    "\n",
    "La función tendrá la siguiente cabecera: `todos_impares(lista)`."
   ]
  },
  {
   "cell_type": "code",
   "execution_count": 37,
   "id": "0c31a32a",
   "metadata": {},
   "outputs": [],
   "source": [
    "# TO-DO Completa la función\n",
    "# OPCION 1\n",
    "def todos_impares(lista):\n",
    "    for i in lista:\n",
    "        if i%2==0:\n",
    "            return False\n",
    "    return True\n",
    "\n",
    "# OPCION 2\n",
    "def todos_impares(lista):\n",
    "    return all([i%2==1 for i in lista])"
   ]
  },
  {
   "cell_type": "code",
   "execution_count": 38,
   "id": "1b72a4f3",
   "metadata": {},
   "outputs": [],
   "source": [
    "# Celda de test. Puedes añadir lo que quieras adicionalmente\n",
    "assert todos_impares([1, 3, 77, 35, 11]) == True, \"Error en el test 1\"\n",
    "assert todos_impares([1, 3, 44, 23]) == False, \"Error en el test 2\""
   ]
  },
  {
   "cell_type": "markdown",
   "id": "e463ee59",
   "metadata": {},
   "source": [
    "## Ejercicio 17"
   ]
  },
  {
   "cell_type": "markdown",
   "id": "d79eacbb",
   "metadata": {},
   "source": [
    "Define una función que descompone factorialmente un número. Por ejemplo:\n",
    "\n",
    "$$24 = [2, 2, 2, 3]$$\n",
    "\n",
    "La función tendrá la siguiente cabecera: `descompone_factorial(n)`."
   ]
  },
  {
   "cell_type": "code",
   "execution_count": 39,
   "id": "f065390f",
   "metadata": {},
   "outputs": [],
   "source": [
    "# TO-DO Completa la función\n",
    "def descompone_factorial(n):\n",
    "    factores = []\n",
    "    divisor = 2\n",
    "    while n != 1:\n",
    "        aniadido = False\n",
    "        if n % divisor == 0:\n",
    "            factores.append(divisor)\n",
    "            aniadido = True\n",
    "            n //= divisor\n",
    "        if not aniadido:\n",
    "            divisor += 1\n",
    "            \n",
    "    return factores   "
   ]
  },
  {
   "cell_type": "code",
   "execution_count": 40,
   "id": "07d9cc74",
   "metadata": {},
   "outputs": [],
   "source": [
    "# Celda de test. Puedes añadir lo que quieras adicionalmente\n",
    "assert descompone_factorial(24) == [2, 2, 2, 3], \"Error en el test 1\"\n",
    "assert descompone_factorial(71) == [71], \"Error en el test 2\"\n",
    "assert descompone_factorial(960) == [2, 2, 2, 2, 2, 2, 3, 5], \"Error en el test 3\""
   ]
  },
  {
   "cell_type": "markdown",
   "id": "afba46c3",
   "metadata": {},
   "source": [
    "## Ejercicio 18"
   ]
  },
  {
   "cell_type": "markdown",
   "id": "c66ff3d5",
   "metadata": {},
   "source": [
    "Dada la longitud de tres lados `x`, `y` y `z`, se puede saber si pueden componer un triángulo o no. Para que esto se cumpla, deben cumplirse las siguientes ternas:\n",
    "\n",
    "$$x + y > z$$\n",
    "\n",
    "$$y + z > x$$\n",
    "\n",
    "$$z + x > y$$\n",
    "\n",
    "Define una función que nos indique si se puede componer un triángulo con la longitud de tres lados.\n",
    "\n",
    "La cabecera de la función debe ser la siguiente: `forman_triangulo(x, y, z)`."
   ]
  },
  {
   "cell_type": "code",
   "execution_count": 41,
   "id": "46ebd973",
   "metadata": {},
   "outputs": [],
   "source": [
    "# TO-DO Completa la función\n",
    "def forman_triangulo(x, y, z):\n",
    "    return x + y > z and y + z > x and z + x > y"
   ]
  },
  {
   "cell_type": "code",
   "execution_count": 47,
   "id": "37f062d1",
   "metadata": {},
   "outputs": [],
   "source": [
    "# Celda de test. Puedes añadir lo que quieras adicionalmente\n",
    "assert forman_triangulo(2.2, 4.1, 3.1) == True, \"Error en el test 1\"\n",
    "assert forman_triangulo(0.1, 3.4, 5.2) == False, \"Error en el test 2\"\n",
    "assert forman_triangulo(2.2, 0.1, 5.2) == False, \"Error en el test 3\"\n",
    "assert forman_triangulo(2.2, 4.1, 0.1) == False, \"Error en el test 4\""
   ]
  },
  {
   "cell_type": "markdown",
   "id": "8c0f3ef9",
   "metadata": {},
   "source": [
    "## Ejercicio 19"
   ]
  },
  {
   "cell_type": "markdown",
   "id": "6aa5ea8f",
   "metadata": {},
   "source": [
    "Dadas dos fracciones ${A \\over B}$ y ${C \\over D}$, calcula la suma de las dos fracciones, ${A  \\over B}+{C  \\over D}$, y devuelve el resultado en una fracción simplificada. Ten en cuenta que si ya no tiene sentido definir el número como una fracción, la función devolverá un único valor.\n",
    "\n",
    "La cabecera de la función debe ser la siguiente: `suma_fracciones(a, b, c, d)`.\n",
    "\n",
    "**Nota**: Puedes utilizar la función `simplifica_fraccion(numerador, denominador)` del ejercicio 7 si lo has resuelto."
   ]
  },
  {
   "cell_type": "code",
   "execution_count": 63,
   "id": "1a247dab",
   "metadata": {},
   "outputs": [],
   "source": [
    "# TO-DO Completa la función\n",
    "def suma_fracciones(a, b, c, d):\n",
    "    numerador = a*d + b*c\n",
    "    denominador = b*d\n",
    "    \n",
    "    menor = numerador if numerador < denominador else denominador\n",
    "    for d in range(menor, 1, -1):\n",
    "        if numerador % d == 0 and denominador % d == 0:\n",
    "            numerador //= d\n",
    "            denominador //= d\n",
    "    if denominador == 1:\n",
    "        return numerador\n",
    "    return numerador, denominador"
   ]
  },
  {
   "cell_type": "code",
   "execution_count": 64,
   "id": "152ba905",
   "metadata": {},
   "outputs": [],
   "source": [
    "# Celda de test. Puedes añadir lo que quieras adicionalmente\n",
    "assert suma_fracciones(1, 3, 1, 2) == (5, 6), \"Error en el test 1\"\n",
    "assert suma_fracciones(1, 4, 1, 2) == (3, 4), \"Error en el test 2\"\n",
    "assert suma_fracciones(3, 4, 2, 8) == 1, \"Error en el test 3\""
   ]
  },
  {
   "cell_type": "markdown",
   "id": "5e4eacc3",
   "metadata": {},
   "source": [
    "## Ejercicio 20"
   ]
  },
  {
   "cell_type": "markdown",
   "id": "c185a1f9",
   "metadata": {},
   "source": [
    "Define una función que calcule si un número es primo o no. Un número es primo cuando solamente tiene como divisores a sí mismo y la unidad.\n",
    "\n",
    "La cabecera de la función debe ser la siguiente: `es_primo(n)`."
   ]
  },
  {
   "cell_type": "code",
   "execution_count": 65,
   "id": "ecb4685b",
   "metadata": {},
   "outputs": [],
   "source": [
    "# TO-DO Completa la función\n",
    "def es_primo(n):\n",
    "    for d in range(2, n):\n",
    "        if n%d == 0:\n",
    "            return False\n",
    "    return True"
   ]
  },
  {
   "cell_type": "code",
   "execution_count": 67,
   "id": "ac273372",
   "metadata": {},
   "outputs": [],
   "source": [
    "# Celda de test. Puedes añadir lo que quieras adicionalmente.\n",
    "assert es_primo(5) == True, \"Error en el test 1\"\n",
    "assert es_primo(121) == False, \"Error en el test 2\"\n",
    "assert es_primo(71) == True, \"Error en el test 3\""
   ]
  },
  {
   "cell_type": "markdown",
   "id": "4ba2ed0c",
   "metadata": {},
   "source": [
    "## Ejercicio 21"
   ]
  },
  {
   "cell_type": "markdown",
   "id": "0ab9f7bd",
   "metadata": {},
   "source": [
    "Define una función que calcule si un número es cuadrado perfecto o no. Un número es cuadrado perfecto cuando es el resultado de elevar al cuadrado un número natural.\n",
    "\n",
    "La cabecera de la función es la siguiente: `es_cuadrado_perfecto(n)`."
   ]
  },
  {
   "cell_type": "code",
   "execution_count": 68,
   "id": "76e8df8e",
   "metadata": {},
   "outputs": [],
   "source": [
    "# TO-DO Completa la función\n",
    "def es_cuadrado_perfecto(n):\n",
    "    return int(math.sqrt(n)) == math.sqrt(n)"
   ]
  },
  {
   "cell_type": "code",
   "execution_count": 73,
   "id": "b473a6bc",
   "metadata": {},
   "outputs": [],
   "source": [
    "# Celda de test. Puedes añadir lo que quieras adicionalmente.\n",
    "assert es_cuadrado_perfecto(4) == True, \"Error en el test 1\"\n",
    "assert es_cuadrado_perfecto(8) == False, \"Error en el test 2\"\n",
    "assert es_cuadrado_perfecto(81) == True, \"Error en el test 3\"\n",
    "assert es_cuadrado_perfecto(729) == True, \"Error en el test 4\"\n",
    "assert es_cuadrado_perfecto(644) == False, \"Error en el test 5\""
   ]
  },
  {
   "cell_type": "markdown",
   "id": "8bd6b18c",
   "metadata": {},
   "source": [
    "## Ejercicio 22"
   ]
  },
  {
   "cell_type": "markdown",
   "id": "1b541d73",
   "metadata": {},
   "source": [
    "Calcula el mínimo común múltiplo de dos números `n1` y `n2`. El mínimo común múltiplo es el primer múltiplo común que tienen ambos números.\n",
    "\n",
    "La cabecera de la función es la siguiente: `mcm(n1, n2)`.\n",
    "\n",
    "**Nota**: Puedes utilizar la función `descompone_factorial(n)` del ejercicio 17 si lo has resuelto."
   ]
  },
  {
   "cell_type": "code",
   "execution_count": 82,
   "id": "63961afb",
   "metadata": {},
   "outputs": [],
   "source": [
    "# TO-DO Completa la función\n",
    "def mcm(n1, n2):\n",
    "    factores_n1 = descompone_factorial(n1)\n",
    "    factores_n2 = descompone_factorial(n2)\n",
    "    mcm = []\n",
    "    for factor in set(factores_n1 + factores_n2):\n",
    "        repeticion_n1 = sum([f == factor for f in factores_n1])\n",
    "        repeticion_n2 = sum([f == factor for f in factores_n2])\n",
    "        if repeticion_n1 > repeticion_n2:\n",
    "            mcm += [factor] * repeticion_n1\n",
    "        else:\n",
    "            mcm += [factor] * repeticion_n2\n",
    "    return math.prod(mcm)"
   ]
  },
  {
   "cell_type": "code",
   "execution_count": 87,
   "id": "632f74e6",
   "metadata": {},
   "outputs": [],
   "source": [
    "# Celda de test. Puedes añadir lo que quieras adicionalmente\n",
    "assert mcm(5, 12) == 60, \"Error en el test 1\"\n",
    "assert mcm(14, 21) == 42, \"Error en el test 2\"\n",
    "assert mcm(4, 24) == 24, \"Error en el test 3\""
   ]
  },
  {
   "cell_type": "markdown",
   "id": "e9c380a0",
   "metadata": {},
   "source": [
    "## Ejercicio 23"
   ]
  },
  {
   "cell_type": "markdown",
   "id": "13419b93",
   "metadata": {},
   "source": [
    "Diseña una función que compruebe si un elemento está repetido en una lista. En el caso en el que `n` no esté en la lista, la función debe devolver `False`.\n",
    "\n",
    "La cabecera de la función es la siguiente: `esta_repetido(n, lista)`."
   ]
  },
  {
   "cell_type": "code",
   "execution_count": 88,
   "id": "83767ec0",
   "metadata": {},
   "outputs": [],
   "source": [
    "# TO-DO Completa la función\n",
    "def esta_repetido(n, lista):\n",
    "    contador = 0\n",
    "    for i in lista:\n",
    "        if i == n:\n",
    "            contador += 1\n",
    "        if contador >= 2:\n",
    "            return True\n",
    "    return False"
   ]
  },
  {
   "cell_type": "code",
   "execution_count": 91,
   "id": "1bdd67c5",
   "metadata": {},
   "outputs": [],
   "source": [
    "# Celda de test. Puedes añadir lo que quieras adicionalmente\n",
    "assert esta_repetido(1, [2, 4, 1, 6, 3, 2]) == False, \"Error en el test 1\"\n",
    "assert esta_repetido(2, [2, 4, 1, 6, 3, 2]) == True, \"Error en el test 2\"\n",
    "assert esta_repetido(5, [2, 4, 1, 6, 3, 2]) == False, \"Error en el test 3\""
   ]
  },
  {
   "cell_type": "markdown",
   "id": "567ec366",
   "metadata": {},
   "source": [
    "## Ejercicio 24"
   ]
  },
  {
   "cell_type": "markdown",
   "id": "c8f7b298",
   "metadata": {},
   "source": [
    "Diseña una función que encuentre dos números consecutivos de una lista que sean divisibles entre sí. Por ejemplo:\n",
    "\n",
    "$[2, 4, 3, 8, 4, 5, 70, 2]$ debe devolver $[8, 4]$ ya que $8$ es divisible por $4$. Si no estuviese esa combinación en la lista, podría haber devuelto también $[70, 2]$, ya que $70$ es divisible por $2$. En el caso de no encontrar ningún consecutivo divisible, debe devolver `None`.\n",
    "\n",
    "La cabecera de la función es la siguiente: `consecutivos_divisibles(lista)`."
   ]
  },
  {
   "cell_type": "code",
   "execution_count": 99,
   "id": "745ae22b",
   "metadata": {},
   "outputs": [],
   "source": [
    "# TO-DO Completa la función\n",
    "def consecutivos_divisibles(lista):\n",
    "    for i in range(len(lista)-1):\n",
    "        if lista[i] % lista[i+1] == 0:\n",
    "            return lista[i:i+2]\n",
    "    return None"
   ]
  },
  {
   "cell_type": "code",
   "execution_count": 100,
   "id": "18a47e8f",
   "metadata": {},
   "outputs": [],
   "source": [
    "# Celda de test. Puedes añadir lo que quieras adicionalmente\n",
    "assert consecutivos_divisibles([2, 4, 3, 8, 4, 5, 70, 2]) == [8, 4], \"Error en el test 1\"\n",
    "assert consecutivos_divisibles([2, 4, 3, 9, 4, 5, 70, 2]) == [70, 2], \"Error en el test 2\"\n",
    "assert consecutivos_divisibles([2, 4, 3, 9, 4, 5, 69, 2]) is None, \"Error en el test 3\"\n",
    "assert consecutivos_divisibles([1]) is None, \"Error en el test 4\"\n",
    "assert consecutivos_divisibles([]) is None, \"Error en el test 5\"\n",
    "assert consecutivos_divisibles([4, 2]) == [4, 2], \"Error en el test 6\""
   ]
  },
  {
   "cell_type": "markdown",
   "id": "ff50faa6",
   "metadata": {},
   "source": [
    "## Ejercicio 25"
   ]
  },
  {
   "cell_type": "markdown",
   "id": "7a290def",
   "metadata": {},
   "source": [
    "Una matriz de adyacencia nos da información sobre un grafo y sus conexiones. Nos indica qué nodos están conectados con cuáles. Por ejemplo:\n",
    "\n",
    "$$\n",
    "\\left(\\begin{array}{cccc} \n",
    "0 & 1 & 0 & 0 \\\\\n",
    "1 & 0 & 1 & 1 \\\\\n",
    "0 & 1 & 0 & 1 \\\\\n",
    "0 & 1 & 1 & 0\n",
    "\\end{array}\\right)\n",
    "$$\n",
    "\n",
    "En esta matriz, si consideramos filas y columnas como `A`, `B`, `C` y `D`, podemos decir lo siguiente:\n",
    "\n",
    "* `A` está conectado con `B`.\n",
    "* `B` está conectado con `C`.\n",
    "* `B` está conectado con `D`.\n",
    "* `C` está conectado con `D`.\n",
    "\n",
    "Es decir, es equivalente al siguiente grafo:\n",
    "\n",
    "<img src=\"imagenes/grafo_ejercicio_25.jpg\" width=\"50%\">\n",
    "\n",
    "Diseña una función que, dada la matriz de adyacencia, nos de la información que hemos dado nosotros en una lista de reglas, por ejemplo: `[\"A-B\", \"B-C\", \"B-D\", \"C-D\"]`.\n",
    "\n",
    "La cabecera de la función debe ser la siguiente: `conexiones_matriz_adyacencia(matriz, nombres_nodos)`, donde `nombres_nodos` son los nombres de los nodos."
   ]
  },
  {
   "cell_type": "code",
   "execution_count": 102,
   "id": "eabc1889",
   "metadata": {},
   "outputs": [],
   "source": [
    "# TO-DO Completa la función\n",
    "def conexiones_matriz_adyacencia(matriz, nombres_nodos):\n",
    "    conexiones = []\n",
    "    for i in range(len(matriz)):\n",
    "        for j in range(i, len(matriz)):\n",
    "            if matriz[i, j] == 1:\n",
    "                conexiones.append(nombres_nodos[i] + \"-\" + nombres_nodos[j])\n",
    "    return conexiones"
   ]
  },
  {
   "cell_type": "code",
   "execution_count": 114,
   "id": "ab5f9f15",
   "metadata": {},
   "outputs": [],
   "source": [
    "# Celda de test. Puedes añadir lo que quieras adicionalmente\n",
    "matriz = np.zeros((4, 4), dtype=int)\n",
    "matriz[0, 1] = 1\n",
    "matriz[1, [0, 2, 3]] = 1\n",
    "matriz[2, [1, 3]] = 1\n",
    "matriz[3, [1, 2]] = 1\n",
    "assert conexiones_matriz_adyacencia(matriz, [\"A\", \"B\", \"C\", \"D\"]) == ['A-B', 'B-C', 'B-D', 'C-D'], \"Error en el test 1\"\n",
    "\n",
    "matriz = np.zeros((6, 6), dtype=int)\n",
    "matriz[0, [1, 4]] = 1\n",
    "matriz[1, [0, 2, 3]] = 1\n",
    "matriz[2, [1, 3]] = 1\n",
    "matriz[3, [1, 2, 5]] = 1\n",
    "matriz[4, [0, 5]] = 1\n",
    "matriz[5, [3, 4]] = 1\n",
    "assert conexiones_matriz_adyacencia(matriz, [\"A\", \"B\", \"C\", \"D\", \"E\", \"F\"]) == ['A-B', 'A-E', 'B-C', 'B-D', 'C-D', 'D-F', 'E-F'], \"Error en el test 2\""
   ]
  },
  {
   "cell_type": "markdown",
   "id": "5f0de5b3",
   "metadata": {},
   "source": [
    "## Ejercicio 26"
   ]
  },
  {
   "cell_type": "markdown",
   "id": "1c9fd178",
   "metadata": {},
   "source": [
    "Cuando entras en un laberinto, nunca sabes cuándo vas a salir. Vamos a programar una función que nos diga si el laberinto tiene salida o no. Primero, os damos ya definida una función `lee_laberinto(filepath)` que carga un laberinto que tenemos previamente generado."
   ]
  },
  {
   "cell_type": "code",
   "execution_count": 170,
   "id": "586f3c7b",
   "metadata": {},
   "outputs": [],
   "source": [
    "def lee_laberinto(filepath):\n",
    "    laberinto = []\n",
    "    with open(filepath, \"r\") as f:\n",
    "        for line in f.readlines():\n",
    "            laberinto.append(list(line[:-1]))\n",
    "    return np.array(laberinto)"
   ]
  },
  {
   "cell_type": "markdown",
   "id": "46b3fd4f",
   "metadata": {},
   "source": [
    "En la codificación del laberinto, tenemos los siguientes caracteres:\n",
    "\n",
    "* `e` representa la entrada al laberinto. Es el punto de origen, siempre en las coordenadas (0,0).\n",
    "* `s` representa la salida del laberinto. Es el punto de destino.\n",
    "* `#` representa una pared. No se puede avanzar por la pared.\n",
    "* ` ` el espacio en blanco representa un camino libre del laberinto.\n",
    "\n",
    "Veamos qué aspecto tiene el laberinto:"
   ]
  },
  {
   "cell_type": "code",
   "execution_count": 171,
   "id": "6b52d96f",
   "metadata": {},
   "outputs": [
    {
     "data": {
      "text/plain": [
       "array([['e', '#', ' ', ' ', ' ', ' ', '#', 's'],\n",
       "       [' ', ' ', ' ', '#', '#', ' ', '#', ' '],\n",
       "       [' ', '#', ' ', '#', ' ', ' ', ' ', ' '],\n",
       "       [' ', '#', ' ', '#', ' ', '#', '#', ' '],\n",
       "       [' ', ' ', ' ', ' ', ' ', '#', ' ', ' ']], dtype='<U1')"
      ]
     },
     "execution_count": 171,
     "metadata": {},
     "output_type": "execute_result"
    }
   ],
   "source": [
    "laberinto = lee_laberinto(\"datos/laberinto_01.txt\")\n",
    "laberinto"
   ]
  },
  {
   "cell_type": "markdown",
   "id": "e292651d",
   "metadata": {},
   "source": [
    "A partir de este punto, el objetivo es encontrar la salida del laberinto (no es necesario encontrar el camino más corto). Para ello, vamos a seguir la siguiente estrategia: vamos a mirar siempre que sea posible el camino de la derecha, luego arriba, luego izquierda y luego abajo. Una posible receta sería la siguiente:\n",
    "\n",
    "* Define una lista de coordenadas pendientes de visitar, comenzando con el punto de origen.\n",
    "* Mientras que haya puntos pendientes de visitar:\n",
    "  * Saco un punto de los pendientes para procesarlo\n",
    "  * Compruebo si este punto es la salida. Si es que sí, termina el programa\n",
    "  * Compruebo si el punto ya ha sido visitado previamente. Si es que sí, no lo vuelvo a procesar\n",
    "  * Comprueba si puede ir a la derecha\n",
    "    * Si puede y el camino no ha sido ya visitado, añádelo a la lista de coordenadas pendientes\n",
    "  * Comprueba si puede ir arriba\n",
    "    * Si puede y el camino no ha sido ya visitado, añádelo a la lista de coordenadas pendientes\n",
    "  * Comprueba si puede ir a la izquierda\n",
    "    * Si puede y el camino no ha sido ya visitado, añádelo a la lista de coordenadas pendientes\n",
    "  * Comprueba si puede ir abajo\n",
    "    * Si puede y el camino no ha sido ya visitado, añádelo a la lista de coordenadas pendientes\n",
    "  * Por último, guarda que el punto ya ha sido visitado (para no volver a él)"
   ]
  },
  {
   "cell_type": "code",
   "execution_count": 172,
   "id": "6e4d4df4",
   "metadata": {},
   "outputs": [],
   "source": [
    "# TO-DO Completa la función\n",
    "def resuelve_laberinto(laberinto):\n",
    "    camino_visitado = np.zeros_like(laberinto, dtype=bool)\n",
    "    camino_visitado[laberinto == '#'] = True\n",
    "    \n",
    "    # Estrategia: Busqueda en profundidad: Derecha-arriba-izquierda-abajo\n",
    "    # Utilizo una lista de nodos pendientes de visitar\n",
    "    pendientes = [(0, 0)] # Origen\n",
    "    while len(pendientes) > 0:\n",
    "        # Saco el último elemento de la lista de pendientes\n",
    "        nodo_procesando = pendientes.pop(-1)\n",
    "        \n",
    "        # Compruebo si el nodo que estoy procesando es la salida\n",
    "        if laberinto[nodo_procesando] == \"s\":\n",
    "            return True\n",
    "            \n",
    "        # Compruebo si el nodo que estoy procesando ya ha sido visitado\n",
    "        if camino_visitado[nodo_procesando]:\n",
    "            continue\n",
    "        \n",
    "        # Sigo mi estrategia: Derecha-Arriba-Izquierda-Abajo\n",
    "        ## Compruebo abajo: +1 en la coordenada de las filas\n",
    "        nodo_destino = (nodo_procesando[0]+1, nodo_procesando[1])\n",
    "        if nodo_destino[0] < laberinto.shape[0] and not camino_visitado[nodo_destino]:\n",
    "            pendientes.append(nodo_destino)\n",
    "        ## Compruebo izquierda: -1 en la coordenada de las columnas\n",
    "        nodo_destino = (nodo_procesando[0], nodo_procesando[1]-1)\n",
    "        if nodo_destino[1] >= 0 and not camino_visitado[nodo_destino]:\n",
    "            pendientes.append(nodo_destino)\n",
    "        ## Compruebo arriba: -1 en la coordenada de las filas\n",
    "        nodo_destino = (nodo_procesando[0]-1, nodo_procesando[1])\n",
    "        if nodo_destino[0] >= 0 and not camino_visitado[nodo_destino]:\n",
    "            pendientes.append(nodo_destino)\n",
    "        ## Compruebo derecha: +1 en la coordenada de las columnas\n",
    "        nodo_destino = (nodo_procesando[0], nodo_procesando[1]+1)\n",
    "        if nodo_destino[1] < laberinto.shape[1] and not camino_visitado[nodo_destino]:\n",
    "            pendientes.append(nodo_destino)\n",
    "        \n",
    "        \n",
    "        # Pongo el nodo que estoy procesando a visitado\n",
    "        camino_visitado[nodo_procesando] = True\n",
    "            \n",
    "    return False"
   ]
  },
  {
   "cell_type": "code",
   "execution_count": 175,
   "id": "e630e3df",
   "metadata": {},
   "outputs": [],
   "source": [
    "# Celda de test. Puedes añadir lo que quieras adicionalmente\n",
    "assert resuelve_laberinto(lee_laberinto(\"datos/laberinto_01.txt\")) == True, \"Error en el test 1\"\n",
    "assert resuelve_laberinto(lee_laberinto(\"datos/laberinto_02.txt\")) == True, \"Error en el test 2\"\n",
    "assert resuelve_laberinto(lee_laberinto(\"datos/laberinto_03.txt\")) == False, \"Error en el test 3\""
   ]
  },
  {
   "cell_type": "code",
   "execution_count": null,
   "id": "0005690c",
   "metadata": {},
   "outputs": [],
   "source": []
  }
 ],
 "metadata": {
  "kernelspec": {
   "display_name": "Python 3 (ipykernel)",
   "language": "python",
   "name": "python3"
  },
  "language_info": {
   "codemirror_mode": {
    "name": "ipython",
    "version": 3
   },
   "file_extension": ".py",
   "mimetype": "text/x-python",
   "name": "python",
   "nbconvert_exporter": "python",
   "pygments_lexer": "ipython3",
   "version": "3.11.5"
  }
 },
 "nbformat": 4,
 "nbformat_minor": 5
}
