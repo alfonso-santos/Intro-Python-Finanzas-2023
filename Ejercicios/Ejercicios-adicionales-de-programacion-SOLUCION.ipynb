{
 "cells": [
  {
   "cell_type": "markdown",
   "id": "47c9cacf",
   "metadata": {},
   "source": [
    "# Ejercicios adicionales de programación"
   ]
  },
  {
   "cell_type": "markdown",
   "id": "95c43c1a",
   "metadata": {},
   "source": [
    "Ejercicios adicionales del bloque de introducción a python.\n",
    "\n",
    "**Versión**: 1.0\n",
    "\n",
    "**Fecha**: 04/11/2023"
   ]
  },
  {
   "cell_type": "markdown",
   "id": "df352462",
   "metadata": {},
   "source": [
    "**IMPORTANTE**: No es válido añadir más imports de los que os damos en la siguiente celda. Esto es así ya que queremos que penséis como programar, no que utilicéis una librería específica que resuelva el problema."
   ]
  },
  {
   "cell_type": "code",
   "execution_count": 146,
   "id": "107caf9b",
   "metadata": {},
   "outputs": [],
   "source": [
    "import math"
   ]
  },
  {
   "cell_type": "markdown",
   "id": "42d2edd2",
   "metadata": {},
   "source": [
    "## Ejercicio 1"
   ]
  },
  {
   "cell_type": "markdown",
   "id": "c80f1b5b",
   "metadata": {},
   "source": [
    "Crea una función que lea los coeficientes de una ecuación de segundo grado $ax^2 + bx + c = 0$ y calcule sus dos soluciones. Asume que la ecuación tiene soluciones reales. En el caso de ser una única solución doble, deberá devolver un único valor. Asegúrate de que redondeas el resultado a 4 decimales para evitar errores de precisión cuando los coeficientes `a`, `b`, o `c` son fracciones.\n",
    "\n",
    "La cabecera de la función será la siguiente: `resuelve_ecuacion_grado_2(a, b, c)`."
   ]
  },
  {
   "cell_type": "code",
   "execution_count": 15,
   "id": "c5e492a7",
   "metadata": {},
   "outputs": [],
   "source": [
    "# TO-DO Completa la función\n",
    "def resuelve_ecuacion_grado_2(a, b, c):\n",
    "    raiz = math.sqrt(b**2-4*a*c)\n",
    "    solucion1 = (-b + raiz) / (2*a)\n",
    "    solucion2 = (-b - raiz) / (2*a)\n",
    "    if solucion1 == solucion2:\n",
    "        return round(solucion1, 4)\n",
    "    else:\n",
    "        return round(solucion1, 4), round(solucion2, 4)"
   ]
  },
  {
   "cell_type": "code",
   "execution_count": 17,
   "id": "f1bab4e6",
   "metadata": {},
   "outputs": [],
   "source": [
    "# Celda de test. Puedes añadir los que tu quieras adicionalmente\n",
    "assert resuelve_ecuacion_grado_2(1, -5, 6) == (3.0, 2.0), \"Error en el test 1\"\n",
    "assert resuelve_ecuacion_grado_2(2, -7, 3) == (3.0, 0.5), \"Error en el test 2\"\n",
    "assert resuelve_ecuacion_grado_2(-1, 7, -10) == (2.0, 5.0), \"Error en el test 3\"\n",
    "assert resuelve_ecuacion_grado_2(1, -2, 1) == 1.0, \"Error en el test 4\"\n",
    "assert resuelve_ecuacion_grado_2(1, -4, 4) == 2.0, \"Error en el test 5\"\n",
    "assert resuelve_ecuacion_grado_2(1, -7/6, 1/3) == (0.6667, 0.5), \"Error en el test 6\""
   ]
  },
  {
   "cell_type": "markdown",
   "id": "10814eca",
   "metadata": {},
   "source": [
    "## Ejercicio 2"
   ]
  },
  {
   "cell_type": "markdown",
   "id": "87720514",
   "metadata": {},
   "source": [
    "Crea una función que lea los coeficientes de un sistema de dos ecuaciones lineales con dos incógnitas y calcule su solución. Se supone que el sistema de ecuaciones es compatible determinado. Puedes resolverlo con el método que quieras (sustitución, igualación o reducción).\n",
    "\n",
    "$$ ax + by = c $$\n",
    "$$ dx + ey = f $$\n",
    "\n",
    "La cabecera de la función será la siguiente: `resuelve_sistema_ecuaciones(a, b, c, d, e, f)`."
   ]
  },
  {
   "cell_type": "code",
   "execution_count": 41,
   "id": "c67106ca",
   "metadata": {},
   "outputs": [],
   "source": [
    "# TO-DO Completa la función\n",
    "def resuelve_sistema_ecuaciones(a, b, c, d, e, f):\n",
    "    # Paso 0: Me hago una copia de los valores originales\n",
    "    aa, bb, cc = a, b, c\n",
    "    dd, ee, ff = d, e, f\n",
    "    \n",
    "    # Paso 1: Calculamos el factor para multiplicar la segunda ecuación y tener un coeficiente a == -d\n",
    "    n = -a / d\n",
    "    \n",
    "    # Paso 2: Multiplicamos la segunda ecuación por el factor n calculado previamente\n",
    "    d *= n\n",
    "    e *= n\n",
    "    f *= n\n",
    "    \n",
    "    # Paso 3: Sumamos coeficientes. Técnicamente se deben ir a y d\n",
    "    if a + d != 0:\n",
    "        raise Exception(\"ERROR: a + d no suman 0: {}\".format(a + d))\n",
    "    a += d\n",
    "    b += e\n",
    "    c += f\n",
    "    \n",
    "    # Paso 4: Calcula y despejando en la ecuación\n",
    "    y = c / b\n",
    "    \n",
    "    # Paso 5: Vuelve a la primera ecuación y calcula x\n",
    "    x = (cc - bb * y) / aa\n",
    "    \n",
    "    return round(x, 4), round(y, 4)"
   ]
  },
  {
   "cell_type": "code",
   "execution_count": 45,
   "id": "a2577c47",
   "metadata": {},
   "outputs": [],
   "source": [
    "# Celda de test. Puedes añadir los que tu quieras adicionalmente\n",
    "assert resuelve_sistema_ecuaciones(5, 2, 1, -3, 3, 5) == (-0.3333, 1.3333), \"Error en el test 1\"\n",
    "assert resuelve_sistema_ecuaciones(2, 1, 6, 4, 3, 14) == (2, 2), \"Error en el test 2\"\n",
    "assert resuelve_sistema_ecuaciones(5, -2, 2, 1, 2, 2) == (0.6667, 0.6667), \"Error en el test 3\"\n",
    "assert resuelve_sistema_ecuaciones(5, -1, 3, -2, 4, -12) == (0, -3), \"Error en el test 4\"\n",
    "assert resuelve_sistema_ecuaciones(3, 5, 15, 2, -3, -9) == (0, 3), \"Error en el test 5\""
   ]
  },
  {
   "cell_type": "markdown",
   "id": "50165045",
   "metadata": {},
   "source": [
    "## Ejercicio 3"
   ]
  },
  {
   "cell_type": "markdown",
   "id": "1d5112fb",
   "metadata": {},
   "source": [
    "Define una función que nos calcule el cambio que debe dar la caja de un supermercado dado un precio y una cantidad de dinero pagada. La función nos dirá cuántas monedas deben darse como cambio de tal forma que el número total de monedas sea mínimo. Asegúrate de redondear siempre a 2 decimales para no entrar en posibles errores de precisión.\n",
    "\n",
    "La cabecera de la función será la siguiente: `calcula_cambio(precio, dinero)`."
   ]
  },
  {
   "cell_type": "code",
   "execution_count": 68,
   "id": "4616c76d",
   "metadata": {},
   "outputs": [],
   "source": [
    "# TO-DO Completa la función\n",
    "def calcula_cambio(precio, dinero):\n",
    "    monedas = [2.0, 1.0, 0.5, 0.2, 0.1, 0.05, 0.02, 0.01]\n",
    "    cambio = {}\n",
    "    \n",
    "    if precio > dinero:\n",
    "        raise Exception(\"ERROR: No se ha dado suficiente dinero\")\n",
    "        \n",
    "    resto = round(dinero - precio, 2)\n",
    "\n",
    "    for moneda in monedas:\n",
    "        if resto // moneda > 0:\n",
    "            cambio[moneda] = int(resto // moneda)\n",
    "            resto = round(resto % moneda, 2)\n",
    "            \n",
    "    return cambio"
   ]
  },
  {
   "cell_type": "code",
   "execution_count": 71,
   "id": "78158d61",
   "metadata": {},
   "outputs": [],
   "source": [
    "# Celda de test. Puedes añadir los que tu quieras adicionalmente\n",
    "assert calcula_cambio(10.42, 15.0) == {2.0: 2, 0.5: 1, 0.05: 1, 0.02: 1, 0.01: 1}, \"Error en el test 1\"\n",
    "assert calcula_cambio(204.99, 210.0) == {2.0: 2, 1.0: 1, 0.01: 1}, \"Error en el test 2\"\n",
    "assert calcula_cambio(14.67, 20.0) == {2.0: 2, 1.0: 1, 0.2: 1, 0.1: 1, 0.02: 1, 0.01: 1}, \"Error en el test 3\""
   ]
  },
  {
   "cell_type": "markdown",
   "id": "6c676fe2",
   "metadata": {},
   "source": [
    "## Ejercicio 5"
   ]
  },
  {
   "cell_type": "markdown",
   "id": "197255a5",
   "metadata": {},
   "source": [
    "Define una función que calcule el máximo común divisor (MCD) entre dos números enteros.\n",
    "\n",
    "La cabecera de la función será la siguiente: `MCD(n1, n2)`."
   ]
  },
  {
   "cell_type": "code",
   "execution_count": 76,
   "id": "beea2818",
   "metadata": {},
   "outputs": [],
   "source": [
    "# TO-DO Completa la función\n",
    "def MCD(n1, n2):\n",
    "    menor = n1 if n1 < n2 else n2\n",
    "    max_divisor = 1\n",
    "    for d in range(1, menor+1):\n",
    "        if n1%d == 0 and n2%d == 0:\n",
    "            max_divisor = d\n",
    "    return max_divisor"
   ]
  },
  {
   "cell_type": "code",
   "execution_count": 95,
   "id": "b1d82870",
   "metadata": {},
   "outputs": [],
   "source": [
    "# Celda de test. Puedes añadir los que tu quieras adicionalmente\n",
    "assert MCD(2, 4) == 2, \"Error en el test 1\"\n",
    "assert MCD(1342, 3454) == 22, \"Error en el test 2\"\n",
    "assert MCD(29, 71) == 1, \"Error en el test 3\"\n",
    "assert MCD(124552, 1438512) == 8, \"Error en el test 4\""
   ]
  },
  {
   "cell_type": "markdown",
   "id": "98581ff0",
   "metadata": {},
   "source": [
    "## Ejercicio 6"
   ]
  },
  {
   "cell_type": "markdown",
   "id": "8f6fe356",
   "metadata": {},
   "source": [
    "Escribe un programa que invierta números enteros positivos. Se entiende por invertir el dar la vuelta a los dígitos que componen el número (hallar su imagen especular), es decir, el inverso de 3952 es 2593.\n",
    "\n",
    "La cabecera de la función será la siguiente: `invertir(n)`."
   ]
  },
  {
   "cell_type": "code",
   "execution_count": 100,
   "id": "457cde09",
   "metadata": {},
   "outputs": [],
   "source": [
    "# TO-DO Completa la función\n",
    "def invertir(n):\n",
    "    n_str = str(n)\n",
    "    n_str_inv = n_str[::-1]\n",
    "    n_inv = int(n_str_inv)\n",
    "    return n_inv"
   ]
  },
  {
   "cell_type": "code",
   "execution_count": 103,
   "id": "f650ee0a",
   "metadata": {},
   "outputs": [],
   "source": [
    "# Celda de test. Puedes añadir los que tu quieras adicionalmente\n",
    "assert invertir(42345) == 54324, \"Error en el test 1\"\n",
    "assert invertir(532) == 235, \"Error en el test 2\"\n",
    "assert invertir(11) == 11, \"Error en el test 3\"\n",
    "assert invertir(1324349) == 9434231, \"Error en el test 4\""
   ]
  },
  {
   "cell_type": "markdown",
   "id": "30c3276a",
   "metadata": {},
   "source": [
    "## Ejercicio 7"
   ]
  },
  {
   "cell_type": "markdown",
   "id": "77803908",
   "metadata": {},
   "source": [
    "Escribe una función que simplifique una fracción. Es recomendable haber resuelto el **ejercicio 5** y tener la función **MCD(n1, n2)** implementada. En el caso en que ya no tenga sentido seguir definiendo la fracción como tal, la función deberá devolver solamente el número real.\n",
    "\n",
    "La cabecera de la función será la siguiente: `simplifica_fraccion(numerador, denominador)`."
   ]
  },
  {
   "cell_type": "code",
   "execution_count": 109,
   "id": "9f63963b",
   "metadata": {},
   "outputs": [],
   "source": [
    "# TO-DO Completa la función\n",
    "def simplifica_fraccion(numerador, denominador):\n",
    "    mcd = MCD(numerador, denominador)\n",
    "    if denominador // mcd == 1:\n",
    "        return numerador // mcd\n",
    "    else:\n",
    "        return numerador // mcd, denominador // mcd"
   ]
  },
  {
   "cell_type": "code",
   "execution_count": 112,
   "id": "0a446e79",
   "metadata": {},
   "outputs": [],
   "source": [
    "# Celda de test. Puedes añadir los que tu quieras adicionalmente\n",
    "assert simplifica_fraccion(4, 10) == (2, 5), \"Error en el test 1\"\n",
    "assert simplifica_fraccion(3, 7) == (3, 7), \"Error en el test 2\"\n",
    "assert simplifica_fraccion(20, 5) == 4, \"Error en el test 3\"\n",
    "assert simplifica_fraccion(1234, 32) == (617, 16), \"Error en el test 4\""
   ]
  },
  {
   "cell_type": "markdown",
   "id": "e4c576ad",
   "metadata": {},
   "source": [
    "## Ejercicio 8"
   ]
  },
  {
   "cell_type": "markdown",
   "id": "9cf4374d",
   "metadata": {},
   "source": [
    "Habrás oído hablar de la historia de un poderoso sultán que deseaba recompensar a un siervo que le había prestado un gran servicio. Cuando el sultán le preguntó qué recompensa deseaba, el humilde siervo le señaló un tablero de ajedrez y solicitó simplemente 1 grano de trigo por la primera casilla, 2 por la segunda, 4 por la tercera, 8 por la siguiente y así sucesivamente. El sultán quedó sorprendido por la modesta petición. ¿Cuántos granos de trigo tuvo que entregar el sultán? Define una función que lo calcule.\n",
    "\n",
    "La cabecera de la función será la siguiente: `calcula_granos_trigo()`."
   ]
  },
  {
   "cell_type": "code",
   "execution_count": 113,
   "id": "23888f17",
   "metadata": {},
   "outputs": [],
   "source": [
    "def calcula_granos_trigo():\n",
    "    cuadrados = 64 # El ajedrez tiene 8*8 casillas\n",
    "    suma = 0\n",
    "    for i in range(cuadrados):\n",
    "        suma += 2**i\n",
    "    return suma"
   ]
  },
  {
   "cell_type": "code",
   "execution_count": 116,
   "id": "bf3ce088",
   "metadata": {},
   "outputs": [],
   "source": [
    "assert calcula_granos_trigo() == 18446744073709551615, \"Error en el test 1\""
   ]
  },
  {
   "cell_type": "markdown",
   "id": "e3b4bdbb",
   "metadata": {},
   "source": [
    "La cosecha mundial de granos de trigo en un año es, aproximadamente, $4 · 10^{15}$. ¿Cuánto pidió el humilde siervo respecto a la estimación de la producción anual mundial expresada en granos? Define una función que lo calcule.\n",
    "\n",
    "La cabecera de la función será la siguiente: `relacion_produccion_anual()`."
   ]
  },
  {
   "cell_type": "code",
   "execution_count": 119,
   "id": "cc31061d",
   "metadata": {},
   "outputs": [],
   "source": [
    "def relacion_produccion_anual():\n",
    "    granos = calcula_granos_trigo()\n",
    "    return granos / (4 * 1e15)"
   ]
  },
  {
   "cell_type": "code",
   "execution_count": 121,
   "id": "1bfa81a4",
   "metadata": {},
   "outputs": [],
   "source": [
    "assert relacion_produccion_anual() == 4611.686018427388, \"Error en el test 1\""
   ]
  },
  {
   "cell_type": "markdown",
   "id": "96df69ff",
   "metadata": {},
   "source": [
    "Al final, no era tan humilde el siervo, ¿verdad?"
   ]
  },
  {
   "cell_type": "markdown",
   "id": "b20dc824",
   "metadata": {},
   "source": [
    "## Ejercicio 9"
   ]
  },
  {
   "cell_type": "markdown",
   "id": "5cbef8ac",
   "metadata": {},
   "source": [
    "Hemos aprendido en clase que una lista en python se puede ordenar utilizando la función `sort()`. Sin embargo, ¿qué hace realmente este método de ordenación? Vamos a implementar el algoritmo **Select Sort**, un algoritmo de ordenación de listas. El algoritmo se basa en el siguiente pseudocódigo:\n",
    "\n",
    "<div style=\"display:flex\">\n",
    "<div>\n",
    "\n",
    "<br>\n",
    "    \n",
    "<ul>\n",
    "    <li> Buscas el mínimo elemento de la lista\n",
    "    <li> Lo intercambias con el primero\n",
    "    <li> Buscas el siguiente mínimo en el resto de la lista\n",
    "    <li> Lo intercambias con el segundo\n",
    "</ul>\n",
    "\n",
    "Y en general:\n",
    "\n",
    "<ul>\n",
    "    <li> Buscas el mínimo elemento entre una posición i y el final de la lista\n",
    "    <li> Intercambias el mínimo con el elemento de la posición i\n",
    "</ul>\n",
    "\n",
    "</div>\n",
    "\n",
    "<div style=\"margin:auto\">\n",
    "    <img src=\"https://upload.wikimedia.org/wikipedia/commons/9/94/Selection-Sort-Animation.gif\" width=\"60\" />\n",
    "</div>\n",
    "</div>\n",
    "    \n",
    "\n",
    "\n",
    "Este algoritmo es de orden $\\Theta(n^2)$, es decir, su coste computacional escala de forma cuadrática respecto al número de elementos de la lista. Eso sí, tiene la ventaja de que es el mismo coste independientemente del orden inicial de los elementos de la lista.\n",
    "\n",
    "Construye una función `select_sort(lista, inplace=False)` que ejecute el algoritmo de ordenación. Si inplace es True, actualiza la lista original además de devolverla."
   ]
  },
  {
   "cell_type": "code",
   "execution_count": 16,
   "id": "868bb301",
   "metadata": {},
   "outputs": [],
   "source": [
    "# TO-DO Completa la función\n",
    "def select_sort(lista, inplace=False):\n",
    "    if not inplace:\n",
    "        lista = lista.copy()\n",
    "    for i in range(len(lista)):\n",
    "        menor = lista[i]\n",
    "        i_menor = i\n",
    "        for j in range(i+1, len(lista)):\n",
    "            if lista[j] < menor:\n",
    "                menor = lista[j]\n",
    "                i_menor = j\n",
    "        lista[i], lista[i_menor] = lista[i_menor], lista[i]\n",
    "    return lista"
   ]
  },
  {
   "cell_type": "code",
   "execution_count": 21,
   "id": "aae43abd",
   "metadata": {},
   "outputs": [],
   "source": [
    "# Celda de test. Puedes añadir los que tu quieras adicionalmente\n",
    "lista = [4, 23, 8, 1, 6, 5]\n",
    "assert select_sort(lista) == [1, 4, 5, 6, 8, 23], \"Error en el test 1\"\n",
    "assert lista == [4, 23, 8, 1, 6, 5], \"Error en el test 1 - Lista original modificada con inplace=False\"\n",
    "assert select_sort(lista, inplace=True) == [1, 4, 5, 6, 8, 23], \"Error en el test 1\"\n",
    "assert lista == [1, 4, 5, 6, 8, 23], \"Error en el test 1 - Lista original no modificada con inplace=True\"\n",
    "lista = [2, -8, 3, 1, 7, 5, -4]\n",
    "assert select_sort(lista) == [-8, -4, 1, 2, 3, 5, 7], \"Error en el test 2\"\n",
    "assert lista == [2, -8, 3, 1, 7, 5, -4], \"Error en el test 2 - Lista original modificada con inplace=False\"\n",
    "assert select_sort(lista, inplace=True) == [-8, -4, 1, 2, 3, 5, 7], \"Error en el test 2\"\n",
    "assert lista == [-8, -4, 1, 2, 3, 5, 7], \"Error en el test 2 - Lista original no modificada con inplace=True\""
   ]
  },
  {
   "cell_type": "markdown",
   "id": "42ec7575",
   "metadata": {},
   "source": [
    "## Ejercicio 10"
   ]
  },
  {
   "cell_type": "markdown",
   "id": "ebfcea79",
   "metadata": {},
   "source": [
    "Nos encontramos en una ciudad, `Santiago de Compostela` por ejemplo, y nos gustaría calcular el trayecto más corto hasta otra ciudad, `Barcelona` por ejemplo. No vamos a tener en cuenta la velocidad del vehículo ni el tráfico en las carreteras. Este es un ejemplo ideal para utilizar el algoritmo de **Dijkstra**, que calcula el camino mínimo en un grafo ponderado donde los pesos se pueden almacenar en una matriz cuadrada.\n",
    "\n",
    "Primero, vamos a definir un par de funciones y la matriz de distancias."
   ]
  },
  {
   "cell_type": "code",
   "execution_count": 61,
   "id": "1f1c3e27",
   "metadata": {},
   "outputs": [],
   "source": [
    "# En este ejercicio en concreto, vamos a utilizar numpy para definir nuestra matriz de distancias\n",
    "import numpy as np"
   ]
  },
  {
   "cell_type": "code",
   "execution_count": 62,
   "id": "c7f3df31",
   "metadata": {},
   "outputs": [],
   "source": [
    "# En una matriz de distancias, las coordenadas i,j describen la distancia entre las ciudades i y j.\n",
    "# Pongamos un ejemplo: distancias[Madrid, Barcelona] es la distancia entre Madrid y Barcelona.\n",
    "# Esta función add_distancia añade esa distancia, teniendo en cuenta que distancias[Madrid, Barcelona]\n",
    "# es la misma distancia que distancias[Barcelona, Madrid]\n",
    "def add_distancia(matriz_distancias, ciudades, ciudad1, ciudad2, distancia):\n",
    "    matriz_distancias[ciudades.index(ciudad1), ciudades.index(ciudad2)] = distancia\n",
    "    matriz_distancias[ciudades.index(ciudad2), ciudades.index(ciudad1)] = distancia"
   ]
  },
  {
   "cell_type": "code",
   "execution_count": 63,
   "id": "a65c39dd",
   "metadata": {},
   "outputs": [],
   "source": [
    "# Esta función imprime el camino a partir del vector ciudad_de_donde_vengo, que almacena el camino\n",
    "# recorrido en sentido inverso. Pongamos un ejemplo: Si he viajado desde Santiago de Compostela\n",
    "# a Barcelona, el camino es el siguiente:\n",
    "# Santiago -> Lugo -> León -> Burgos -> Logroño -> Zaragoza -> Lleida -> Barcelona\n",
    "# Por tanto: \n",
    "# ciudad_de_donde_vengo[Barcelona] debe ser Lleida,\n",
    "# ciudad_de_donde_vengo[Lleida] debe ser Zaragoza, etc.\n",
    "# Entonces, empezando por la ciudad destino, se puede retroceder hasta la ciudad origen\n",
    "def procesa_camino(ciudades, ciudad_de_donde_vengo, origen, destino):\n",
    "    ciudad = destino\n",
    "    camino = []\n",
    "    while ciudad != origen:\n",
    "        camino.append(ciudad)\n",
    "        ciudad = ciudad_de_donde_vengo[ciudades.index(ciudad)]\n",
    "    camino.append(ciudad)\n",
    "    return camino[::-1]"
   ]
  },
  {
   "cell_type": "markdown",
   "id": "d7dbbfca",
   "metadata": {},
   "source": [
    "En la siguiente celda se va a generar la matriz de distancias, donde `distancias[0]` representa las distancias de la ciudad con índice 0, es decir, `Madrid`, a las ciudades a las que existe una conexión directa.\n",
    "\n",
    "Para que el algoritmo funcione correctamente, las distancias a las ciudades no conectadas (nodos del grafo no conectados) debe ser infinito. Sin embargo, para facilitar las cosas, utilizamos el valor `MAX` como valor máximo. Ningún camino tiene un valor mayor que esa longitud."
   ]
  },
  {
   "cell_type": "code",
   "execution_count": 59,
   "id": "4cf0539a",
   "metadata": {},
   "outputs": [],
   "source": [
    "ciudades = [\"Madrid\", \"A Coruña\", \"Santiago de Compostela\", \"Lugo\", \"Ourense\", \"Oviedo\", \n",
    "            \"León\", \"Valladolid\", \"Burgos\", \"Salamanca\", \"Zaragoza\", \"Toledo\",\n",
    "            \"Logroño\", \"Palencia\", \"Lleida\", \"Tarragona\", \"Cuenca\", \"Teruel\", \"Barcelona\"]\n",
    "\n",
    "MAX = 999999.0\n",
    "\n",
    "# Se inicializan todas las distancias al valor MAX\n",
    "distancias = np.ones((len(ciudades), len(ciudades))) * MAX\n",
    "\n",
    "# Se añaden una a una (por pares) las distancias conocidas\n",
    "add_distancia(distancias, ciudades, \"Madrid\", \"Valladolid\", 211.4)\n",
    "add_distancia(distancias, ciudades, \"Madrid\", \"Burgos\", 249.4)\n",
    "add_distancia(distancias, ciudades, \"Madrid\", \"Salamanca\", 214.3)\n",
    "add_distancia(distancias, ciudades, \"Madrid\", \"Zaragoza\", 320.2)\n",
    "add_distancia(distancias, ciudades, \"Madrid\", \"Toledo\", 72.5)\n",
    "add_distancia(distancias, ciudades, \"Madrid\", \"Cuenca\", 171.0)\n",
    "add_distancia(distancias, ciudades, \"A Coruña\", \"Santiago de Compostela\", 74.4)\n",
    "add_distancia(distancias, ciudades, \"A Coruña\", \"Lugo\", 94.8)\n",
    "add_distancia(distancias, ciudades, \"A Coruña\", \"Oviedo\", 285.8)\n",
    "add_distancia(distancias, ciudades, \"Santiago de Compostela\", \"Lugo\", 102.0)\n",
    "add_distancia(distancias, ciudades, \"Santiago de Compostela\", \"Ourense\", 104.5)\n",
    "add_distancia(distancias, ciudades, \"Lugo\", \"Ourense\", 111.6)\n",
    "add_distancia(distancias, ciudades, \"Lugo\", \"Oviedo\", 252.4)\n",
    "add_distancia(distancias, ciudades, \"Lugo\", \"León\", 222.4)\n",
    "add_distancia(distancias, ciudades, \"Lugo\", \"Valladolid\", 345.9)\n",
    "add_distancia(distancias, ciudades, \"Lugo\", \"Salamanca\", 367.7)\n",
    "add_distancia(distancias, ciudades, \"Ourense\", \"León\", 294.2)\n",
    "add_distancia(distancias, ciudades, \"Ourense\", \"Valladolid\", 345.4)\n",
    "add_distancia(distancias, ciudades, \"Ourense\", \"Salamanca\", 323.8)\n",
    "add_distancia(distancias, ciudades, \"Ourense\", \"Palencia\", 343.2)\n",
    "add_distancia(distancias, ciudades, \"Oviedo\", \"León\", 124.8)\n",
    "add_distancia(distancias, ciudades, \"León\", \"Valladolid\", 140.0)\n",
    "add_distancia(distancias, ciudades, \"León\", \"Burgos\", 180.7)\n",
    "add_distancia(distancias, ciudades, \"León\", \"Salamanca\", 207.5)\n",
    "add_distancia(distancias, ciudades, \"León\", \"Palencia\", 127.7)\n",
    "add_distancia(distancias, ciudades, \"Valladolid\", \"Palencia\", 51.5)\n",
    "add_distancia(distancias, ciudades, \"Valladolid\", \"Salamanca\", 122.0)\n",
    "add_distancia(distancias, ciudades, \"Valladolid\", \"Zaragoza\", 363.8)\n",
    "add_distancia(distancias, ciudades, \"Valladolid\", \"Teruel\", 421.6)\n",
    "add_distancia(distancias, ciudades, \"Burgos\", \"Logroño\", 133.3)\n",
    "add_distancia(distancias, ciudades, \"Burgos\", \"Palencia\", 89.6)\n",
    "add_distancia(distancias, ciudades, \"Burgos\", \"Teruel\", 377.5)\n",
    "add_distancia(distancias, ciudades, \"Salamanca\", \"Toledo\", 236.4)\n",
    "add_distancia(distancias, ciudades, \"Zaragoza\", \"Logroño\", 170.2)\n",
    "add_distancia(distancias, ciudades, \"Zaragoza\", \"Lleida\", 152.4)\n",
    "add_distancia(distancias, ciudades, \"Zaragoza\", \"Teruel\", 170.6)\n",
    "add_distancia(distancias, ciudades, \"Toledo\", \"Cuenca\", 181.9)\n",
    "add_distancia(distancias, ciudades, \"Lleida\", \"Tarragona\", 97.4)\n",
    "add_distancia(distancias, ciudades, \"Lleida\", \"Barcelona\", 158.0)\n",
    "add_distancia(distancias, ciudades, \"Tarragona\", \"Barcelona\", 95.1)\n",
    "add_distancia(distancias, ciudades, \"Cuenca\", \"Teruel\", 147.7)"
   ]
  },
  {
   "cell_type": "markdown",
   "id": "c12684c1",
   "metadata": {},
   "source": [
    "Una vez definida la matriz de distancias, encontrar el camino mínimo entre dos ciudades se puede calcular siguiendo el algoritmo de **Dijkstra**. Este es el pseudocódigo (la receta):\n",
    "\n",
    "- Inicializa un conjunto de ciudades no visitadas y un vector de distancias desde el origen.\n",
    "- Establece la distancia a la ciudad de origen como 0 y las distancias a todas las demás ciudades como infinito (MAX).\n",
    "- Mientras no hayas llegado a la ciudad destino y haya ciudades por visitar:\n",
    "  - Selecciona la ciudad no visitada con la distancia mínima desde el origen\n",
    "  - Revisa todas las ciudades desde esa ciudad y actualiza las distancias si se encuentra un camino más corto.\n",
    "\n",
    "El algoritmo de Dijkstra garantiza encontrar el camino mínimo en grafos con pesos no negativos. Sin embargo, no maneja bien los pesos negativos ya que podría quedar atrapado en un bucle infinito. Por tanto, cuidado a la hora de utilizar este algoritmo en otros problemas."
   ]
  },
  {
   "cell_type": "code",
   "execution_count": 60,
   "id": "4394fd39",
   "metadata": {},
   "outputs": [
    {
     "name": "stdout",
     "output_type": "stream",
     "text": [
      " > He llegado a la ciudad destino\n",
      " > El camino más corto es el siguiente:\n",
      " > El camino es ['Santiago de Compostela', 'Lugo', 'León', 'Burgos', 'Logroño', 'Zaragoza', 'Lleida', 'Barcelona']\n",
      " > Son 1119.0 kilómetros\n"
     ]
    }
   ],
   "source": [
    "ORIGEN = \"Santiago de Compostela\"\n",
    "DESTINO = \"Barcelona\"\n",
    "\n",
    "# Inicializa un conjunto de ciudades no visitadas\n",
    "ciudades_visitadas = np.zeros(len(ciudades), dtype=bool)\n",
    "# Inicializa un vector de distancias desde el origen con todas las ciudades con distancia MAX\n",
    "distancias_desde_origen = np.ones(len(ciudades)) * MAX\n",
    "# excepto la ciudad de origen, que se inicializa a 0.0\n",
    "distancias_desde_origen[ciudades.index(ORIGEN)] = 0.0\n",
    "# Además, definimos un vector adicional para guardar el camino realizado\n",
    "ciudad_de_donde_vengo = [\"?\"]*len(ciudades)\n",
    "\n",
    "# Mientras no hayas llegado a la ciudad destino\n",
    "he_llegado = False\n",
    "while not he_llegado:\n",
    "    # Encuentra la ciudad con distancia mínima C que no haya sido visitada aún\n",
    "    d_min = MAX\n",
    "    i_ciudad_min = None\n",
    "    ciudad_min = None\n",
    "    for i_ciudad, ciudad in enumerate(ciudades):\n",
    "        if ciudades_visitadas[i_ciudad] == False and distancias_desde_origen[i_ciudad] < d_min:\n",
    "            d_min = distancias_desde_origen[i_ciudad]\n",
    "            i_ciudad_min = i_ciudad\n",
    "            ciudad_min = ciudad\n",
    "            \n",
    "    # Revisa todas las ciudades C_nueva desde esa ciudad con distancia mínima C y \n",
    "    # actualiza las distancias si se encuentra un camino más corto.\n",
    "    # Ten cuidado a la hora de calcular la distancia a C_nueva, ya que hay que triangular,\n",
    "    # es decir, debes sumar las distancias ORIGEN->C + C->C_nueva y comprobar si es menor \n",
    "    # que ORIGEN->C_nueva\n",
    "    for i_ciudad, ciudad in enumerate(ciudades):\n",
    "        distancia_nueva = distancias_desde_origen[i_ciudad_min] + distancias[i_ciudad_min, i_ciudad]\n",
    "        if distancia_nueva < distancias_desde_origen[i_ciudad]:\n",
    "            # He encontrado un camino más corto\n",
    "            distancias_desde_origen[i_ciudad] = distancia_nueva\n",
    "            # Recuerda actualizar la ciudad de donde vienes\n",
    "            ciudad_de_donde_vengo[i_ciudad] = ciudad_min\n",
    "    \n",
    "    # Por último, la ciudad C ya ha sido visitada, actualiza ciudades_visitadas\n",
    "    ciudades_visitadas[i_ciudad_min] = True\n",
    "    if ciudad_min == DESTINO:\n",
    "        he_llegado = True\n",
    "        print(\" > He llegado a la ciudad destino\")\n",
    "        print(\" > El camino más corto es el siguiente:\")\n",
    "        camino = procesa_camino(ciudades, ciudad_de_donde_vengo, ORIGEN, DESTINO)\n",
    "        print(\" > El camino es {}\".format(camino))\n",
    "        print(\" > Son {} kilómetros\".format(distancias_desde_origen[ciudades.index(DESTINO)]))\n",
    "        \n",
    "    if not he_llegado and ciudades_visitadas.all():\n",
    "        print(\" > No he llegado a la ciudad destino\")\n",
    "        break"
   ]
  },
  {
   "cell_type": "code",
   "execution_count": null,
   "id": "c1f1fc2c",
   "metadata": {},
   "outputs": [],
   "source": []
  }
 ],
 "metadata": {
  "kernelspec": {
   "display_name": "Python 3 (ipykernel)",
   "language": "python",
   "name": "python3"
  },
  "language_info": {
   "codemirror_mode": {
    "name": "ipython",
    "version": 3
   },
   "file_extension": ".py",
   "mimetype": "text/x-python",
   "name": "python",
   "nbconvert_exporter": "python",
   "pygments_lexer": "ipython3",
   "version": "3.11.5"
  }
 },
 "nbformat": 4,
 "nbformat_minor": 5
}
