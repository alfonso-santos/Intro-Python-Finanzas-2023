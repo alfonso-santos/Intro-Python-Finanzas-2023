{
 "cells": [
  {
   "cell_type": "markdown",
   "id": "92fea1c6",
   "metadata": {},
   "source": [
    "# Desafíos de programación"
   ]
  },
  {
   "cell_type": "markdown",
   "id": "21eed5bd",
   "metadata": {},
   "source": [
    "Desafíos de programación en python.\n",
    "\n",
    "**Última versión**: 1.0\n",
    "\n",
    "**Fecha última versión**: 09/11/2023\n",
    "\n",
    "**Actualización 1.0** Desafíos de programación de diferente dificultad. Fecha: 09/11/2023"
   ]
  },
  {
   "cell_type": "markdown",
   "id": "cfb7a6bd",
   "metadata": {},
   "source": [
    "## Desafío 1: Juego de adivinación"
   ]
  },
  {
   "cell_type": "markdown",
   "id": "f950c1be",
   "metadata": {},
   "source": [
    "Vamos a programar un juego de adivinación. El programa recibirá un número entre 0 y 100 y el programa tendrá que adivinarlo en el menor número de pasos posible. Para ello, además de devolver el número tendrá que devolver también el número de pasos que ha necesitado para encontrarlo.\n",
    "\n",
    "Debes saber que este programa necesita como máximo $log_2(100) = 6.6439 \\rightarrow 6$ pasos. Si tu algoritmo tarda más, algo podrías mejorar. ¡Inténtalo!\n",
    "\n",
    "La función tendrá la siguiente cabecera: `adivina(n)`.\n",
    "\n",
    "**Nota**: Sed legales, si hacéis que vuestra función siempre devuelva 0 pasos el test pasará pero no tendrá gracia."
   ]
  },
  {
   "cell_type": "code",
   "execution_count": 1,
   "id": "90877912",
   "metadata": {},
   "outputs": [],
   "source": [
    "def adivina(n):\n",
    "    min_value = 0\n",
    "    max_value = 101\n",
    "    numero = 50\n",
    "    pasos = 0\n",
    "    while numero != n:\n",
    "        if numero > n:\n",
    "            max_value = numero\n",
    "            numero = (min_value + max_value) // 2\n",
    "        else:\n",
    "            min_value = numero\n",
    "        numero = (min_value + max_value) // 2\n",
    "        pasos += 1\n",
    "    return numero, pasos"
   ]
  },
  {
   "cell_type": "code",
   "execution_count": 2,
   "id": "e35811f8",
   "metadata": {},
   "outputs": [],
   "source": [
    "# Celda de test. Puedes añadir lo que quieras adicionalmente\n",
    "pasos_all = [6, 5, 6, 4, 5, 6, 3, 5, 6, 4, 5, 6, 2, 5, 6, 4, 5, 6, 3, 5, 6, 4, 6, 5, 6, 1, 5, 6, 4, 5, 6, 3, 5, 6, 4, 5, 6, 2, 5, 6, 4, 5, 6, 3, 5, 6, 4, 6, 5, 6, 0, 5, 6, 4, 5, 6, 3, 5, 6, 4, 5, 6, 2, 5, 6, 4, 5, 6, 3, 5, 6, 4, 6, 5, 6, 1, 5, 6, 4, 5, 6, 3, 5, 6, 4, 6, 5, 6, 2, 5, 6, 4, 5, 6, 3, 5, 6, 4, 6, 5, 6]\n",
    "for i in range(101):\n",
    "    numero, pasos = adivina(i)\n",
    "    assert numero == i, \"Error al adivinar el número \" + str(i)\n",
    "    assert pasos <= pasos_all[i], \"Error. Estás tardando más de lo esperado con el número \" + str(i)"
   ]
  },
  {
   "cell_type": "markdown",
   "id": "bf118b93",
   "metadata": {},
   "source": [
    "## Desafío 2: Saliendo de la crisis"
   ]
  },
  {
   "cell_type": "markdown",
   "id": "15e03b81",
   "metadata": {},
   "source": [
    "La abeja reina dijo hace unos cuantos meses que la colmena estaba por fin saliendo de la crisis. Ahora Maya quiere comprobar cómo de ciertas eran aquellas declaraciones, así que ha recopilado el histórico de distintos indicadores económicos desde el día de la declaración hasta hoy para ver si, efectivamente, todos ellos han ido creciendo día a día desde entonces.\n",
    "\n",
    "La entrada estará compuesta de distintos indicadores económicos en una lista que contiene N números positivos con los valores económicos medidos desde el día de la declaración de la abeja reina hasta el día de hoy. Por cada caso de prueba se dirá si según ese indicador la abeja reina tenía razón (True) o las cosas no están tan bien como ella cree (False).\n",
    "\n",
    "Define una función con la siguiente cabecera `saliendo_de_la_crisis(indicadores)` para que resuelva el problema."
   ]
  },
  {
   "cell_type": "code",
   "execution_count": 4,
   "id": "e0df4efe",
   "metadata": {},
   "outputs": [],
   "source": [
    "def saliendo_de_la_crisis(indicadores):\n",
    "    for i in range(len(indicadores)-1):\n",
    "        if indicadores[i] >= indicadores[i+1]:\n",
    "            return False\n",
    "    return True"
   ]
  },
  {
   "cell_type": "code",
   "execution_count": 5,
   "id": "7a3efd9c",
   "metadata": {},
   "outputs": [],
   "source": [
    "assert saliendo_de_la_crisis([1, 3, 6]) == True, \"Error en el test 1\"\n",
    "assert saliendo_de_la_crisis([1, 3, 2, 5]) == False, \"Error en el test 2\"\n",
    "assert saliendo_de_la_crisis([6, 6, 6]) == False, \"Error en el test 3\""
   ]
  },
  {
   "cell_type": "code",
   "execution_count": null,
   "id": "0a84e75d",
   "metadata": {},
   "outputs": [],
   "source": []
  }
 ],
 "metadata": {
  "kernelspec": {
   "display_name": "Python 3 (ipykernel)",
   "language": "python",
   "name": "python3"
  },
  "language_info": {
   "codemirror_mode": {
    "name": "ipython",
    "version": 3
   },
   "file_extension": ".py",
   "mimetype": "text/x-python",
   "name": "python",
   "nbconvert_exporter": "python",
   "pygments_lexer": "ipython3",
   "version": "3.11.5"
  }
 },
 "nbformat": 4,
 "nbformat_minor": 5
}
