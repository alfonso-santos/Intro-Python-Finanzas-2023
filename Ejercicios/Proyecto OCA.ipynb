{
 "cells": [
  {
   "cell_type": "markdown",
   "id": "5a93f471",
   "metadata": {},
   "source": [
    "# Proyecto OCA"
   ]
  },
  {
   "cell_type": "markdown",
   "id": "2bd991d5",
   "metadata": {},
   "source": [
    "Proyecto adicional del bloque de introducción a python. Juego de la OCA.\n",
    "\n",
    "**Versión**: 1.0\n",
    "\n",
    "**Fecha**: 04/11/2023"
   ]
  },
  {
   "cell_type": "markdown",
   "id": "f02b4854",
   "metadata": {},
   "source": [
    "**IMPORTANTE**: No es válido añadir más imports de los que os damos en la siguiente celda. Esto es así ya que queremos que penséis como programar, no que utilicéis una librería específica que resuelva el problema."
   ]
  },
  {
   "cell_type": "code",
   "execution_count": null,
   "id": "636eadb3",
   "metadata": {},
   "outputs": [],
   "source": [
    "import numpy as np"
   ]
  },
  {
   "cell_type": "markdown",
   "id": "98966b14",
   "metadata": {},
   "source": [
    "Vamos a diseñar el juego de la OCA para jugar contra un bot. Os damos cierto material ya programado para empezar."
   ]
  },
  {
   "cell_type": "markdown",
   "id": "b6118a1e",
   "metadata": {},
   "source": [
    "### Material inicial"
   ]
  },
  {
   "cell_type": "code",
   "execution_count": null,
   "id": "a7a5956e",
   "metadata": {},
   "outputs": [],
   "source": [
    "# Definimos los diferentes tipos de casilla del tablero para poder codificar las casillas\n",
    "ID_NORMAL = 0\n",
    "ID_OCA = 1\n",
    "ID_PUENTE = 2\n",
    "ID_POSADA = 3\n",
    "ID_DADOS = 4\n",
    "ID_POZO = 5\n",
    "ID_LABERINTO = 6\n",
    "ID_CARCEL = 7\n",
    "ID_CALAVERA = 8"
   ]
  },
  {
   "cell_type": "code",
   "execution_count": null,
   "id": "add27bf0",
   "metadata": {},
   "outputs": [],
   "source": [
    "# Definimos el tablero con los identificadores correspondientes de cada casilla\n",
    "tablero = np.zeros(64)\n",
    "tablero[58] = ID_CALAVERA\n",
    "tablero[52] = ID_CARCEL\n",
    "tablero[42] = ID_LABERINTO\n",
    "tablero[31] = ID_POZO\n",
    "tablero[26] = ID_DADOS\n",
    "tablero[53] = ID_DADOS\n",
    "tablero[19] = ID_POSADA\n",
    "tablero[6] = ID_PUENTE\n",
    "tablero[12] = ID_PUENTE\n",
    "tablero[[1, 5, 9, 14, 18, 23, 27, 32, 26, 41, 45, 50, 54, 59, 63]] = ID_OCA"
   ]
  },
  {
   "cell_type": "code",
   "execution_count": null,
   "id": "0f4aed71",
   "metadata": {},
   "outputs": [],
   "source": [
    "# Función que devuelve el tipo de casilla en la que se encuentra el jugador\n",
    "def esta_en(jugador, tablero):\n",
    "    return tablero[jugador[\"casilla\"]]\n",
    "\n",
    "# Función que realiza una acción especial si caes en una casilla especial\n",
    "def movimientos_especiales(jugador, tablero):\n",
    "    tipo_casilla = esta_en(jugador, tablero)\n",
    "    if tipo_casilla == ID_OCA:\n",
    "        print(\" > {} salta de oca en oca y tira porque le toca.\".format(jugador[\"nombre\"]))\n",
    "        casilla_oca(jugador, tablero)\n",
    "        \n",
    "    elif tipo_casilla == ID_PUENTE:\n",
    "        print(\" > {} salta de puente en puente y tira porque le lleva la corriente.\".format(jugador[\"nombre\"]))\n",
    "        casilla_puente(jugador, tablero)\n",
    "        \n",
    "    elif tipo_casilla == ID_POSADA:\n",
    "        print(\" > {} va a descansar en la posada. Pierde 1 turnos.\".format(jugador[\"nombre\"]))\n",
    "        casilla_posada(jugador, tablero)\n",
    "        \n",
    "    elif tipo_casilla == ID_DADOS:\n",
    "        print(\" > {} salta de dados a dados y tira porque le ha tocado\".format(jugador[\"nombre\"]))\n",
    "        casilla_dados(jugador, tablero)\n",
    "        \n",
    "    elif tipo_casilla == ID_POZO:\n",
    "        print(\" > {} se ha caído al pozo. Pierde 2 turnos.\".format(jugador[\"nombre\"]))\n",
    "        casilla_pozo(jugador, tablero)\n",
    "        \n",
    "    elif tipo_casilla == ID_LABERINTO:\n",
    "        print(\" > {} se ha perdido en un laberinto. Pierde 3 turnos.\".format(jugador[\"nombre\"]))\n",
    "        casilla_laberinto(jugador, tablero)\n",
    "        \n",
    "    elif tipo_casilla == ID_CARCEL:\n",
    "        print(\" > {} ha sobrepasado el exceso de velocidad. Lo meten en la carcel por 4 turnos.\".format(jugador[\"nombre\"]))\n",
    "        casilla_carcel(jugador, tablero)\n",
    "        \n",
    "    elif tipo_casilla == ID_CALAVERA:\n",
    "        print(\" > {} ha muerto. Vuelve a empezar.\".format(jugador[\"nombre\"]))\n",
    "        casilla_calavera(jugador, tablero)\n",
    "        \n",
    "    else:\n",
    "        # Casilla normal, no pasa nada\n",
    "        pass\n",
    "    \n",
    "# Función que comprueba si un jugador ha ganado. Básicamente tiene que haber llegado a la meta\n",
    "def ha_ganado(jugador):\n",
    "    if jugador[\"casilla\"] >= 63:\n",
    "        return True\n",
    "    return False\n",
    "\n",
    "# Función que lanza un dado de 6 caras\n",
    "def lanza_dado():\n",
    "    return np.random.randint(1, 7)\n",
    "\n",
    "# Función que mueve X casillas hacia adelante\n",
    "def mueve_casillas(jugador, casillas):\n",
    "    jugador[\"casilla\"] += casillas\n",
    "       \n",
    "# Función que espera sin moverse\n",
    "def espera(jugador):\n",
    "    jugador[\"espera\"] -= 1\n",
    "    print(\" > {} está esperando.\".format(jugador[\"nombre\"]))\n",
    "    \n",
    "# Función que construye un jugador con un nombre determinado.\n",
    "# Van a guardarse ciertos atributos adicionales que serán útiles para el juego:\n",
    "#   - \"casilla\": es la casilla en la que se encuentra el jugador\n",
    "#   - \"espera\": es el número de turnos que el jugador tiene que esperar\n",
    "#   - \"vuelve a tirar\": se utiliza para saber si el jugador vuelve a tirar\n",
    "def construye_jugador(nombre):\n",
    "    return {\"nombre\": nombre, \"casilla\":0, \"espera\":0, \"vuelve a tirar\":False}"
   ]
  },
  {
   "cell_type": "markdown",
   "id": "8ec4b878",
   "metadata": {},
   "source": [
    "### Funciones a implementar"
   ]
  },
  {
   "cell_type": "markdown",
   "id": "08c92ac2",
   "metadata": {},
   "source": [
    "Define la función `turno(jugador, tablero)` que ejecute la siguiente secuencia de acciones:\n",
    "\n",
    "- Lanzar el dado\n",
    "- Mover las casillas correspondientes a la tirada\n",
    "- Comprobar si el jugador ha ganado\n",
    "- Realizar acciones especiales\n",
    "- Comprobar si el jugador ha ganado después de realizar alguna acción especial\n",
    "\n",
    "La función debe devolver `True` en el caso en el que ha ganado y `False` en el caso contrario.\n",
    "\n",
    "**NOTA**: Utiliza las funciones que os damos arriba."
   ]
  },
  {
   "cell_type": "code",
   "execution_count": null,
   "id": "189ec5ef",
   "metadata": {},
   "outputs": [],
   "source": [
    "# Define la función turno que cumpla la funcionalidad descrita arriba\n",
    "def turno(jugador, tablero):\n",
    "    # 1. Lanzar el dado\n",
    "    \n",
    "    print(\" > Lanzas el dado. Ha salido un {}\".format(dado))\n",
    "    # 2. Mover las casillas correspondientes a la tirada\n",
    "    \n",
    "    # 3. Comprobar si el jugador ha ganado. Devolver True en caso positivo\n",
    "    \n",
    "    # 4. Realizar acciones especiales\n",
    "    \n",
    "    # 5. Comprobar si el jugador ha ganado. Devolver True en caso positivo\n",
    "    \n",
    "    # Si llegas hasta aquí, no ha ganado, por tanto devuelve False\n",
    "    return False"
   ]
  },
  {
   "cell_type": "markdown",
   "id": "dfa84a04",
   "metadata": {},
   "source": [
    "Ahora vamos a implementar las acciones especiales de cada casilla."
   ]
  },
  {
   "cell_type": "markdown",
   "id": "847a25a2",
   "metadata": {},
   "source": [
    "Define la función `casilla_oca(jugador, tablero)` que mueva al jugador a la siguiente casilla de oca."
   ]
  },
  {
   "cell_type": "code",
   "execution_count": null,
   "id": "b13d9238",
   "metadata": {},
   "outputs": [],
   "source": [
    "# Define la función casilla_oca para que mueva al jugador a la siguiente oca disponible\n",
    "# Recuerda actualizar el atributo \"vuelve a tirar\" a True\n",
    "def casilla_oca(jugador, tablero):\n",
    "    pass"
   ]
  },
  {
   "cell_type": "markdown",
   "id": "09d6e5c9",
   "metadata": {},
   "source": [
    "Define la función `casilla_puente(jugador, tablero)` que mueva al jugador al otro puente."
   ]
  },
  {
   "cell_type": "code",
   "execution_count": null,
   "id": "f95c0c68",
   "metadata": {},
   "outputs": [],
   "source": [
    "# Define la función casilla_puente para que mueva al jugador al otro puente\n",
    "# Recuerda actualizar el atributo \"vuelve a tirar\" a True\n",
    "def casilla_puente(jugador, tablero):\n",
    "    pass"
   ]
  },
  {
   "cell_type": "markdown",
   "id": "fb8ab568",
   "metadata": {},
   "source": [
    "Define la función `casilla_dados(jugador, tablero)` que mueva al jugador al otro dado."
   ]
  },
  {
   "cell_type": "code",
   "execution_count": null,
   "id": "fd86c024",
   "metadata": {},
   "outputs": [],
   "source": [
    "# Define la función casilla_dados para que mueva al jugador al otro dado\n",
    "# Recuerda actualizar el atributo \"vuelve a tirar\" a True\n",
    "def casilla_dados(jugador, tablero):\n",
    "    pass"
   ]
  },
  {
   "cell_type": "markdown",
   "id": "735fea79",
   "metadata": {},
   "source": [
    "Define la función `casilla_posada(jugador, tablero)` que haga que el jugador espere 1 turno."
   ]
  },
  {
   "cell_type": "code",
   "execution_count": null,
   "id": "32730185",
   "metadata": {},
   "outputs": [],
   "source": [
    "# Define la función casilla_posada para que esperes 1 turno   \n",
    "def casilla_posada(jugador, tablero):\n",
    "    pass"
   ]
  },
  {
   "cell_type": "markdown",
   "id": "8eed4420",
   "metadata": {},
   "source": [
    "Define la función `casilla_pozo(jugador, tablero)` que haga que el jugador espere 2 turnos."
   ]
  },
  {
   "cell_type": "code",
   "execution_count": null,
   "id": "6c224790",
   "metadata": {},
   "outputs": [],
   "source": [
    "# Define la función casilla_pozo para que esperes 2 turnos\n",
    "def casilla_pozo(jugador, tablero):\n",
    "    pass"
   ]
  },
  {
   "cell_type": "markdown",
   "id": "c87bc1ff",
   "metadata": {},
   "source": [
    "Define la función `casilla_laberinto(jugador, tablero)` que haga que el jugador espere 3 turnos."
   ]
  },
  {
   "cell_type": "code",
   "execution_count": null,
   "id": "85b0624b",
   "metadata": {},
   "outputs": [],
   "source": [
    "# Define la función casilla_laberinto para que esperes 3 turnos\n",
    "def casilla_laberinto(jugador, tablero):\n",
    "    pass"
   ]
  },
  {
   "cell_type": "markdown",
   "id": "3491fb90",
   "metadata": {},
   "source": [
    "Define la función `casilla_carcel(jugador, tablero)` que haga que el jugador espere 4 turnos."
   ]
  },
  {
   "cell_type": "code",
   "execution_count": null,
   "id": "4fe3884c",
   "metadata": {},
   "outputs": [],
   "source": [
    "# Define la función casilla_carcel para que esperes 4 turnos    \n",
    "def casilla_carcel(jugador, tablero):\n",
    "    pass"
   ]
  },
  {
   "cell_type": "markdown",
   "id": "38fe7a26",
   "metadata": {},
   "source": [
    "Define la función `casilla_calavera(jugador, tablero)` que haga que el jugador muera, es decir, empiece otra vez."
   ]
  },
  {
   "cell_type": "code",
   "execution_count": null,
   "id": "8abe4023",
   "metadata": {},
   "outputs": [],
   "source": [
    "# Define la función casilla_calavera para empezar de 0\n",
    "def casilla_calavera(jugador, tablero):\n",
    "    pass"
   ]
  },
  {
   "cell_type": "markdown",
   "id": "0d52ebb1",
   "metadata": {},
   "source": [
    "### Código principal"
   ]
  },
  {
   "cell_type": "markdown",
   "id": "f6ff8720",
   "metadata": {},
   "source": [
    "Hemos codificado el tablero y las casillas especiales. Hemos construido las funciones necesarias para procesar cada casilla especial y todo lo necesario para movernos en el tablero. Lo último que nos queda es combinar todo en nuestro código principal. Este código debe definir un bucle que no termine hasta que se acabe el juego. En cada vuelta, le tocará a un jugador o al otro a no ser que hayas caído en una casilla donde vuelvas a tirar.\n",
    "\n",
    "Una posible receta sería la siguiente:\n",
    "\n",
    "- Construye los dos jugadores\n",
    "- Mientras el juego no haya terminado:\n",
    "  - Sea turno del jugador o del bot...\n",
    "  - Si el jugador no tiene que esperar:\n",
    "    - Juega un turno\n",
    "    - Comprueba si ha ganado\n",
    "  - Si no, espera.\n",
    "  - Gestiona si el jugador vuelve a tirar\n",
    "  - Si no, le toca al otro jugador"
   ]
  },
  {
   "cell_type": "code",
   "execution_count": null,
   "id": "b40f3975",
   "metadata": {
    "scrolled": false
   },
   "outputs": [],
   "source": [
    "# Construye los dos jugadores\n",
    "bot = # TO-DO\n",
    "jugador = # TO-DO\n",
    "\n",
    "turno_jugador = True\n",
    "# Mientras el juego no haya terminado\n",
    "while True:\n",
    "    print()\n",
    "    print(\" #### ESTADO DEL TABLERO ####\")\n",
    "    print(\"  [{}] {}. Tiempo de espera: {}\".format(jugador[\"casilla\"], jugador[\"nombre\"], jugador[\"espera\"]))\n",
    "    print(\"  [{}] {}. Tiempo de espera: {}\".format(bot[\"casilla\"], bot[\"nombre\"], bot[\"espera\"]))\n",
    "    print()\n",
    "    # Si es turno del jugador\n",
    "    if turno_jugador:\n",
    "        print()\n",
    "        print(\"Turno de {}\".format(jugador[\"nombre\"]))\n",
    "        # Si el jugador no tiene que esperar\n",
    "        \n",
    "        # Si no, espera\n",
    "            \n",
    "        # Gestiona si el jugador vuelve a tirar\n",
    "        # si no, le toca al bot\n",
    "        \n",
    "    # Si es turno del bot\n",
    "    else:\n",
    "        print()\n",
    "        print(\"Turno de {}\".format(bot[\"nombre\"]))\n",
    "        # Si el bot no tiene que esperar\n",
    "        \n",
    "        # Si no, espera\n",
    "            \n",
    "        # Gestiona si el bot vuelve a tirar\n",
    "        # si no, le toca al jugador\n",
    "            \n",
    "            \n",
    "print()\n",
    "if turno_jugador:\n",
    "    print(\" #### ENHORABUENA!! HAS GANADO!!\")\n",
    "else:\n",
    "    print(\" #### Has perdido. No hay quien se resista a nuestro {}\".format(bot[\"nombre\"]))"
   ]
  },
  {
   "cell_type": "code",
   "execution_count": null,
   "id": "5ad57abc",
   "metadata": {},
   "outputs": [],
   "source": []
  }
 ],
 "metadata": {
  "kernelspec": {
   "display_name": "Python 3 (ipykernel)",
   "language": "python",
   "name": "python3"
  },
  "language_info": {
   "codemirror_mode": {
    "name": "ipython",
    "version": 3
   },
   "file_extension": ".py",
   "mimetype": "text/x-python",
   "name": "python",
   "nbconvert_exporter": "python",
   "pygments_lexer": "ipython3",
   "version": "3.11.4"
  }
 },
 "nbformat": 4,
 "nbformat_minor": 5
}
