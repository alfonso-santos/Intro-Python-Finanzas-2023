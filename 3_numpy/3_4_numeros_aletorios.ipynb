{
 "cells": [
  {
   "cell_type": "markdown",
   "metadata": {},
   "source": [
    "# Generación de números aletorios\n",
    "\n",
    "* ref.: https://numpy.org/doc/stable/reference/random/\n",
    "* ref.: https://numpy.org/doc/stable/reference/random/generator.html"
   ]
  },
  {
   "cell_type": "markdown",
   "metadata": {},
   "source": [
    "**NOTA**: la generación de números aleatorios ha cambiado no hace mucho. Veréis muchos ejemplos de uso con la manera antigua, así que os recomendamos acudir siempre a la documentación oficial de Numpy."
   ]
  },
  {
   "cell_type": "markdown",
   "metadata": {},
   "source": [
    "**Random Generator**\n",
    "\n",
    "*The Generator provides access to a wide range of distributions, and served as a replacement for RandomState. The main difference between the two is that Generator relies on an additional BitGenerator to manage state and generate the random bits, which are then transformed into random values from useful distributions. The default BitGenerator used by Generator is PCG64. The BitGenerator can be changed by passing an instantized BitGenerator to Generator.*"
   ]
  },
  {
   "cell_type": "code",
   "execution_count": 5,
   "metadata": {},
   "outputs": [],
   "source": [
    "# Primero importamos la librería numpy\n",
    "import numpy as np\n",
    "\n",
    "# Creamos el generador por defecto\n",
    "rng = np.random.default_rng()"
   ]
  },
  {
   "cell_type": "markdown",
   "metadata": {},
   "source": [
    "## Distribución uniforme"
   ]
  },
  {
   "cell_type": "code",
   "execution_count": 6,
   "metadata": {},
   "outputs": [
    {
     "data": {
      "text/plain": [
       "array([0.65538755, 0.13706172, 0.76201895, 0.69577447, 0.08935641,\n",
       "       0.98932785, 0.80157374, 0.66360381, 0.59958407, 0.11066059])"
      ]
     },
     "execution_count": 6,
     "metadata": {},
     "output_type": "execute_result"
    }
   ],
   "source": [
    "# Generamos 10 números aleatorios entre 0 y 1\n",
    "rng.uniform(low=0.0, high=1.0, size=10)"
   ]
  },
  {
   "cell_type": "code",
   "execution_count": 10,
   "metadata": {},
   "outputs": [
    {
     "data": {
      "text/plain": [
       "array([[0.21462988, 0.5028729 , 0.93456005, 0.21349244, 0.89015482],\n",
       "       [0.9994073 , 0.79662724, 0.06811504, 0.76702589, 0.03861889],\n",
       "       [0.4952128 , 0.239426  , 0.0726349 , 0.98535019, 0.33122928],\n",
       "       [0.63278276, 0.9319861 , 0.13766028, 0.39861496, 0.11507837],\n",
       "       [0.01974264, 0.65955328, 0.86495174, 0.82686253, 0.26368588],\n",
       "       [0.44472428, 0.6445883 , 0.41563494, 0.65497978, 0.62793468],\n",
       "       [0.04185616, 0.58102225, 0.86818062, 0.97346478, 0.26775632],\n",
       "       [0.02548137, 0.83055954, 0.05656028, 0.4652883 , 0.73077921],\n",
       "       [0.60005723, 0.85185838, 0.23097908, 0.45408167, 0.10389599],\n",
       "       [0.14003847, 0.07465114, 0.51089607, 0.64911109, 0.67782518]])"
      ]
     },
     "execution_count": 10,
     "metadata": {},
     "output_type": "execute_result"
    }
   ],
   "source": [
    "# Generamos 10 números aleatorios entre 0 y 1 en una matriz de 10x5\n",
    "rng.uniform(low=0.0, high=1.0, size=(10,5))"
   ]
  },
  {
   "cell_type": "markdown",
   "metadata": {},
   "source": [
    "- Podemos observar en el siguiente histograma que la distribución es uniforme"
   ]
  },
  {
   "cell_type": "code",
   "execution_count": 14,
   "metadata": {},
   "outputs": [
    {
     "data": {
      "image/png": "[encoded data removed]",
      "text/plain": [
       "<Figure size 640x480 with 1 Axes>"
      ]
     },
     "metadata": {},
     "output_type": "display_data"
    }
   ],
   "source": [
    "import matplotlib.pyplot as plt\n",
    "\n",
    "# Generamos 100000 números aleatorios entre 0 y 1 y los representamos en un histograma\n",
    "aleatorios_uniforme = rng.uniform(low=0.0, high=1.0, size=100000)\n",
    "plt.hist(aleatorios_uniforme, bins=100);"
   ]
  },
  {
   "cell_type": "markdown",
   "metadata": {},
   "source": [
    "## Distribución normal"
   ]
  },
  {
   "cell_type": "code",
   "execution_count": 15,
   "metadata": {},
   "outputs": [
    {
     "data": {
      "text/plain": [
       "array([ 0.13067465,  1.65880858,  1.28100102, -0.45365853,  1.10976375,\n",
       "       -0.20717252, -0.54181367, -0.37710224, -0.15116362, -1.60958671])"
      ]
     },
     "execution_count": 15,
     "metadata": {},
     "output_type": "execute_result"
    }
   ],
   "source": [
    "# Generamos 10 números aleatorios siguiendo una distribución normal con media 0 y desviación típica 1\n",
    "rng.normal(loc=0.0, scale=1.0, size=10)"
   ]
  },
  {
   "cell_type": "code",
   "execution_count": 16,
   "metadata": {},
   "outputs": [
    {
     "data": {
      "text/plain": [
       "array([[ 0.49435103,  1.43935033, -0.40348782,  0.45577118, -0.06280781],\n",
       "       [-2.54356962, -0.68475532, -0.39205795,  0.61796075, -0.0670649 ],\n",
       "       [ 0.15966275, -0.96303823, -2.09175535, -0.61803218,  0.07585156],\n",
       "       [-0.3244895 , -0.15291586, -1.51277577, -1.37413493,  0.16429852],\n",
       "       [-0.3725404 , -0.67177746,  1.26776379,  0.15804205,  1.3628488 ],\n",
       "       [ 1.78238971,  0.22268536,  0.06429122, -1.34414653, -0.91506384],\n",
       "       [-0.09058119, -0.34920052,  0.94856385,  0.41886284,  0.73042338],\n",
       "       [ 0.50927323,  0.24227856, -0.51194579, -0.45008008, -0.91159477],\n",
       "       [-0.51773976,  0.21258624, -1.947031  , -0.23658241, -1.21601509],\n",
       "       [ 0.84484962, -0.22680926,  0.9412797 , -0.80136576, -0.72616146]])"
      ]
     },
     "execution_count": 16,
     "metadata": {},
     "output_type": "execute_result"
    }
   ],
   "source": [
    "# Generamos 10 números aleatorios siguiendo una distribución normal con media 0 y desviación típica 1\n",
    "# en una matriz de 10x5\n",
    "rng.normal(loc=0.0, scale=1.0, size=(10,5))"
   ]
  },
  {
   "cell_type": "markdown",
   "metadata": {},
   "source": [
    "* Podemos observar en el siguiente histograma que la distribución es normal"
   ]
  },
  {
   "cell_type": "code",
   "execution_count": 35,
   "metadata": {},
   "outputs": [
    {
     "data": {
      "image/png": "[encoded data removed]",
      "text/plain": [
       "<Figure size 640x480 with 1 Axes>"
      ]
     },
     "metadata": {},
     "output_type": "display_data"
    }
   ],
   "source": [
    "import matplotlib.pyplot as plt\n",
    "\n",
    "# Generamos 100000 números aleatorios siguiendo una distribución normal con media 0 y desviación típica 1\n",
    "aleatorios_normal = rng.normal(loc=0.0, scale=1.0, size=100000)\n",
    "plt.hist(aleatorios_normal, bins=100);\n",
    "\n",
    "# Dibuja una línea vertical en la media\n",
    "mu = np.mean(aleatorios_normal)\n",
    "plt.axvline(mu, color='black', linestyle='--', linewidth=1);"
   ]
  },
  {
   "cell_type": "markdown",
   "metadata": {},
   "source": [
    "## Selección aleatoria de elementos y permutaciones"
   ]
  },
  {
   "cell_type": "markdown",
   "metadata": {},
   "source": [
    "ref.: https://numpy.org/doc/stable/reference/random/generated/numpy.random.Generator.choice.html\n",
    "\n",
    "**random.Generator.choice(a, size=None, replace=True, p=None, axis=0, shuffle=True)**\n",
    "- a: indica el array del que se van a extraer los elementos\n",
    "- size: indica las dimensiones de salida\n",
    "- replace: indica si la selección es con remplazo o sin\n",
    "- p: indica la probabilidad de cada elemento del array, en cado de no tener, se asume uniforme\n",
    "- axis: indica el eje en el que se hace la selección\n",
    "- shuffle: indica si se aleatorizan las posiciones del array cuando se selecciona sin reemplazo\n"
   ]
  },
  {
   "cell_type": "code",
   "execution_count": 40,
   "metadata": {},
   "outputs": [
    {
     "data": {
      "text/plain": [
       "array(['naraja', 'rojo', 'amarillo', 'azul', 'naraja', 'rojo', 'azul',\n",
       "       'amarillo', 'naraja', 'naraja'], dtype='<U8')"
      ]
     },
     "execution_count": 40,
     "metadata": {},
     "output_type": "execute_result"
    }
   ],
   "source": [
    "# Selección de elementos con reemplazo y distribución uniforme\n",
    "mi_array = np.array(['azul','rojo','verde','naraja','amarillo'])\n",
    "rng.choice(mi_array, size=10)"
   ]
  },
  {
   "cell_type": "code",
   "execution_count": 41,
   "metadata": {},
   "outputs": [
    {
     "data": {
      "text/plain": [
       "array(['amarillo', 'rojo', 'naraja', 'amarillo', 'verde', 'verde',\n",
       "       'amarillo', 'amarillo', 'azul', 'verde'], dtype='<U8')"
      ]
     },
     "execution_count": 41,
     "metadata": {},
     "output_type": "execute_result"
    }
   ],
   "source": [
    "# Selección de elementos de \"mi_array\" con una determinada probabilidad \"prob\"\n",
    "mi_array = np.array(['azul','rojo','verde','naraja','amarillo'])\n",
    "prob = np.array([0.1, 0.2, 0.3, 0.2, 0.2])\n",
    "np.random.choice(mi_array, 10, p=prob)"
   ]
  },
  {
   "cell_type": "code",
   "execution_count": 44,
   "metadata": {},
   "outputs": [
    {
     "data": {
      "text/plain": [
       "array(['naraja', 'amarillo', 'azul', 'verde'], dtype='<U8')"
      ]
     },
     "execution_count": 44,
     "metadata": {},
     "output_type": "execute_result"
    }
   ],
   "source": [
    "# Selección de elementos sin reemplazo y distribución uniforme\n",
    "mi_array = np.array(['azul','rojo','verde','naraja','amarillo'])\n",
    "rng.choice(mi_array, size=4, replace=False)"
   ]
  },
  {
   "cell_type": "code",
   "execution_count": 45,
   "metadata": {},
   "outputs": [
    {
     "ename": "ValueError",
     "evalue": "Cannot take a larger sample than population when replace is False",
     "output_type": "error",
     "traceback": [
      "\u001b[1;31m---------------------------------------------------------------------------\u001b[0m",
      "\u001b[1;31mValueError\u001b[0m                                Traceback (most recent call last)",
      "\u001b[1;32mc:\\WorkingFloderPython\\Intro-Python-Finanzas-2023\\3_numpy\\3_4_numeros_aletorios.ipynb Cell 20\u001b[0m line \u001b[0;36m4\n\u001b[0;32m      <a href='vscode-notebook-cell:/c%3A/WorkingFloderPython/Intro-Python-Finanzas-2023/3_numpy/3_4_numeros_aletorios.ipynb#X65sZmlsZQ%3D%3D?line=0'>1</a>\u001b[0m \u001b[39m# Selección de elementos sin reemplazo y distribución uniforme\u001b[39;00m\n\u001b[0;32m      <a href='vscode-notebook-cell:/c%3A/WorkingFloderPython/Intro-Python-Finanzas-2023/3_numpy/3_4_numeros_aletorios.ipynb#X65sZmlsZQ%3D%3D?line=1'>2</a>\u001b[0m \u001b[39m# Error si se selecciónan más elementos de los que hay en el array\u001b[39;00m\n\u001b[0;32m      <a href='vscode-notebook-cell:/c%3A/WorkingFloderPython/Intro-Python-Finanzas-2023/3_numpy/3_4_numeros_aletorios.ipynb#X65sZmlsZQ%3D%3D?line=2'>3</a>\u001b[0m mi_array \u001b[39m=\u001b[39m np\u001b[39m.\u001b[39marray([\u001b[39m'\u001b[39m\u001b[39mazul\u001b[39m\u001b[39m'\u001b[39m,\u001b[39m'\u001b[39m\u001b[39mrojo\u001b[39m\u001b[39m'\u001b[39m,\u001b[39m'\u001b[39m\u001b[39mverde\u001b[39m\u001b[39m'\u001b[39m,\u001b[39m'\u001b[39m\u001b[39mnaraja\u001b[39m\u001b[39m'\u001b[39m,\u001b[39m'\u001b[39m\u001b[39mamarillo\u001b[39m\u001b[39m'\u001b[39m])\n\u001b[1;32m----> <a href='vscode-notebook-cell:/c%3A/WorkingFloderPython/Intro-Python-Finanzas-2023/3_numpy/3_4_numeros_aletorios.ipynb#X65sZmlsZQ%3D%3D?line=3'>4</a>\u001b[0m rng\u001b[39m.\u001b[39;49mchoice(mi_array, size\u001b[39m=\u001b[39;49m\u001b[39m10\u001b[39;49m, replace\u001b[39m=\u001b[39;49m\u001b[39mFalse\u001b[39;49;00m)\n",
      "File \u001b[1;32mnumpy\\\\random\\\\_generator.pyx:853\u001b[0m, in \u001b[0;36mnumpy.random._generator.Generator.choice\u001b[1;34m()\u001b[0m\n",
      "\u001b[1;31mValueError\u001b[0m: Cannot take a larger sample than population when replace is False"
     ]
    }
   ],
   "source": [
    "# Selección de elementos sin reemplazo y distribución uniforme\n",
    "# Error si se selecciónan más elementos de los que hay en el array\n",
    "mi_array = np.array(['azul','rojo','verde','naraja','amarillo'])\n",
    "rng.choice(mi_array, size=10, replace=False)"
   ]
  },
  {
   "cell_type": "markdown",
   "metadata": {},
   "source": [
    "- Vamos a mostrar las diferencias al cambiar el vectore de probabilidades"
   ]
  },
  {
   "cell_type": "code",
   "execution_count": 50,
   "metadata": {},
   "outputs": [
    {
     "data": {
      "text/plain": [
       "array(['verde', 'verde', 'verde', 'verde', 'naraja', 'verde', 'azul',\n",
       "       'verde', 'verde', 'verde'], dtype='<U8')"
      ]
     },
     "execution_count": 50,
     "metadata": {},
     "output_type": "execute_result"
    }
   ],
   "source": [
    "# Selección de elementos de \"mi_array\" con una determinada probabilidad \"prob\"\n",
    "mi_array = np.array(['azul','rojo','verde','naraja','amarillo'])\n",
    "prob = np.array([0.05, 0.05, 0.8, 0.05, 0.05])\n",
    "np.random.choice(mi_array, 10, p=prob)"
   ]
  },
  {
   "cell_type": "markdown",
   "metadata": {},
   "source": [
    "**random.shuffle(x)** y **random.permutation(x)**\n",
    "\n",
    "* ref: https://numpy.org/doc/stable/reference/random/generated/numpy.random.Generator.shuffle.html\n",
    "* ref.: https://numpy.org/doc/stable/reference/random/generated/numpy.random.Generator.permutation.html"
   ]
  },
  {
   "cell_type": "code",
   "execution_count": 57,
   "metadata": {},
   "outputs": [
    {
     "name": "stdout",
     "output_type": "stream",
     "text": [
      "[0 1 2 3 4 5 6 7 8 9]\n",
      "[6 0 4 5 7 2 1 3 9 8]\n"
     ]
    }
   ],
   "source": [
    "# Reordena aleatoriamente los elementos de \"mi_array\" sin devolver una copia\n",
    "mi_array = np.arange(10)\n",
    "print(mi_array)\n",
    "\n",
    "rng.shuffle(mi_array)\n",
    "print(mi_array)"
   ]
  },
  {
   "cell_type": "code",
   "execution_count": 61,
   "metadata": {},
   "outputs": [
    {
     "name": "stdout",
     "output_type": "stream",
     "text": [
      "[0 1 2 3 4 5 6 7 8 9]\n",
      "[0 1 2 3 4 5 6 7 8 9]\n",
      "[1 8 4 9 5 0 6 3 2 7]\n"
     ]
    }
   ],
   "source": [
    "# Reordena aleatoriamente los elementos de \"mi_array\" devolviendo una copia\n",
    "mi_array = np.arange(10)\n",
    "print(mi_array)\n",
    "\n",
    "nuevo_array = rng.permutation(mi_array)\n",
    "print(mi_array)\n",
    "print(nuevo_array)"
   ]
  },
  {
   "cell_type": "markdown",
   "metadata": {},
   "source": [
    "___\n",
    "# Ejercicio"
   ]
  },
  {
   "cell_type": "markdown",
   "metadata": {},
   "source": [
    "**1.-** Lanza una moneda 30,50,100 veces y muestra su media"
   ]
  },
  {
   "cell_type": "code",
   "execution_count": null,
   "metadata": {},
   "outputs": [],
   "source": []
  },
  {
   "cell_type": "markdown",
   "metadata": {},
   "source": [
    "**2.-** Crea una distribución normal con media 314, desviación 77  y muestra estos parámetros por pantalla (media y std del array)"
   ]
  },
  {
   "cell_type": "code",
   "execution_count": null,
   "metadata": {},
   "outputs": [],
   "source": []
  },
  {
   "cell_type": "markdown",
   "metadata": {},
   "source": [
    "**3.-** Crea una función que pida 2 números y devuelve un array de 100 elementos con una distribución entre ambos"
   ]
  },
  {
   "cell_type": "code",
   "execution_count": null,
   "metadata": {},
   "outputs": [],
   "source": []
  }
 ],
 "metadata": {
  "kernelspec": {
   "display_name": "Python 3.8.8 ('base')",
   "language": "python",
   "name": "python3"
  },
  "language_info": {
   "codemirror_mode": {
    "name": "ipython",
    "version": 3
   },
   "file_extension": ".py",
   "mimetype": "text/x-python",
   "name": "python",
   "nbconvert_exporter": "python",
   "pygments_lexer": "ipython3",
   "version": "3.10.3"
  },
  "orig_nbformat": 4,
  "vscode": {
   "interpreter": {
    "hash": "3a2a03ea413f8be244ba01daf0e257f98f0dabeb03c7836e7000a0f3738aa8c9"
   }
  }
 },
 "nbformat": 4,
 "nbformat_minor": 2
}
