{
 "cells": [
  {
   "cell_type": "markdown",
   "metadata": {},
   "source": [
    "## Time series en Pandas"
   ]
  },
  {
   "cell_type": "markdown",
   "metadata": {},
   "source": [
    "- Pandas tiene los objetos ``Timestamp`` que combinan la facilidad de  ``datetime`` y ``dateutil`` con una implementación vectorizada eficiente.\n",
    "\n",
    "- Usando los objetos ``Timestamp``, pandas construye un ``DatetimeIndex``  para ser usado como índice en ``Series`` o ``DataFrame``.\n",
    "\n",
    "- Las clases de Pandas para series temporales son:\n",
    "\n",
    "    * ``Timestamp``: reemplazo de ``datetime``, basado en el sistema más eficiente de ``numpy.datetime64``. La estructura del índice asociada será ``DatetimeIndex``.\n",
    "    * ``Period``: para periodos de tiempo. La estructura del índice asociado es ``PeriodIndex``.\n",
    "    * ``Timedelta``: para variación de tiempo o duración (más eficiente que ``datetime.timedelta``). La estructura del índice asociado es ``TimedeltaIndex``."
   ]
  },
  {
   "cell_type": "markdown",
   "metadata": {},
   "source": [
    "- Los tipos más básicos son ``Timestamp`` y ``DatetimeIndex``.\n",
    "\n",
    "- La forma más común de crear objetos de este tipo es usando la función ``pd.to_datetime()`` .\n",
    "\n",
    "- Puede parsear una gran variedad de formatos.\n",
    " \n",
    "- Pasar una fecha a esta función produce un ``Timestamp``; pasar una serie de fechas por defecto devuelve un ``DatetimeIndex``:"
   ]
  },
  {
   "cell_type": "code",
   "execution_count": 1,
   "metadata": {},
   "outputs": [],
   "source": [
    "#! pip install datetime\n",
    "from datetime import datetime, date, time, timedelta\n",
    "import numpy as np\n",
    "import pandas as pd\n",
    "import matplotlib.pyplot as plt"
   ]
  },
  {
   "cell_type": "markdown",
   "metadata": {},
   "source": [
    "Cargamos dataframe"
   ]
  },
  {
   "cell_type": "code",
   "execution_count": 20,
   "metadata": {},
   "outputs": [],
   "source": [
    "# para ejecutar en local\n",
    "#power_data = pd.read_csv(\"data/Power_consumption.csv\")\n",
    "\n",
    "# para ejecutar en colab\n",
    "power_data = pd.read_csv(\"https://raw.githubusercontent.com/alfonso-santos/Intro-Python-Finanzas-2023/main/5_series_temporales/data/Power_consumption.csv\")"
   ]
  },
  {
   "cell_type": "markdown",
   "metadata": {},
   "source": [
    "Exploramos su contenido"
   ]
  },
  {
   "cell_type": "code",
   "execution_count": 9,
   "metadata": {},
   "outputs": [
    {
     "data": {
      "text/html": [
       "<div>\n",
       "<style scoped>\n",
       "    .dataframe tbody tr th:only-of-type {\n",
       "        vertical-align: middle;\n",
       "    }\n",
       "\n",
       "    .dataframe tbody tr th {\n",
       "        vertical-align: top;\n",
       "    }\n",
       "\n",
       "    .dataframe thead th {\n",
       "        text-align: right;\n",
       "    }\n",
       "</style>\n",
       "<table border=\"1\" class=\"dataframe\">\n",
       "  <thead>\n",
       "    <tr style=\"text-align: right;\">\n",
       "      <th></th>\n",
       "      <th>Date</th>\n",
       "      <th>Time</th>\n",
       "      <th>Consumption</th>\n",
       "      <th>Wind</th>\n",
       "      <th>Solar</th>\n",
       "    </tr>\n",
       "  </thead>\n",
       "  <tbody>\n",
       "    <tr>\n",
       "      <th>0</th>\n",
       "      <td>2006-01-01</td>\n",
       "      <td>16:34:01.310990</td>\n",
       "      <td>1069.184</td>\n",
       "      <td>NaN</td>\n",
       "      <td>NaN</td>\n",
       "    </tr>\n",
       "    <tr>\n",
       "      <th>1</th>\n",
       "      <td>2006-01-02</td>\n",
       "      <td>17:34:01.310990</td>\n",
       "      <td>1380.521</td>\n",
       "      <td>NaN</td>\n",
       "      <td>NaN</td>\n",
       "    </tr>\n",
       "    <tr>\n",
       "      <th>2</th>\n",
       "      <td>2006-01-03</td>\n",
       "      <td>18:34:01.310990</td>\n",
       "      <td>1442.533</td>\n",
       "      <td>NaN</td>\n",
       "      <td>NaN</td>\n",
       "    </tr>\n",
       "    <tr>\n",
       "      <th>3</th>\n",
       "      <td>2006-01-04</td>\n",
       "      <td>19:34:01.310990</td>\n",
       "      <td>1457.217</td>\n",
       "      <td>NaN</td>\n",
       "      <td>NaN</td>\n",
       "    </tr>\n",
       "    <tr>\n",
       "      <th>4</th>\n",
       "      <td>2006-01-05</td>\n",
       "      <td>20:34:01.310990</td>\n",
       "      <td>1477.131</td>\n",
       "      <td>NaN</td>\n",
       "      <td>NaN</td>\n",
       "    </tr>\n",
       "  </tbody>\n",
       "</table>\n",
       "</div>"
      ],
      "text/plain": [
       "         Date             Time  Consumption  Wind  Solar\n",
       "0  2006-01-01  16:34:01.310990     1069.184   NaN    NaN\n",
       "1  2006-01-02  17:34:01.310990     1380.521   NaN    NaN\n",
       "2  2006-01-03  18:34:01.310990     1442.533   NaN    NaN\n",
       "3  2006-01-04  19:34:01.310990     1457.217   NaN    NaN\n",
       "4  2006-01-05  20:34:01.310990     1477.131   NaN    NaN"
      ]
     },
     "execution_count": 9,
     "metadata": {},
     "output_type": "execute_result"
    }
   ],
   "source": [
    "power_data.head(5)"
   ]
  },
  {
   "cell_type": "code",
   "execution_count": 10,
   "metadata": {},
   "outputs": [
    {
     "name": "stdout",
     "output_type": "stream",
     "text": [
      "<class 'pandas.core.frame.DataFrame'>\n",
      "RangeIndex: 4383 entries, 0 to 4382\n",
      "Data columns (total 5 columns):\n",
      " #   Column       Non-Null Count  Dtype  \n",
      "---  ------       --------------  -----  \n",
      " 0   Date         4383 non-null   object \n",
      " 1   Time         4383 non-null   object \n",
      " 2   Consumption  4383 non-null   float64\n",
      " 3   Wind         2920 non-null   float64\n",
      " 4   Solar        2188 non-null   float64\n",
      "dtypes: float64(3), object(2)\n",
      "memory usage: 171.3+ KB\n"
     ]
    }
   ],
   "source": [
    "power_data.info()"
   ]
  },
  {
   "cell_type": "markdown",
   "metadata": {},
   "source": [
    "Convertimos columnas a datetime"
   ]
  },
  {
   "cell_type": "code",
   "execution_count": 22,
   "metadata": {},
   "outputs": [
    {
     "name": "stdout",
     "output_type": "stream",
     "text": [
      "<class 'pandas.core.frame.DataFrame'>\n",
      "RangeIndex: 4383 entries, 0 to 4382\n",
      "Data columns (total 5 columns):\n",
      " #   Column       Non-Null Count  Dtype         \n",
      "---  ------       --------------  -----         \n",
      " 0   Date         4383 non-null   datetime64[ns]\n",
      " 1   Time         4383 non-null   datetime64[ns]\n",
      " 2   Consumption  4383 non-null   float64       \n",
      " 3   Wind         2920 non-null   float64       \n",
      " 4   Solar        2188 non-null   float64       \n",
      "dtypes: datetime64[ns](2), float64(3)\n",
      "memory usage: 171.3 KB\n"
     ]
    }
   ],
   "source": [
    "power_data['Date'] = pd.to_datetime(power_data['Date'], format=\"%Y-%m-%d\")\n",
    "power_data['Time'] = pd.to_datetime(power_data['Time'], format=\"%H:%M:%S.%f\")\n",
    "\n",
    "power_data.info()"
   ]
  },
  {
   "cell_type": "markdown",
   "metadata": {},
   "source": [
    "Extraemos año, mes, dia, hora, minuto y segundo"
   ]
  },
  {
   "cell_type": "code",
   "execution_count": 25,
   "metadata": {},
   "outputs": [],
   "source": [
    "# Year\n",
    "power_data.loc[:, 'year'] = power_data.loc[:, \"Date\"].dt.year\n",
    "# Month\n",
    "power_data.loc[:, 'month'] = power_data.loc[:, \"Date\"].dt.month\n",
    "# Day\n",
    "power_data.loc[:, 'day'] = power_data.loc[:, \"Date\"].dt.day\n",
    "\n",
    "# Hour\n",
    "power_data.loc[:, 'hour'] = power_data.loc[:, \"Time\"].dt.hour\n",
    "# Minute\n",
    "power_data.loc[:, 'minute'] = power_data.loc[:, \"Time\"].dt.minute\n",
    "# Second\n",
    "power_data.loc[:, 'second'] = power_data.loc[:, \"Time\"].dt.second\n"
   ]
  },
  {
   "cell_type": "code",
   "execution_count": 26,
   "metadata": {},
   "outputs": [
    {
     "data": {
      "text/html": [
       "<div>\n",
       "<style scoped>\n",
       "    .dataframe tbody tr th:only-of-type {\n",
       "        vertical-align: middle;\n",
       "    }\n",
       "\n",
       "    .dataframe tbody tr th {\n",
       "        vertical-align: top;\n",
       "    }\n",
       "\n",
       "    .dataframe thead th {\n",
       "        text-align: right;\n",
       "    }\n",
       "</style>\n",
       "<table border=\"1\" class=\"dataframe\">\n",
       "  <thead>\n",
       "    <tr style=\"text-align: right;\">\n",
       "      <th></th>\n",
       "      <th>Date</th>\n",
       "      <th>Time</th>\n",
       "      <th>Consumption</th>\n",
       "      <th>Wind</th>\n",
       "      <th>Solar</th>\n",
       "      <th>year</th>\n",
       "      <th>month</th>\n",
       "      <th>day</th>\n",
       "      <th>hour</th>\n",
       "      <th>minute</th>\n",
       "      <th>second</th>\n",
       "    </tr>\n",
       "  </thead>\n",
       "  <tbody>\n",
       "    <tr>\n",
       "      <th>0</th>\n",
       "      <td>2006-01-01</td>\n",
       "      <td>1900-01-01 16:34:01.310990</td>\n",
       "      <td>1069.18400</td>\n",
       "      <td>NaN</td>\n",
       "      <td>NaN</td>\n",
       "      <td>2006</td>\n",
       "      <td>1</td>\n",
       "      <td>1</td>\n",
       "      <td>16</td>\n",
       "      <td>34</td>\n",
       "      <td>1</td>\n",
       "    </tr>\n",
       "    <tr>\n",
       "      <th>1</th>\n",
       "      <td>2006-01-02</td>\n",
       "      <td>1900-01-01 17:34:01.310990</td>\n",
       "      <td>1380.52100</td>\n",
       "      <td>NaN</td>\n",
       "      <td>NaN</td>\n",
       "      <td>2006</td>\n",
       "      <td>1</td>\n",
       "      <td>2</td>\n",
       "      <td>17</td>\n",
       "      <td>34</td>\n",
       "      <td>1</td>\n",
       "    </tr>\n",
       "    <tr>\n",
       "      <th>2</th>\n",
       "      <td>2006-01-03</td>\n",
       "      <td>1900-01-01 18:34:01.310990</td>\n",
       "      <td>1442.53300</td>\n",
       "      <td>NaN</td>\n",
       "      <td>NaN</td>\n",
       "      <td>2006</td>\n",
       "      <td>1</td>\n",
       "      <td>3</td>\n",
       "      <td>18</td>\n",
       "      <td>34</td>\n",
       "      <td>1</td>\n",
       "    </tr>\n",
       "    <tr>\n",
       "      <th>3</th>\n",
       "      <td>2006-01-04</td>\n",
       "      <td>1900-01-01 19:34:01.310990</td>\n",
       "      <td>1457.21700</td>\n",
       "      <td>NaN</td>\n",
       "      <td>NaN</td>\n",
       "      <td>2006</td>\n",
       "      <td>1</td>\n",
       "      <td>4</td>\n",
       "      <td>19</td>\n",
       "      <td>34</td>\n",
       "      <td>1</td>\n",
       "    </tr>\n",
       "    <tr>\n",
       "      <th>4</th>\n",
       "      <td>2006-01-05</td>\n",
       "      <td>1900-01-01 20:34:01.310990</td>\n",
       "      <td>1477.13100</td>\n",
       "      <td>NaN</td>\n",
       "      <td>NaN</td>\n",
       "      <td>2006</td>\n",
       "      <td>1</td>\n",
       "      <td>5</td>\n",
       "      <td>20</td>\n",
       "      <td>34</td>\n",
       "      <td>1</td>\n",
       "    </tr>\n",
       "    <tr>\n",
       "      <th>...</th>\n",
       "      <td>...</td>\n",
       "      <td>...</td>\n",
       "      <td>...</td>\n",
       "      <td>...</td>\n",
       "      <td>...</td>\n",
       "      <td>...</td>\n",
       "      <td>...</td>\n",
       "      <td>...</td>\n",
       "      <td>...</td>\n",
       "      <td>...</td>\n",
       "      <td>...</td>\n",
       "    </tr>\n",
       "    <tr>\n",
       "      <th>4378</th>\n",
       "      <td>2017-12-27</td>\n",
       "      <td>1900-01-01 02:34:01.310990</td>\n",
       "      <td>1263.94091</td>\n",
       "      <td>394.507</td>\n",
       "      <td>16.530</td>\n",
       "      <td>2017</td>\n",
       "      <td>12</td>\n",
       "      <td>27</td>\n",
       "      <td>2</td>\n",
       "      <td>34</td>\n",
       "      <td>1</td>\n",
       "    </tr>\n",
       "    <tr>\n",
       "      <th>4379</th>\n",
       "      <td>2017-12-28</td>\n",
       "      <td>1900-01-01 03:34:01.310990</td>\n",
       "      <td>1299.86398</td>\n",
       "      <td>506.424</td>\n",
       "      <td>14.162</td>\n",
       "      <td>2017</td>\n",
       "      <td>12</td>\n",
       "      <td>28</td>\n",
       "      <td>3</td>\n",
       "      <td>34</td>\n",
       "      <td>1</td>\n",
       "    </tr>\n",
       "    <tr>\n",
       "      <th>4380</th>\n",
       "      <td>2017-12-29</td>\n",
       "      <td>1900-01-01 04:34:01.310990</td>\n",
       "      <td>1295.08753</td>\n",
       "      <td>584.277</td>\n",
       "      <td>29.854</td>\n",
       "      <td>2017</td>\n",
       "      <td>12</td>\n",
       "      <td>29</td>\n",
       "      <td>4</td>\n",
       "      <td>34</td>\n",
       "      <td>1</td>\n",
       "    </tr>\n",
       "    <tr>\n",
       "      <th>4381</th>\n",
       "      <td>2017-12-30</td>\n",
       "      <td>1900-01-01 05:34:01.310990</td>\n",
       "      <td>1215.44897</td>\n",
       "      <td>721.247</td>\n",
       "      <td>7.467</td>\n",
       "      <td>2017</td>\n",
       "      <td>12</td>\n",
       "      <td>30</td>\n",
       "      <td>5</td>\n",
       "      <td>34</td>\n",
       "      <td>1</td>\n",
       "    </tr>\n",
       "    <tr>\n",
       "      <th>4382</th>\n",
       "      <td>2017-12-31</td>\n",
       "      <td>1900-01-01 06:34:01.310990</td>\n",
       "      <td>1107.11488</td>\n",
       "      <td>721.176</td>\n",
       "      <td>19.980</td>\n",
       "      <td>2017</td>\n",
       "      <td>12</td>\n",
       "      <td>31</td>\n",
       "      <td>6</td>\n",
       "      <td>34</td>\n",
       "      <td>1</td>\n",
       "    </tr>\n",
       "  </tbody>\n",
       "</table>\n",
       "<p>4383 rows × 11 columns</p>\n",
       "</div>"
      ],
      "text/plain": [
       "           Date                       Time  Consumption     Wind   Solar  \\\n",
       "0    2006-01-01 1900-01-01 16:34:01.310990   1069.18400      NaN     NaN   \n",
       "1    2006-01-02 1900-01-01 17:34:01.310990   1380.52100      NaN     NaN   \n",
       "2    2006-01-03 1900-01-01 18:34:01.310990   1442.53300      NaN     NaN   \n",
       "3    2006-01-04 1900-01-01 19:34:01.310990   1457.21700      NaN     NaN   \n",
       "4    2006-01-05 1900-01-01 20:34:01.310990   1477.13100      NaN     NaN   \n",
       "...         ...                        ...          ...      ...     ...   \n",
       "4378 2017-12-27 1900-01-01 02:34:01.310990   1263.94091  394.507  16.530   \n",
       "4379 2017-12-28 1900-01-01 03:34:01.310990   1299.86398  506.424  14.162   \n",
       "4380 2017-12-29 1900-01-01 04:34:01.310990   1295.08753  584.277  29.854   \n",
       "4381 2017-12-30 1900-01-01 05:34:01.310990   1215.44897  721.247   7.467   \n",
       "4382 2017-12-31 1900-01-01 06:34:01.310990   1107.11488  721.176  19.980   \n",
       "\n",
       "      year  month  day  hour  minute  second  \n",
       "0     2006      1    1    16      34       1  \n",
       "1     2006      1    2    17      34       1  \n",
       "2     2006      1    3    18      34       1  \n",
       "3     2006      1    4    19      34       1  \n",
       "4     2006      1    5    20      34       1  \n",
       "...    ...    ...  ...   ...     ...     ...  \n",
       "4378  2017     12   27     2      34       1  \n",
       "4379  2017     12   28     3      34       1  \n",
       "4380  2017     12   29     4      34       1  \n",
       "4381  2017     12   30     5      34       1  \n",
       "4382  2017     12   31     6      34       1  \n",
       "\n",
       "[4383 rows x 11 columns]"
      ]
     },
     "execution_count": 26,
     "metadata": {},
     "output_type": "execute_result"
    }
   ],
   "source": [
    "power_data"
   ]
  },
  {
   "cell_type": "markdown",
   "metadata": {},
   "source": [
    "Diferentes maneras de componer el índice con fecha y hora"
   ]
  },
  {
   "cell_type": "code",
   "execution_count": 39,
   "metadata": {},
   "outputs": [
    {
     "data": {
      "text/plain": [
       "DatetimeIndex(['2006-01-01 16:34:01.310990', '2006-01-02 17:34:01.310990',\n",
       "               '2006-01-03 18:34:01.310990', '2006-01-04 19:34:01.310990',\n",
       "               '2006-01-05 20:34:01.310990', '2006-01-06 21:34:01.310990',\n",
       "               '2006-01-07 22:34:01.310990', '2006-01-08 23:34:01.310990',\n",
       "               '2006-01-09 00:34:01.310990', '2006-01-10 01:34:01.310990',\n",
       "               ...\n",
       "               '2017-12-22 21:34:01.310990', '2017-12-23 22:34:01.310990',\n",
       "               '2017-12-24 23:34:01.310990', '2017-12-25 00:34:01.310990',\n",
       "               '2017-12-26 01:34:01.310990', '2017-12-27 02:34:01.310990',\n",
       "               '2017-12-28 03:34:01.310990', '2017-12-29 04:34:01.310990',\n",
       "               '2017-12-30 05:34:01.310990', '2017-12-31 06:34:01.310990'],\n",
       "              dtype='datetime64[ns]', name='Datetime', length=4383, freq=None)"
      ]
     },
     "execution_count": 39,
     "metadata": {},
     "output_type": "execute_result"
    }
   ],
   "source": [
    "power_data = pd.read_csv(\"https://raw.githubusercontent.com/alfonso-santos/Intro-Python-Finanzas-2023/main/5_series_temporales/data/Power_consumption.csv\")\n",
    "\n",
    "# Unimos las cadenas que contienen la fecha y la hora\n",
    "power_data['Datetime'] = power_data['Date'] + ' ' + power_data['Time']\n",
    "\n",
    "# Convertimos la cadena a un objeto datetime\n",
    "power_data['Datetime'] = pd.to_datetime(power_data['Datetime'])\n",
    "\n",
    "# Establecemos el índice\n",
    "power_data = power_data.set_index('Datetime')\n",
    "\n",
    "power_data.index"
   ]
  },
  {
   "cell_type": "markdown",
   "metadata": {},
   "source": [
    "`parse_dates`: bool, list of Hashable, list of lists or dict of {Hashablelist}, default False. The behavior is as follows:\n",
    "* **bool**. If True -> try parsing the index.\n",
    "* **list of int or names. e.g. If [1, 2, 3]** -> try parsing columns 1, 2, 3 each as a separate date column.\n",
    "* **list of list. e.g. If [[1, 3]]** -> combine columns 1 and 3 and parse as a single date column.\n",
    "* **dict, e.g. {'foo' : [1, 3]}** -> parse columns 1, 3 as date and call result ‘foo’"
   ]
  },
  {
   "cell_type": "code",
   "execution_count": 10,
   "metadata": {},
   "outputs": [
    {
     "name": "stderr",
     "output_type": "stream",
     "text": [
      "C:\\Users\\pvent\\AppData\\Local\\Temp\\ipykernel_4856\\4079972962.py:2: UserWarning: Could not infer format, so each element will be parsed individually, falling back to `dateutil`. To ensure parsing is consistent and as-expected, please specify a format.\n",
      "  power_data_dates = pd.read_csv(\n"
     ]
    },
    {
     "data": {
      "text/html": [
       "<div>\n",
       "<style scoped>\n",
       "    .dataframe tbody tr th:only-of-type {\n",
       "        vertical-align: middle;\n",
       "    }\n",
       "\n",
       "    .dataframe tbody tr th {\n",
       "        vertical-align: top;\n",
       "    }\n",
       "\n",
       "    .dataframe thead th {\n",
       "        text-align: right;\n",
       "    }\n",
       "</style>\n",
       "<table border=\"1\" class=\"dataframe\">\n",
       "  <thead>\n",
       "    <tr style=\"text-align: right;\">\n",
       "      <th></th>\n",
       "      <th>Date</th>\n",
       "      <th>Time</th>\n",
       "      <th>Consumption</th>\n",
       "      <th>Wind</th>\n",
       "      <th>Solar</th>\n",
       "    </tr>\n",
       "  </thead>\n",
       "  <tbody>\n",
       "    <tr>\n",
       "      <th>0</th>\n",
       "      <td>2006-01-01</td>\n",
       "      <td>2023-11-05 16:34:01.310990</td>\n",
       "      <td>1069.184</td>\n",
       "      <td>NaN</td>\n",
       "      <td>NaN</td>\n",
       "    </tr>\n",
       "    <tr>\n",
       "      <th>1</th>\n",
       "      <td>2006-01-02</td>\n",
       "      <td>2023-11-05 17:34:01.310990</td>\n",
       "      <td>1380.521</td>\n",
       "      <td>NaN</td>\n",
       "      <td>NaN</td>\n",
       "    </tr>\n",
       "    <tr>\n",
       "      <th>2</th>\n",
       "      <td>2006-01-03</td>\n",
       "      <td>2023-11-05 18:34:01.310990</td>\n",
       "      <td>1442.533</td>\n",
       "      <td>NaN</td>\n",
       "      <td>NaN</td>\n",
       "    </tr>\n",
       "    <tr>\n",
       "      <th>3</th>\n",
       "      <td>2006-01-04</td>\n",
       "      <td>2023-11-05 19:34:01.310990</td>\n",
       "      <td>1457.217</td>\n",
       "      <td>NaN</td>\n",
       "      <td>NaN</td>\n",
       "    </tr>\n",
       "    <tr>\n",
       "      <th>4</th>\n",
       "      <td>2006-01-05</td>\n",
       "      <td>2023-11-05 20:34:01.310990</td>\n",
       "      <td>1477.131</td>\n",
       "      <td>NaN</td>\n",
       "      <td>NaN</td>\n",
       "    </tr>\n",
       "  </tbody>\n",
       "</table>\n",
       "</div>"
      ],
      "text/plain": [
       "        Date                       Time  Consumption  Wind  Solar\n",
       "0 2006-01-01 2023-11-05 16:34:01.310990     1069.184   NaN    NaN\n",
       "1 2006-01-02 2023-11-05 17:34:01.310990     1380.521   NaN    NaN\n",
       "2 2006-01-03 2023-11-05 18:34:01.310990     1442.533   NaN    NaN\n",
       "3 2006-01-04 2023-11-05 19:34:01.310990     1457.217   NaN    NaN\n",
       "4 2006-01-05 2023-11-05 20:34:01.310990     1477.131   NaN    NaN"
      ]
     },
     "execution_count": 10,
     "metadata": {},
     "output_type": "execute_result"
    }
   ],
   "source": [
    "power_data_dates = pd.read_csv(\n",
    "    'https://raw.githubusercontent.com/alfonso-santos/Intro-Python-Finanzas-2023/main/5_series_temporales/data/Power_consumption.csv',\n",
    "    parse_dates = ['Date','Time'])\n",
    "power_data_dates.head()"
   ]
  },
  {
   "cell_type": "code",
   "execution_count": 12,
   "metadata": {},
   "outputs": [
    {
     "data": {
      "text/html": [
       "<div>\n",
       "<style scoped>\n",
       "    .dataframe tbody tr th:only-of-type {\n",
       "        vertical-align: middle;\n",
       "    }\n",
       "\n",
       "    .dataframe tbody tr th {\n",
       "        vertical-align: top;\n",
       "    }\n",
       "\n",
       "    .dataframe thead th {\n",
       "        text-align: right;\n",
       "    }\n",
       "</style>\n",
       "<table border=\"1\" class=\"dataframe\">\n",
       "  <thead>\n",
       "    <tr style=\"text-align: right;\">\n",
       "      <th></th>\n",
       "      <th>Consumption</th>\n",
       "      <th>Wind</th>\n",
       "      <th>Solar</th>\n",
       "    </tr>\n",
       "    <tr>\n",
       "      <th>Date_Time</th>\n",
       "      <th></th>\n",
       "      <th></th>\n",
       "      <th></th>\n",
       "    </tr>\n",
       "  </thead>\n",
       "  <tbody>\n",
       "    <tr>\n",
       "      <th>2006-01-01 16:34:01.310990</th>\n",
       "      <td>1069.184</td>\n",
       "      <td>NaN</td>\n",
       "      <td>NaN</td>\n",
       "    </tr>\n",
       "    <tr>\n",
       "      <th>2006-01-02 17:34:01.310990</th>\n",
       "      <td>1380.521</td>\n",
       "      <td>NaN</td>\n",
       "      <td>NaN</td>\n",
       "    </tr>\n",
       "    <tr>\n",
       "      <th>2006-01-03 18:34:01.310990</th>\n",
       "      <td>1442.533</td>\n",
       "      <td>NaN</td>\n",
       "      <td>NaN</td>\n",
       "    </tr>\n",
       "    <tr>\n",
       "      <th>2006-01-04 19:34:01.310990</th>\n",
       "      <td>1457.217</td>\n",
       "      <td>NaN</td>\n",
       "      <td>NaN</td>\n",
       "    </tr>\n",
       "    <tr>\n",
       "      <th>2006-01-05 20:34:01.310990</th>\n",
       "      <td>1477.131</td>\n",
       "      <td>NaN</td>\n",
       "      <td>NaN</td>\n",
       "    </tr>\n",
       "  </tbody>\n",
       "</table>\n",
       "</div>"
      ],
      "text/plain": [
       "                            Consumption  Wind  Solar\n",
       "Date_Time                                           \n",
       "2006-01-01 16:34:01.310990     1069.184   NaN    NaN\n",
       "2006-01-02 17:34:01.310990     1380.521   NaN    NaN\n",
       "2006-01-03 18:34:01.310990     1442.533   NaN    NaN\n",
       "2006-01-04 19:34:01.310990     1457.217   NaN    NaN\n",
       "2006-01-05 20:34:01.310990     1477.131   NaN    NaN"
      ]
     },
     "execution_count": 12,
     "metadata": {},
     "output_type": "execute_result"
    }
   ],
   "source": [
    "power_data_dates = pd.read_csv(\n",
    "    'https://raw.githubusercontent.com/alfonso-santos/Intro-Python-Finanzas-2023/main/5_series_temporales/data/Power_consumption.csv',\n",
    "    parse_dates = [['Date','Time']],\n",
    "    index_col = 0)\n",
    "power_data_dates.head()"
   ]
  },
  {
   "cell_type": "code",
   "execution_count": 14,
   "metadata": {},
   "outputs": [
    {
     "data": {
      "text/html": [
       "<div>\n",
       "<style scoped>\n",
       "    .dataframe tbody tr th:only-of-type {\n",
       "        vertical-align: middle;\n",
       "    }\n",
       "\n",
       "    .dataframe tbody tr th {\n",
       "        vertical-align: top;\n",
       "    }\n",
       "\n",
       "    .dataframe thead th {\n",
       "        text-align: right;\n",
       "    }\n",
       "</style>\n",
       "<table border=\"1\" class=\"dataframe\">\n",
       "  <thead>\n",
       "    <tr style=\"text-align: right;\">\n",
       "      <th></th>\n",
       "      <th>Consumption</th>\n",
       "      <th>Wind</th>\n",
       "      <th>Solar</th>\n",
       "    </tr>\n",
       "    <tr>\n",
       "      <th>DateTimeIdx</th>\n",
       "      <th></th>\n",
       "      <th></th>\n",
       "      <th></th>\n",
       "    </tr>\n",
       "  </thead>\n",
       "  <tbody>\n",
       "    <tr>\n",
       "      <th>2006-01-01 16:34:01.310990</th>\n",
       "      <td>1069.184</td>\n",
       "      <td>NaN</td>\n",
       "      <td>NaN</td>\n",
       "    </tr>\n",
       "    <tr>\n",
       "      <th>2006-01-02 17:34:01.310990</th>\n",
       "      <td>1380.521</td>\n",
       "      <td>NaN</td>\n",
       "      <td>NaN</td>\n",
       "    </tr>\n",
       "    <tr>\n",
       "      <th>2006-01-03 18:34:01.310990</th>\n",
       "      <td>1442.533</td>\n",
       "      <td>NaN</td>\n",
       "      <td>NaN</td>\n",
       "    </tr>\n",
       "    <tr>\n",
       "      <th>2006-01-04 19:34:01.310990</th>\n",
       "      <td>1457.217</td>\n",
       "      <td>NaN</td>\n",
       "      <td>NaN</td>\n",
       "    </tr>\n",
       "    <tr>\n",
       "      <th>2006-01-05 20:34:01.310990</th>\n",
       "      <td>1477.131</td>\n",
       "      <td>NaN</td>\n",
       "      <td>NaN</td>\n",
       "    </tr>\n",
       "  </tbody>\n",
       "</table>\n",
       "</div>"
      ],
      "text/plain": [
       "                            Consumption  Wind  Solar\n",
       "DateTimeIdx                                         \n",
       "2006-01-01 16:34:01.310990     1069.184   NaN    NaN\n",
       "2006-01-02 17:34:01.310990     1380.521   NaN    NaN\n",
       "2006-01-03 18:34:01.310990     1442.533   NaN    NaN\n",
       "2006-01-04 19:34:01.310990     1457.217   NaN    NaN\n",
       "2006-01-05 20:34:01.310990     1477.131   NaN    NaN"
      ]
     },
     "execution_count": 14,
     "metadata": {},
     "output_type": "execute_result"
    }
   ],
   "source": [
    "power_data_dates = pd.read_csv(\n",
    "    'https://raw.githubusercontent.com/alfonso-santos/Intro-Python-Finanzas-2023/main/5_series_temporales/data/Power_consumption.csv',\n",
    "    parse_dates = {\"DateTimeIdx\": ['Date','Time']},\n",
    "    index_col = 0)\n",
    "power_data_dates.head()"
   ]
  },
  {
   "cell_type": "code",
   "execution_count": 15,
   "metadata": {},
   "outputs": [
    {
     "data": {
      "text/plain": [
       "DatetimeIndex(['2006-01-01 16:34:01.310990', '2006-01-02 17:34:01.310990',\n",
       "               '2006-01-03 18:34:01.310990', '2006-01-04 19:34:01.310990',\n",
       "               '2006-01-05 20:34:01.310990', '2006-01-06 21:34:01.310990',\n",
       "               '2006-01-07 22:34:01.310990', '2006-01-08 23:34:01.310990',\n",
       "               '2006-01-09 00:34:01.310990', '2006-01-10 01:34:01.310990',\n",
       "               ...\n",
       "               '2017-12-22 21:34:01.310990', '2017-12-23 22:34:01.310990',\n",
       "               '2017-12-24 23:34:01.310990', '2017-12-25 00:34:01.310990',\n",
       "               '2017-12-26 01:34:01.310990', '2017-12-27 02:34:01.310990',\n",
       "               '2017-12-28 03:34:01.310990', '2017-12-29 04:34:01.310990',\n",
       "               '2017-12-30 05:34:01.310990', '2017-12-31 06:34:01.310990'],\n",
       "              dtype='datetime64[ns]', name='DateTimeIdx', length=4383, freq=None)"
      ]
     },
     "execution_count": 15,
     "metadata": {},
     "output_type": "execute_result"
    }
   ],
   "source": [
    "power_data_dates.index"
   ]
  },
  {
   "cell_type": "markdown",
   "metadata": {},
   "source": [
    "### Generando rangos de fechas\n",
    "\n",
    "Calendario de pandas:\n",
    "* Los días laborables son de lunes a viernes\n",
    "* Las horas laborables son de 9:00 a 17:00\n",
    "* No hay vacaciones ni días festivos\n",
    "\n",
    "Ref: https://pandas.pydata.org/pandas-docs/stable/user_guide/timeseries.html#timeseries-offset-aliases"
   ]
  },
  {
   "cell_type": "markdown",
   "metadata": {},
   "source": [
    "| Code   | Description         |\n",
    "|--------|---------------------|\n",
    "| ``D``  | Calendar day        |\n",
    "| ``B``  | Business day        |\n",
    "| ``W``  | Weekly              |       \n",
    "| ``M``  | Month end           | \n",
    "|``BM`` | Business month end   |\n",
    "| ``Q``  | Quarter end         |\n",
    "| ``BQ`` | Business quarter end|\n",
    "| ``A``  | Year end            | \n",
    "|``BA`` | Business year end    |\n",
    "| ``H``  | Hours               |\n",
    "|``BH`` | Business hours       |\n",
    "| ``T`` o ``min`` | Minutes             |       \n",
    "| ``S``  | Seconds             |       \n",
    "| ``L``  | Milliseconds         |       \n",
    "| ``U``  | Microseconds        |     \n",
    "| ``N``  | nanoseconds         |       \n",
    "\n",
    "- Las frecuencias mensual, trimestral y anual se proporcionan como fecha al final del periodo especificado.\n",
    "- Añadiendo una 'S' al final de cada una de estas, la salida será al inicio del periodo.\n",
    "\n",
    "| Code    | Description            |\n",
    "|---------|------------------------|\n",
    "| ``MS``  | Month start            |\n",
    "| ``QS``  | Quarter start          |\n",
    "| ``AS``  | Year start             |\n",
    "|``BMS``  | Business month start   |\n",
    "|``BQS``  | Business quarter start |\n",
    "|``BAS``  | Business year start    |\n",
    "\n",
    "- Además se puede cambiar el mes usado en frecuencias trimestrales o anuales añadiendo un código de tres letras al final:\n",
    " * ``Q-JAN``, ``BQ-FEB``, ``QS-MAR``, ``BQS-APR``, etc.\n",
    " * ``A-JAN``, ``BA-FEB``, ``AS-MAR``, ``BAS-APR``, etc."
   ]
  },
  {
   "cell_type": "markdown",
   "metadata": {},
   "source": [
    "Generamos un rango de fechas dando fecha de inicio y final. Por defecto genera una serie diaria"
   ]
  },
  {
   "cell_type": "code",
   "execution_count": 16,
   "metadata": {},
   "outputs": [
    {
     "data": {
      "text/plain": [
       "DatetimeIndex(['2021-01-01', '2021-01-02', '2021-01-03', '2021-01-04',\n",
       "               '2021-01-05', '2021-01-06', '2021-01-07', '2021-01-08',\n",
       "               '2021-01-09', '2021-01-10',\n",
       "               ...\n",
       "               '2021-12-23', '2021-12-24', '2021-12-25', '2021-12-26',\n",
       "               '2021-12-27', '2021-12-28', '2021-12-29', '2021-12-30',\n",
       "               '2021-12-31', '2022-01-01'],\n",
       "              dtype='datetime64[ns]', length=366, freq='D')"
      ]
     },
     "execution_count": 16,
     "metadata": {},
     "output_type": "execute_result"
    }
   ],
   "source": [
    "start = datetime(2021, 1, 1)\n",
    "end = datetime(2022, 1, 1)\n",
    "\n",
    "# date_range: Return a fixed frequency DatetimeIndex.\n",
    "index = pd.date_range(start, end)\n",
    "index"
   ]
  },
  {
   "cell_type": "markdown",
   "metadata": {},
   "source": [
    "Generar los días laborables (quitando fines de semana)"
   ]
  },
  {
   "cell_type": "code",
   "execution_count": 18,
   "metadata": {},
   "outputs": [
    {
     "data": {
      "text/plain": [
       "DatetimeIndex(['2021-01-01', '2021-01-04', '2021-01-05', '2021-01-06',\n",
       "               '2021-01-07', '2021-01-08', '2021-01-11', '2021-01-12',\n",
       "               '2021-01-13', '2021-01-14',\n",
       "               ...\n",
       "               '2021-12-20', '2021-12-21', '2021-12-22', '2021-12-23',\n",
       "               '2021-12-24', '2021-12-27', '2021-12-28', '2021-12-29',\n",
       "               '2021-12-30', '2021-12-31'],\n",
       "              dtype='datetime64[ns]', length=261, freq='B')"
      ]
     },
     "execution_count": 18,
     "metadata": {},
     "output_type": "execute_result"
    }
   ],
   "source": [
    "start = datetime(2021, 1, 1)\n",
    "end = datetime(2022, 1, 1)\n",
    "\n",
    "# date_range: Return a fixed frequency DatetimeIndex.\n",
    "index = pd.date_range(start, end, freq=\"B\")\n",
    "index"
   ]
  },
  {
   "cell_type": "code",
   "execution_count": 19,
   "metadata": {},
   "outputs": [
    {
     "data": {
      "text/plain": [
       "DatetimeIndex(['2021-01-01', '2021-01-04', '2021-01-05', '2021-01-06',\n",
       "               '2021-01-07', '2021-01-08', '2021-01-11', '2021-01-12',\n",
       "               '2021-01-13', '2021-01-14',\n",
       "               ...\n",
       "               '2021-12-20', '2021-12-21', '2021-12-22', '2021-12-23',\n",
       "               '2021-12-24', '2021-12-27', '2021-12-28', '2021-12-29',\n",
       "               '2021-12-30', '2021-12-31'],\n",
       "              dtype='datetime64[ns]', length=261, freq='B')"
      ]
     },
     "execution_count": 19,
     "metadata": {},
     "output_type": "execute_result"
    }
   ],
   "source": [
    "# ddate_range: Return a fixed frequency DatetimeIndex with business day as the default.\n",
    "index_b = pd.bdate_range(start, end)\n",
    "index_b"
   ]
  },
  {
   "cell_type": "markdown",
   "metadata": {},
   "source": [
    "Serie mensual compuesta de 1000 meses. Por defecto genera el último día de cada mes"
   ]
  },
  {
   "cell_type": "code",
   "execution_count": 20,
   "metadata": {},
   "outputs": [
    {
     "data": {
      "text/plain": [
       "DatetimeIndex(['2021-01-31', '2021-02-28', '2021-03-31', '2021-04-30',\n",
       "               '2021-05-31', '2021-06-30', '2021-07-31', '2021-08-31',\n",
       "               '2021-09-30', '2021-10-31',\n",
       "               ...\n",
       "               '2103-07-31', '2103-08-31', '2103-09-30', '2103-10-31',\n",
       "               '2103-11-30', '2103-12-31', '2104-01-31', '2104-02-29',\n",
       "               '2104-03-31', '2104-04-30'],\n",
       "              dtype='datetime64[ns]', length=1000, freq='M')"
      ]
     },
     "execution_count": 20,
     "metadata": {},
     "output_type": "execute_result"
    }
   ],
   "source": [
    "pd.date_range(start, periods=1000, freq=\"M\") # freq = \"M\" es el último día del mes -> \"Month\""
   ]
  },
  {
   "cell_type": "markdown",
   "metadata": {},
   "source": [
    "Si queremos el primer día de cada mes"
   ]
  },
  {
   "cell_type": "code",
   "execution_count": 21,
   "metadata": {},
   "outputs": [
    {
     "data": {
      "text/plain": [
       "DatetimeIndex(['2021-01-01', '2021-02-01', '2021-03-01', '2021-04-01',\n",
       "               '2021-05-01', '2021-06-01', '2021-07-01', '2021-08-01',\n",
       "               '2021-09-01', '2021-10-01',\n",
       "               ...\n",
       "               '2103-07-01', '2103-08-01', '2103-09-01', '2103-10-01',\n",
       "               '2103-11-01', '2103-12-01', '2104-01-01', '2104-02-01',\n",
       "               '2104-03-01', '2104-04-01'],\n",
       "              dtype='datetime64[ns]', length=1000, freq='MS')"
      ]
     },
     "execution_count": 21,
     "metadata": {},
     "output_type": "execute_result"
    }
   ],
   "source": [
    "pd.date_range(start, periods=1000, freq=\"MS\") # freq = \"MS\" es el primer día del mes -> \"Month Start\""
   ]
  },
  {
   "cell_type": "markdown",
   "metadata": {},
   "source": [
    "Horas laborables"
   ]
  },
  {
   "cell_type": "code",
   "execution_count": 22,
   "metadata": {},
   "outputs": [
    {
     "data": {
      "text/html": [
       "<div>\n",
       "<style scoped>\n",
       "    .dataframe tbody tr th:only-of-type {\n",
       "        vertical-align: middle;\n",
       "    }\n",
       "\n",
       "    .dataframe tbody tr th {\n",
       "        vertical-align: top;\n",
       "    }\n",
       "\n",
       "    .dataframe thead th {\n",
       "        text-align: right;\n",
       "    }\n",
       "</style>\n",
       "<table border=\"1\" class=\"dataframe\">\n",
       "  <thead>\n",
       "    <tr style=\"text-align: right;\">\n",
       "      <th></th>\n",
       "    </tr>\n",
       "  </thead>\n",
       "  <tbody>\n",
       "    <tr>\n",
       "      <th>2021-01-01 09:00:00</th>\n",
       "    </tr>\n",
       "    <tr>\n",
       "      <th>2021-01-01 10:00:00</th>\n",
       "    </tr>\n",
       "    <tr>\n",
       "      <th>2021-01-01 11:00:00</th>\n",
       "    </tr>\n",
       "    <tr>\n",
       "      <th>2021-01-01 12:00:00</th>\n",
       "    </tr>\n",
       "    <tr>\n",
       "      <th>2021-01-01 13:00:00</th>\n",
       "    </tr>\n",
       "    <tr>\n",
       "      <th>2021-01-01 14:00:00</th>\n",
       "    </tr>\n",
       "    <tr>\n",
       "      <th>2021-01-01 15:00:00</th>\n",
       "    </tr>\n",
       "    <tr>\n",
       "      <th>2021-01-01 16:00:00</th>\n",
       "    </tr>\n",
       "    <tr>\n",
       "      <th>2021-01-04 09:00:00</th>\n",
       "    </tr>\n",
       "    <tr>\n",
       "      <th>2021-01-04 10:00:00</th>\n",
       "    </tr>\n",
       "  </tbody>\n",
       "</table>\n",
       "</div>"
      ],
      "text/plain": [
       "Empty DataFrame\n",
       "Columns: []\n",
       "Index: [2021-01-01 09:00:00, 2021-01-01 10:00:00, 2021-01-01 11:00:00, 2021-01-01 12:00:00, 2021-01-01 13:00:00, 2021-01-01 14:00:00, 2021-01-01 15:00:00, 2021-01-01 16:00:00, 2021-01-04 09:00:00, 2021-01-04 10:00:00]"
      ]
     },
     "execution_count": 22,
     "metadata": {},
     "output_type": "execute_result"
    }
   ],
   "source": [
    "diarios_df = pd.DataFrame(index=pd.date_range(start, periods=10, freq='BH'))\n",
    "diarios_df"
   ]
  },
  {
   "cell_type": "code",
   "execution_count": 28,
   "metadata": {},
   "outputs": [
    {
     "data": {
      "text/html": [
       "<div>\n",
       "<style scoped>\n",
       "    .dataframe tbody tr th:only-of-type {\n",
       "        vertical-align: middle;\n",
       "    }\n",
       "\n",
       "    .dataframe tbody tr th {\n",
       "        vertical-align: top;\n",
       "    }\n",
       "\n",
       "    .dataframe thead th {\n",
       "        text-align: right;\n",
       "    }\n",
       "</style>\n",
       "<table border=\"1\" class=\"dataframe\">\n",
       "  <thead>\n",
       "    <tr style=\"text-align: right;\">\n",
       "      <th></th>\n",
       "    </tr>\n",
       "  </thead>\n",
       "  <tbody>\n",
       "    <tr>\n",
       "      <th>2021-01-01 00:00:00</th>\n",
       "    </tr>\n",
       "    <tr>\n",
       "      <th>2021-01-01 01:00:00</th>\n",
       "    </tr>\n",
       "    <tr>\n",
       "      <th>2021-01-01 02:00:00</th>\n",
       "    </tr>\n",
       "    <tr>\n",
       "      <th>2021-01-01 03:00:00</th>\n",
       "    </tr>\n",
       "    <tr>\n",
       "      <th>2021-01-01 04:00:00</th>\n",
       "    </tr>\n",
       "    <tr>\n",
       "      <th>2021-01-01 05:00:00</th>\n",
       "    </tr>\n",
       "    <tr>\n",
       "      <th>2021-01-01 06:00:00</th>\n",
       "    </tr>\n",
       "    <tr>\n",
       "      <th>2021-01-01 07:00:00</th>\n",
       "    </tr>\n",
       "    <tr>\n",
       "      <th>2021-01-01 08:00:00</th>\n",
       "    </tr>\n",
       "    <tr>\n",
       "      <th>2021-01-01 09:00:00</th>\n",
       "    </tr>\n",
       "    <tr>\n",
       "      <th>2021-01-01 10:00:00</th>\n",
       "    </tr>\n",
       "    <tr>\n",
       "      <th>2021-01-01 11:00:00</th>\n",
       "    </tr>\n",
       "    <tr>\n",
       "      <th>2021-01-01 12:00:00</th>\n",
       "    </tr>\n",
       "    <tr>\n",
       "      <th>2021-01-01 13:00:00</th>\n",
       "    </tr>\n",
       "    <tr>\n",
       "      <th>2021-01-01 14:00:00</th>\n",
       "    </tr>\n",
       "    <tr>\n",
       "      <th>2021-01-01 15:00:00</th>\n",
       "    </tr>\n",
       "    <tr>\n",
       "      <th>2021-01-01 16:00:00</th>\n",
       "    </tr>\n",
       "    <tr>\n",
       "      <th>2021-01-01 17:00:00</th>\n",
       "    </tr>\n",
       "  </tbody>\n",
       "</table>\n",
       "</div>"
      ],
      "text/plain": [
       "Empty DataFrame\n",
       "Columns: []\n",
       "Index: [2021-01-01 00:00:00, 2021-01-01 01:00:00, 2021-01-01 02:00:00, 2021-01-01 03:00:00, 2021-01-01 04:00:00, 2021-01-01 05:00:00, 2021-01-01 06:00:00, 2021-01-01 07:00:00, 2021-01-01 08:00:00, 2021-01-01 09:00:00, 2021-01-01 10:00:00, 2021-01-01 11:00:00, 2021-01-01 12:00:00, 2021-01-01 13:00:00, 2021-01-01 14:00:00, 2021-01-01 15:00:00, 2021-01-01 16:00:00, 2021-01-01 17:00:00]"
      ]
     },
     "execution_count": 28,
     "metadata": {},
     "output_type": "execute_result"
    }
   ],
   "source": [
    "start = \"2021-01-01\"\n",
    "end = \"2021-01-01 17:00:00\"\n",
    "diarios_df = pd.DataFrame(index=pd.date_range(start, end=end, freq='H'))\n",
    "diarios_df"
   ]
  },
  {
   "cell_type": "code",
   "execution_count": 38,
   "metadata": {},
   "outputs": [
    {
     "data": {
      "text/plain": [
       "[Timestamp('2021-02-01 09:00:00'),\n",
       " Timestamp('2021-02-01 10:00:00'),\n",
       " Timestamp('2021-02-01 11:00:00'),\n",
       " Timestamp('2021-02-01 12:00:00'),\n",
       " Timestamp('2021-02-01 13:00:00'),\n",
       " Timestamp('2021-02-01 14:00:00'),\n",
       " Timestamp('2021-02-01 15:00:00'),\n",
       " Timestamp('2021-02-01 16:00:00'),\n",
       " Timestamp('2021-02-01 17:00:00'),\n",
       " Timestamp('2021-02-01 18:00:00'),\n",
       " Timestamp('2021-02-02 09:00:00'),\n",
       " Timestamp('2021-02-02 10:00:00'),\n",
       " Timestamp('2021-02-02 11:00:00'),\n",
       " Timestamp('2021-02-02 12:00:00'),\n",
       " Timestamp('2021-02-02 13:00:00'),\n",
       " Timestamp('2021-02-02 14:00:00'),\n",
       " Timestamp('2021-02-02 15:00:00'),\n",
       " Timestamp('2021-02-02 16:00:00'),\n",
       " Timestamp('2021-02-02 17:00:00'),\n",
       " Timestamp('2021-02-02 18:00:00')]"
      ]
     },
     "execution_count": 38,
     "metadata": {},
     "output_type": "execute_result"
    }
   ],
   "source": [
    "from pandas.tseries.offsets import CustomBusinessHour\n",
    "\n",
    "start = datetime(2021, 2, 1)\n",
    "end = datetime(2021, 2, 3)\n",
    "\n",
    "cbh = CustomBusinessHour(start='09:00', end='19:00')\n",
    "diarios_df = pd.DataFrame(index=pd.date_range(start=start, end=end, freq=cbh))\n",
    "list(diarios_df.index)\n",
    "\n"
   ]
  },
  {
   "cell_type": "markdown",
   "metadata": {},
   "source": [
    "### __Facilidades de fechas en pandas:__\n",
    "\n",
    "Ref.: https://pandas.pydata.org/pandas-docs/stable/reference/series.html"
   ]
  },
  {
   "cell_type": "markdown",
   "metadata": {},
   "source": [
    "Leemos el fichero con datos de niveles de $NO_{2}$"
   ]
  },
  {
   "cell_type": "code",
   "execution_count": 29,
   "metadata": {},
   "outputs": [
    {
     "data": {
      "text/html": [
       "<div>\n",
       "<style scoped>\n",
       "    .dataframe tbody tr th:only-of-type {\n",
       "        vertical-align: middle;\n",
       "    }\n",
       "\n",
       "    .dataframe tbody tr th {\n",
       "        vertical-align: top;\n",
       "    }\n",
       "\n",
       "    .dataframe thead th {\n",
       "        text-align: right;\n",
       "    }\n",
       "</style>\n",
       "<table border=\"1\" class=\"dataframe\">\n",
       "  <thead>\n",
       "    <tr style=\"text-align: right;\">\n",
       "      <th></th>\n",
       "      <th>city</th>\n",
       "      <th>country</th>\n",
       "      <th>datetime</th>\n",
       "      <th>location</th>\n",
       "      <th>parameter</th>\n",
       "      <th>value</th>\n",
       "      <th>unit</th>\n",
       "    </tr>\n",
       "  </thead>\n",
       "  <tbody>\n",
       "    <tr>\n",
       "      <th>0</th>\n",
       "      <td>Paris</td>\n",
       "      <td>FR</td>\n",
       "      <td>2019-06-21 00:00:00+00:00</td>\n",
       "      <td>FR04014</td>\n",
       "      <td>no2</td>\n",
       "      <td>20.0</td>\n",
       "      <td>µg/m³</td>\n",
       "    </tr>\n",
       "    <tr>\n",
       "      <th>1</th>\n",
       "      <td>Paris</td>\n",
       "      <td>FR</td>\n",
       "      <td>2019-06-20 23:00:00+00:00</td>\n",
       "      <td>FR04014</td>\n",
       "      <td>no2</td>\n",
       "      <td>21.8</td>\n",
       "      <td>µg/m³</td>\n",
       "    </tr>\n",
       "    <tr>\n",
       "      <th>2</th>\n",
       "      <td>Paris</td>\n",
       "      <td>FR</td>\n",
       "      <td>2019-06-20 22:00:00+00:00</td>\n",
       "      <td>FR04014</td>\n",
       "      <td>no2</td>\n",
       "      <td>26.5</td>\n",
       "      <td>µg/m³</td>\n",
       "    </tr>\n",
       "    <tr>\n",
       "      <th>3</th>\n",
       "      <td>Paris</td>\n",
       "      <td>FR</td>\n",
       "      <td>2019-06-20 21:00:00+00:00</td>\n",
       "      <td>FR04014</td>\n",
       "      <td>no2</td>\n",
       "      <td>24.9</td>\n",
       "      <td>µg/m³</td>\n",
       "    </tr>\n",
       "    <tr>\n",
       "      <th>4</th>\n",
       "      <td>Paris</td>\n",
       "      <td>FR</td>\n",
       "      <td>2019-06-20 20:00:00+00:00</td>\n",
       "      <td>FR04014</td>\n",
       "      <td>no2</td>\n",
       "      <td>21.4</td>\n",
       "      <td>µg/m³</td>\n",
       "    </tr>\n",
       "  </tbody>\n",
       "</table>\n",
       "</div>"
      ],
      "text/plain": [
       "    city country                  datetime location parameter  value   unit\n",
       "0  Paris      FR 2019-06-21 00:00:00+00:00  FR04014       no2   20.0  µg/m³\n",
       "1  Paris      FR 2019-06-20 23:00:00+00:00  FR04014       no2   21.8  µg/m³\n",
       "2  Paris      FR 2019-06-20 22:00:00+00:00  FR04014       no2   26.5  µg/m³\n",
       "3  Paris      FR 2019-06-20 21:00:00+00:00  FR04014       no2   24.9  µg/m³\n",
       "4  Paris      FR 2019-06-20 20:00:00+00:00  FR04014       no2   21.4  µg/m³"
      ]
     },
     "execution_count": 29,
     "metadata": {},
     "output_type": "execute_result"
    }
   ],
   "source": [
    "# para ejecutar en local\n",
    "#air_quality = pd.read_csv(\"data/air_quality_no2_long.csv\", parse_dates=[\"datetime\"])\n",
    "\n",
    "# para ejecutar en colab\n",
    "air_quality = pd.read_csv(\n",
    "    \"https://raw.githubusercontent.com/alfonso-santos/Intro-Python-Finanzas-2023/main/5_series_temporales/data/air_quality_no2_long.csv\",\n",
    "    parse_dates=[\"datetime\"])\n",
    "air_quality.head()"
   ]
  },
  {
   "cell_type": "code",
   "execution_count": 31,
   "metadata": {},
   "outputs": [
    {
     "name": "stdout",
     "output_type": "stream",
     "text": [
      "<class 'pandas.core.frame.DataFrame'>\n",
      "RangeIndex: 2068 entries, 0 to 2067\n",
      "Data columns (total 7 columns):\n",
      " #   Column     Non-Null Count  Dtype              \n",
      "---  ------     --------------  -----              \n",
      " 0   city       2068 non-null   object             \n",
      " 1   country    2068 non-null   object             \n",
      " 2   datetime   2068 non-null   datetime64[ns, UTC]\n",
      " 3   location   2068 non-null   object             \n",
      " 4   parameter  2068 non-null   object             \n",
      " 5   value      2068 non-null   float64            \n",
      " 6   unit       2068 non-null   object             \n",
      "dtypes: datetime64[ns, UTC](1), float64(1), object(5)\n",
      "memory usage: 113.2+ KB\n"
     ]
    }
   ],
   "source": [
    "air_quality.info()"
   ]
  },
  {
   "cell_type": "markdown",
   "metadata": {},
   "source": [
    "Podemos asignar cada fila a un mes o a la semana etc"
   ]
  },
  {
   "cell_type": "code",
   "execution_count": 57,
   "metadata": {},
   "outputs": [
    {
     "name": "stderr",
     "output_type": "stream",
     "text": [
      "/tmp/ipykernel_3628/34351876.py:2: FutureWarning: Series.dt.weekofyear and Series.dt.week have been deprecated. Please use Series.dt.isocalendar().week instead.\n",
      "  air_quality[\"week\"] = air_quality[\"datetime\"].dt.week\n"
     ]
    },
    {
     "data": {
      "text/html": [
       "<div>\n",
       "<style scoped>\n",
       "    .dataframe tbody tr th:only-of-type {\n",
       "        vertical-align: middle;\n",
       "    }\n",
       "\n",
       "    .dataframe tbody tr th {\n",
       "        vertical-align: top;\n",
       "    }\n",
       "\n",
       "    .dataframe thead th {\n",
       "        text-align: right;\n",
       "    }\n",
       "</style>\n",
       "<table border=\"1\" class=\"dataframe\">\n",
       "  <thead>\n",
       "    <tr style=\"text-align: right;\">\n",
       "      <th></th>\n",
       "      <th>city</th>\n",
       "      <th>country</th>\n",
       "      <th>datetime</th>\n",
       "      <th>location</th>\n",
       "      <th>parameter</th>\n",
       "      <th>value</th>\n",
       "      <th>unit</th>\n",
       "      <th>month</th>\n",
       "      <th>week</th>\n",
       "    </tr>\n",
       "  </thead>\n",
       "  <tbody>\n",
       "    <tr>\n",
       "      <th>0</th>\n",
       "      <td>Paris</td>\n",
       "      <td>FR</td>\n",
       "      <td>2019-06-21 00:00:00+00:00</td>\n",
       "      <td>FR04014</td>\n",
       "      <td>no2</td>\n",
       "      <td>20.0</td>\n",
       "      <td>µg/m³</td>\n",
       "      <td>6</td>\n",
       "      <td>25</td>\n",
       "    </tr>\n",
       "    <tr>\n",
       "      <th>1</th>\n",
       "      <td>Paris</td>\n",
       "      <td>FR</td>\n",
       "      <td>2019-06-20 23:00:00+00:00</td>\n",
       "      <td>FR04014</td>\n",
       "      <td>no2</td>\n",
       "      <td>21.8</td>\n",
       "      <td>µg/m³</td>\n",
       "      <td>6</td>\n",
       "      <td>25</td>\n",
       "    </tr>\n",
       "    <tr>\n",
       "      <th>2</th>\n",
       "      <td>Paris</td>\n",
       "      <td>FR</td>\n",
       "      <td>2019-06-20 22:00:00+00:00</td>\n",
       "      <td>FR04014</td>\n",
       "      <td>no2</td>\n",
       "      <td>26.5</td>\n",
       "      <td>µg/m³</td>\n",
       "      <td>6</td>\n",
       "      <td>25</td>\n",
       "    </tr>\n",
       "    <tr>\n",
       "      <th>3</th>\n",
       "      <td>Paris</td>\n",
       "      <td>FR</td>\n",
       "      <td>2019-06-20 21:00:00+00:00</td>\n",
       "      <td>FR04014</td>\n",
       "      <td>no2</td>\n",
       "      <td>24.9</td>\n",
       "      <td>µg/m³</td>\n",
       "      <td>6</td>\n",
       "      <td>25</td>\n",
       "    </tr>\n",
       "    <tr>\n",
       "      <th>4</th>\n",
       "      <td>Paris</td>\n",
       "      <td>FR</td>\n",
       "      <td>2019-06-20 20:00:00+00:00</td>\n",
       "      <td>FR04014</td>\n",
       "      <td>no2</td>\n",
       "      <td>21.4</td>\n",
       "      <td>µg/m³</td>\n",
       "      <td>6</td>\n",
       "      <td>25</td>\n",
       "    </tr>\n",
       "  </tbody>\n",
       "</table>\n",
       "</div>"
      ],
      "text/plain": [
       "    city country                  datetime location parameter  value   unit  \\\n",
       "0  Paris      FR 2019-06-21 00:00:00+00:00  FR04014       no2   20.0  µg/m³   \n",
       "1  Paris      FR 2019-06-20 23:00:00+00:00  FR04014       no2   21.8  µg/m³   \n",
       "2  Paris      FR 2019-06-20 22:00:00+00:00  FR04014       no2   26.5  µg/m³   \n",
       "3  Paris      FR 2019-06-20 21:00:00+00:00  FR04014       no2   24.9  µg/m³   \n",
       "4  Paris      FR 2019-06-20 20:00:00+00:00  FR04014       no2   21.4  µg/m³   \n",
       "\n",
       "   month  week  \n",
       "0      6    25  \n",
       "1      6    25  \n",
       "2      6    25  \n",
       "3      6    25  \n",
       "4      6    25  "
      ]
     },
     "execution_count": 57,
     "metadata": {},
     "output_type": "execute_result"
    }
   ],
   "source": [
    "air_quality[\"month\"] = air_quality[\"datetime\"].dt.month\n",
    "air_quality[\"week\"] = air_quality[\"datetime\"].dt.week\n",
    "air_quality.head()"
   ]
  },
  {
   "cell_type": "markdown",
   "metadata": {},
   "source": [
    "Podemos calcular estadísticas basadas en la fecha, por ejemplo calcular datos por día de la semana"
   ]
  },
  {
   "cell_type": "code",
   "execution_count": 70,
   "metadata": {},
   "outputs": [
    {
     "data": {
      "text/plain": [
       "datetime  location          \n",
       "0         BETR801               27.875000\n",
       "          FR04014               24.856250\n",
       "          London Westminster    23.969697\n",
       "1         BETR801               22.214286\n",
       "          FR04014               30.999359\n",
       "          London Westminster    24.885714\n",
       "2         BETR801               21.125000\n",
       "          FR04014               29.165753\n",
       "          London Westminster    23.460432\n",
       "3         BETR801               27.500000\n",
       "          FR04014               28.600690\n",
       "          London Westminster    24.780142\n",
       "4         BETR801               28.400000\n",
       "          FR04014               31.617986\n",
       "          London Westminster    26.446809\n",
       "5         BETR801               33.500000\n",
       "          FR04014               25.266154\n",
       "          London Westminster    24.977612\n",
       "6         BETR801               21.896552\n",
       "          FR04014               23.274306\n",
       "          London Westminster    24.859155\n",
       "Name: value, dtype: float64"
      ]
     },
     "execution_count": 70,
     "metadata": {},
     "output_type": "execute_result"
    }
   ],
   "source": [
    "air_quality.groupby([air_quality[\"datetime\"].dt.weekday, \"location\"])[\"value\"].mean()"
   ]
  },
  {
   "cell_type": "markdown",
   "metadata": {},
   "source": [
    "Podemos dibujar la concentración de $NO_{2}$ para cada hora"
   ]
  },
  {
   "cell_type": "markdown",
   "metadata": {},
   "source": [
    "Por partes, este código hace lo siguiente:\n",
    "\n",
    "1. `air_quality.groupby(air_quality[\"datetime\"].dt.hour)`: Esto agrupa el DataFrame `air_quality` por la hora de la columna `datetime`. `.dt` se utiliza para acceder a las propiedades y métodos de `datetime`, y `.hour` obtiene la parte de la hora del datetime.\n",
    "2. `[\"value\"].mean()`: Esto calcula la media (promedio) de la columna `value` para cada grupo (en este caso, cada hora del día).\n",
    "3. `.plot(kind='bar', rot=0, ax=axs)`: Esto traza la media de `value` para cada hora como un gráfico de barras. El argumento `rot=0` especifica que las etiquetas del eje x no deben rotarse, y `ax=axs` especifica el objeto de ejes en el que dibujar el gráfico."
   ]
  },
  {
   "cell_type": "code",
   "execution_count": 39,
   "metadata": {},
   "outputs": [
    {
     "data": {
      "text/plain": [
       "Text(0.5, 1.0, 'Concentración NO2')"
      ]
     },
     "execution_count": 39,
     "metadata": {},
     "output_type": "execute_result"
    },
    {
     "data": {
      "image/png": "[encoded data removed]",
      "text/plain": [
       "<Figure size 1200x400 with 1 Axes>"
      ]
     },
     "metadata": {},
     "output_type": "display_data"
    }
   ],
   "source": [
    "fig, axs = plt.subplots(figsize=(12, 4))\n",
    "\n",
    "air_quality.groupby(air_quality[\"datetime\"].dt.hour)[\"value\"].mean().plot(kind='bar', rot=0, ax=axs)\n",
    "\n",
    "plt.xlabel(\"Hour of the day\");  # custom x label using matplotlib\n",
    "plt.ylabel(\"$NO_2 (µg/m^3)$\");\n",
    "plt.title('Concentración NO2')"
   ]
  },
  {
   "cell_type": "markdown",
   "metadata": {},
   "source": [
    "### Time Series con índices duplicados"
   ]
  },
  {
   "cell_type": "code",
   "execution_count": 32,
   "metadata": {},
   "outputs": [
    {
     "data": {
      "text/plain": [
       "2000-01-01    0\n",
       "2000-01-02    1\n",
       "2000-01-02    2\n",
       "2000-01-02    3\n",
       "2000-01-03    4\n",
       "dtype: int32"
      ]
     },
     "execution_count": 32,
     "metadata": {},
     "output_type": "execute_result"
    }
   ],
   "source": [
    "dates = pd.DatetimeIndex(['1/1/2000', '1/2/2000', '1/2/2000', '1/2/2000', '1/3/2000'])\n",
    "dup_ts = pd.Series(np.arange(5), index=dates)\n",
    "dup_ts"
   ]
  },
  {
   "cell_type": "code",
   "execution_count": 33,
   "metadata": {},
   "outputs": [
    {
     "data": {
      "text/plain": [
       "False"
      ]
     },
     "execution_count": 33,
     "metadata": {},
     "output_type": "execute_result"
    }
   ],
   "source": [
    "dup_ts.index.is_unique"
   ]
  },
  {
   "cell_type": "code",
   "execution_count": 34,
   "metadata": {},
   "outputs": [
    {
     "data": {
      "text/plain": [
       "2000-01-02    1\n",
       "2000-01-02    2\n",
       "2000-01-02    3\n",
       "dtype: int32"
      ]
     },
     "execution_count": 34,
     "metadata": {},
     "output_type": "execute_result"
    }
   ],
   "source": [
    "dup_ts['1/2/2000']  # duplicated"
   ]
  },
  {
   "cell_type": "markdown",
   "metadata": {},
   "source": [
    "- Para eliminarlos podemos agrupar por nivel 0 y realizar una operación que los unifique."
   ]
  },
  {
   "cell_type": "code",
   "execution_count": 36,
   "metadata": {},
   "outputs": [
    {
     "data": {
      "text/plain": [
       "2000-01-01    0.0\n",
       "2000-01-02    2.0\n",
       "2000-01-03    4.0\n",
       "dtype: float64"
      ]
     },
     "execution_count": 36,
     "metadata": {},
     "output_type": "execute_result"
    }
   ],
   "source": [
    "grouped = dup_ts.groupby(level=0)\n",
    "grouped.mean()"
   ]
  },
  {
   "cell_type": "code",
   "execution_count": 37,
   "metadata": {},
   "outputs": [
    {
     "data": {
      "text/plain": [
       "2000-01-01    0\n",
       "2000-01-02    1\n",
       "2000-01-03    4\n",
       "dtype: int32"
      ]
     },
     "execution_count": 37,
     "metadata": {},
     "output_type": "execute_result"
    }
   ],
   "source": [
    "grouped.first()"
   ]
  },
  {
   "cell_type": "code",
   "execution_count": 38,
   "metadata": {},
   "outputs": [
    {
     "data": {
      "text/plain": [
       "2000-01-01    1\n",
       "2000-01-02    3\n",
       "2000-01-03    1\n",
       "dtype: int64"
      ]
     },
     "execution_count": 38,
     "metadata": {},
     "output_type": "execute_result"
    }
   ],
   "source": [
    "grouped.count()"
   ]
  },
  {
   "cell_type": "code",
   "execution_count": 39,
   "metadata": {},
   "outputs": [
    {
     "data": {
      "text/html": [
       "<div>\n",
       "<style scoped>\n",
       "    .dataframe tbody tr th:only-of-type {\n",
       "        vertical-align: middle;\n",
       "    }\n",
       "\n",
       "    .dataframe tbody tr th {\n",
       "        vertical-align: top;\n",
       "    }\n",
       "\n",
       "    .dataframe thead th {\n",
       "        text-align: right;\n",
       "    }\n",
       "</style>\n",
       "<table border=\"1\" class=\"dataframe\">\n",
       "  <thead>\n",
       "    <tr style=\"text-align: right;\">\n",
       "      <th></th>\n",
       "      <th>0</th>\n",
       "    </tr>\n",
       "  </thead>\n",
       "  <tbody>\n",
       "    <tr>\n",
       "      <th>2000-01-01</th>\n",
       "      <td>0.0</td>\n",
       "    </tr>\n",
       "    <tr>\n",
       "      <th>2000-01-02</th>\n",
       "      <td>2.0</td>\n",
       "    </tr>\n",
       "    <tr>\n",
       "      <th>2000-01-03</th>\n",
       "      <td>4.0</td>\n",
       "    </tr>\n",
       "  </tbody>\n",
       "</table>\n",
       "</div>"
      ],
      "text/plain": [
       "              0\n",
       "2000-01-01  0.0\n",
       "2000-01-02  2.0\n",
       "2000-01-03  4.0"
      ]
     },
     "execution_count": 39,
     "metadata": {},
     "output_type": "execute_result"
    }
   ],
   "source": [
    "# Obtener un nuevo DataFrame a partir de un DataFrame agrupado\n",
    "grouped_df = pd.DataFrame(grouped.mean())\n",
    "grouped_df"
   ]
  },
  {
   "cell_type": "markdown",
   "metadata": {},
   "source": [
    "### Date Offsets"
   ]
  },
  {
   "cell_type": "code",
   "execution_count": 41,
   "metadata": {},
   "outputs": [
    {
     "data": {
      "text/plain": [
       "DatetimeIndex(['2000-01-01 00:00:00', '2000-01-01 04:00:00',\n",
       "               '2000-01-01 08:00:00', '2000-01-01 12:00:00',\n",
       "               '2000-01-01 16:00:00', '2000-01-01 20:00:00',\n",
       "               '2000-01-02 00:00:00', '2000-01-02 04:00:00',\n",
       "               '2000-01-02 08:00:00', '2000-01-02 12:00:00',\n",
       "               '2000-01-02 16:00:00', '2000-01-02 20:00:00',\n",
       "               '2000-01-03 00:00:00', '2000-01-03 04:00:00',\n",
       "               '2000-01-03 08:00:00', '2000-01-03 12:00:00',\n",
       "               '2000-01-03 16:00:00', '2000-01-03 20:00:00'],\n",
       "              dtype='datetime64[ns]', freq='4H')"
      ]
     },
     "execution_count": 41,
     "metadata": {},
     "output_type": "execute_result"
    }
   ],
   "source": [
    "rango = pd.date_range('2000-01-01', '2000-01-03 23:59', freq='4h')\n",
    "rango"
   ]
  },
  {
   "cell_type": "code",
   "execution_count": 61,
   "metadata": {},
   "outputs": [
    {
     "data": {
      "text/plain": [
       "DatetimeIndex(['2000-01-01 02:30:00', '2000-01-01 06:30:00',\n",
       "               '2000-01-01 10:30:00', '2000-01-01 14:30:00',\n",
       "               '2000-01-01 18:30:00', '2000-01-01 22:30:00',\n",
       "               '2000-01-02 02:30:00', '2000-01-02 06:30:00',\n",
       "               '2000-01-02 10:30:00', '2000-01-02 14:30:00',\n",
       "               '2000-01-02 18:30:00', '2000-01-02 22:30:00',\n",
       "               '2000-01-03 02:30:00', '2000-01-03 06:30:00',\n",
       "               '2000-01-03 10:30:00', '2000-01-03 14:30:00',\n",
       "               '2000-01-03 18:30:00', '2000-01-03 22:30:00'],\n",
       "              dtype='datetime64[ns]', freq='4H')"
      ]
     },
     "execution_count": 61,
     "metadata": {},
     "output_type": "execute_result"
    }
   ],
   "source": [
    "from pandas.tseries.offsets import Hour, Minute\n",
    "\n",
    "rango + Hour(2) + Minute(30)"
   ]
  },
  {
   "cell_type": "code",
   "execution_count": 42,
   "metadata": {},
   "outputs": [
    {
     "data": {
      "text/plain": [
       "DatetimeIndex(['2000-01-02 00:00:30', '2000-01-02 04:00:30',\n",
       "               '2000-01-02 08:00:30', '2000-01-02 12:00:30',\n",
       "               '2000-01-02 16:00:30', '2000-01-02 20:00:30',\n",
       "               '2000-01-03 00:00:30', '2000-01-03 04:00:30',\n",
       "               '2000-01-03 08:00:30', '2000-01-03 12:00:30',\n",
       "               '2000-01-03 16:00:30', '2000-01-03 20:00:30',\n",
       "               '2000-01-04 00:00:30', '2000-01-04 04:00:30',\n",
       "               '2000-01-04 08:00:30', '2000-01-04 12:00:30',\n",
       "               '2000-01-04 16:00:30', '2000-01-04 20:00:30'],\n",
       "              dtype='datetime64[ns]', freq='4H')"
      ]
     },
     "execution_count": 42,
     "metadata": {},
     "output_type": "execute_result"
    }
   ],
   "source": [
    "rango + timedelta(days=1, seconds=30)"
   ]
  },
  {
   "cell_type": "code",
   "execution_count": 50,
   "metadata": {},
   "outputs": [
    {
     "name": "stdout",
     "output_type": "stream",
     "text": [
      "DatetimeIndex(['2022-02-02', '2022-02-03', '2022-02-04', '2022-02-05',\n",
      "               '2022-02-06', '2022-02-07', '2022-02-08', '2022-02-09',\n",
      "               '2022-02-10', '2022-02-11', '2022-02-12', '2022-02-13',\n",
      "               '2022-02-14', '2022-02-15', '2022-02-16', '2022-02-17',\n",
      "               '2022-02-18', '2022-02-19', '2022-02-20', '2022-02-21',\n",
      "               '2022-02-22', '2022-02-23', '2022-02-24', '2022-02-25',\n",
      "               '2022-02-26', '2022-02-27', '2022-02-28', '2022-03-01',\n",
      "               '2022-03-01', '2022-03-01', '2022-03-01'],\n",
      "              dtype='datetime64[ns]', freq=None)\n"
     ]
    }
   ],
   "source": [
    "# Python\n",
    "import pandas as pd\n",
    "from dateutil.relativedelta import relativedelta\n",
    "\n",
    "# Creamos un DatetimeIndex con un rango de fechas\n",
    "rango = pd.date_range('2022-01-01', '2022-01-31')\n",
    "\n",
    "# Añadimos un relativedelta de 1 mes y 1 día a cada elemento del DatetimeIndex\n",
    "rango_nuevo = pd.DatetimeIndex([fecha + relativedelta(months=1, days=1) for fecha in rango])\n",
    "\n",
    "# Imprimimos el resultado\n",
    "print(rango_nuevo)\n",
    "\n"
   ]
  },
  {
   "cell_type": "markdown",
   "metadata": {},
   "source": [
    "___\n",
    "# Ejercicios"
   ]
  },
  {
   "cell_type": "markdown",
   "metadata": {},
   "source": [
    "Genera un DataFrame, que tenga como índice  los días del 1 de Enero, al 1 de Junio. Añade una columna con datos cualesquiera(aleatorios, rango...)"
   ]
  },
  {
   "cell_type": "code",
   "execution_count": null,
   "metadata": {},
   "outputs": [],
   "source": []
  },
  {
   "cell_type": "markdown",
   "metadata": {},
   "source": [
    "Selecciona los días que sean lunes"
   ]
  },
  {
   "cell_type": "code",
   "execution_count": null,
   "metadata": {},
   "outputs": [],
   "source": []
  },
  {
   "cell_type": "markdown",
   "metadata": {},
   "source": [
    "Selecciona los días laborables"
   ]
  },
  {
   "cell_type": "code",
   "execution_count": null,
   "metadata": {},
   "outputs": [],
   "source": []
  }
 ],
 "metadata": {
  "kernelspec": {
   "display_name": "Python 3.9.12 ('base')",
   "language": "python",
   "name": "python3"
  },
  "language_info": {
   "codemirror_mode": {
    "name": "ipython",
    "version": 3
   },
   "file_extension": ".py",
   "mimetype": "text/x-python",
   "name": "python",
   "nbconvert_exporter": "python",
   "pygments_lexer": "ipython3",
   "version": "3.10.3"
  },
  "orig_nbformat": 4,
  "vscode": {
   "interpreter": {
    "hash": "18a6b418ca989a304418b74e14b57df096d22507d5bd0d85ac6f17ef362aab2d"
   }
  }
 },
 "nbformat": 4,
 "nbformat_minor": 2
}
